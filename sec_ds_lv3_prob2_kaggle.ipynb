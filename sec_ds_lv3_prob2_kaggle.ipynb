{
 "cells": [
  {
   "cell_type": "markdown",
   "id": "0aa73290",
   "metadata": {},
   "source": [
    "## 문제 6\n",
    "\n",
    "**Kaggle 형** train_prob.csv로 문제 target을 예측하는 모델을 만들고, \n",
    "\n",
    "test_prob.csv에 대한 target 예측하여 다음과 같은 형식의 answer6.csv를 만들어라.\n",
    "\n",
    "id, target\n",
    "\n",
    "0, 6.9\n",
    "\n",
    "5, 7.8\n",
    "\n",
    "...\n",
    "\n",
    "\n",
    "**평가지표**\n",
    "\n",
    "$RMSE(Y, \\hat{Y}) = \\sqrt{\\frac{1}{n}\\sum^{n}_{i=1}(y_i-\\hat{y_i})^2}$\n"
   ]
  },
  {
   "cell_type": "code",
   "execution_count": 1,
   "id": "8453bdf7",
   "metadata": {},
   "outputs": [
    {
     "name": "stdout",
     "output_type": "stream",
     "text": [
      "3.7.4 (tags/v3.7.4:e09359112e, Jul  8 2019, 20:34:20) [MSC v.1916 64 bit (AMD64)]\n",
      "pandas 0.25.1\n",
      "numpy 1.18.5\n",
      "sklearn 0.21.3\n",
      "scipy 1.5.2\n",
      "mlxtend 0.15.0.0\n",
      "statsmodels 0.11.1\n"
     ]
    }
   ],
   "source": [
    "# 실행 환경 확인\n",
    "\n",
    "import pandas as pd\n",
    "import numpy as np\n",
    "import sklearn\n",
    "import scipy\n",
    "import statsmodels\n",
    "import mlxtend\n",
    "import sys\n",
    "\n",
    "print(sys.version)\n",
    "for i in [pd, np, sklearn, scipy, mlxtend, statsmodels]:\n",
    "    print(i.__name__, i.__version__)"
   ]
  },
  {
   "cell_type": "code",
   "execution_count": 2,
   "id": "cc7b491b",
   "metadata": {},
   "outputs": [
    {
     "data": {
      "text/plain": [
       "'0.80'"
      ]
     },
     "execution_count": 2,
     "metadata": {},
     "output_type": "execute_result"
    }
   ],
   "source": [
    "import xgboost as xgb\n",
    "xgb.__version__"
   ]
  },
  {
   "cell_type": "code",
   "execution_count": 3,
   "id": "fb0af565",
   "metadata": {},
   "outputs": [],
   "source": [
    "df_train = pd.read_csv('train_prob.csv', index_col='id')\n",
    "df_test = pd.read_csv('test_prob.csv', index_col='id')"
   ]
  },
  {
   "cell_type": "code",
   "execution_count": 4,
   "id": "20c4fe30",
   "metadata": {},
   "outputs": [
    {
     "name": "stdout",
     "output_type": "stream",
     "text": [
      "cat3 {'B': 'C'} [83634, 147361, 9005] 0\n",
      "cat4 {'A': 'B', 'D': 'B'} [239397, 603] 0\n",
      "cat6 {'D': 'A', 'E': 'B', 'G': 'C', 'H': 'B', 'I': 'A'} [234203, 5145, 652] 0\n",
      "cat7 {'A': 'B', 'C': 'B', 'F': 'D', 'I': 'B'} [4606, 19784, 214027, 1583] 0\n",
      "cat8 {'B': 'G', 'F': 'E'} [30338, 96743, 2953, 76085, 33881] 0\n",
      "cat9 {'C': 'H', 'D': 'B', 'E': 'L'} [10678, 2846, 85944, 8320, 19987, 40070, 5501, 16743, 33793, 7819, 3331, 4968] 0\n"
     ]
    }
   ],
   "source": [
    "# 전처리를 합니다.\n",
    "repl_list = [\n",
    "    ('cat3', {'B': 'C'}, [83634, 147361, 9005]),\n",
    "    ('cat4', {'A':'B', 'D': 'B'}, [239397, 603]),\n",
    "    ('cat6', {'D': 'A', 'E': 'B', 'G': 'C', 'H': 'B', 'I': 'A'}, [234203, 5145, 652]),\n",
    "    ('cat7', {'A': 'B', 'C': 'B', 'F': 'D', 'I': 'B'}, [4606, 19784, 214027, 1583]),\n",
    "    ('cat8', {'B': 'G', 'F': 'E'}, [30338, 96743, 2953, 76085, 33881]),\n",
    "    ('cat9', {'C': 'H', 'D': 'B', 'E': 'L'}, [10678, 2846, 85944, 8320, 19987, 40070, 5501, 16743, 33793, 7819, 3331, 4968])\n",
    "]\n",
    "\n",
    "for c, d, cnts in repl_list:\n",
    "    s_tmp = df_train[c].replace(d)\n",
    "    if s_tmp.nunique() != len(cnts):\n",
    "        print(\"cnt not same\")\n",
    "        break\n",
    "    print(c, d, cnts, np.sum(s_tmp.value_counts().sort_index() != cnts))\n",
    "    if np.sum(s_tmp.value_counts().sort_index() != cnts) != 0:\n",
    "        break\n",
    "    df_train[c] = s_tmp\n",
    "    df_test[c] = df_test[c].replace(d)"
   ]
  },
  {
   "cell_type": "code",
   "execution_count": 5,
   "id": "7340c6eb",
   "metadata": {},
   "outputs": [],
   "source": [
    "# GMM이 시험 범위에서 빠져서 대체, 버젼에 따라 값이 차이가 납니다. 문제를 출제했던 환경에서는 아래 값이 나왔으니 이점 고려 바랍니다.\n",
    "mu_A, std_A =6.769, 0.616\n",
    "mu_B, std_B =8.123, 0.527\n",
    "cont_cols = ['cont{}'.format(i) for i in range(14)]\n",
    "cat_cols = ['cat{}'.format(i) for i in range(10)]"
   ]
  },
  {
   "cell_type": "code",
   "execution_count": 7,
   "id": "3127ce7a",
   "metadata": {},
   "outputs": [],
   "source": [
    "from sklearn.preprocessing import OneHotEncoder\n",
    "from scipy.stats import norm\n",
    "\n",
    "# 문제 3번에서 도출한 결과를 파생 변수로 넣고 활용하기 위해 만들어 봅니다\n",
    "df_prob6_cls = df_train.assign(\n",
    "    prob_A=lambda x: 1 - norm.cdf(x['target'], loc=mu_A, scale=std_A),\n",
    "    prob_B=lambda x: norm.cdf(x['target'], loc=mu_B, scale=std_B)\n",
    ")\n",
    "\n",
    "df_prob6_cls.loc[(df_prob6_cls['prob_A'] > df_prob6_cls['prob_B']) & (df_prob6_cls['prob_B'] < 0.01), 'Class'] = 1\n",
    "df_prob6_cls.loc[(df_prob6_cls['prob_A'] < df_prob6_cls['prob_B']) & (df_prob6_cls['prob_A'] < 0.01), 'Class'] = 0\n",
    "df_prob6_cls.dropna(inplace=True)\n",
    "df_prob6_cls['Class'] = df_prob6_cls['Class'].astype(np.int8)"
   ]
  },
  {
   "cell_type": "code",
   "execution_count": 8,
   "id": "58d664a2",
   "metadata": {},
   "outputs": [
    {
     "data": {
      "text/plain": [
       "Pipeline(memory=None,\n",
       "         steps=[('columntransformer',\n",
       "                 ColumnTransformer(n_jobs=None, remainder='drop',\n",
       "                                   sparse_threshold=0.3,\n",
       "                                   transformer_weights=None,\n",
       "                                   transformers=[('ohe',\n",
       "                                                  OneHotEncoder(categorical_features=None,\n",
       "                                                                categories=None,\n",
       "                                                                drop=None,\n",
       "                                                                dtype=<class 'numpy.float64'>,\n",
       "                                                                handle_unknown='error',\n",
       "                                                                n_values=None,\n",
       "                                                                sparse=True),\n",
       "                                                  ['cat0', 'cat1', 'cat2',\n",
       "                                                   'cat3', 'cat4', 'cat5'...\n",
       "                 XGBClassifier(base_score=0.5, booster='gbtree',\n",
       "                               colsample_bylevel=1, colsample_bytree=0.25,\n",
       "                               gamma=0, learning_rate=0.1, max_delta_step=0,\n",
       "                               max_depth=2, min_child_weight=1, missing=None,\n",
       "                               n_estimators=500, n_jobs=1, nthread=None,\n",
       "                               objective='binary:logistic', random_state=123,\n",
       "                               reg_alpha=0.1, reg_lambda=0.1,\n",
       "                               scale_pos_weight=1, seed=None, silent=True,\n",
       "                               subsample=1))],\n",
       "         verbose=False)"
      ]
     },
     "execution_count": 8,
     "metadata": {},
     "output_type": "execute_result"
    }
   ],
   "source": [
    "from sklearn.preprocessing import OneHotEncoder\n",
    "from sklearn.compose import ColumnTransformer\n",
    "from sklearn.pipeline import make_pipeline\n",
    "import xgboost as xgb\n",
    "X_cols = cont_cols + cat_cols\n",
    "ct_xgb_cls = ColumnTransformer([\n",
    "    ('ohe', OneHotEncoder(), cat_cols),\n",
    "    ('pt', 'passthrough', cont_cols)\n",
    "])\n",
    "clf = make_pipeline(ct_xgb_cls, xgb.XGBClassifier(max_depth=2, \n",
    "                        colsample_bytree=0.25, \n",
    "                        n_estimators=500, \n",
    "                        reg_alpha=0.1, reg_lambda =0.1, random_state=123))\n",
    "clf.fit(df_prob6_cls[X_cols], df_prob6_cls['Class'])"
   ]
  },
  {
   "cell_type": "code",
   "execution_count": 9,
   "id": "fdb78940",
   "metadata": {},
   "outputs": [],
   "source": [
    "X_cols = cont_cols + cat_cols\n",
    "df_train['target_A_prob'] = clf.predict_proba(df_train[X_cols])[:, 1]\n",
    "df_test['target_A_prob'] = clf.predict_proba(df_test[X_cols])[:, 1]"
   ]
  },
  {
   "cell_type": "code",
   "execution_count": 10,
   "id": "18102bd0",
   "metadata": {},
   "outputs": [],
   "source": [
    "# 문제 4번에서 들고 옵니다.\n",
    "def qme(df_train, df_test, num_q):\n",
    "    q = np.linspace(0, 1, num_q + 1) \n",
    "    for i in cont_cols:\n",
    "        qt = df_train[i].quantile(q)\n",
    "        qt.iloc[[0, -1]] += [-np.inf, np.inf]\n",
    "        q_val = pd.cut(df_train[i] ,qt)\n",
    "        q_mean = df_train.groupby(q_val)['target'].mean()\n",
    "        q_col = '{}_q'.format(i)\n",
    "        df_train[q_col] = q_val.map(q_mean).astype(float)\n",
    "        df_test[q_col] = pd.cut(df_test[i], qt).map(q_mean).astype(float)\n",
    "\n",
    "qme(df_train, df_test, 100)"
   ]
  },
  {
   "cell_type": "code",
   "execution_count": 11,
   "id": "a45a93b2",
   "metadata": {},
   "outputs": [
    {
     "data": {
      "text/plain": [
       "array([-0.71515684, -0.71661542, -0.72194528, -0.71220798, -0.70711236])"
      ]
     },
     "execution_count": 11,
     "metadata": {},
     "output_type": "execute_result"
    }
   ],
   "source": [
    "from sklearn.model_selection import cross_val_score, KFold\n",
    "from sklearn.linear_model import LinearRegression\n",
    "kf = KFold(5, random_state=123, shuffle=True)\n",
    "ct_2 = ColumnTransformer(\n",
    "    [('ohe', OneHotEncoder(drop='first'), cat_cols),\n",
    "     ('q', 'passthrough', ['{}_q'.format(i) for i in cont_cols])\n",
    "    ]\n",
    ")\n",
    "# target_A_prob가 없는 모델입니다.\n",
    "X_cols_lr = cat_cols + ['{}_q'.format(i) for i in cont_cols]\n",
    "reg_lr = make_pipeline(ct_2, LinearRegression())\n",
    "score_1 = cross_val_score(reg_lr, df_train[X_cols_lr], df_train['target'], cv=kf, scoring='neg_mean_squared_error')\n",
    "score_1"
   ]
  },
  {
   "cell_type": "code",
   "execution_count": 12,
   "id": "07b0dec2",
   "metadata": {},
   "outputs": [
    {
     "data": {
      "text/plain": [
       "0.7146075776820625"
      ]
     },
     "execution_count": 12,
     "metadata": {},
     "output_type": "execute_result"
    }
   ],
   "source": [
    "-np.mean(score_1)"
   ]
  },
  {
   "cell_type": "code",
   "execution_count": 13,
   "id": "f847c200",
   "metadata": {},
   "outputs": [
    {
     "data": {
      "text/plain": [
       "array([-0.70886461, -0.71123524, -0.71662955, -0.70661583, -0.70125227])"
      ]
     },
     "execution_count": 13,
     "metadata": {},
     "output_type": "execute_result"
    }
   ],
   "source": [
    "# target_A_prob를 넣어 봅니다.\n",
    "ct_3 = ColumnTransformer(\n",
    "    [('ohe', OneHotEncoder(drop='first'), cat_cols),\n",
    "     ('q', 'passthrough', ['{}_q'.format(i) for i in cont_cols] + ['target_A_prob'])\n",
    "    ]\n",
    ")\n",
    "\n",
    "X_cols_lr = cat_cols + ['{}_q'.format(i) for i in cont_cols] + ['target_A_prob']\n",
    "reg_lr = make_pipeline(ct_3, LinearRegression())\n",
    "score_2 = cross_val_score(reg_lr, df_train[X_cols_lr], df_train['target'], cv=kf, scoring='neg_mean_squared_error')\n",
    "score_2"
   ]
  },
  {
   "cell_type": "code",
   "execution_count": 15,
   "id": "01956303",
   "metadata": {},
   "outputs": [
    {
     "data": {
      "text/plain": [
       "0.708919501126037"
      ]
     },
     "execution_count": 15,
     "metadata": {},
     "output_type": "execute_result"
    }
   ],
   "source": [
    "-np.mean(score_2) # 성능 향상이 보입니다."
   ]
  },
  {
   "cell_type": "code",
   "execution_count": 16,
   "id": "9786a264",
   "metadata": {},
   "outputs": [
    {
     "data": {
      "text/plain": [
       "Pipeline(memory=None,\n",
       "         steps=[('columntransformer',\n",
       "                 ColumnTransformer(n_jobs=None, remainder='drop',\n",
       "                                   sparse_threshold=0.3,\n",
       "                                   transformer_weights=None,\n",
       "                                   transformers=[('ohe',\n",
       "                                                  OneHotEncoder(categorical_features=None,\n",
       "                                                                categories=None,\n",
       "                                                                drop='first',\n",
       "                                                                dtype=<class 'numpy.float64'>,\n",
       "                                                                handle_unknown='error',\n",
       "                                                                n_values=None,\n",
       "                                                                sparse=True),\n",
       "                                                  ['cat0', 'cat1', 'cat2',\n",
       "                                                   'cat3', 'cat4', 'cat5',\n",
       "                                                   'cat6', 'cat7', 'cat8',\n",
       "                                                   'cat9']),\n",
       "                                                 ('q', 'passthrough',\n",
       "                                                  ['cont0_q', 'cont1_q',\n",
       "                                                   'cont2_q', 'cont3_q',\n",
       "                                                   'cont4_q', 'cont5_q',\n",
       "                                                   'cont6_q', 'cont7_q',\n",
       "                                                   'cont8_q', 'cont9_q',\n",
       "                                                   'cont10_q', 'cont11_q',\n",
       "                                                   'cont12_q', 'cont13_q'])],\n",
       "                                   verbose=False)),\n",
       "                ('linearregression',\n",
       "                 LinearRegression(copy_X=True, fit_intercept=True, n_jobs=None,\n",
       "                                  normalize=False))],\n",
       "         verbose=False)"
      ]
     },
     "execution_count": 16,
     "metadata": {},
     "output_type": "execute_result"
    }
   ],
   "source": [
    "# target_A_prob가 없는 모델입니다.\n",
    "reg_lr_1 = make_pipeline(ct_2, LinearRegression())\n",
    "reg_lr_1.fit(df_train[X_cols_lr], df_train['target'])"
   ]
  },
  {
   "cell_type": "code",
   "execution_count": 17,
   "id": "5b2e54eb",
   "metadata": {},
   "outputs": [],
   "source": [
    "df_ans = pd.read_csv('test_prob_ans.csv', index_col='id')"
   ]
  },
  {
   "cell_type": "code",
   "execution_count": 20,
   "id": "05c6ad77",
   "metadata": {},
   "outputs": [
    {
     "data": {
      "text/plain": [
       "(0.7238551423621544, 0.8507967691300634)"
      ]
     },
     "execution_count": 20,
     "metadata": {},
     "output_type": "execute_result"
    }
   ],
   "source": [
    "from sklearn.metrics import mean_squared_error\n",
    "mse1= mean_squared_error(df_ans['target'], reg_lr_1.predict(df_test[X_cols_lr])) # target_A_prob가 없는 모델의 채점결과 입니다.\n",
    "mse1, mse1 ** 0.5 # RMSE도 구해봅니다."
   ]
  },
  {
   "cell_type": "code",
   "execution_count": 21,
   "id": "ffd75f8b",
   "metadata": {},
   "outputs": [
    {
     "data": {
      "text/plain": [
       "Pipeline(memory=None,\n",
       "         steps=[('columntransformer',\n",
       "                 ColumnTransformer(n_jobs=None, remainder='drop',\n",
       "                                   sparse_threshold=0.3,\n",
       "                                   transformer_weights=None,\n",
       "                                   transformers=[('ohe',\n",
       "                                                  OneHotEncoder(categorical_features=None,\n",
       "                                                                categories=None,\n",
       "                                                                drop='first',\n",
       "                                                                dtype=<class 'numpy.float64'>,\n",
       "                                                                handle_unknown='error',\n",
       "                                                                n_values=None,\n",
       "                                                                sparse=True),\n",
       "                                                  ['cat0', 'cat1', 'cat2',\n",
       "                                                   'cat3', 'cat4', 'cat5',\n",
       "                                                   'cat6', 'cat7', 'cat8',\n",
       "                                                   'cat9']),\n",
       "                                                 ('q', 'passthrough',\n",
       "                                                  ['cont0_q', 'cont1_q',\n",
       "                                                   'cont2_q', 'cont3_q',\n",
       "                                                   'cont4_q', 'cont5_q',\n",
       "                                                   'cont6_q', 'cont7_q',\n",
       "                                                   'cont8_q', 'cont9_q',\n",
       "                                                   'cont10_q', 'cont11_q',\n",
       "                                                   'cont12_q', 'cont13_q',\n",
       "                                                   'target_A_prob'])],\n",
       "                                   verbose=False)),\n",
       "                ('linearregression',\n",
       "                 LinearRegression(copy_X=True, fit_intercept=True, n_jobs=None,\n",
       "                                  normalize=False))],\n",
       "         verbose=False)"
      ]
     },
     "execution_count": 21,
     "metadata": {},
     "output_type": "execute_result"
    }
   ],
   "source": [
    "# target_A_prob를 넣어은 모델입니다.\n",
    "reg_lr_2 = make_pipeline(ct_3, LinearRegression())\n",
    "reg_lr_2.fit(df_train[X_cols_lr], df_train['target'])"
   ]
  },
  {
   "cell_type": "code",
   "execution_count": 22,
   "id": "49a196ba",
   "metadata": {},
   "outputs": [
    {
     "data": {
      "text/plain": [
       "(0.718895781888483, 0.8478772209987028)"
      ]
     },
     "execution_count": 22,
     "metadata": {},
     "output_type": "execute_result"
    }
   ],
   "source": [
    "from sklearn.metrics import mean_squared_error\n",
    "mse2= mean_squared_error(df_ans['target'], reg_lr_2.predict(df_test[X_cols_lr])) # target_A_prob를 넣은 모델의 채점결과 입니다.\n",
    "mse2, mse2 ** 0.5 # 성능향상이 보입니다."
   ]
  },
  {
   "cell_type": "code",
   "execution_count": 23,
   "id": "85e53b42",
   "metadata": {},
   "outputs": [
    {
     "data": {
      "image/png": "[encoded data removed]",
      "text/plain": [
       "<Figure size 640x480 with 1 Axes>"
      ]
     },
     "metadata": {},
     "output_type": "display_data"
    }
   ],
   "source": [
    "# 결과를 시각화 해봅니다.\n",
    "import matplotlib.pyplot as plt\n",
    "import seaborn as sns\n",
    "sns.histplot(df_ans['target'])\n",
    "sns.histplot(reg_lr_2.predict(df_test[X_cols_lr]))\n",
    "plt.show()"
   ]
  },
  {
   "cell_type": "code",
   "execution_count": 28,
   "id": "2d494e8f",
   "metadata": {},
   "outputs": [
    {
     "data": {
      "text/plain": [
       "array([-0.71062518, -0.71247679, -0.71785345, -0.70798244, -0.70276435])"
      ]
     },
     "execution_count": 28,
     "metadata": {},
     "output_type": "execute_result"
    }
   ],
   "source": [
    "# 두개를 합쳐 앙상블을 만듭니다. 앙상블 모델을 VotingRegressor입니다.\n",
    "from sklearn.ensemble import VotingRegressor\n",
    "reg_voting = VotingRegressor(\n",
    "    [('lr1', reg_lr_1), \n",
    "     ('lr2', reg_lr_2)]\n",
    ")\n",
    "score_3 = cross_val_score(reg_voting, df_train[X_cols_lr], df_train['target'], cv=kf, scoring='neg_mean_squared_error')\n",
    "score_3"
   ]
  },
  {
   "cell_type": "code",
   "execution_count": 29,
   "id": "ac76728d",
   "metadata": {},
   "outputs": [
    {
     "data": {
      "text/plain": [
       "0.7103404419718338"
      ]
     },
     "execution_count": 29,
     "metadata": {},
     "output_type": "execute_result"
    }
   ],
   "source": [
    "-np.mean(score_3) #두 번째 모델 보다는 성능이 떨어 집니다."
   ]
  },
  {
   "cell_type": "code",
   "execution_count": 30,
   "id": "22d13827",
   "metadata": {},
   "outputs": [
    {
     "data": {
      "text/plain": [
       "VotingRegressor(estimators=[('lr1',\n",
       "                             Pipeline(memory=None,\n",
       "                                      steps=[('columntransformer',\n",
       "                                              ColumnTransformer(n_jobs=None,\n",
       "                                                                remainder='drop',\n",
       "                                                                sparse_threshold=0.3,\n",
       "                                                                transformer_weights=None,\n",
       "                                                                transformers=[('ohe',\n",
       "                                                                               OneHotEncoder(categorical_features=None,\n",
       "                                                                                             categories=None,\n",
       "                                                                                             drop='first',\n",
       "                                                                                             dtype=<class 'numpy.float64'>,\n",
       "                                                                                             handle_unknown='error',\n",
       "                                                                                             n_values=None,\n",
       "                                                                                             sparse=True),\n",
       "                                                                               ['ca...\n",
       "                                                                                'cat8',\n",
       "                                                                                'cat9']),\n",
       "                                                                              ('q',\n",
       "                                                                               'passthrough',\n",
       "                                                                               ['cont0_q',\n",
       "                                                                                'cont1_q',\n",
       "                                                                                'cont2_q',\n",
       "                                                                                'cont3_q',\n",
       "                                                                                'cont4_q',\n",
       "                                                                                'cont5_q',\n",
       "                                                                                'cont6_q',\n",
       "                                                                                'cont7_q',\n",
       "                                                                                'cont8_q',\n",
       "                                                                                'cont9_q',\n",
       "                                                                                'cont10_q',\n",
       "                                                                                'cont11_q',\n",
       "                                                                                'cont12_q',\n",
       "                                                                                'cont13_q',\n",
       "                                                                                'target_A_prob'])],\n",
       "                                                                verbose=False)),\n",
       "                                             ('linearregression',\n",
       "                                              LinearRegression(copy_X=True,\n",
       "                                                               fit_intercept=True,\n",
       "                                                               n_jobs=None,\n",
       "                                                               normalize=False))],\n",
       "                                      verbose=False))],\n",
       "                n_jobs=None, weights=None)"
      ]
     },
     "execution_count": 30,
     "metadata": {},
     "output_type": "execute_result"
    }
   ],
   "source": [
    "reg_voting = VotingRegressor(\n",
    "    [('lr1', reg_lr_1), \n",
    "     ('lr2', reg_lr_2)]\n",
    ")\n",
    "reg_voting.fit(df_train[X_cols_lr], df_train['target'])"
   ]
  },
  {
   "cell_type": "code",
   "execution_count": 31,
   "id": "5184ad5f",
   "metadata": {},
   "outputs": [
    {
     "data": {
      "text/plain": [
       "0.7199369075761228"
      ]
     },
     "execution_count": 31,
     "metadata": {},
     "output_type": "execute_result"
    }
   ],
   "source": [
    "mean_squared_error(df_ans['target'], reg_voting.predict(df_test[X_cols_lr])) # 채점 결과도 좋지 않습니다."
   ]
  },
  {
   "cell_type": "code",
   "execution_count": 32,
   "id": "31f75170",
   "metadata": {},
   "outputs": [],
   "source": [
    "# 결과를 기록합니다.\n",
    "pd.DataFrame({'target': reg_lr_2.predict(df_test[X_cols_lr])}, index=df_test.index).to_csv('answer6.csv')"
   ]
  },
  {
   "cell_type": "markdown",
   "id": "e020efab",
   "metadata": {},
   "source": [
    "# 3일간 고생하셨습니다. 좋은 결과 있기를 바랍니다!"
   ]
  },
  {
   "cell_type": "code",
   "execution_count": null,
   "id": "661c8016",
   "metadata": {},
   "outputs": [],
   "source": []
  }
 ],
 "metadata": {
  "kernelspec": {
   "display_name": "Python 3 (ipykernel)",
   "language": "python",
   "name": "python3"
  },
  "language_info": {
   "codemirror_mode": {
    "name": "ipython",
    "version": 3
   },
   "file_extension": ".py",
   "mimetype": "text/x-python",
   "name": "python",
   "nbconvert_exporter": "python",
   "pygments_lexer": "ipython3",
   "version": "3.7.4"
  }
 },
 "nbformat": 4,
 "nbformat_minor": 5
}
