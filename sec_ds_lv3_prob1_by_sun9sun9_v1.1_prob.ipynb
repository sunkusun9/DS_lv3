{
 "cells": [
  {
   "cell_type": "markdown",
   "id": "75850728",
   "metadata": {},
   "source": [
    "# 시험장 환경 정보\n",
    "\n",
    "Python: 3.7.4 (tags/v3.7.4:e09359112e, Jul  8 2019, 20:34:20) [MSC v.1916 64 bit (AMD64)]\n",
    "\n",
    "|모듈|버젼|\n",
    "|----|----|\n",
    "|pandas|0.25.1|\n",
    "|numpy|1.18.5|\n",
    "|sklearn|0.21.3|\n",
    "|scipy|1.5.2|\n",
    "|mlxtend|0.15.0.0|\n",
    "|statsmodels|0.11.1|"
   ]
  },
  {
   "cell_type": "code",
   "execution_count": 1,
   "id": "04b1901d",
   "metadata": {},
   "outputs": [
    {
     "name": "stdout",
     "output_type": "stream",
     "text": [
      "3.7.4 (tags/v3.7.4:e09359112e, Jul  8 2019, 20:34:20) [MSC v.1916 64 bit (AMD64)]\n",
      "pandas 0.25.1\n",
      "numpy 1.18.5\n",
      "sklearn 0.21.3\n",
      "scipy 1.5.2\n",
      "mlxtend 0.15.0.0\n",
      "statsmodels 0.11.1\n"
     ]
    }
   ],
   "source": [
    "# 실행 환경 확인\n",
    "\n",
    "import pandas as pd\n",
    "import numpy as np\n",
    "import sklearn\n",
    "import scipy\n",
    "import statsmodels\n",
    "import mlxtend\n",
    "import sys\n",
    "\n",
    "print(sys.version)\n",
    "for i in [pd, np, sklearn, scipy, mlxtend, statsmodels]:\n",
    "    print(i.__name__, i.__version__)"
   ]
  },
  {
   "cell_type": "markdown",
   "id": "2719eb2d",
   "metadata": {},
   "source": [
    "# 문제 개요\n",
    "\n",
    "다음은 폴더블 폰의 힌지에 들어가는 스프링 내구력을 테스트한 실험 결과이다. \n",
    "\n",
    "스프링 측정값과 스프링에 가한 부하 정보와 함께, 테스트 통과/실패 (failure) 결과가 기재되어 있다. \n",
    "\n",
    "개발부서는 테스트 비용을 줄이기 위해 failure 여부를 맞추는 모델을 만들고자 한다.\n",
    "\n",
    "변수명은 보안을 위해 measurement_0과 같이 익명화되었다.\n",
    "\n",
    "데이터 구성\n",
    "\n",
    "학습데이터: train_prob.csv, 21,458 rows, 25 columns\n",
    "\n",
    "테스트데이터: test_prob.csv, 5,112 rows, 24 columns, \n",
    "\n",
    "테스트정답셋: test_prob_ans.csv, 5,112 rows, 1 columns\n",
    "\n",
    "\n",
    "컬럼명\t설명\t타입\n",
    "\n",
    "|Id|실험 고유 번호|정수형|\n",
    "|--|--------------|------|\n",
    "|product_code|스프링 코드|범주형|\n",
    "|loading|스프링에 가한 부하|실수형|\n",
    "|attribute_0|구성 소재1|범주형|\n",
    "|attribute_1|구성 소재2|범주형|\n",
    "|attribute_2|구성 소재3|정수형|\n",
    "|attribute_3|구성 소재4|정수형|\n",
    "|measurement_0 ~ 17|측정값 0~17|실수형|\n",
    "|failure|성공여부|이진형(0, 1)|\n"
   ]
  },
  {
   "cell_type": "code",
   "execution_count": 2,
   "id": "15ebc269",
   "metadata": {},
   "outputs": [],
   "source": [
    "import matplotlib.pyplot as plt\n",
    "import seaborn as sns"
   ]
  },
  {
   "cell_type": "code",
   "execution_count": 3,
   "id": "4c1e6a21",
   "metadata": {},
   "outputs": [
    {
     "data": {
      "text/html": [
       "<div>\n",
       "<style scoped>\n",
       "    .dataframe tbody tr th:only-of-type {\n",
       "        vertical-align: middle;\n",
       "    }\n",
       "\n",
       "    .dataframe tbody tr th {\n",
       "        vertical-align: top;\n",
       "    }\n",
       "\n",
       "    .dataframe thead th {\n",
       "        text-align: right;\n",
       "    }\n",
       "</style>\n",
       "<table border=\"1\" class=\"dataframe\">\n",
       "  <thead>\n",
       "    <tr style=\"text-align: right;\">\n",
       "      <th></th>\n",
       "      <th>product_code</th>\n",
       "      <th>loading</th>\n",
       "      <th>attribute_0</th>\n",
       "      <th>attribute_1</th>\n",
       "      <th>attribute_2</th>\n",
       "      <th>attribute_3</th>\n",
       "      <th>measurement_0</th>\n",
       "      <th>measurement_1</th>\n",
       "      <th>measurement_2</th>\n",
       "      <th>measurement_3</th>\n",
       "      <th>...</th>\n",
       "      <th>measurement_9</th>\n",
       "      <th>measurement_10</th>\n",
       "      <th>measurement_11</th>\n",
       "      <th>measurement_12</th>\n",
       "      <th>measurement_13</th>\n",
       "      <th>measurement_14</th>\n",
       "      <th>measurement_15</th>\n",
       "      <th>measurement_16</th>\n",
       "      <th>measurement_17</th>\n",
       "      <th>failure</th>\n",
       "    </tr>\n",
       "    <tr>\n",
       "      <th>id</th>\n",
       "      <th></th>\n",
       "      <th></th>\n",
       "      <th></th>\n",
       "      <th></th>\n",
       "      <th></th>\n",
       "      <th></th>\n",
       "      <th></th>\n",
       "      <th></th>\n",
       "      <th></th>\n",
       "      <th></th>\n",
       "      <th></th>\n",
       "      <th></th>\n",
       "      <th></th>\n",
       "      <th></th>\n",
       "      <th></th>\n",
       "      <th></th>\n",
       "      <th></th>\n",
       "      <th></th>\n",
       "      <th></th>\n",
       "      <th></th>\n",
       "      <th></th>\n",
       "    </tr>\n",
       "  </thead>\n",
       "  <tbody>\n",
       "    <tr>\n",
       "      <td>0</td>\n",
       "      <td>A</td>\n",
       "      <td>80.10</td>\n",
       "      <td>material_7</td>\n",
       "      <td>material_8</td>\n",
       "      <td>9</td>\n",
       "      <td>5</td>\n",
       "      <td>7</td>\n",
       "      <td>8</td>\n",
       "      <td>4</td>\n",
       "      <td>18.040</td>\n",
       "      <td>...</td>\n",
       "      <td>10.672</td>\n",
       "      <td>15.859</td>\n",
       "      <td>17.594</td>\n",
       "      <td>15.193</td>\n",
       "      <td>15.029</td>\n",
       "      <td>NaN</td>\n",
       "      <td>13.034</td>\n",
       "      <td>14.684</td>\n",
       "      <td>764.100</td>\n",
       "      <td>0</td>\n",
       "    </tr>\n",
       "    <tr>\n",
       "      <td>1</td>\n",
       "      <td>A</td>\n",
       "      <td>84.89</td>\n",
       "      <td>material_7</td>\n",
       "      <td>material_8</td>\n",
       "      <td>9</td>\n",
       "      <td>5</td>\n",
       "      <td>14</td>\n",
       "      <td>3</td>\n",
       "      <td>3</td>\n",
       "      <td>18.213</td>\n",
       "      <td>...</td>\n",
       "      <td>12.448</td>\n",
       "      <td>17.947</td>\n",
       "      <td>17.915</td>\n",
       "      <td>11.755</td>\n",
       "      <td>14.732</td>\n",
       "      <td>15.425</td>\n",
       "      <td>14.395</td>\n",
       "      <td>15.631</td>\n",
       "      <td>682.057</td>\n",
       "      <td>0</td>\n",
       "    </tr>\n",
       "    <tr>\n",
       "      <td>2</td>\n",
       "      <td>A</td>\n",
       "      <td>82.43</td>\n",
       "      <td>material_7</td>\n",
       "      <td>material_8</td>\n",
       "      <td>9</td>\n",
       "      <td>5</td>\n",
       "      <td>12</td>\n",
       "      <td>1</td>\n",
       "      <td>5</td>\n",
       "      <td>18.057</td>\n",
       "      <td>...</td>\n",
       "      <td>12.715</td>\n",
       "      <td>15.607</td>\n",
       "      <td>NaN</td>\n",
       "      <td>13.798</td>\n",
       "      <td>16.711</td>\n",
       "      <td>18.631</td>\n",
       "      <td>14.094</td>\n",
       "      <td>17.946</td>\n",
       "      <td>663.376</td>\n",
       "      <td>0</td>\n",
       "    </tr>\n",
       "    <tr>\n",
       "      <td>3</td>\n",
       "      <td>A</td>\n",
       "      <td>101.07</td>\n",
       "      <td>material_7</td>\n",
       "      <td>material_8</td>\n",
       "      <td>9</td>\n",
       "      <td>5</td>\n",
       "      <td>13</td>\n",
       "      <td>2</td>\n",
       "      <td>6</td>\n",
       "      <td>17.295</td>\n",
       "      <td>...</td>\n",
       "      <td>12.471</td>\n",
       "      <td>16.346</td>\n",
       "      <td>18.377</td>\n",
       "      <td>10.020</td>\n",
       "      <td>15.250</td>\n",
       "      <td>15.562</td>\n",
       "      <td>16.154</td>\n",
       "      <td>17.172</td>\n",
       "      <td>826.282</td>\n",
       "      <td>0</td>\n",
       "    </tr>\n",
       "    <tr>\n",
       "      <td>4</td>\n",
       "      <td>A</td>\n",
       "      <td>188.06</td>\n",
       "      <td>material_7</td>\n",
       "      <td>material_8</td>\n",
       "      <td>9</td>\n",
       "      <td>5</td>\n",
       "      <td>9</td>\n",
       "      <td>2</td>\n",
       "      <td>8</td>\n",
       "      <td>19.346</td>\n",
       "      <td>...</td>\n",
       "      <td>10.337</td>\n",
       "      <td>17.082</td>\n",
       "      <td>19.932</td>\n",
       "      <td>12.428</td>\n",
       "      <td>16.182</td>\n",
       "      <td>12.760</td>\n",
       "      <td>13.153</td>\n",
       "      <td>16.412</td>\n",
       "      <td>579.885</td>\n",
       "      <td>0</td>\n",
       "    </tr>\n",
       "  </tbody>\n",
       "</table>\n",
       "<p>5 rows × 25 columns</p>\n",
       "</div>"
      ],
      "text/plain": [
       "   product_code  loading attribute_0 attribute_1  attribute_2  attribute_3  \\\n",
       "id                                                                           \n",
       "0             A    80.10  material_7  material_8            9            5   \n",
       "1             A    84.89  material_7  material_8            9            5   \n",
       "2             A    82.43  material_7  material_8            9            5   \n",
       "3             A   101.07  material_7  material_8            9            5   \n",
       "4             A   188.06  material_7  material_8            9            5   \n",
       "\n",
       "    measurement_0  measurement_1  measurement_2  measurement_3  ...  \\\n",
       "id                                                              ...   \n",
       "0               7              8              4         18.040  ...   \n",
       "1              14              3              3         18.213  ...   \n",
       "2              12              1              5         18.057  ...   \n",
       "3              13              2              6         17.295  ...   \n",
       "4               9              2              8         19.346  ...   \n",
       "\n",
       "    measurement_9  measurement_10  measurement_11  measurement_12  \\\n",
       "id                                                                  \n",
       "0          10.672          15.859          17.594          15.193   \n",
       "1          12.448          17.947          17.915          11.755   \n",
       "2          12.715          15.607             NaN          13.798   \n",
       "3          12.471          16.346          18.377          10.020   \n",
       "4          10.337          17.082          19.932          12.428   \n",
       "\n",
       "    measurement_13  measurement_14  measurement_15  measurement_16  \\\n",
       "id                                                                   \n",
       "0           15.029             NaN          13.034          14.684   \n",
       "1           14.732          15.425          14.395          15.631   \n",
       "2           16.711          18.631          14.094          17.946   \n",
       "3           15.250          15.562          16.154          17.172   \n",
       "4           16.182          12.760          13.153          16.412   \n",
       "\n",
       "    measurement_17  failure  \n",
       "id                           \n",
       "0          764.100        0  \n",
       "1          682.057        0  \n",
       "2          663.376        0  \n",
       "3          826.282        0  \n",
       "4          579.885        0  \n",
       "\n",
       "[5 rows x 25 columns]"
      ]
     },
     "execution_count": 3,
     "metadata": {},
     "output_type": "execute_result"
    }
   ],
   "source": [
    "df_train = pd.read_csv('train_prob.csv', index_col='id')\n",
    "df_train.head()"
   ]
  },
  {
   "cell_type": "code",
   "execution_count": 4,
   "id": "e1bd8805",
   "metadata": {},
   "outputs": [
    {
     "name": "stdout",
     "output_type": "stream",
     "text": [
      "<class 'pandas.core.frame.DataFrame'>\n",
      "Int64Index: 21458 entries, 0 to 26569\n",
      "Data columns (total 25 columns):\n",
      "product_code      21458 non-null object\n",
      "loading           21257 non-null float64\n",
      "attribute_0       21458 non-null object\n",
      "attribute_1       21458 non-null object\n",
      "attribute_2       21458 non-null int64\n",
      "attribute_3       21458 non-null int64\n",
      "measurement_0     21458 non-null int64\n",
      "measurement_1     21458 non-null int64\n",
      "measurement_2     21458 non-null int64\n",
      "measurement_3     21146 non-null float64\n",
      "measurement_4     21016 non-null float64\n",
      "measurement_5     20893 non-null float64\n",
      "measurement_6     20818 non-null float64\n",
      "measurement_7     20692 non-null float64\n",
      "measurement_8     20605 non-null float64\n",
      "measurement_9     20469 non-null float64\n",
      "measurement_10    20399 non-null float64\n",
      "measurement_11    20278 non-null float64\n",
      "measurement_12    20171 non-null float64\n",
      "measurement_13    20063 non-null float64\n",
      "measurement_14    19976 non-null float64\n",
      "measurement_15    19855 non-null float64\n",
      "measurement_16    19750 non-null float64\n",
      "measurement_17    19640 non-null float64\n",
      "failure           21458 non-null int64\n",
      "dtypes: float64(16), int64(6), object(3)\n",
      "memory usage: 4.3+ MB\n"
     ]
    }
   ],
   "source": [
    "df_train.info()"
   ]
  },
  {
   "cell_type": "code",
   "execution_count": 5,
   "id": "975dace0",
   "metadata": {},
   "outputs": [
    {
     "data": {
      "text/html": [
       "<div>\n",
       "<style scoped>\n",
       "    .dataframe tbody tr th:only-of-type {\n",
       "        vertical-align: middle;\n",
       "    }\n",
       "\n",
       "    .dataframe tbody tr th {\n",
       "        vertical-align: top;\n",
       "    }\n",
       "\n",
       "    .dataframe thead th {\n",
       "        text-align: right;\n",
       "    }\n",
       "</style>\n",
       "<table border=\"1\" class=\"dataframe\">\n",
       "  <thead>\n",
       "    <tr style=\"text-align: right;\">\n",
       "      <th></th>\n",
       "      <th>count</th>\n",
       "      <th>mean</th>\n",
       "      <th>std</th>\n",
       "      <th>min</th>\n",
       "      <th>25%</th>\n",
       "      <th>50%</th>\n",
       "      <th>75%</th>\n",
       "      <th>max</th>\n",
       "    </tr>\n",
       "  </thead>\n",
       "  <tbody>\n",
       "    <tr>\n",
       "      <td>loading</td>\n",
       "      <td>21257.0</td>\n",
       "      <td>127.680897</td>\n",
       "      <td>38.987953</td>\n",
       "      <td>33.160</td>\n",
       "      <td>100.01000</td>\n",
       "      <td>122.2500</td>\n",
       "      <td>148.77000</td>\n",
       "      <td>385.860</td>\n",
       "    </tr>\n",
       "    <tr>\n",
       "      <td>attribute_2</td>\n",
       "      <td>21458.0</td>\n",
       "      <td>6.933684</td>\n",
       "      <td>1.585791</td>\n",
       "      <td>5.000</td>\n",
       "      <td>5.00000</td>\n",
       "      <td>6.0000</td>\n",
       "      <td>8.00000</td>\n",
       "      <td>9.000</td>\n",
       "    </tr>\n",
       "    <tr>\n",
       "      <td>attribute_3</td>\n",
       "      <td>21458.0</td>\n",
       "      <td>7.535977</td>\n",
       "      <td>1.474057</td>\n",
       "      <td>5.000</td>\n",
       "      <td>8.00000</td>\n",
       "      <td>8.0000</td>\n",
       "      <td>8.00000</td>\n",
       "      <td>9.000</td>\n",
       "    </tr>\n",
       "    <tr>\n",
       "      <td>measurement_0</td>\n",
       "      <td>21458.0</td>\n",
       "      <td>7.311912</td>\n",
       "      <td>4.261533</td>\n",
       "      <td>0.000</td>\n",
       "      <td>4.00000</td>\n",
       "      <td>7.0000</td>\n",
       "      <td>10.00000</td>\n",
       "      <td>29.000</td>\n",
       "    </tr>\n",
       "    <tr>\n",
       "      <td>measurement_1</td>\n",
       "      <td>21458.0</td>\n",
       "      <td>7.861264</td>\n",
       "      <td>4.152362</td>\n",
       "      <td>0.000</td>\n",
       "      <td>5.00000</td>\n",
       "      <td>8.0000</td>\n",
       "      <td>10.00000</td>\n",
       "      <td>28.000</td>\n",
       "    </tr>\n",
       "    <tr>\n",
       "      <td>measurement_2</td>\n",
       "      <td>21458.0</td>\n",
       "      <td>6.016917</td>\n",
       "      <td>3.299464</td>\n",
       "      <td>0.000</td>\n",
       "      <td>4.00000</td>\n",
       "      <td>6.0000</td>\n",
       "      <td>8.00000</td>\n",
       "      <td>24.000</td>\n",
       "    </tr>\n",
       "    <tr>\n",
       "      <td>measurement_3</td>\n",
       "      <td>21146.0</td>\n",
       "      <td>17.795325</td>\n",
       "      <td>1.002861</td>\n",
       "      <td>13.968</td>\n",
       "      <td>17.11825</td>\n",
       "      <td>17.7910</td>\n",
       "      <td>18.47300</td>\n",
       "      <td>21.499</td>\n",
       "    </tr>\n",
       "    <tr>\n",
       "      <td>measurement_4</td>\n",
       "      <td>21016.0</td>\n",
       "      <td>11.736571</td>\n",
       "      <td>0.997623</td>\n",
       "      <td>8.008</td>\n",
       "      <td>11.05400</td>\n",
       "      <td>11.7370</td>\n",
       "      <td>12.41800</td>\n",
       "      <td>16.484</td>\n",
       "    </tr>\n",
       "    <tr>\n",
       "      <td>measurement_5</td>\n",
       "      <td>20893.0</td>\n",
       "      <td>17.130985</td>\n",
       "      <td>0.996501</td>\n",
       "      <td>12.073</td>\n",
       "      <td>16.44700</td>\n",
       "      <td>17.1360</td>\n",
       "      <td>17.80800</td>\n",
       "      <td>21.425</td>\n",
       "    </tr>\n",
       "    <tr>\n",
       "      <td>measurement_6</td>\n",
       "      <td>20818.0</td>\n",
       "      <td>17.507452</td>\n",
       "      <td>0.995234</td>\n",
       "      <td>13.566</td>\n",
       "      <td>16.83600</td>\n",
       "      <td>17.5150</td>\n",
       "      <td>18.18075</td>\n",
       "      <td>21.543</td>\n",
       "    </tr>\n",
       "    <tr>\n",
       "      <td>measurement_7</td>\n",
       "      <td>20692.0</td>\n",
       "      <td>11.718086</td>\n",
       "      <td>0.999211</td>\n",
       "      <td>7.968</td>\n",
       "      <td>11.05075</td>\n",
       "      <td>11.7135</td>\n",
       "      <td>12.39300</td>\n",
       "      <td>15.419</td>\n",
       "    </tr>\n",
       "    <tr>\n",
       "      <td>measurement_8</td>\n",
       "      <td>20605.0</td>\n",
       "      <td>19.022928</td>\n",
       "      <td>1.010219</td>\n",
       "      <td>15.220</td>\n",
       "      <td>18.33600</td>\n",
       "      <td>19.0180</td>\n",
       "      <td>19.70800</td>\n",
       "      <td>23.807</td>\n",
       "    </tr>\n",
       "    <tr>\n",
       "      <td>measurement_9</td>\n",
       "      <td>20469.0</td>\n",
       "      <td>11.430473</td>\n",
       "      <td>0.997290</td>\n",
       "      <td>7.537</td>\n",
       "      <td>10.75700</td>\n",
       "      <td>11.4310</td>\n",
       "      <td>12.10400</td>\n",
       "      <td>15.412</td>\n",
       "    </tr>\n",
       "    <tr>\n",
       "      <td>measurement_10</td>\n",
       "      <td>20399.0</td>\n",
       "      <td>16.033571</td>\n",
       "      <td>1.310508</td>\n",
       "      <td>9.323</td>\n",
       "      <td>15.19500</td>\n",
       "      <td>16.0590</td>\n",
       "      <td>16.89500</td>\n",
       "      <td>22.479</td>\n",
       "    </tr>\n",
       "    <tr>\n",
       "      <td>measurement_11</td>\n",
       "      <td>20278.0</td>\n",
       "      <td>19.192888</td>\n",
       "      <td>1.622360</td>\n",
       "      <td>12.461</td>\n",
       "      <td>18.07225</td>\n",
       "      <td>19.2640</td>\n",
       "      <td>20.33600</td>\n",
       "      <td>25.640</td>\n",
       "    </tr>\n",
       "    <tr>\n",
       "      <td>measurement_12</td>\n",
       "      <td>20171.0</td>\n",
       "      <td>11.733070</td>\n",
       "      <td>1.474817</td>\n",
       "      <td>5.167</td>\n",
       "      <td>10.75400</td>\n",
       "      <td>11.7570</td>\n",
       "      <td>12.72300</td>\n",
       "      <td>17.392</td>\n",
       "    </tr>\n",
       "    <tr>\n",
       "      <td>measurement_13</td>\n",
       "      <td>20063.0</td>\n",
       "      <td>15.665751</td>\n",
       "      <td>1.188068</td>\n",
       "      <td>10.890</td>\n",
       "      <td>14.88500</td>\n",
       "      <td>15.6330</td>\n",
       "      <td>16.40000</td>\n",
       "      <td>22.713</td>\n",
       "    </tr>\n",
       "    <tr>\n",
       "      <td>measurement_14</td>\n",
       "      <td>19976.0</td>\n",
       "      <td>16.033379</td>\n",
       "      <td>1.513745</td>\n",
       "      <td>9.140</td>\n",
       "      <td>15.04400</td>\n",
       "      <td>16.0130</td>\n",
       "      <td>17.05700</td>\n",
       "      <td>22.303</td>\n",
       "    </tr>\n",
       "    <tr>\n",
       "      <td>measurement_15</td>\n",
       "      <td>19855.0</td>\n",
       "      <td>15.050491</td>\n",
       "      <td>1.532690</td>\n",
       "      <td>9.158</td>\n",
       "      <td>14.02600</td>\n",
       "      <td>15.0330</td>\n",
       "      <td>16.05750</td>\n",
       "      <td>21.626</td>\n",
       "    </tr>\n",
       "    <tr>\n",
       "      <td>measurement_16</td>\n",
       "      <td>19750.0</td>\n",
       "      <td>16.396950</td>\n",
       "      <td>1.740309</td>\n",
       "      <td>9.701</td>\n",
       "      <td>15.18600</td>\n",
       "      <td>16.3165</td>\n",
       "      <td>17.58200</td>\n",
       "      <td>24.094</td>\n",
       "    </tr>\n",
       "    <tr>\n",
       "      <td>measurement_17</td>\n",
       "      <td>19640.0</td>\n",
       "      <td>701.530765</td>\n",
       "      <td>119.519590</td>\n",
       "      <td>231.396</td>\n",
       "      <td>622.17150</td>\n",
       "      <td>700.7625</td>\n",
       "      <td>781.46175</td>\n",
       "      <td>1312.794</td>\n",
       "    </tr>\n",
       "    <tr>\n",
       "      <td>failure</td>\n",
       "      <td>21458.0</td>\n",
       "      <td>0.211436</td>\n",
       "      <td>0.408337</td>\n",
       "      <td>0.000</td>\n",
       "      <td>0.00000</td>\n",
       "      <td>0.0000</td>\n",
       "      <td>0.00000</td>\n",
       "      <td>1.000</td>\n",
       "    </tr>\n",
       "  </tbody>\n",
       "</table>\n",
       "</div>"
      ],
      "text/plain": [
       "                  count        mean         std      min        25%       50%  \\\n",
       "loading         21257.0  127.680897   38.987953   33.160  100.01000  122.2500   \n",
       "attribute_2     21458.0    6.933684    1.585791    5.000    5.00000    6.0000   \n",
       "attribute_3     21458.0    7.535977    1.474057    5.000    8.00000    8.0000   \n",
       "measurement_0   21458.0    7.311912    4.261533    0.000    4.00000    7.0000   \n",
       "measurement_1   21458.0    7.861264    4.152362    0.000    5.00000    8.0000   \n",
       "measurement_2   21458.0    6.016917    3.299464    0.000    4.00000    6.0000   \n",
       "measurement_3   21146.0   17.795325    1.002861   13.968   17.11825   17.7910   \n",
       "measurement_4   21016.0   11.736571    0.997623    8.008   11.05400   11.7370   \n",
       "measurement_5   20893.0   17.130985    0.996501   12.073   16.44700   17.1360   \n",
       "measurement_6   20818.0   17.507452    0.995234   13.566   16.83600   17.5150   \n",
       "measurement_7   20692.0   11.718086    0.999211    7.968   11.05075   11.7135   \n",
       "measurement_8   20605.0   19.022928    1.010219   15.220   18.33600   19.0180   \n",
       "measurement_9   20469.0   11.430473    0.997290    7.537   10.75700   11.4310   \n",
       "measurement_10  20399.0   16.033571    1.310508    9.323   15.19500   16.0590   \n",
       "measurement_11  20278.0   19.192888    1.622360   12.461   18.07225   19.2640   \n",
       "measurement_12  20171.0   11.733070    1.474817    5.167   10.75400   11.7570   \n",
       "measurement_13  20063.0   15.665751    1.188068   10.890   14.88500   15.6330   \n",
       "measurement_14  19976.0   16.033379    1.513745    9.140   15.04400   16.0130   \n",
       "measurement_15  19855.0   15.050491    1.532690    9.158   14.02600   15.0330   \n",
       "measurement_16  19750.0   16.396950    1.740309    9.701   15.18600   16.3165   \n",
       "measurement_17  19640.0  701.530765  119.519590  231.396  622.17150  700.7625   \n",
       "failure         21458.0    0.211436    0.408337    0.000    0.00000    0.0000   \n",
       "\n",
       "                      75%       max  \n",
       "loading         148.77000   385.860  \n",
       "attribute_2       8.00000     9.000  \n",
       "attribute_3       8.00000     9.000  \n",
       "measurement_0    10.00000    29.000  \n",
       "measurement_1    10.00000    28.000  \n",
       "measurement_2     8.00000    24.000  \n",
       "measurement_3    18.47300    21.499  \n",
       "measurement_4    12.41800    16.484  \n",
       "measurement_5    17.80800    21.425  \n",
       "measurement_6    18.18075    21.543  \n",
       "measurement_7    12.39300    15.419  \n",
       "measurement_8    19.70800    23.807  \n",
       "measurement_9    12.10400    15.412  \n",
       "measurement_10   16.89500    22.479  \n",
       "measurement_11   20.33600    25.640  \n",
       "measurement_12   12.72300    17.392  \n",
       "measurement_13   16.40000    22.713  \n",
       "measurement_14   17.05700    22.303  \n",
       "measurement_15   16.05750    21.626  \n",
       "measurement_16   17.58200    24.094  \n",
       "measurement_17  781.46175  1312.794  \n",
       "failure           0.00000     1.000  "
      ]
     },
     "execution_count": 5,
     "metadata": {},
     "output_type": "execute_result"
    }
   ],
   "source": [
    "df_train.select_dtypes('number').describe().T"
   ]
  },
  {
   "cell_type": "code",
   "execution_count": 6,
   "id": "0fa2f46e",
   "metadata": {},
   "outputs": [
    {
     "data": {
      "text/plain": [
       "product_code  A              5100.0\n",
       "              B              5250.0\n",
       "              C              5765.0\n",
       "              E              5343.0\n",
       "attribute_0   material_5     5250.0\n",
       "              material_7    16208.0\n",
       "attribute_1   material_5     5250.0\n",
       "              material_6     5343.0\n",
       "              material_8    10865.0\n",
       "dtype: float64"
      ]
     },
     "execution_count": 6,
     "metadata": {},
     "output_type": "execute_result"
    }
   ],
   "source": [
    "df_train.select_dtypes('object').apply(lambda x: x.value_counts()).unstack().dropna()"
   ]
  },
  {
   "cell_type": "markdown",
   "id": "b80d1407",
   "metadata": {},
   "source": [
    "# 전처리(Preprocessing)\n",
    "\n",
    "train_prob.csv를 불러 온다. 이를 basetable이리고 한다."
   ]
  },
  {
   "cell_type": "code",
   "execution_count": 7,
   "id": "76ca3fb1",
   "metadata": {},
   "outputs": [],
   "source": [
    "df_basetable = df_train.copy()"
   ]
  },
  {
   "cell_type": "markdown",
   "id": "11f35976",
   "metadata": {},
   "source": [
    "# 단계 1\n",
    "\n",
    "basetable에 measurement_3 ~17 각각의 행이 결측 여부인지를 나타내는 파생 변수를 만든다. \n",
    "\n",
    "파생 변수는 이진 형식이고, False는 미결측 True는 결측을 의미한다. \n",
    "\n",
    "파생 변수의 이름은 measurement 번호에 따라 isna_3 ~ 17로 한다. "
   ]
  },
  {
   "cell_type": "code",
   "execution_count": 8,
   "id": "9d8bd808",
   "metadata": {},
   "outputs": [
    {
     "data": {
      "text/plain": [
       "isna_3      312\n",
       "isna_4      442\n",
       "isna_5      565\n",
       "isna_6      640\n",
       "isna_7      766\n",
       "isna_8      853\n",
       "isna_9      989\n",
       "isna_10    1059\n",
       "isna_11    1180\n",
       "isna_12    1287\n",
       "isna_13    1395\n",
       "isna_14    1482\n",
       "isna_15    1603\n",
       "isna_16    1708\n",
       "isna_17    1818\n",
       "dtype: int64"
      ]
     },
     "execution_count": 8,
     "metadata": {},
     "output_type": "execute_result"
    }
   ],
   "source": [
    "cols = ['measurement_{}'.format(i) for i in range(3, 18)]\n",
    "na_cols = ['isna_{}'.format(i) for i in range(3, 18)]\n",
    "df_basetable[na_cols] = df_basetable[cols].isna()\n",
    "df_basetable[na_cols].sum()"
   ]
  },
  {
   "cell_type": "markdown",
   "id": "3173737d",
   "metadata": {},
   "source": [
    "## 단계 2\n",
    "\n",
    "이 과제를 맡은 데이터분석가 지희는 measurement_3~17의 결측치 처리 방안을 고민하던 중, \n",
    "\n",
    "개발부서에서 measurement_17은 product_code별로 failure를 예측하기 위해 \n",
    "\n",
    "measurement_3 ~ measurement_9을 다음과 같이 선형 조합하여 생성한 값이라는 정보를 받았다. \n",
    "\n",
    "$measurement_{17}=\\beta_{3}measurement_{3}+\\beta_{4}measurement_{4}+...+\\beta_{17}measurement_{9}$\n",
    "\n",
    "이는 즉,\n",
    "\n",
    "$measurement_{3}=\\beta'_{4}measurement_{4}+\\beta'_{5}measurement_{5}+...+\\beta'_{17}measurement_{17}$\n",
    "\n",
    "...\n",
    "\n",
    "$measurement_{9}=\\beta''_{3}measurement_{3}+\\beta''_{4}measurement_{4}+...+\\beta''_{17}measurement_{17}$\n",
    "\n",
    "와 같이 measurement_3 ~ measurement_9의 각 변수들도 measurement_17과 나머지 변수들의 선형 조합으로 표현 할 수 있음을 의미 한다. \n",
    "\n",
    "이러한 변수간에 선형적 관계를 이용하여 대상 변수를 번갈아 가면서 예측 모델을 만들어 최대한 원래 값에 가깝게 복원할 수 있다. \n",
    "\n",
    "이러한 반복적인 결측치 복원 방법을 사내 데이터분석 연구소에 문의 했더니 다음과 같은 가이드를 주었다. \n",
    "\n",
    "sklearn 모듈에 아직은 실험 단계이지만, 비슷한 경우에 문제 없이 사용했던 사례가 있어 의견을 드립니다. \n",
    "\n",
    "가이드의 내용을 참조하여 basetable의 measurement_3~9와 measurement_17 결측치를 복원하라.\n",
    "\n",
    "Hint] sklearn.experimental.enable_iterative_imputer\n",
    "\n",
    "Hint] sklearn.impute.IterativeImputer, random_state=123\n",
    "\n",
    "Hint] sklearn.linear_model.LinearRegression\n",
    "\n",
    "입력 변수] measurement_3 ~ 9, measurement_17 (입력 변수 순서에 유의)\n",
    "\n",
    "요건과 관련이 없고, 설정값을 제시하지 않은 매개 변수는 기본값을 사용한다.\n"
   ]
  },
  {
   "cell_type": "code",
   "execution_count": 9,
   "id": "a94de17c",
   "metadata": {},
   "outputs": [],
   "source": [
    "from sklearn.experimental import enable_iterative_imputer\n",
    "from sklearn.impute import IterativeImputer\n",
    "from sklearn.linear_model import LinearRegression\n",
    "\n",
    "X_imp = ['measurement_{}'.format(i) for i in range(3, 10)] + ['measurement_17']\n",
    "imp_iter = IterativeImputer(\n",
    "    estimator=LinearRegression(), # 선형 모델 사용\n",
    "    random_state=123\n",
    ")"
   ]
  },
  {
   "cell_type": "code",
   "execution_count": 10,
   "id": "073b7384",
   "metadata": {},
   "outputs": [],
   "source": [
    "df_basetable_bak = df_basetable.copy() # 실습용: 데이터프레임 백업"
   ]
  },
  {
   "cell_type": "code",
   "execution_count": 11,
   "id": "510c8b30",
   "metadata": {},
   "outputs": [],
   "source": [
    "# 방법1: groupby\n",
    "df_basetable = df_basetable_bak.copy() # 실습용: 데이터프레임 백업\n",
    "df_basetable[X_imp] = df_basetable.groupby('product_code').apply(\n",
    "    lambda x: pd.DataFrame(imp_iter.fit_transform(x[X_imp]), index=x.index, columns=X_imp)\n",
    ") # Apply에서 반환시 DataFrame 형태로 입력과 동일한 폼으로 반환"
   ]
  },
  {
   "cell_type": "code",
   "execution_count": 12,
   "id": "70770b7a",
   "metadata": {},
   "outputs": [],
   "source": [
    "# 방법2: 반복문\n",
    "df_basetable = df_basetable_bak.copy() # 실습용: 데이터프레임 백업\n",
    "for i in df_basetable['product_code'].unique(): # product_code 각각의 범주에 대한 반복\n",
    "    s_tmp = df_basetable['product_code'] == i # 현재 처리하는 product_code에 대한 boolean Index \n",
    "    df_basetable.loc[s_tmp, X_imp] = imp_iter.fit_transform(df_basetable.loc[s_tmp, X_imp])"
   ]
  },
  {
   "cell_type": "markdown",
   "id": "c95edba8",
   "metadata": {},
   "source": [
    "## 단계 3\n",
    "\n",
    "measurement_10~16까지의 결측치는 모두 product_code별 평균으로 대치한다.\n",
    "\n",
    "Hint] 전처리 단계에서 보간 결과를 확인해 보기 위한 각 변수의 평균과 분산.\n",
    "\n",
    "열의 이름의 숫자는 measurement_ 번호, 값은 소수점 3째 자리까지 반올림\n"
   ]
  },
  {
   "cell_type": "code",
   "execution_count": 13,
   "id": "0bea1389",
   "metadata": {},
   "outputs": [],
   "source": [
    "mean_cols = ['measurement_{}'.format(i) for i in range(10, 17)]\n",
    "df_basetable[mean_cols] = df_basetable.groupby('product_code')[mean_cols]\\\n",
    "            .transform(lambda x: x.fillna(x.mean())) # 동일한 형태로 반환이 되고 다른 Series의 사용이 필요없으니, transform"
   ]
  },
  {
   "cell_type": "code",
   "execution_count": 14,
   "id": "330a217a",
   "metadata": {},
   "outputs": [
    {
     "data": {
      "text/html": [
       "<div>\n",
       "<style scoped>\n",
       "    .dataframe tbody tr th:only-of-type {\n",
       "        vertical-align: middle;\n",
       "    }\n",
       "\n",
       "    .dataframe tbody tr th {\n",
       "        vertical-align: top;\n",
       "    }\n",
       "\n",
       "    .dataframe thead th {\n",
       "        text-align: right;\n",
       "    }\n",
       "</style>\n",
       "<table border=\"1\" class=\"dataframe\">\n",
       "  <thead>\n",
       "    <tr style=\"text-align: right;\">\n",
       "      <th></th>\n",
       "      <th>3</th>\n",
       "      <th>4</th>\n",
       "      <th>5</th>\n",
       "      <th>6</th>\n",
       "      <th>7</th>\n",
       "      <th>8</th>\n",
       "      <th>9</th>\n",
       "      <th>10</th>\n",
       "      <th>11</th>\n",
       "      <th>12</th>\n",
       "      <th>13</th>\n",
       "      <th>14</th>\n",
       "      <th>15</th>\n",
       "      <th>16</th>\n",
       "      <th>17</th>\n",
       "    </tr>\n",
       "  </thead>\n",
       "  <tbody>\n",
       "    <tr>\n",
       "      <td>mean</td>\n",
       "      <td>17.796</td>\n",
       "      <td>11.736</td>\n",
       "      <td>17.131</td>\n",
       "      <td>17.506</td>\n",
       "      <td>11.719</td>\n",
       "      <td>19.022</td>\n",
       "      <td>11.434</td>\n",
       "      <td>16.034</td>\n",
       "      <td>19.194</td>\n",
       "      <td>11.734</td>\n",
       "      <td>15.666</td>\n",
       "      <td>16.033</td>\n",
       "      <td>15.051</td>\n",
       "      <td>16.398</td>\n",
       "      <td>701.768</td>\n",
       "    </tr>\n",
       "    <tr>\n",
       "      <td>std</td>\n",
       "      <td>0.997</td>\n",
       "      <td>0.994</td>\n",
       "      <td>0.994</td>\n",
       "      <td>0.992</td>\n",
       "      <td>0.993</td>\n",
       "      <td>1.005</td>\n",
       "      <td>0.997</td>\n",
       "      <td>1.278</td>\n",
       "      <td>1.579</td>\n",
       "      <td>1.433</td>\n",
       "      <td>1.149</td>\n",
       "      <td>1.461</td>\n",
       "      <td>1.478</td>\n",
       "      <td>1.671</td>\n",
       "      <td>119.180</td>\n",
       "    </tr>\n",
       "  </tbody>\n",
       "</table>\n",
       "</div>"
      ],
      "text/plain": [
       "           3       4       5       6       7       8       9      10      11  \\\n",
       "mean  17.796  11.736  17.131  17.506  11.719  19.022  11.434  16.034  19.194   \n",
       "std    0.997   0.994   0.994   0.992   0.993   1.005   0.997   1.278   1.579   \n",
       "\n",
       "          12      13      14      15      16       17  \n",
       "mean  11.734  15.666  16.033  15.051  16.398  701.768  \n",
       "std    1.433   1.149   1.461   1.478   1.671  119.180  "
      ]
     },
     "execution_count": 14,
     "metadata": {},
     "output_type": "execute_result"
    }
   ],
   "source": [
    "# 결과 확인용\n",
    "df_basetable[['measurement_{}'.format(i) for i in range(3, 18)]].agg(['mean', 'std'])\\\n",
    "            .rename(columns=lambda x: x.split('_')[1])\\\n",
    "            .applymap(lambda x: round(x, 3))"
   ]
  },
  {
   "cell_type": "markdown",
   "id": "218dab47",
   "metadata": {},
   "source": [
    "# 문제1\n",
    "\n",
    "(basetable을 사용) measurement_3~16까지 결측 여부가 failure에 영향이 있는지를 파악하고, \n",
    "\n",
    "failure를 분류하는 데 도움이 될 만한 것은 예측 모델의 입력 변수로 사용하고자 한다. \n",
    "\n",
    "이를 위해 전처리 과정에서 뽑아낸 isna_3~16을 활용한다.\n",
    "\n",
    "n이 3부터 16까지, 다음의 검정을 수행한다. \n",
    "\n",
    "$H_0: P(failure=True|measurement_{n}=Missing)=P(failure=True)$\n",
    "\n",
    "$H_1: P(failure=True|measurement_{n}=Missing) \\neq P(failure=True)$\n",
    "\n",
    "모집단의 P(failure=True) = 0.2114\n"
   ]
  },
  {
   "cell_type": "code",
   "execution_count": 15,
   "id": "9ed64b12",
   "metadata": {},
   "outputs": [],
   "source": [
    "P_true = 0.2114"
   ]
  },
  {
   "cell_type": "markdown",
   "id": "91304a06",
   "metadata": {},
   "source": [
    "## 단계 1-1\n",
    "\n",
    "우선, measurement_3으로 위 검정을 시행해보자.\n",
    "\n",
    "$H_0: P(failure=True|isna_{n}=True)=P(failure=True)$\n",
    "\n",
    "$H_1: P(failure=True|isna_{n}=True) \\neq P(failure=True)$\n",
    "\n",
    "으로 바꿀 수 있다.\n",
    "\n",
    "P(failure=True|isna_{n}=True)은 표본수가 충분하여 중심극한정리에 의해 정규분포를 따르는 것은 분석가 간에 이견이 없다고 한다. \n",
    "\n",
    "위 검정의 p-value를 구하여 보고 힌트에 주어진 p-value와 비교하여 검정 방법에 문제가 없음을 확인하라.\n",
    "\n",
    " Hint: scipy.stats.norm 모듈을 활용\n",
    "\n",
    " Hint: p-value는 0.0037(소수점 다섯째 자리에서 반올림하여 넷째 자리까지 표시)\n"
   ]
  },
  {
   "cell_type": "code",
   "execution_count": 16,
   "id": "93b98c5b",
   "metadata": {},
   "outputs": [
    {
     "data": {
      "text/plain": [
       "(0.0036630709140241546, 0.0036630709140241546)"
      ]
     },
     "execution_count": 16,
     "metadata": {},
     "output_type": "execute_result"
    }
   ],
   "source": [
    "# 방법 1\n",
    "from scipy.stats import norm\n",
    "P_var = P_true * (1 - P_true)\n",
    "n_sample = df_basetable['isna_3'].sum()\n",
    "P_missing_true = df_basetable.loc[df_basetable['isna_3'], 'failure'].mean()\n",
    "P_missing_var = P_var / n_sample\n",
    "P_missing_std = P_missing_var ** 0.5\n",
    "P_var, n_sample, P_missing_var\n",
    "\n",
    "norm.cdf(P_missing_true, loc=P_true, scale=P_missing_std) * 2, norm.cdf(-abs((P_missing_true - P_true) / P_missing_std)) * 2"
   ]
  },
  {
   "cell_type": "code",
   "execution_count": 17,
   "id": "9cde8782",
   "metadata": {},
   "outputs": [
    {
     "data": {
      "text/plain": [
       "(-2.905807189028007, 0.0036630709140241546)"
      ]
     },
     "execution_count": 17,
     "metadata": {},
     "output_type": "execute_result"
    }
   ],
   "source": [
    "# 방법 2\n",
    "from statsmodels.stats.proportion import proportions_ztest\n",
    "\n",
    "proportions_ztest(\n",
    "    df_basetable.loc[df_basetable['isna_3'], 'failure'].sum(),\n",
    "    n_sample,\n",
    "    P_true,\n",
    "    'two-sided',\n",
    "    P_true\n",
    ")"
   ]
  },
  {
   "cell_type": "markdown",
   "id": "91c87c44",
   "metadata": {},
   "source": [
    "## 단계 1-2\n",
    "\n",
    "measuremenet_3을 포함하여 measurement_4 ~ 16까지 위 검정을 반복하고 \n",
    "\n",
    "귀무가설을 기각할 수 있는 경우의 p-value의 합을 A라고 한다. (유의 수준은 5%로 한다.)"
   ]
  },
  {
   "cell_type": "code",
   "execution_count": 18,
   "id": "f49aa12e",
   "metadata": {},
   "outputs": [
    {
     "name": "stdout",
     "output_type": "stream",
     "text": [
      "isna_3 0.0036630709140241546 o\n",
      "isna_4 0.17803686833140808 x\n",
      "isna_5 0.026325008335499278 o\n",
      "isna_6 0.793491357072205 x\n",
      "isna_7 0.37298091572329806 x\n",
      "isna_8 0.48514534123655306 x\n",
      "isna_9 0.589649524697301 x\n",
      "isna_10 0.44594047726157915 x\n",
      "isna_11 0.9175464043670771 x\n",
      "isna_12 0.5421744277936988 x\n",
      "isna_13 0.6507952588133231 x\n",
      "isna_14 0.49582912857498873 x\n",
      "isna_15 0.9938599942603648 x\n",
      "isna_16 0.6324265724265041 x\n"
     ]
    },
    {
     "data": {
      "text/plain": [
       "(['isna_3', 'isna_5'], 0.029988079249523434)"
      ]
     },
     "execution_count": 18,
     "metadata": {},
     "output_type": "execute_result"
    }
   ],
   "source": [
    "sel_na_cols = []\n",
    "A = 0\n",
    "for i in range(3, 17):\n",
    "    col = 'isna_{}'.format(i)\n",
    "    n_sample = df_basetable[col].sum()\n",
    "    P_missing_true = df_basetable.loc[df_basetable[col], 'failure'].mean()\n",
    "    P_missing_var = P_var / n_sample\n",
    "    P_missing_std = P_missing_var ** 0.5\n",
    "    pvalue = norm.cdf(-abs((P_missing_true - P_true) / P_missing_std)) * 2\n",
    "    print(col, pvalue , 'o' if pvalue < 0.05 else 'x')\n",
    "    if pvalue < 0.05:\n",
    "        sel_na_cols.append(col)\n",
    "        A += pvalue\n",
    "sel_na_cols, A"
   ]
  },
  {
   "cell_type": "markdown",
   "id": "df03a86a",
   "metadata": {},
   "source": [
    "## 단계 1-3\n",
    "\n",
    "검정 결과 귀무가설을 기각할 수 있는 경우는 총 두 건이다. \n",
    "\n",
    "해당 파생 변수를 measurement의 번호 순으로 na_1, na_2로 변경하여 prob1 데이터셋을 생성하라."
   ]
  },
  {
   "cell_type": "code",
   "execution_count": 19,
   "id": "207e8c39",
   "metadata": {},
   "outputs": [
    {
     "data": {
      "text/html": [
       "<div>\n",
       "<style scoped>\n",
       "    .dataframe tbody tr th:only-of-type {\n",
       "        vertical-align: middle;\n",
       "    }\n",
       "\n",
       "    .dataframe tbody tr th {\n",
       "        vertical-align: top;\n",
       "    }\n",
       "\n",
       "    .dataframe thead th {\n",
       "        text-align: right;\n",
       "    }\n",
       "</style>\n",
       "<table border=\"1\" class=\"dataframe\">\n",
       "  <thead>\n",
       "    <tr style=\"text-align: right;\">\n",
       "      <th></th>\n",
       "      <th>product_code</th>\n",
       "      <th>loading</th>\n",
       "      <th>attribute_0</th>\n",
       "      <th>attribute_1</th>\n",
       "      <th>attribute_2</th>\n",
       "      <th>attribute_3</th>\n",
       "      <th>measurement_0</th>\n",
       "      <th>measurement_1</th>\n",
       "      <th>measurement_2</th>\n",
       "      <th>measurement_3</th>\n",
       "      <th>...</th>\n",
       "      <th>isna_10</th>\n",
       "      <th>isna_11</th>\n",
       "      <th>isna_12</th>\n",
       "      <th>isna_13</th>\n",
       "      <th>isna_14</th>\n",
       "      <th>isna_15</th>\n",
       "      <th>isna_16</th>\n",
       "      <th>isna_17</th>\n",
       "      <th>na_1</th>\n",
       "      <th>na_2</th>\n",
       "    </tr>\n",
       "    <tr>\n",
       "      <th>id</th>\n",
       "      <th></th>\n",
       "      <th></th>\n",
       "      <th></th>\n",
       "      <th></th>\n",
       "      <th></th>\n",
       "      <th></th>\n",
       "      <th></th>\n",
       "      <th></th>\n",
       "      <th></th>\n",
       "      <th></th>\n",
       "      <th></th>\n",
       "      <th></th>\n",
       "      <th></th>\n",
       "      <th></th>\n",
       "      <th></th>\n",
       "      <th></th>\n",
       "      <th></th>\n",
       "      <th></th>\n",
       "      <th></th>\n",
       "      <th></th>\n",
       "      <th></th>\n",
       "    </tr>\n",
       "  </thead>\n",
       "  <tbody>\n",
       "    <tr>\n",
       "      <td>0</td>\n",
       "      <td>A</td>\n",
       "      <td>80.10</td>\n",
       "      <td>material_7</td>\n",
       "      <td>material_8</td>\n",
       "      <td>9</td>\n",
       "      <td>5</td>\n",
       "      <td>7</td>\n",
       "      <td>8</td>\n",
       "      <td>4</td>\n",
       "      <td>18.040</td>\n",
       "      <td>...</td>\n",
       "      <td>False</td>\n",
       "      <td>False</td>\n",
       "      <td>False</td>\n",
       "      <td>False</td>\n",
       "      <td>True</td>\n",
       "      <td>False</td>\n",
       "      <td>False</td>\n",
       "      <td>False</td>\n",
       "      <td>False</td>\n",
       "      <td>False</td>\n",
       "    </tr>\n",
       "    <tr>\n",
       "      <td>1</td>\n",
       "      <td>A</td>\n",
       "      <td>84.89</td>\n",
       "      <td>material_7</td>\n",
       "      <td>material_8</td>\n",
       "      <td>9</td>\n",
       "      <td>5</td>\n",
       "      <td>14</td>\n",
       "      <td>3</td>\n",
       "      <td>3</td>\n",
       "      <td>18.213</td>\n",
       "      <td>...</td>\n",
       "      <td>False</td>\n",
       "      <td>False</td>\n",
       "      <td>False</td>\n",
       "      <td>False</td>\n",
       "      <td>False</td>\n",
       "      <td>False</td>\n",
       "      <td>False</td>\n",
       "      <td>False</td>\n",
       "      <td>False</td>\n",
       "      <td>False</td>\n",
       "    </tr>\n",
       "    <tr>\n",
       "      <td>2</td>\n",
       "      <td>A</td>\n",
       "      <td>82.43</td>\n",
       "      <td>material_7</td>\n",
       "      <td>material_8</td>\n",
       "      <td>9</td>\n",
       "      <td>5</td>\n",
       "      <td>12</td>\n",
       "      <td>1</td>\n",
       "      <td>5</td>\n",
       "      <td>18.057</td>\n",
       "      <td>...</td>\n",
       "      <td>False</td>\n",
       "      <td>True</td>\n",
       "      <td>False</td>\n",
       "      <td>False</td>\n",
       "      <td>False</td>\n",
       "      <td>False</td>\n",
       "      <td>False</td>\n",
       "      <td>False</td>\n",
       "      <td>False</td>\n",
       "      <td>False</td>\n",
       "    </tr>\n",
       "    <tr>\n",
       "      <td>3</td>\n",
       "      <td>A</td>\n",
       "      <td>101.07</td>\n",
       "      <td>material_7</td>\n",
       "      <td>material_8</td>\n",
       "      <td>9</td>\n",
       "      <td>5</td>\n",
       "      <td>13</td>\n",
       "      <td>2</td>\n",
       "      <td>6</td>\n",
       "      <td>17.295</td>\n",
       "      <td>...</td>\n",
       "      <td>False</td>\n",
       "      <td>False</td>\n",
       "      <td>False</td>\n",
       "      <td>False</td>\n",
       "      <td>False</td>\n",
       "      <td>False</td>\n",
       "      <td>False</td>\n",
       "      <td>False</td>\n",
       "      <td>False</td>\n",
       "      <td>False</td>\n",
       "    </tr>\n",
       "    <tr>\n",
       "      <td>4</td>\n",
       "      <td>A</td>\n",
       "      <td>188.06</td>\n",
       "      <td>material_7</td>\n",
       "      <td>material_8</td>\n",
       "      <td>9</td>\n",
       "      <td>5</td>\n",
       "      <td>9</td>\n",
       "      <td>2</td>\n",
       "      <td>8</td>\n",
       "      <td>19.346</td>\n",
       "      <td>...</td>\n",
       "      <td>False</td>\n",
       "      <td>False</td>\n",
       "      <td>False</td>\n",
       "      <td>False</td>\n",
       "      <td>False</td>\n",
       "      <td>False</td>\n",
       "      <td>False</td>\n",
       "      <td>False</td>\n",
       "      <td>False</td>\n",
       "      <td>False</td>\n",
       "    </tr>\n",
       "  </tbody>\n",
       "</table>\n",
       "<p>5 rows × 42 columns</p>\n",
       "</div>"
      ],
      "text/plain": [
       "   product_code  loading attribute_0 attribute_1  attribute_2  attribute_3  \\\n",
       "id                                                                           \n",
       "0             A    80.10  material_7  material_8            9            5   \n",
       "1             A    84.89  material_7  material_8            9            5   \n",
       "2             A    82.43  material_7  material_8            9            5   \n",
       "3             A   101.07  material_7  material_8            9            5   \n",
       "4             A   188.06  material_7  material_8            9            5   \n",
       "\n",
       "    measurement_0  measurement_1  measurement_2  measurement_3  ...  isna_10  \\\n",
       "id                                                              ...            \n",
       "0               7              8              4         18.040  ...    False   \n",
       "1              14              3              3         18.213  ...    False   \n",
       "2              12              1              5         18.057  ...    False   \n",
       "3              13              2              6         17.295  ...    False   \n",
       "4               9              2              8         19.346  ...    False   \n",
       "\n",
       "    isna_11  isna_12  isna_13  isna_14  isna_15  isna_16  isna_17   na_1  \\\n",
       "id                                                                         \n",
       "0     False    False    False     True    False    False    False  False   \n",
       "1     False    False    False    False    False    False    False  False   \n",
       "2      True    False    False    False    False    False    False  False   \n",
       "3     False    False    False    False    False    False    False  False   \n",
       "4     False    False    False    False    False    False    False  False   \n",
       "\n",
       "     na_2  \n",
       "id         \n",
       "0   False  \n",
       "1   False  \n",
       "2   False  \n",
       "3   False  \n",
       "4   False  \n",
       "\n",
       "[5 rows x 42 columns]"
      ]
     },
     "execution_count": 19,
     "metadata": {},
     "output_type": "execute_result"
    }
   ],
   "source": [
    "df_prob1 = df_basetable.assign(\n",
    "    na_1 = lambda x: x['isna_3'],\n",
    "    na_2 = lambda x: x['isna_5']\n",
    ")\n",
    "df_prob1.head()"
   ]
  },
  {
   "cell_type": "markdown",
   "id": "c33bbf8c",
   "metadata": {},
   "source": [
    "A의 값을 소수점 넷째 자리에서 반올림하여 셋째 자리까지 출력하시오. \n",
    "\n",
    "**0.030**"
   ]
  },
  {
   "cell_type": "code",
   "execution_count": null,
   "id": "051858dd",
   "metadata": {},
   "outputs": [],
   "source": []
  },
  {
   "cell_type": "markdown",
   "id": "569d2d0f",
   "metadata": {},
   "source": [
    "# 문제2\n",
    "\n",
    "첫째는 스프링 개발 업체들은 실험이 제품 별로 공정하게 진행이 됐는지를 의문을 가지고 있다.\n",
    "\n",
    "product_code에 따라 개발 업체가 다르다. \n",
    "\n",
    "product_code에 대해서 스프링에 가한 부하(loading)를 동일하게 했는지 조사하라.\n",
    "\n",
    "둘째는, attribute_0와 attribute_1은 스프링을 구성하는 주요 소재이다. \n",
    "\n",
    "failure와는 관계가 없음이 이전에 검증되었다. \n",
    "\n",
    "하지만, 이에 대한 재확인 요청을 받아 attribute_0와 attribute_1은 failure와 상관없음을 확인한다.\n",
    "\n",
    "이를 위해 다음 단계를 수행하라.\n"
   ]
  },
  {
   "cell_type": "code",
   "execution_count": null,
   "id": "8bb314a6",
   "metadata": {},
   "outputs": [],
   "source": []
  },
  {
   "cell_type": "markdown",
   "id": "cfc21275",
   "metadata": {},
   "source": [
    "## 단계 2-1\n",
    "\n",
    "prob1에서 입력 변수 loading에 결측이 없는 행들을 뽑아 prob2 데이터프레임을 만든다.\n",
    "\n",
    "Hint] prob2의 데이터 수는 21,257 이다.\n"
   ]
  },
  {
   "cell_type": "code",
   "execution_count": 20,
   "id": "d2ef461d",
   "metadata": {},
   "outputs": [
    {
     "data": {
      "text/plain": [
       "(21257, 42)"
      ]
     },
     "execution_count": 20,
     "metadata": {},
     "output_type": "execute_result"
    }
   ],
   "source": [
    "df_prob2 = df_prob1.loc[df_prob1['loading'].notna()].copy()\n",
    "df_prob2.shape"
   ]
  },
  {
   "cell_type": "markdown",
   "id": "82ebf527",
   "metadata": {},
   "source": [
    "## 단계 2-2\n",
    "\n",
    "prob_2에 loading의 각 행들에 자연 로그 함수를 적용하여 파생 변수 loading_log를 만든다.\n",
    "\n",
    "Hint] np.log\n"
   ]
  },
  {
   "cell_type": "code",
   "execution_count": 21,
   "id": "fb0152db",
   "metadata": {},
   "outputs": [],
   "source": [
    "df_prob2['loading_log'] = np.log(df_prob2['loading'])"
   ]
  },
  {
   "cell_type": "code",
   "execution_count": 22,
   "id": "3caa3cde",
   "metadata": {},
   "outputs": [
    {
     "data": {
      "image/png": "[encoded data removed]",
      "text/plain": [
       "<Figure size 1400x300 with 2 Axes>"
      ]
     },
     "metadata": {},
     "output_type": "display_data"
    }
   ],
   "source": [
    "# 로그 변환이 어떤 효과를 보였는지, 보여주기 위한 참고용 코드입니다.\n",
    "# 좌측으로 치우친 loading 변수가 log 변환을 통해 좌우 대칭형으로 변환되었음을 확인할 수 있습니다.\n",
    "\n",
    "fig, axes = plt.subplots(1, 2, figsize=(14, 3) )\n",
    "sns.histplot(data=df_prob2, x='loading', ax=axes[0])\n",
    "sns.histplot(data=df_prob2, x='loading_log', ax=axes[1])\n",
    "plt.show()"
   ]
  },
  {
   "cell_type": "code",
   "execution_count": 23,
   "id": "1f852804",
   "metadata": {},
   "outputs": [
    {
     "data": {
      "text/plain": [
       "(KstestResult(statistic=0.0600599455247498, pvalue=4.255982724723072e-67),\n",
       " KstestResult(statistic=0.0042631101250387715, pvalue=0.832889492249071))"
      ]
     },
     "execution_count": 23,
     "metadata": {},
     "output_type": "execute_result"
    }
   ],
   "source": [
    "# 정규 분포와 얼마나 가까워졌는지 확인해보자.\n",
    "from scipy.stats import kstest\n",
    "from scipy.stats import norm, zscore\n",
    "kstest(zscore(df_prob2['loading']), norm.cdf), kstest(zscore(df_prob2['loading_log']), norm.cdf)"
   ]
  },
  {
   "cell_type": "markdown",
   "id": "ea2245b2",
   "metadata": {},
   "source": [
    "## 단계 2-3\n",
    "\n",
    "loading_log가 product_code에 대해 정규성을 지니고 있는지 확인하고자 한다.\n",
    "\n",
    "이를 위해 Jarque-Bera로 검정하고 결과의 p-value가 0.05가 넘는 product_code의 수를 B라고 하자.\n",
    "\n",
    "Hint] scipy.stats.jarque_bera\n"
   ]
  },
  {
   "cell_type": "code",
   "execution_count": 24,
   "id": "60bd8734",
   "metadata": {},
   "outputs": [
    {
     "data": {
      "text/html": [
       "<div>\n",
       "<style scoped>\n",
       "    .dataframe tbody tr th:only-of-type {\n",
       "        vertical-align: middle;\n",
       "    }\n",
       "\n",
       "    .dataframe tbody tr th {\n",
       "        vertical-align: top;\n",
       "    }\n",
       "\n",
       "    .dataframe thead th {\n",
       "        text-align: right;\n",
       "    }\n",
       "</style>\n",
       "<table border=\"1\" class=\"dataframe\">\n",
       "  <thead>\n",
       "    <tr style=\"text-align: right;\">\n",
       "      <th></th>\n",
       "      <th>stat</th>\n",
       "      <th>pvalue</th>\n",
       "    </tr>\n",
       "    <tr>\n",
       "      <th>product_code</th>\n",
       "      <th></th>\n",
       "      <th></th>\n",
       "    </tr>\n",
       "  </thead>\n",
       "  <tbody>\n",
       "    <tr>\n",
       "      <td>A</td>\n",
       "      <td>1.467731</td>\n",
       "      <td>0.480050</td>\n",
       "    </tr>\n",
       "    <tr>\n",
       "      <td>B</td>\n",
       "      <td>0.616884</td>\n",
       "      <td>0.734591</td>\n",
       "    </tr>\n",
       "    <tr>\n",
       "      <td>E</td>\n",
       "      <td>0.048395</td>\n",
       "      <td>0.976093</td>\n",
       "    </tr>\n",
       "  </tbody>\n",
       "</table>\n",
       "</div>"
      ],
      "text/plain": [
       "                  stat    pvalue\n",
       "product_code                    \n",
       "A             1.467731  0.480050\n",
       "B             0.616884  0.734591\n",
       "E             0.048395  0.976093"
      ]
     },
     "execution_count": 24,
     "metadata": {},
     "output_type": "execute_result"
    }
   ],
   "source": [
    "from scipy.stats import jarque_bera\n",
    "df_prob2.groupby('product_code')['loading_log']\\\n",
    "        .apply(lambda x: pd.Series(jarque_bera(x), index=['stat', 'pvalue']))\\\n",
    "        .unstack()\\\n",
    "        .query('pvalue > 0.05')"
   ]
  },
  {
   "cell_type": "code",
   "execution_count": 25,
   "id": "a5134982",
   "metadata": {},
   "outputs": [],
   "source": [
    "B = 3"
   ]
  },
  {
   "cell_type": "markdown",
   "id": "dce7e5cf",
   "metadata": {},
   "source": [
    "## 단계 2-4\n",
    "\n",
    "loading_log 변수를 product_code로 구분했을 때, \n",
    "\n",
    "등분산성을 보이는지, Bartlett 검정을 수행하라. \n",
    "\n",
    "검정 결과에서 p-value를 C라고 한다.\n",
    "\n",
    "Hint] scipy.stats.bartlett\n"
   ]
  },
  {
   "cell_type": "code",
   "execution_count": 26,
   "id": "ec4d8245",
   "metadata": {},
   "outputs": [],
   "source": [
    "from scipy.stats import bartlett\n",
    "bartlett?"
   ]
  },
  {
   "cell_type": "code",
   "execution_count": 27,
   "id": "c177ef5c",
   "metadata": {},
   "outputs": [
    {
     "data": {
      "text/plain": [
       "(BartlettResult(statistic=1.928667047072185, pvalue=0.5873433093297675),\n",
       " 0.5873433093297675)"
      ]
     },
     "execution_count": 27,
     "metadata": {},
     "output_type": "execute_result"
    }
   ],
   "source": [
    "result_bar = bartlett(*df_prob2.groupby('product_code')['loading_log'].agg(list).tolist())\n",
    "C = result_bar.pvalue\n",
    "result_bar, C"
   ]
  },
  {
   "cell_type": "code",
   "execution_count": 28,
   "id": "8146be72",
   "metadata": {},
   "outputs": [
    {
     "data": {
      "text/plain": [
       "BartlettResult(statistic=1.928667047072185, pvalue=0.5873433093297675)"
      ]
     },
     "execution_count": 28,
     "metadata": {},
     "output_type": "execute_result"
    }
   ],
   "source": [
    "#df_prob2['product_code'].unique()\n",
    "bartlett(\n",
    "    df_prob2.loc[df_prob2['product_code'] == 'A', 'loading_log'],\n",
    "    df_prob2.loc[df_prob2['product_code'] == 'B', 'loading_log'],\n",
    "    df_prob2.loc[df_prob2['product_code'] == 'C', 'loading_log'],\n",
    "    df_prob2.loc[df_prob2['product_code'] == 'E', 'loading_log']\n",
    ")"
   ]
  },
  {
   "cell_type": "markdown",
   "id": "b058c6b2",
   "metadata": {},
   "source": [
    "## 단계 2-5\n",
    "\n",
    "product_code에 대한 분산분석(ANOVA)을 통해서 loading_log 평균에 차이가 있는지 검정한다.\n",
    "\n",
    "그 결과 중 p-value를 D라고 한다.\n",
    "\n",
    "Hint] scipy.stats.f_oneway\n"
   ]
  },
  {
   "cell_type": "code",
   "execution_count": 29,
   "id": "ec47f9e0",
   "metadata": {},
   "outputs": [
    {
     "data": {
      "text/plain": [
       "(F_onewayResult(statistic=0.37177284134760413, pvalue=0.7733782072320899),\n",
       " 0.7733782072320899)"
      ]
     },
     "execution_count": 29,
     "metadata": {},
     "output_type": "execute_result"
    }
   ],
   "source": [
    "from scipy.stats import f_oneway\n",
    "result_an = f_oneway(*df_prob2.groupby('product_code')['loading_log'].agg(list).tolist())\n",
    "D = result_an.pvalue\n",
    "result_an, D"
   ]
  },
  {
   "cell_type": "markdown",
   "id": "b3c23d2c",
   "metadata": {},
   "source": [
    "## 단계 2-6\n",
    "\n",
    "Chi-square 동질성 검정을 통해 attribute_0, attribute_1의 조합이 failure와 연관이 있는지 조사하라. \n",
    "\n",
    "(유의 수준 1%) 연관이 있다면 E값은 1 없으면 0으로 한다.\n",
    "\n",
    " Hint] scipy.stats.chi2_contingency, correction=False\n"
   ]
  },
  {
   "cell_type": "code",
   "execution_count": 30,
   "id": "8b3530be",
   "metadata": {},
   "outputs": [
    {
     "data": {
      "text/plain": [
       "id\n",
       "0        material_7material_8\n",
       "1        material_7material_8\n",
       "2        material_7material_8\n",
       "3        material_7material_8\n",
       "4        material_7material_8\n",
       "                 ...         \n",
       "26565    material_7material_6\n",
       "26566    material_7material_6\n",
       "26567    material_7material_6\n",
       "26568    material_7material_6\n",
       "26569    material_7material_6\n",
       "Length: 21257, dtype: object"
      ]
     },
     "execution_count": 30,
     "metadata": {},
     "output_type": "execute_result"
    }
   ],
   "source": [
    "df_prob2[['attribute_0', 'attribute_1']].apply(lambda x: x.str.cat(), axis=1)"
   ]
  },
  {
   "cell_type": "code",
   "execution_count": 31,
   "id": "f3063144",
   "metadata": {},
   "outputs": [
    {
     "data": {
      "text/plain": [
       "((7.0400463075335615,\n",
       "  0.029598749837407304,\n",
       "  2,\n",
       "  array([[4106.03584702, 1102.96415298],\n",
       "         [4162.79042198, 1118.20957802],\n",
       "         [8487.17373101, 2279.82626899]])),\n",
       " 0)"
      ]
     },
     "execution_count": 31,
     "metadata": {},
     "output_type": "execute_result"
    }
   ],
   "source": [
    "from scipy.stats import chi2_contingency\n",
    "result_chi2 = chi2_contingency(\n",
    "     pd.crosstab(index=df_prob2[['attribute_0', 'attribute_1']].apply(lambda x: x.str.cat(), axis=1), \n",
    "                 columns=df_prob2['failure']),\n",
    "     correction=False\n",
    ")\n",
    "E = 1 if result_chi2[1] < 0.01 else 0\n",
    "result_chi2, E"
   ]
  },
  {
   "cell_type": "code",
   "execution_count": 32,
   "id": "75ca2bae",
   "metadata": {},
   "outputs": [
    {
     "data": {
      "text/plain": [
       "4.360721516561858"
      ]
     },
     "execution_count": 32,
     "metadata": {},
     "output_type": "execute_result"
    }
   ],
   "source": [
    "B + C + D + E"
   ]
  },
  {
   "cell_type": "markdown",
   "id": "af42805f",
   "metadata": {},
   "source": [
    "B + C + D + E의 값을 소수점 셋째 자리에서 반올림하여 둘째 자리까지 출력하시오.\n",
    "\n",
    "**4.36**"
   ]
  },
  {
   "cell_type": "markdown",
   "id": "e3fe1afc",
   "metadata": {},
   "source": [
    "# 문제3\n",
    "\n",
    "로지스틱 회귀모델로 수치형 변수measurement_0 ~ 17, \n",
    "\n",
    "loading과 이진형인 na_1, na_2 중에서 최적의 성능을 보이는 입력 변수들을 찾고자 한다.\n"
   ]
  },
  {
   "cell_type": "code",
   "execution_count": null,
   "id": "17a63c49",
   "metadata": {},
   "outputs": [],
   "source": []
  },
  {
   "cell_type": "markdown",
   "id": "a1ec19e2",
   "metadata": {},
   "source": [
    "## 단계 3-1\n",
    "\n",
    "prob1을 복사하여 prob3을 만든다. loading의 결측치는 loading의 평균으로 대치한다.  "
   ]
  },
  {
   "cell_type": "code",
   "execution_count": 33,
   "id": "74e376a6",
   "metadata": {},
   "outputs": [],
   "source": [
    "df_prob3 = df_prob1.copy()"
   ]
  },
  {
   "cell_type": "code",
   "execution_count": 44,
   "id": "26e8276b",
   "metadata": {},
   "outputs": [
    {
     "data": {
      "text/plain": [
       "0"
      ]
     },
     "execution_count": 44,
     "metadata": {},
     "output_type": "execute_result"
    }
   ],
   "source": [
    "df_prob3['loading'] = df_prob3['loading'].fillna(df_prob3['loading'].mean())\n",
    "df_prob3['loading'].isna().sum()"
   ]
  },
  {
   "cell_type": "markdown",
   "id": "61eb5594",
   "metadata": {},
   "source": [
    "## 단계 3-2: \n",
    "    \n",
    "prob3를 80%는 학습데이터 prob3_train으로 20%는 테스트데이터 prob3_test로 나눈다. \n",
    "\n",
    "prob3_train의 failure가 1인 비율과 prob3_test의 failure가 1의 비율을 동일하게 한다.\n",
    "\n",
    "\n",
    "요건: sklearn.model_selection.train_test_split, random_state=123, \n",
    "      train과 test의 failure의 비율은 stratify 매개 변수를 이용하여 맞춘다.\n"
   ]
  },
  {
   "cell_type": "code",
   "execution_count": 45,
   "id": "ac987b08",
   "metadata": {},
   "outputs": [
    {
     "data": {
      "text/plain": [
       "((17166, 42), (4292, 42))"
      ]
     },
     "execution_count": 45,
     "metadata": {},
     "output_type": "execute_result"
    }
   ],
   "source": [
    "from sklearn.model_selection import train_test_split\n",
    "df_prob3_train, df_prob3_test = train_test_split(df_prob3, train_size=0.8, random_state=123, stratify=df_prob3['failure'])\n",
    "df_prob3_train = df_prob3_train.copy()\n",
    "df_prob3_test = df_prob3_test.copy()\n",
    "df_prob3_train.shape, df_prob3_test.shape"
   ]
  },
  {
   "cell_type": "markdown",
   "id": "e7716c3a",
   "metadata": {},
   "source": [
    "## 단계 3-3\n",
    "\n",
    "prob3_train의 수치형 입력 변수 loading, measurement_0 ~ 17을 표준화한다. \n",
    "\n",
    "prob3_train의 표준화 설정으로 prob3_test의 loading, measurement_0 ~ 17에도 적용한다. \n",
    "\n",
    "표준화 처리한 prob3_train과 prob3_test는 문제4와 문제 5에서 사용한다.\n",
    "\n",
    "Hint] sklearn.preprocessing.StandardScaler\n"
   ]
  },
  {
   "cell_type": "code",
   "execution_count": 46,
   "id": "bf17f958",
   "metadata": {},
   "outputs": [],
   "source": [
    "from sklearn.preprocessing import StandardScaler\n",
    "\n",
    "std_scaler = StandardScaler()\n",
    "cols_std = ['loading'] + ['measurement_{}'.format(i) for i in range(18)]\n",
    "df_prob3_train[cols_std] = std_scaler.fit_transform(df_prob3_train[cols_std])\n",
    "df_prob3_test[cols_std] = std_scaler.transform(df_prob3_test[cols_std])"
   ]
  },
  {
   "cell_type": "markdown",
   "id": "b20b6ef8",
   "metadata": {},
   "source": [
    "## 단계 3-4\n",
    "    \n",
    "로지스틱 회귀모델을 사용하여 loading, measurement_0~17과 na_1, na_2를 입력 변수로 하여 prob3_train을 학습한다. \n",
    "\n",
    "로지스틱 회귀모델을 prob3_test로 성능을 측정한 값을 A라고 한다.\n",
    "\n",
    "입력 변수: loading, measurement_0~17, na_1, na_2\n",
    "\n",
    "대상 변수: failure\n",
    "\n",
    "성능 지표: AUC(area under of ROC curve)\n",
    "\n",
    "Hint] sklearn.linear_model.LogisticRegression, solver='lbfgs'\n",
    "\n",
    "Hint] sklearn.metrics.roc_auc_score\n"
   ]
  },
  {
   "cell_type": "code",
   "execution_count": 52,
   "id": "fb86e3fd",
   "metadata": {},
   "outputs": [
    {
     "data": {
      "text/plain": [
       "0.5952982435574312"
      ]
     },
     "execution_count": 52,
     "metadata": {},
     "output_type": "execute_result"
    }
   ],
   "source": [
    "from sklearn.linear_model import LogisticRegression\n",
    "from sklearn.metrics import roc_auc_score\n",
    "X_prob3 = cols_std + ['na_1', 'na_2']\n",
    "clf_lr = LogisticRegression(solver='lbfgs')\n",
    "clf_lr.fit(df_prob3_train[X_prob3], df_prob3_train['failure'])\n",
    "roc_auc_score(df_prob3_train['failure'], clf_lr.predict_proba(df_prob3_train[X_prob3])[:, 1])"
   ]
  },
  {
   "cell_type": "code",
   "execution_count": 53,
   "id": "b2e3bcb9",
   "metadata": {},
   "outputs": [
    {
     "data": {
      "text/plain": [
       "0.5792951262053387"
      ]
     },
     "execution_count": 53,
     "metadata": {},
     "output_type": "execute_result"
    }
   ],
   "source": [
    "A = roc_auc_score(df_prob3_test['failure'], clf_lr.predict_proba(df_prob3_test[X_prob3])[:, 1])\n",
    "A"
   ]
  },
  {
   "cell_type": "markdown",
   "id": "7cba372a",
   "metadata": {},
   "source": [
    "## 단계 3-5\n",
    "\n",
    "loading, measurement_0 ~ 17, na_1, na_2를 후보 입력 변수로 한다. \n",
    "\n",
    "전진 선택법을 사용하여 이 후보 입력 변수 중에서 최적의 성능을 보이는 입력 변수의 조합을 찾는다. \n",
    "\n",
    "전진 선택법의 선택 기준은 prob3_train을 대상으로 5겹 층화교차검증(5-Fold stratified cross validation)을 하고 \n",
    "\n",
    "겹외(OOF, Out-Of Fold) 성능의 평균값으로 한다. 전진 선택 과정에서 선택했던 변수를 제외하지 않는다. \n",
    "\n",
    "입력 변수: 본 단계 요건 참고\n",
    "\n",
    "대상 변수: failure \n",
    "\n",
    "성능 지표: AUC(area under of ROC curve)\n",
    "\n",
    "Hint] mlxtend.feature_selection.SequentialFeatureSelector\n",
    "\n",
    "sklearn.linear_model.LogisticRegression, solver='lbfgs'\n",
    "\n",
    "sklearn.metrics.roc_auc_score\n",
    "\n",
    "sklearn.model_selection.StratifiedKFold, random_state=123, shuffle=True\n"
   ]
  },
  {
   "cell_type": "code",
   "execution_count": 56,
   "id": "9713233f",
   "metadata": {},
   "outputs": [
    {
     "data": {
      "text/plain": [
       "SequentialFeatureSelector(clone_estimator=True,\n",
       "                          cv=StratifiedKFold(n_splits=5, random_state=123, shuffle=True),\n",
       "                          estimator=LogisticRegression(C=1.0, class_weight=None,\n",
       "                                                       dual=False,\n",
       "                                                       fit_intercept=True,\n",
       "                                                       intercept_scaling=1,\n",
       "                                                       l1_ratio=None,\n",
       "                                                       max_iter=100,\n",
       "                                                       multi_class='warn',\n",
       "                                                       n_jobs=None,\n",
       "                                                       penalty='l2',\n",
       "                                                       random_state=None,\n",
       "                                                       solver='lbfgs',\n",
       "                                                       tol=0.0001, verbose=0,\n",
       "                                                       warm_start=False),\n",
       "                          floating=False, forward=True, k_features='best',\n",
       "                          n_jobs=1, pre_dispatch='2*n_jobs', scoring='roc_auc',\n",
       "                          verbose=0)"
      ]
     },
     "execution_count": 56,
     "metadata": {},
     "output_type": "execute_result"
    }
   ],
   "source": [
    "from mlxtend.feature_selection import SequentialFeatureSelector\n",
    "from sklearn.model_selection import StratifiedKFold\n",
    "\n",
    "\n",
    "sfs = SequentialFeatureSelector(\n",
    "    estimator = LogisticRegression(solver='lbfgs'),\n",
    "    k_features = 'best', # 최적의 성능을 보이는 입력 변수의 조합\n",
    "    forward=True, # 전진 선택법, \n",
    "    floating=False, # 전진 선택 과정에서 선택했던 변수를 제외하지 않는다\n",
    "    scoring='roc_auc', # scoring\n",
    "    cv=StratifiedKFold(5, random_state=123, shuffle=True), # 5겹 층화교차검증(5-Fold stratified cross validation)\n",
    ")\n",
    "sfs.fit(df_prob3_train[X_prob3], df_prob3_train['failure'])"
   ]
  },
  {
   "cell_type": "code",
   "execution_count": 58,
   "id": "a2710890",
   "metadata": {},
   "outputs": [
    {
     "data": {
      "text/plain": [
       "('loading',\n",
       " 'measurement_1',\n",
       " 'measurement_4',\n",
       " 'measurement_14',\n",
       " 'measurement_17',\n",
       " 'na_1')"
      ]
     },
     "execution_count": 58,
     "metadata": {},
     "output_type": "execute_result"
    }
   ],
   "source": [
    "sfs.k_feature_names_"
   ]
  },
  {
   "cell_type": "markdown",
   "id": "2e7c6893",
   "metadata": {},
   "source": [
    "## 단계 3-6\n",
    "\n",
    "단계 3-5에서 찾은 최적의 입력 변수 조합으로 로지스틱 회귀모델을 사용하여 prob3_train을 학습하고 \n",
    "\n",
    "prob3_test로 성능을 측정한 값을 B라고 한다.\n",
    "\n",
    "입력 변수: 3-5단계에서 도출한 최적의 입력 변수 조합\n",
    "\n",
    "대상 변수: failure\n",
    "\n",
    "성능 지표: AUC(area under of ROC curve)\n",
    "\n",
    "Hint] sklearn.linear_model.LogisticRegression, solver='lbfgs'\n",
    "\n",
    "Hint] sklearn.metrics.roc_auc_score\n"
   ]
  },
  {
   "cell_type": "code",
   "execution_count": 64,
   "id": "8d96e152",
   "metadata": {},
   "outputs": [
    {
     "data": {
      "text/plain": [
       "0.5838326230092876"
      ]
     },
     "execution_count": 64,
     "metadata": {},
     "output_type": "execute_result"
    }
   ],
   "source": [
    "X_prob3_best = list(sfs.k_feature_names_)\n",
    "clf_lr = LogisticRegression(solver='lbfgs')\n",
    "clf_lr.fit(df_prob3_train[X_prob3_best], df_prob3_train['failure'])\n",
    "B = roc_auc_score(df_prob3_test['failure'], clf_lr.predict_proba(df_prob3_test[X_prob3_best])[:, 1])\n",
    "B"
   ]
  },
  {
   "cell_type": "code",
   "execution_count": 65,
   "id": "eb39d604",
   "metadata": {},
   "outputs": [
    {
     "data": {
      "text/plain": [
       "-0.004537496803948882"
      ]
     },
     "execution_count": 65,
     "metadata": {},
     "output_type": "execute_result"
    }
   ],
   "source": [
    "A - B"
   ]
  },
  {
   "cell_type": "markdown",
   "id": "fac40eec",
   "metadata": {},
   "source": [
    "A-B값을 소수점 넷째 자리에서 반올림하여 셋째 자리까지 출력하시오\n",
    "\n",
    "**-0.005**"
   ]
  },
  {
   "cell_type": "code",
   "execution_count": 70,
   "id": "db504df8",
   "metadata": {},
   "outputs": [
    {
     "data": {
      "image/png": "[encoded data removed]",
      "text/plain": [
       "<Figure size 500x500 with 1 Axes>"
      ]
     },
     "metadata": {},
     "output_type": "display_data"
    }
   ],
   "source": [
    "# ROC curve 그리기\n",
    "\n",
    "df_roc = pd.DataFrame({'prob': clf_lr.predict_proba(df_prob3_test[X_prob3_best])[:, 1],\n",
    " 'label': df_prob3_test['failure']})\n",
    "df_roc.sort_values('prob', ascending=False, inplace=True) # Positive 확률에 따른 False Positive 수를 구하기 위해 정렬\n",
    "df_roc['fp'] = df_roc['label'].cumsum() # Positive 확률까지의 누적 False Positive 수\n",
    "df_roc = df_roc['fp'].value_counts().sort_index().cumsum().reset_index() # False Positive에 따른 True Positive 수를 구한다.\n",
    "df_roc.columns = ['tp', 'fp']\n",
    "df_roc['fp'] = df_roc['fp'].shift(1).fillna(0) # shift를 해야만 False Positive 따른 True Positive 수가 맞춰진다.\n",
    "df_roc['tpr'] = df_roc['tp'] / df_roc['tp'].iloc[-1] # Rate로 환산, 마지막 수는 True의 수이다.\n",
    "df_roc['fpr'] = df_roc['fp'] / df_roc['fp'].iloc[-1] # Rate로 환산, 마지막 수는 False의 수이다.\n",
    "\n",
    "plt.figure(figsize=(5, 5))\n",
    "plt.plot(df_roc['fpr'], df_roc['tpr'])\n",
    "plt.fill_between(df_roc['fpr'], df_roc['tpr'], np.zeros_like(df_roc['tpr']), alpha=0.5)\n",
    "plt.plot([0, 1], [0, 1], linestyle='--', color='black')\n",
    "plt.xlabel('False Positive Rate')\n",
    "plt.ylabel('True Positive Rate')\n",
    "plt.show()"
   ]
  },
  {
   "cell_type": "markdown",
   "id": "28cad4b5",
   "metadata": {},
   "source": [
    "# 쉬는 시간: 13:55"
   ]
  },
  {
   "cell_type": "markdown",
   "id": "4ed67461",
   "metadata": {},
   "source": [
    "# 문제 4\n",
    "\n",
    "차원 축소 기법을 통한 데이터의 특성과 failure 분류 성능을 높힐 만한 요소를 살펴 본다. \n",
    "\n",
    "첫째로, loading을 제외하고, measurement_0 ~ 17을 입력으로 failure를 대상 변수로 LinearDiscrimantAnalysis(LDA) 모델을 만든다. \n",
    "\n",
    "범주가 두 개인 failure를 분류한다는 점에서 LDA 모델은 measurement_0 ~ 17를 한 개의 경계점으로 \n",
    "\n",
    "failure를 최대한 정확하게 구분하도록 하나의 연속형 변수로 변환한다. \n",
    "\n",
    "LDA 변환값과 실험에서 스프링에 가한 부하(loading)와 상관도를 측정하여, \n",
    "\n",
    "이 측정 결과가 얼마나 실험에 반영되었는지 파악한다.\n",
    "\n",
    "둘째로, PCA를 사용하여 차원 감소로 failure 분류 성능에 얼마나 효과가 있을지 살펴본다.\n",
    "\n",
    "문제3에서 사용했던, 전처리(loading 결측치와 표준화 과정을 거친) 과정을 거친 prob3_train과 prob3_test를 사용한다.\n"
   ]
  },
  {
   "cell_type": "code",
   "execution_count": null,
   "id": "05ee8e76",
   "metadata": {},
   "outputs": [],
   "source": []
  },
  {
   "cell_type": "markdown",
   "id": "3579a749",
   "metadata": {},
   "source": [
    "## 단계 4-1\n",
    "\n",
    "prob3_train에서 measurement_0 ~ 17을 입력으로 failure를 대상 변수로 하여 LDA(Linear Discriminant Analysis) 모델을 학습한다. \n",
    "\n",
    "measurement_0 ~ 17에 대한 LDA의 변환값과 loading과 스피어만 상관도 (spearman correlation)의 p-value를 구하여 A라고 한다.\n",
    "\n",
    "입력 변수] measurement_0 ~ 17 (순서에 유의 하시오)\n",
    "\n",
    "대상 변수] failure\n",
    "\n",
    "Hint] sklearn.discriminant_analysis.LinearDiscriminantAnalysis\n",
    "\n",
    "Hint] scipy.stats.spearmanr\n"
   ]
  },
  {
   "cell_type": "code",
   "execution_count": null,
   "id": "b6bbc9a0",
   "metadata": {},
   "outputs": [],
   "source": []
  },
  {
   "cell_type": "markdown",
   "id": "1e726a4a",
   "metadata": {},
   "source": [
    "## 단계 4-2\n",
    "\n",
    "prob3_train에서 measurement_0 ~ 17을 대상으로 주성분분석(Principal Component Analysis, PCA) 모델을 학습한다. \n",
    "\n",
    "분산 설명율이 높은 순으로 주성분을 변수명을 pca_0 ~ 17한 파생 변수를 prob3_train에 추가하여 prob4_train을 만든다. \n",
    "\n",
    "prob3_test에 prob3_train를 학습했던 PCA 모델로 동일한 방법으로 pca0 ~17 파생 변수를 추가하여 prob4_test를 만든다.\n",
    "\n",
    "입력 변수] measurement_0 ~ 17 (순서에 유의 하시오)\n",
    "\n",
    "Hint] sklearn.decomposition.PCA\n"
   ]
  },
  {
   "cell_type": "code",
   "execution_count": null,
   "id": "2934c155",
   "metadata": {},
   "outputs": [],
   "source": []
  },
  {
   "cell_type": "markdown",
   "id": "11d71204",
   "metadata": {},
   "source": [
    "## 단계 4-3\n",
    "\n",
    "초기에 loading을 입력 변수로 하여 prob4_train을 학습하고, prob4_test에 대한 성능을 측정한다.\n",
    "\n",
    "여기에 pca_0에서 pca_17까지 입력 변수를 하나씩 추가 하면서, \n",
    "\n",
    "즉 분산 설명율이 높은 순으로 컴포넌트를 하나씩 추가해가면서 prob4_test의 성능을 측정 했을 때, \n",
    "\n",
    "최적의 성능을 보인 컴포넌트들의 분산 설명율의 합을 B라고 한다. (만일 없다면 B = 0이다.)\n",
    "\n",
    "입력 변수: 설명 참고\n",
    "\n",
    "대상 변수: failure\n",
    "\n",
    "성능 지표: AUC(area under of ROC curve)\n",
    "\n",
    "Hint] sklearn.linear_model.LogisticRegression, solver=’lbfgs’\n"
   ]
  },
  {
   "cell_type": "code",
   "execution_count": null,
   "id": "3c19ae14",
   "metadata": {},
   "outputs": [],
   "source": []
  },
  {
   "cell_type": "markdown",
   "id": "db7a7e38",
   "metadata": {},
   "source": [
    "A + B를 소수점 셋째 자리에서 반올림하여 둘째 자리까지 구하라.\n",
    "\n",
    "Ex) 12.34"
   ]
  },
  {
   "cell_type": "markdown",
   "id": "86ba3524",
   "metadata": {},
   "source": [
    "# 문제 5\n",
    "\n",
    "랜덤포레스트 분류기(Random-Forest Classifier)의 최적의 하이퍼 파라미터(Hyper-Parameter, 초매개변수)를 탐색하고자 한다.\n",
    "\n",
    "문제3에서 사용했던, 전처리(loading 결측치와 표준화 과정을 거친) 과정을 거친 prob3_train과 prob3_test를 사용한다."
   ]
  },
  {
   "cell_type": "code",
   "execution_count": null,
   "id": "57e99809",
   "metadata": {},
   "outputs": [],
   "source": []
  },
  {
   "cell_type": "markdown",
   "id": "05189b7d",
   "metadata": {},
   "source": [
    "## 단계 5-1\n",
    "\n",
    "sklearn에서 제공하는 랜덤포레스트 분류기(Random-Forest Classifier)의 하이퍼 파라미터 중 \n",
    "\n",
    "n_estimators, max_depth 그리고 min_samples_split의 최적 조합을 탐색한다. \n",
    "\n",
    "탐색 값은 아래에 제공한 하이퍼 파라미터의 모든 조합이다. \n",
    "\n",
    "prob3_train을 대상으로 5-겹 층화교차검증(5-fold stratified cross validation)으로 \n",
    "\n",
    "겹외(OOF set, Out-Of-Fold set) 성능의 평균을 기준으로 하이퍼 파라미터를 선택한다.\n",
    "\n",
    "  - n_estimators: [5, 10, 15]\n",
    "\n",
    "  - max_depth: [5, 6, 7]\n",
    "  \n",
    "  - min_samples_split: [256, 512]\n",
    "\n",
    "Hint] 모든 하이퍼 파라미터의 조합의 수는 18개이다\n",
    "\n",
    "입력 변수: loading, measurement_0 ~ 17, na_1, na_2 (순서에 유의)\n",
    "\n",
    "대상 변수: failure\n",
    "\n",
    "성능 지표: AUC (area under of ROC curve)\n",
    "\n",
    "Hint] sklearn.ensemble.RandomForestClassifier, random_state=123 \n",
    "\n",
    "Hint] itertools.product 필요시 사용\n",
    "\n",
    "Hint] sklearn.model_selection.cross_val_score 필요시 사용\n",
    "\n",
    "Hint] sklearn.model_selection.StratifiedKFold, random_state=123, shuffle=True\n",
    "\n",
    "Hint] sklearn.model_selection.GridSearchCV 필요시 사용"
   ]
  },
  {
   "cell_type": "code",
   "execution_count": null,
   "id": "6226741f",
   "metadata": {},
   "outputs": [],
   "source": []
  },
  {
   "cell_type": "markdown",
   "id": "eacc40ad",
   "metadata": {},
   "source": [
    "## 단계5-2\n",
    "\n",
    "단계 5-1에서 구한 최적 하이퍼 파라미터로 설정한 랜덤포레스트 분류기(Random-Forest Classifier)를 사용하여 prob3_train 학습하고, \n",
    "\n",
    "prob3_test로 성능을 측정하여 이 값을 A라고 한다.\n",
    "\n",
    "입력 변수: loading, measurement_0 ~ 17, na_1, na_2 (순서에 유의)\n",
    "\n",
    "대상 변수: failure\n",
    "\n",
    "성능 지표: AUC (area under of ROC curve)\n",
    "\n",
    "Hint] sklearn.ensemble.RandomForestClassifier, random_state=123 \n"
   ]
  },
  {
   "cell_type": "code",
   "execution_count": null,
   "id": "1ebecc95",
   "metadata": {},
   "outputs": [],
   "source": []
  },
  {
   "cell_type": "markdown",
   "id": "044dd522",
   "metadata": {},
   "source": [
    "A값을 소수점 넷째 자리에서 반올림하여 3째 자리까지 출력하시오.\n",
    "\n",
    "Ex) 0.123"
   ]
  },
  {
   "cell_type": "code",
   "execution_count": null,
   "id": "0933ca4e",
   "metadata": {},
   "outputs": [],
   "source": []
  }
 ],
 "metadata": {
  "kernelspec": {
   "display_name": "Python 3 (ipykernel)",
   "language": "python",
   "name": "python3"
  },
  "language_info": {
   "codemirror_mode": {
    "name": "ipython",
    "version": 3
   },
   "file_extension": ".py",
   "mimetype": "text/x-python",
   "name": "python",
   "nbconvert_exporter": "python",
   "pygments_lexer": "ipython3",
   "version": "3.7.4"
  }
 },
 "nbformat": 4,
 "nbformat_minor": 5
}
