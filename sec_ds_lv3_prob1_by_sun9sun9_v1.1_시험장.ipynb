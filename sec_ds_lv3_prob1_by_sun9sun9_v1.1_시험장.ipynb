{
 "cells": [
  {
   "cell_type": "code",
   "execution_count": 5,
   "metadata": {
    "colab": {
     "base_uri": "https://localhost:8080/"
    },
    "id": "flcleYssIrFo",
    "outputId": "e5539bfa-2fa4-4a19-8dbb-2572d700a1a4"
   },
   "outputs": [
    {
     "name": "stderr",
     "output_type": "stream",
     "text": [
      "'head'은(는) 내부 또는 외부 명령, 실행할 수 있는 프로그램, 또는\n",
      "배치 파일이 아닙니다.\n"
     ]
    }
   ],
   "source": [
    "# 데이터 파일의 상단 부분 일부를 출력. 윈도우즈 환경에는 미작동\n",
    "!head train_prob.csv"
   ]
  },
  {
   "cell_type": "markdown",
   "metadata": {
    "id": "OTH5MsOALolZ"
   },
   "source": [
    "# Preparation"
   ]
  },
  {
   "cell_type": "code",
   "execution_count": 1,
   "metadata": {
    "colab": {
     "base_uri": "https://localhost:8080/"
    },
    "id": "V0e7SqWYLnZA",
    "outputId": "c4cffe8b-6084-4aac-ecce-0ca7f1a7cb67"
   },
   "outputs": [
    {
     "name": "stdout",
     "output_type": "stream",
     "text": [
      "3.7.4 (tags/v3.7.4:e09359112e, Jul  8 2019, 20:34:20) [MSC v.1916 64 bit (AMD64)]\n",
      "pandas 0.25.1\n",
      "numpy 1.18.5\n",
      "sklearn 0.21.3\n",
      "scipy 1.5.2\n",
      "mlxtend 0.15.0.0\n"
     ]
    }
   ],
   "source": [
    "# 패키지를 불러 온다.\n",
    "import sys\n",
    "import pandas as pd\n",
    "import numpy as np\n",
    "import sklearn\n",
    "import scipy\n",
    "import mlxtend\n",
    "\n",
    "# 사용하는 패키지의 버젼을 출력.\n",
    "# 본 노트북은 DS 시험장 환경 기준으로 작성되었고, 출력 또한 시험장 환경 기준으로 생성 되었습니다.\n",
    "# Python - 3.7.4 , pandas 0.25.1, numpy 1.18.5, sklearn 0.21.3, scipy 1.5.2\n",
    "print(sys.version)\n",
    "for i in [pd, np, sklearn, scipy, mlxtend]:\n",
    "    print(i.__name__, i.__version__)"
   ]
  },
  {
   "cell_type": "code",
   "execution_count": 2,
   "metadata": {
    "id": "n9b78gGCPRXn"
   },
   "outputs": [],
   "source": [
    "# 시각화 모듈, 문제 풀이와는 상관은 없지만 참고 삼을 만한 내용을 출력하기 위해 들여옵니다.\n",
    "import matplotlib.pyplot as plt\n",
    "import seaborn as sns"
   ]
  },
  {
   "cell_type": "code",
   "execution_count": null,
   "metadata": {},
   "outputs": [],
   "source": [
    "# 시각화 모듈을 불러오고, 한글 폰트를 설정  \n",
    "import matplotlib as mpl\n",
    "import matplotlib.font_manager as fm\n",
    "\n",
    "#plt.rc('font', family='NanumBarunGothic') \n",
    "plt.rc('font', family='Malgun Gothic')\n",
    "mpl.rcParams['axes.unicode_minus'] = False"
   ]
  },
  {
   "cell_type": "code",
   "execution_count": 3,
   "metadata": {
    "id": "7ODwTna_Phdr"
   },
   "outputs": [],
   "source": [
    "# train_prob.csv를 불러 온다\n",
    "# dtype은 크기가 작은 정수라 in8을 지정했지만, 시험에서는 이런 수고를 굳이 들일 필요는 없습니다.\n",
    "# index_col은 인덱스 역할을 하는 id를 컬럼을 index로 지정\n",
    "df_train = pd.read_csv('train_prob.csv', index_col='id')"
   ]
  },
  {
   "cell_type": "code",
   "execution_count": 4,
   "metadata": {
    "colab": {
     "base_uri": "https://localhost:8080/"
    },
    "id": "QasrJaVYPzft",
    "outputId": "5be79238-e4f9-497d-b701-ecc175df7cbb"
   },
   "outputs": [
    {
     "name": "stdout",
     "output_type": "stream",
     "text": [
      "<class 'pandas.core.frame.DataFrame'>\n",
      "Int64Index: 21458 entries, 0 to 26569\n",
      "Data columns (total 25 columns):\n",
      "product_code      21458 non-null object\n",
      "loading           21257 non-null float64\n",
      "attribute_0       21458 non-null object\n",
      "attribute_1       21458 non-null object\n",
      "attribute_2       21458 non-null int64\n",
      "attribute_3       21458 non-null int64\n",
      "measurement_0     21458 non-null int64\n",
      "measurement_1     21458 non-null int64\n",
      "measurement_2     21458 non-null int64\n",
      "measurement_3     21146 non-null float64\n",
      "measurement_4     21016 non-null float64\n",
      "measurement_5     20893 non-null float64\n",
      "measurement_6     20818 non-null float64\n",
      "measurement_7     20692 non-null float64\n",
      "measurement_8     20605 non-null float64\n",
      "measurement_9     20469 non-null float64\n",
      "measurement_10    20399 non-null float64\n",
      "measurement_11    20278 non-null float64\n",
      "measurement_12    20171 non-null float64\n",
      "measurement_13    20063 non-null float64\n",
      "measurement_14    19976 non-null float64\n",
      "measurement_15    19855 non-null float64\n",
      "measurement_16    19750 non-null float64\n",
      "measurement_17    19640 non-null float64\n",
      "failure           21458 non-null int64\n",
      "dtypes: float64(16), int64(6), object(3)\n",
      "memory usage: 4.3+ MB\n"
     ]
    }
   ],
   "source": [
    "# 데이터셋의 구성과 함께, 결측치도 확인한다.\n",
    "df_train.info()"
   ]
  },
  {
   "cell_type": "code",
   "execution_count": 5,
   "metadata": {
    "colab": {
     "base_uri": "https://localhost:8080/",
     "height": 739
    },
    "id": "_8C6bIwwaxIm",
    "outputId": "73ae6838-248b-46c2-d24c-f92e4813120f"
   },
   "outputs": [
    {
     "data": {
      "text/html": [
       "<div>\n",
       "<style scoped>\n",
       "    .dataframe tbody tr th:only-of-type {\n",
       "        vertical-align: middle;\n",
       "    }\n",
       "\n",
       "    .dataframe tbody tr th {\n",
       "        vertical-align: top;\n",
       "    }\n",
       "\n",
       "    .dataframe thead th {\n",
       "        text-align: right;\n",
       "    }\n",
       "</style>\n",
       "<table border=\"1\" class=\"dataframe\">\n",
       "  <thead>\n",
       "    <tr style=\"text-align: right;\">\n",
       "      <th></th>\n",
       "      <th>count</th>\n",
       "      <th>mean</th>\n",
       "      <th>std</th>\n",
       "      <th>min</th>\n",
       "      <th>25%</th>\n",
       "      <th>50%</th>\n",
       "      <th>75%</th>\n",
       "      <th>max</th>\n",
       "    </tr>\n",
       "  </thead>\n",
       "  <tbody>\n",
       "    <tr>\n",
       "      <td>loading</td>\n",
       "      <td>21257.0</td>\n",
       "      <td>127.680897</td>\n",
       "      <td>38.987953</td>\n",
       "      <td>33.160</td>\n",
       "      <td>100.01000</td>\n",
       "      <td>122.2500</td>\n",
       "      <td>148.77000</td>\n",
       "      <td>385.860</td>\n",
       "    </tr>\n",
       "    <tr>\n",
       "      <td>attribute_2</td>\n",
       "      <td>21458.0</td>\n",
       "      <td>6.933684</td>\n",
       "      <td>1.585791</td>\n",
       "      <td>5.000</td>\n",
       "      <td>5.00000</td>\n",
       "      <td>6.0000</td>\n",
       "      <td>8.00000</td>\n",
       "      <td>9.000</td>\n",
       "    </tr>\n",
       "    <tr>\n",
       "      <td>attribute_3</td>\n",
       "      <td>21458.0</td>\n",
       "      <td>7.535977</td>\n",
       "      <td>1.474057</td>\n",
       "      <td>5.000</td>\n",
       "      <td>8.00000</td>\n",
       "      <td>8.0000</td>\n",
       "      <td>8.00000</td>\n",
       "      <td>9.000</td>\n",
       "    </tr>\n",
       "    <tr>\n",
       "      <td>measurement_0</td>\n",
       "      <td>21458.0</td>\n",
       "      <td>7.311912</td>\n",
       "      <td>4.261533</td>\n",
       "      <td>0.000</td>\n",
       "      <td>4.00000</td>\n",
       "      <td>7.0000</td>\n",
       "      <td>10.00000</td>\n",
       "      <td>29.000</td>\n",
       "    </tr>\n",
       "    <tr>\n",
       "      <td>measurement_1</td>\n",
       "      <td>21458.0</td>\n",
       "      <td>7.861264</td>\n",
       "      <td>4.152362</td>\n",
       "      <td>0.000</td>\n",
       "      <td>5.00000</td>\n",
       "      <td>8.0000</td>\n",
       "      <td>10.00000</td>\n",
       "      <td>28.000</td>\n",
       "    </tr>\n",
       "    <tr>\n",
       "      <td>measurement_2</td>\n",
       "      <td>21458.0</td>\n",
       "      <td>6.016917</td>\n",
       "      <td>3.299464</td>\n",
       "      <td>0.000</td>\n",
       "      <td>4.00000</td>\n",
       "      <td>6.0000</td>\n",
       "      <td>8.00000</td>\n",
       "      <td>24.000</td>\n",
       "    </tr>\n",
       "    <tr>\n",
       "      <td>measurement_3</td>\n",
       "      <td>21146.0</td>\n",
       "      <td>17.795325</td>\n",
       "      <td>1.002861</td>\n",
       "      <td>13.968</td>\n",
       "      <td>17.11825</td>\n",
       "      <td>17.7910</td>\n",
       "      <td>18.47300</td>\n",
       "      <td>21.499</td>\n",
       "    </tr>\n",
       "    <tr>\n",
       "      <td>measurement_4</td>\n",
       "      <td>21016.0</td>\n",
       "      <td>11.736571</td>\n",
       "      <td>0.997623</td>\n",
       "      <td>8.008</td>\n",
       "      <td>11.05400</td>\n",
       "      <td>11.7370</td>\n",
       "      <td>12.41800</td>\n",
       "      <td>16.484</td>\n",
       "    </tr>\n",
       "    <tr>\n",
       "      <td>measurement_5</td>\n",
       "      <td>20893.0</td>\n",
       "      <td>17.130985</td>\n",
       "      <td>0.996501</td>\n",
       "      <td>12.073</td>\n",
       "      <td>16.44700</td>\n",
       "      <td>17.1360</td>\n",
       "      <td>17.80800</td>\n",
       "      <td>21.425</td>\n",
       "    </tr>\n",
       "    <tr>\n",
       "      <td>measurement_6</td>\n",
       "      <td>20818.0</td>\n",
       "      <td>17.507452</td>\n",
       "      <td>0.995234</td>\n",
       "      <td>13.566</td>\n",
       "      <td>16.83600</td>\n",
       "      <td>17.5150</td>\n",
       "      <td>18.18075</td>\n",
       "      <td>21.543</td>\n",
       "    </tr>\n",
       "    <tr>\n",
       "      <td>measurement_7</td>\n",
       "      <td>20692.0</td>\n",
       "      <td>11.718086</td>\n",
       "      <td>0.999211</td>\n",
       "      <td>7.968</td>\n",
       "      <td>11.05075</td>\n",
       "      <td>11.7135</td>\n",
       "      <td>12.39300</td>\n",
       "      <td>15.419</td>\n",
       "    </tr>\n",
       "    <tr>\n",
       "      <td>measurement_8</td>\n",
       "      <td>20605.0</td>\n",
       "      <td>19.022928</td>\n",
       "      <td>1.010219</td>\n",
       "      <td>15.220</td>\n",
       "      <td>18.33600</td>\n",
       "      <td>19.0180</td>\n",
       "      <td>19.70800</td>\n",
       "      <td>23.807</td>\n",
       "    </tr>\n",
       "    <tr>\n",
       "      <td>measurement_9</td>\n",
       "      <td>20469.0</td>\n",
       "      <td>11.430473</td>\n",
       "      <td>0.997290</td>\n",
       "      <td>7.537</td>\n",
       "      <td>10.75700</td>\n",
       "      <td>11.4310</td>\n",
       "      <td>12.10400</td>\n",
       "      <td>15.412</td>\n",
       "    </tr>\n",
       "    <tr>\n",
       "      <td>measurement_10</td>\n",
       "      <td>20399.0</td>\n",
       "      <td>16.033571</td>\n",
       "      <td>1.310508</td>\n",
       "      <td>9.323</td>\n",
       "      <td>15.19500</td>\n",
       "      <td>16.0590</td>\n",
       "      <td>16.89500</td>\n",
       "      <td>22.479</td>\n",
       "    </tr>\n",
       "    <tr>\n",
       "      <td>measurement_11</td>\n",
       "      <td>20278.0</td>\n",
       "      <td>19.192888</td>\n",
       "      <td>1.622360</td>\n",
       "      <td>12.461</td>\n",
       "      <td>18.07225</td>\n",
       "      <td>19.2640</td>\n",
       "      <td>20.33600</td>\n",
       "      <td>25.640</td>\n",
       "    </tr>\n",
       "    <tr>\n",
       "      <td>measurement_12</td>\n",
       "      <td>20171.0</td>\n",
       "      <td>11.733070</td>\n",
       "      <td>1.474817</td>\n",
       "      <td>5.167</td>\n",
       "      <td>10.75400</td>\n",
       "      <td>11.7570</td>\n",
       "      <td>12.72300</td>\n",
       "      <td>17.392</td>\n",
       "    </tr>\n",
       "    <tr>\n",
       "      <td>measurement_13</td>\n",
       "      <td>20063.0</td>\n",
       "      <td>15.665751</td>\n",
       "      <td>1.188068</td>\n",
       "      <td>10.890</td>\n",
       "      <td>14.88500</td>\n",
       "      <td>15.6330</td>\n",
       "      <td>16.40000</td>\n",
       "      <td>22.713</td>\n",
       "    </tr>\n",
       "    <tr>\n",
       "      <td>measurement_14</td>\n",
       "      <td>19976.0</td>\n",
       "      <td>16.033379</td>\n",
       "      <td>1.513745</td>\n",
       "      <td>9.140</td>\n",
       "      <td>15.04400</td>\n",
       "      <td>16.0130</td>\n",
       "      <td>17.05700</td>\n",
       "      <td>22.303</td>\n",
       "    </tr>\n",
       "    <tr>\n",
       "      <td>measurement_15</td>\n",
       "      <td>19855.0</td>\n",
       "      <td>15.050491</td>\n",
       "      <td>1.532690</td>\n",
       "      <td>9.158</td>\n",
       "      <td>14.02600</td>\n",
       "      <td>15.0330</td>\n",
       "      <td>16.05750</td>\n",
       "      <td>21.626</td>\n",
       "    </tr>\n",
       "    <tr>\n",
       "      <td>measurement_16</td>\n",
       "      <td>19750.0</td>\n",
       "      <td>16.396950</td>\n",
       "      <td>1.740309</td>\n",
       "      <td>9.701</td>\n",
       "      <td>15.18600</td>\n",
       "      <td>16.3165</td>\n",
       "      <td>17.58200</td>\n",
       "      <td>24.094</td>\n",
       "    </tr>\n",
       "    <tr>\n",
       "      <td>measurement_17</td>\n",
       "      <td>19640.0</td>\n",
       "      <td>701.530765</td>\n",
       "      <td>119.519590</td>\n",
       "      <td>231.396</td>\n",
       "      <td>622.17150</td>\n",
       "      <td>700.7625</td>\n",
       "      <td>781.46175</td>\n",
       "      <td>1312.794</td>\n",
       "    </tr>\n",
       "    <tr>\n",
       "      <td>failure</td>\n",
       "      <td>21458.0</td>\n",
       "      <td>0.211436</td>\n",
       "      <td>0.408337</td>\n",
       "      <td>0.000</td>\n",
       "      <td>0.00000</td>\n",
       "      <td>0.0000</td>\n",
       "      <td>0.00000</td>\n",
       "      <td>1.000</td>\n",
       "    </tr>\n",
       "  </tbody>\n",
       "</table>\n",
       "</div>"
      ],
      "text/plain": [
       "                  count        mean         std      min        25%       50%  \\\n",
       "loading         21257.0  127.680897   38.987953   33.160  100.01000  122.2500   \n",
       "attribute_2     21458.0    6.933684    1.585791    5.000    5.00000    6.0000   \n",
       "attribute_3     21458.0    7.535977    1.474057    5.000    8.00000    8.0000   \n",
       "measurement_0   21458.0    7.311912    4.261533    0.000    4.00000    7.0000   \n",
       "measurement_1   21458.0    7.861264    4.152362    0.000    5.00000    8.0000   \n",
       "measurement_2   21458.0    6.016917    3.299464    0.000    4.00000    6.0000   \n",
       "measurement_3   21146.0   17.795325    1.002861   13.968   17.11825   17.7910   \n",
       "measurement_4   21016.0   11.736571    0.997623    8.008   11.05400   11.7370   \n",
       "measurement_5   20893.0   17.130985    0.996501   12.073   16.44700   17.1360   \n",
       "measurement_6   20818.0   17.507452    0.995234   13.566   16.83600   17.5150   \n",
       "measurement_7   20692.0   11.718086    0.999211    7.968   11.05075   11.7135   \n",
       "measurement_8   20605.0   19.022928    1.010219   15.220   18.33600   19.0180   \n",
       "measurement_9   20469.0   11.430473    0.997290    7.537   10.75700   11.4310   \n",
       "measurement_10  20399.0   16.033571    1.310508    9.323   15.19500   16.0590   \n",
       "measurement_11  20278.0   19.192888    1.622360   12.461   18.07225   19.2640   \n",
       "measurement_12  20171.0   11.733070    1.474817    5.167   10.75400   11.7570   \n",
       "measurement_13  20063.0   15.665751    1.188068   10.890   14.88500   15.6330   \n",
       "measurement_14  19976.0   16.033379    1.513745    9.140   15.04400   16.0130   \n",
       "measurement_15  19855.0   15.050491    1.532690    9.158   14.02600   15.0330   \n",
       "measurement_16  19750.0   16.396950    1.740309    9.701   15.18600   16.3165   \n",
       "measurement_17  19640.0  701.530765  119.519590  231.396  622.17150  700.7625   \n",
       "failure         21458.0    0.211436    0.408337    0.000    0.00000    0.0000   \n",
       "\n",
       "                      75%       max  \n",
       "loading         148.77000   385.860  \n",
       "attribute_2       8.00000     9.000  \n",
       "attribute_3       8.00000     9.000  \n",
       "measurement_0    10.00000    29.000  \n",
       "measurement_1    10.00000    28.000  \n",
       "measurement_2     8.00000    24.000  \n",
       "measurement_3    18.47300    21.499  \n",
       "measurement_4    12.41800    16.484  \n",
       "measurement_5    17.80800    21.425  \n",
       "measurement_6    18.18075    21.543  \n",
       "measurement_7    12.39300    15.419  \n",
       "measurement_8    19.70800    23.807  \n",
       "measurement_9    12.10400    15.412  \n",
       "measurement_10   16.89500    22.479  \n",
       "measurement_11   20.33600    25.640  \n",
       "measurement_12   12.72300    17.392  \n",
       "measurement_13   16.40000    22.713  \n",
       "measurement_14   17.05700    22.303  \n",
       "measurement_15   16.05750    21.626  \n",
       "measurement_16   17.58200    24.094  \n",
       "measurement_17  781.46175  1312.794  \n",
       "failure           0.00000     1.000  "
      ]
     },
     "execution_count": 5,
     "metadata": {},
     "output_type": "execute_result"
    }
   ],
   "source": [
    "# 수치형 변수의 기술 통계 출력\n",
    "# 컬럼이 변수 단위로 출력이 되는 것을 T 어트리뷰트를 사용하여 행단위로 변수가 구성되도록 합니다.\n",
    "df_train.select_dtypes('number').describe().T"
   ]
  },
  {
   "cell_type": "code",
   "execution_count": 6,
   "metadata": {
    "colab": {
     "base_uri": "https://localhost:8080/",
     "height": 331
    },
    "id": "eSYACymaakW1",
    "outputId": "b0446046-e2e3-43b4-e6ff-7d267a3baad2"
   },
   "outputs": [
    {
     "data": {
      "text/html": [
       "<div>\n",
       "<style scoped>\n",
       "    .dataframe tbody tr th:only-of-type {\n",
       "        vertical-align: middle;\n",
       "    }\n",
       "\n",
       "    .dataframe tbody tr th {\n",
       "        vertical-align: top;\n",
       "    }\n",
       "\n",
       "    .dataframe thead th {\n",
       "        text-align: right;\n",
       "    }\n",
       "</style>\n",
       "<table border=\"1\" class=\"dataframe\">\n",
       "  <thead>\n",
       "    <tr style=\"text-align: right;\">\n",
       "      <th></th>\n",
       "      <th>product_code</th>\n",
       "      <th>loading</th>\n",
       "      <th>attribute_0</th>\n",
       "      <th>attribute_1</th>\n",
       "      <th>attribute_2</th>\n",
       "      <th>attribute_3</th>\n",
       "      <th>measurement_0</th>\n",
       "      <th>measurement_1</th>\n",
       "      <th>measurement_2</th>\n",
       "      <th>measurement_3</th>\n",
       "      <th>...</th>\n",
       "      <th>measurement_8</th>\n",
       "      <th>measurement_9</th>\n",
       "      <th>measurement_10</th>\n",
       "      <th>measurement_11</th>\n",
       "      <th>measurement_12</th>\n",
       "      <th>measurement_13</th>\n",
       "      <th>measurement_14</th>\n",
       "      <th>measurement_15</th>\n",
       "      <th>measurement_16</th>\n",
       "      <th>measurement_17</th>\n",
       "    </tr>\n",
       "    <tr>\n",
       "      <th>id</th>\n",
       "      <th></th>\n",
       "      <th></th>\n",
       "      <th></th>\n",
       "      <th></th>\n",
       "      <th></th>\n",
       "      <th></th>\n",
       "      <th></th>\n",
       "      <th></th>\n",
       "      <th></th>\n",
       "      <th></th>\n",
       "      <th></th>\n",
       "      <th></th>\n",
       "      <th></th>\n",
       "      <th></th>\n",
       "      <th></th>\n",
       "      <th></th>\n",
       "      <th></th>\n",
       "      <th></th>\n",
       "      <th></th>\n",
       "      <th></th>\n",
       "      <th></th>\n",
       "    </tr>\n",
       "  </thead>\n",
       "  <tbody>\n",
       "    <tr>\n",
       "      <td>16115</td>\n",
       "      <td>D</td>\n",
       "      <td>76.89</td>\n",
       "      <td>material_7</td>\n",
       "      <td>material_5</td>\n",
       "      <td>6</td>\n",
       "      <td>6</td>\n",
       "      <td>16</td>\n",
       "      <td>2</td>\n",
       "      <td>7</td>\n",
       "      <td>17.427</td>\n",
       "      <td>...</td>\n",
       "      <td>18.241</td>\n",
       "      <td>11.536</td>\n",
       "      <td>14.690</td>\n",
       "      <td>19.622</td>\n",
       "      <td>11.082</td>\n",
       "      <td>16.323</td>\n",
       "      <td>15.633</td>\n",
       "      <td>16.153</td>\n",
       "      <td>15.640</td>\n",
       "      <td>648.974</td>\n",
       "    </tr>\n",
       "    <tr>\n",
       "      <td>16116</td>\n",
       "      <td>D</td>\n",
       "      <td>96.13</td>\n",
       "      <td>material_7</td>\n",
       "      <td>material_5</td>\n",
       "      <td>6</td>\n",
       "      <td>6</td>\n",
       "      <td>9</td>\n",
       "      <td>10</td>\n",
       "      <td>5</td>\n",
       "      <td>18.014</td>\n",
       "      <td>...</td>\n",
       "      <td>19.056</td>\n",
       "      <td>10.746</td>\n",
       "      <td>NaN</td>\n",
       "      <td>18.475</td>\n",
       "      <td>10.174</td>\n",
       "      <td>15.710</td>\n",
       "      <td>16.274</td>\n",
       "      <td>12.229</td>\n",
       "      <td>17.204</td>\n",
       "      <td>741.103</td>\n",
       "    </tr>\n",
       "    <tr>\n",
       "      <td>16117</td>\n",
       "      <td>D</td>\n",
       "      <td>124.40</td>\n",
       "      <td>material_7</td>\n",
       "      <td>material_5</td>\n",
       "      <td>6</td>\n",
       "      <td>6</td>\n",
       "      <td>10</td>\n",
       "      <td>15</td>\n",
       "      <td>0</td>\n",
       "      <td>18.374</td>\n",
       "      <td>...</td>\n",
       "      <td>20.689</td>\n",
       "      <td>10.240</td>\n",
       "      <td>16.035</td>\n",
       "      <td>18.224</td>\n",
       "      <td>11.005</td>\n",
       "      <td>15.925</td>\n",
       "      <td>16.257</td>\n",
       "      <td>16.338</td>\n",
       "      <td>17.653</td>\n",
       "      <td>NaN</td>\n",
       "    </tr>\n",
       "    <tr>\n",
       "      <td>16118</td>\n",
       "      <td>D</td>\n",
       "      <td>175.84</td>\n",
       "      <td>material_7</td>\n",
       "      <td>material_5</td>\n",
       "      <td>6</td>\n",
       "      <td>6</td>\n",
       "      <td>4</td>\n",
       "      <td>8</td>\n",
       "      <td>15</td>\n",
       "      <td>18.056</td>\n",
       "      <td>...</td>\n",
       "      <td>19.442</td>\n",
       "      <td>12.015</td>\n",
       "      <td>18.195</td>\n",
       "      <td>19.410</td>\n",
       "      <td>10.761</td>\n",
       "      <td>16.176</td>\n",
       "      <td>16.926</td>\n",
       "      <td>13.813</td>\n",
       "      <td>13.615</td>\n",
       "      <td>NaN</td>\n",
       "    </tr>\n",
       "    <tr>\n",
       "      <td>16119</td>\n",
       "      <td>D</td>\n",
       "      <td>118.70</td>\n",
       "      <td>material_7</td>\n",
       "      <td>material_5</td>\n",
       "      <td>6</td>\n",
       "      <td>6</td>\n",
       "      <td>15</td>\n",
       "      <td>8</td>\n",
       "      <td>5</td>\n",
       "      <td>16.513</td>\n",
       "      <td>...</td>\n",
       "      <td>19.007</td>\n",
       "      <td>12.615</td>\n",
       "      <td>15.775</td>\n",
       "      <td>18.778</td>\n",
       "      <td>9.683</td>\n",
       "      <td>NaN</td>\n",
       "      <td>17.066</td>\n",
       "      <td>14.690</td>\n",
       "      <td>18.798</td>\n",
       "      <td>NaN</td>\n",
       "    </tr>\n",
       "  </tbody>\n",
       "</table>\n",
       "<p>5 rows × 24 columns</p>\n",
       "</div>"
      ],
      "text/plain": [
       "      product_code  loading attribute_0 attribute_1  attribute_2  attribute_3  \\\n",
       "id                                                                              \n",
       "16115            D    76.89  material_7  material_5            6            6   \n",
       "16116            D    96.13  material_7  material_5            6            6   \n",
       "16117            D   124.40  material_7  material_5            6            6   \n",
       "16118            D   175.84  material_7  material_5            6            6   \n",
       "16119            D   118.70  material_7  material_5            6            6   \n",
       "\n",
       "       measurement_0  measurement_1  measurement_2  measurement_3  ...  \\\n",
       "id                                                                 ...   \n",
       "16115             16              2              7         17.427  ...   \n",
       "16116              9             10              5         18.014  ...   \n",
       "16117             10             15              0         18.374  ...   \n",
       "16118              4              8             15         18.056  ...   \n",
       "16119             15              8              5         16.513  ...   \n",
       "\n",
       "       measurement_8  measurement_9  measurement_10  measurement_11  \\\n",
       "id                                                                    \n",
       "16115         18.241         11.536          14.690          19.622   \n",
       "16116         19.056         10.746             NaN          18.475   \n",
       "16117         20.689         10.240          16.035          18.224   \n",
       "16118         19.442         12.015          18.195          19.410   \n",
       "16119         19.007         12.615          15.775          18.778   \n",
       "\n",
       "       measurement_12  measurement_13  measurement_14  measurement_15  \\\n",
       "id                                                                      \n",
       "16115          11.082          16.323          15.633          16.153   \n",
       "16116          10.174          15.710          16.274          12.229   \n",
       "16117          11.005          15.925          16.257          16.338   \n",
       "16118          10.761          16.176          16.926          13.813   \n",
       "16119           9.683             NaN          17.066          14.690   \n",
       "\n",
       "       measurement_16  measurement_17  \n",
       "id                                     \n",
       "16115          15.640         648.974  \n",
       "16116          17.204         741.103  \n",
       "16117          17.653             NaN  \n",
       "16118          13.615             NaN  \n",
       "16119          18.798             NaN  \n",
       "\n",
       "[5 rows x 24 columns]"
      ]
     },
     "execution_count": 6,
     "metadata": {},
     "output_type": "execute_result"
    }
   ],
   "source": [
    "# 테스트셋도 불러옵니다.\n",
    "df_test = pd.read_csv('test_prob.csv', dtype={'failure': 'int8', 'attribute_2': 'int8', 'attribute_3': 'int8'}, index_col='id')\n",
    "df_test.head()"
   ]
  },
  {
   "cell_type": "code",
   "execution_count": 7,
   "metadata": {
    "colab": {
     "base_uri": "https://localhost:8080/",
     "height": 708
    },
    "id": "bGwd6DtCaopm",
    "outputId": "30dbde4b-ab70-4c53-a4d7-0c2519c34de3"
   },
   "outputs": [
    {
     "data": {
      "text/html": [
       "<div>\n",
       "<style scoped>\n",
       "    .dataframe tbody tr th:only-of-type {\n",
       "        vertical-align: middle;\n",
       "    }\n",
       "\n",
       "    .dataframe tbody tr th {\n",
       "        vertical-align: top;\n",
       "    }\n",
       "\n",
       "    .dataframe thead th {\n",
       "        text-align: right;\n",
       "    }\n",
       "</style>\n",
       "<table border=\"1\" class=\"dataframe\">\n",
       "  <thead>\n",
       "    <tr style=\"text-align: right;\">\n",
       "      <th></th>\n",
       "      <th>count</th>\n",
       "      <th>mean</th>\n",
       "      <th>std</th>\n",
       "      <th>min</th>\n",
       "      <th>25%</th>\n",
       "      <th>50%</th>\n",
       "      <th>75%</th>\n",
       "      <th>max</th>\n",
       "    </tr>\n",
       "  </thead>\n",
       "  <tbody>\n",
       "    <tr>\n",
       "      <td>loading</td>\n",
       "      <td>5063.0</td>\n",
       "      <td>128.436423</td>\n",
       "      <td>39.204131</td>\n",
       "      <td>42.000</td>\n",
       "      <td>99.91500</td>\n",
       "      <td>123.0500</td>\n",
       "      <td>150.58500</td>\n",
       "      <td>324.570</td>\n",
       "    </tr>\n",
       "    <tr>\n",
       "      <td>attribute_2</td>\n",
       "      <td>5112.0</td>\n",
       "      <td>6.000000</td>\n",
       "      <td>0.000000</td>\n",
       "      <td>6.000</td>\n",
       "      <td>6.00000</td>\n",
       "      <td>6.0000</td>\n",
       "      <td>6.00000</td>\n",
       "      <td>6.000</td>\n",
       "    </tr>\n",
       "    <tr>\n",
       "      <td>attribute_3</td>\n",
       "      <td>5112.0</td>\n",
       "      <td>6.000000</td>\n",
       "      <td>0.000000</td>\n",
       "      <td>6.000</td>\n",
       "      <td>6.00000</td>\n",
       "      <td>6.0000</td>\n",
       "      <td>6.00000</td>\n",
       "      <td>6.000</td>\n",
       "    </tr>\n",
       "    <tr>\n",
       "      <td>measurement_0</td>\n",
       "      <td>5112.0</td>\n",
       "      <td>7.852308</td>\n",
       "      <td>3.408803</td>\n",
       "      <td>0.000</td>\n",
       "      <td>5.00000</td>\n",
       "      <td>7.0000</td>\n",
       "      <td>10.00000</td>\n",
       "      <td>27.000</td>\n",
       "    </tr>\n",
       "    <tr>\n",
       "      <td>measurement_1</td>\n",
       "      <td>5112.0</td>\n",
       "      <td>9.790884</td>\n",
       "      <td>4.034857</td>\n",
       "      <td>0.000</td>\n",
       "      <td>7.00000</td>\n",
       "      <td>9.0000</td>\n",
       "      <td>12.00000</td>\n",
       "      <td>29.000</td>\n",
       "    </tr>\n",
       "    <tr>\n",
       "      <td>measurement_2</td>\n",
       "      <td>5112.0</td>\n",
       "      <td>7.262520</td>\n",
       "      <td>3.157005</td>\n",
       "      <td>0.000</td>\n",
       "      <td>5.00000</td>\n",
       "      <td>7.0000</td>\n",
       "      <td>9.00000</td>\n",
       "      <td>24.000</td>\n",
       "    </tr>\n",
       "    <tr>\n",
       "      <td>measurement_3</td>\n",
       "      <td>5043.0</td>\n",
       "      <td>17.775605</td>\n",
       "      <td>0.994144</td>\n",
       "      <td>14.470</td>\n",
       "      <td>17.10400</td>\n",
       "      <td>17.7610</td>\n",
       "      <td>18.44750</td>\n",
       "      <td>21.267</td>\n",
       "    </tr>\n",
       "    <tr>\n",
       "      <td>measurement_4</td>\n",
       "      <td>5016.0</td>\n",
       "      <td>11.712784</td>\n",
       "      <td>0.989484</td>\n",
       "      <td>8.250</td>\n",
       "      <td>11.04100</td>\n",
       "      <td>11.7170</td>\n",
       "      <td>12.37825</td>\n",
       "      <td>15.102</td>\n",
       "    </tr>\n",
       "    <tr>\n",
       "      <td>measurement_5</td>\n",
       "      <td>5001.0</td>\n",
       "      <td>17.114512</td>\n",
       "      <td>0.996038</td>\n",
       "      <td>13.687</td>\n",
       "      <td>16.43000</td>\n",
       "      <td>17.1160</td>\n",
       "      <td>17.79400</td>\n",
       "      <td>20.620</td>\n",
       "    </tr>\n",
       "    <tr>\n",
       "      <td>measurement_6</td>\n",
       "      <td>4956.0</td>\n",
       "      <td>17.524651</td>\n",
       "      <td>0.999084</td>\n",
       "      <td>12.715</td>\n",
       "      <td>16.84775</td>\n",
       "      <td>17.5175</td>\n",
       "      <td>18.16400</td>\n",
       "      <td>21.329</td>\n",
       "    </tr>\n",
       "    <tr>\n",
       "      <td>measurement_7</td>\n",
       "      <td>4941.0</td>\n",
       "      <td>11.710503</td>\n",
       "      <td>1.007688</td>\n",
       "      <td>7.973</td>\n",
       "      <td>11.03200</td>\n",
       "      <td>11.7050</td>\n",
       "      <td>12.37700</td>\n",
       "      <td>15.269</td>\n",
       "    </tr>\n",
       "    <tr>\n",
       "      <td>measurement_8</td>\n",
       "      <td>4917.0</td>\n",
       "      <td>19.032197</td>\n",
       "      <td>1.001809</td>\n",
       "      <td>15.217</td>\n",
       "      <td>18.36100</td>\n",
       "      <td>19.0280</td>\n",
       "      <td>19.70900</td>\n",
       "      <td>22.482</td>\n",
       "    </tr>\n",
       "    <tr>\n",
       "      <td>measurement_9</td>\n",
       "      <td>4874.0</td>\n",
       "      <td>11.431782</td>\n",
       "      <td>1.006955</td>\n",
       "      <td>7.859</td>\n",
       "      <td>10.75800</td>\n",
       "      <td>11.4290</td>\n",
       "      <td>12.09300</td>\n",
       "      <td>14.940</td>\n",
       "    </tr>\n",
       "    <tr>\n",
       "      <td>measurement_10</td>\n",
       "      <td>4871.0</td>\n",
       "      <td>16.470075</td>\n",
       "      <td>1.705755</td>\n",
       "      <td>9.540</td>\n",
       "      <td>15.30800</td>\n",
       "      <td>16.5270</td>\n",
       "      <td>17.64200</td>\n",
       "      <td>21.761</td>\n",
       "    </tr>\n",
       "    <tr>\n",
       "      <td>measurement_11</td>\n",
       "      <td>4824.0</td>\n",
       "      <td>19.084642</td>\n",
       "      <td>0.980585</td>\n",
       "      <td>15.134</td>\n",
       "      <td>18.41600</td>\n",
       "      <td>19.0840</td>\n",
       "      <td>19.74400</td>\n",
       "      <td>22.207</td>\n",
       "    </tr>\n",
       "    <tr>\n",
       "      <td>measurement_12</td>\n",
       "      <td>4798.0</td>\n",
       "      <td>11.573798</td>\n",
       "      <td>1.539911</td>\n",
       "      <td>6.046</td>\n",
       "      <td>10.49000</td>\n",
       "      <td>11.5270</td>\n",
       "      <td>12.64825</td>\n",
       "      <td>17.663</td>\n",
       "    </tr>\n",
       "    <tr>\n",
       "      <td>measurement_13</td>\n",
       "      <td>4733.0</td>\n",
       "      <td>15.598442</td>\n",
       "      <td>1.002569</td>\n",
       "      <td>12.115</td>\n",
       "      <td>14.91500</td>\n",
       "      <td>15.6030</td>\n",
       "      <td>16.28100</td>\n",
       "      <td>19.371</td>\n",
       "    </tr>\n",
       "    <tr>\n",
       "      <td>measurement_14</td>\n",
       "      <td>4720.0</td>\n",
       "      <td>16.112205</td>\n",
       "      <td>1.394147</td>\n",
       "      <td>10.564</td>\n",
       "      <td>15.10700</td>\n",
       "      <td>16.1775</td>\n",
       "      <td>17.16125</td>\n",
       "      <td>19.974</td>\n",
       "    </tr>\n",
       "    <tr>\n",
       "      <td>measurement_15</td>\n",
       "      <td>4706.0</td>\n",
       "      <td>14.763774</td>\n",
       "      <td>1.596618</td>\n",
       "      <td>9.104</td>\n",
       "      <td>13.68600</td>\n",
       "      <td>14.6530</td>\n",
       "      <td>15.80050</td>\n",
       "      <td>20.294</td>\n",
       "    </tr>\n",
       "    <tr>\n",
       "      <td>measurement_16</td>\n",
       "      <td>4710.0</td>\n",
       "      <td>16.728157</td>\n",
       "      <td>1.542285</td>\n",
       "      <td>10.482</td>\n",
       "      <td>15.72600</td>\n",
       "      <td>16.8935</td>\n",
       "      <td>17.75300</td>\n",
       "      <td>22.696</td>\n",
       "    </tr>\n",
       "    <tr>\n",
       "      <td>measurement_17</td>\n",
       "      <td>4646.0</td>\n",
       "      <td>700.162751</td>\n",
       "      <td>138.170645</td>\n",
       "      <td>196.787</td>\n",
       "      <td>607.25825</td>\n",
       "      <td>701.6950</td>\n",
       "      <td>793.00625</td>\n",
       "      <td>1178.683</td>\n",
       "    </tr>\n",
       "  </tbody>\n",
       "</table>\n",
       "</div>"
      ],
      "text/plain": [
       "                 count        mean         std      min        25%       50%  \\\n",
       "loading         5063.0  128.436423   39.204131   42.000   99.91500  123.0500   \n",
       "attribute_2     5112.0    6.000000    0.000000    6.000    6.00000    6.0000   \n",
       "attribute_3     5112.0    6.000000    0.000000    6.000    6.00000    6.0000   \n",
       "measurement_0   5112.0    7.852308    3.408803    0.000    5.00000    7.0000   \n",
       "measurement_1   5112.0    9.790884    4.034857    0.000    7.00000    9.0000   \n",
       "measurement_2   5112.0    7.262520    3.157005    0.000    5.00000    7.0000   \n",
       "measurement_3   5043.0   17.775605    0.994144   14.470   17.10400   17.7610   \n",
       "measurement_4   5016.0   11.712784    0.989484    8.250   11.04100   11.7170   \n",
       "measurement_5   5001.0   17.114512    0.996038   13.687   16.43000   17.1160   \n",
       "measurement_6   4956.0   17.524651    0.999084   12.715   16.84775   17.5175   \n",
       "measurement_7   4941.0   11.710503    1.007688    7.973   11.03200   11.7050   \n",
       "measurement_8   4917.0   19.032197    1.001809   15.217   18.36100   19.0280   \n",
       "measurement_9   4874.0   11.431782    1.006955    7.859   10.75800   11.4290   \n",
       "measurement_10  4871.0   16.470075    1.705755    9.540   15.30800   16.5270   \n",
       "measurement_11  4824.0   19.084642    0.980585   15.134   18.41600   19.0840   \n",
       "measurement_12  4798.0   11.573798    1.539911    6.046   10.49000   11.5270   \n",
       "measurement_13  4733.0   15.598442    1.002569   12.115   14.91500   15.6030   \n",
       "measurement_14  4720.0   16.112205    1.394147   10.564   15.10700   16.1775   \n",
       "measurement_15  4706.0   14.763774    1.596618    9.104   13.68600   14.6530   \n",
       "measurement_16  4710.0   16.728157    1.542285   10.482   15.72600   16.8935   \n",
       "measurement_17  4646.0  700.162751  138.170645  196.787  607.25825  701.6950   \n",
       "\n",
       "                      75%       max  \n",
       "loading         150.58500   324.570  \n",
       "attribute_2       6.00000     6.000  \n",
       "attribute_3       6.00000     6.000  \n",
       "measurement_0    10.00000    27.000  \n",
       "measurement_1    12.00000    29.000  \n",
       "measurement_2     9.00000    24.000  \n",
       "measurement_3    18.44750    21.267  \n",
       "measurement_4    12.37825    15.102  \n",
       "measurement_5    17.79400    20.620  \n",
       "measurement_6    18.16400    21.329  \n",
       "measurement_7    12.37700    15.269  \n",
       "measurement_8    19.70900    22.482  \n",
       "measurement_9    12.09300    14.940  \n",
       "measurement_10   17.64200    21.761  \n",
       "measurement_11   19.74400    22.207  \n",
       "measurement_12   12.64825    17.663  \n",
       "measurement_13   16.28100    19.371  \n",
       "measurement_14   17.16125    19.974  \n",
       "measurement_15   15.80050    20.294  \n",
       "measurement_16   17.75300    22.696  \n",
       "measurement_17  793.00625  1178.683  "
      ]
     },
     "execution_count": 7,
     "metadata": {},
     "output_type": "execute_result"
    }
   ],
   "source": [
    "df_test.describe().T "
   ]
  },
  {
   "cell_type": "code",
   "execution_count": 8,
   "metadata": {},
   "outputs": [
    {
     "data": {
      "text/html": [
       "<div>\n",
       "<style scoped>\n",
       "    .dataframe tbody tr th:only-of-type {\n",
       "        vertical-align: middle;\n",
       "    }\n",
       "\n",
       "    .dataframe tbody tr th {\n",
       "        vertical-align: top;\n",
       "    }\n",
       "\n",
       "    .dataframe thead th {\n",
       "        text-align: right;\n",
       "    }\n",
       "</style>\n",
       "<table border=\"1\" class=\"dataframe\">\n",
       "  <thead>\n",
       "    <tr style=\"text-align: right;\">\n",
       "      <th></th>\n",
       "      <th>measurement_3</th>\n",
       "      <th>measurement_4</th>\n",
       "      <th>measurement_5</th>\n",
       "      <th>measurement_6</th>\n",
       "      <th>measurement_7</th>\n",
       "      <th>measurement_8</th>\n",
       "      <th>measurement_9</th>\n",
       "      <th>measurement_10</th>\n",
       "      <th>measurement_11</th>\n",
       "      <th>measurement_12</th>\n",
       "      <th>measurement_13</th>\n",
       "      <th>measurement_14</th>\n",
       "      <th>measurement_15</th>\n",
       "      <th>measurement_16</th>\n",
       "      <th>measurement_17</th>\n",
       "    </tr>\n",
       "  </thead>\n",
       "  <tbody>\n",
       "    <tr>\n",
       "      <td>mean</td>\n",
       "      <td>17.795</td>\n",
       "      <td>11.737</td>\n",
       "      <td>17.131</td>\n",
       "      <td>17.507</td>\n",
       "      <td>11.718</td>\n",
       "      <td>19.023</td>\n",
       "      <td>11.430</td>\n",
       "      <td>16.034</td>\n",
       "      <td>19.193</td>\n",
       "      <td>11.733</td>\n",
       "      <td>15.666</td>\n",
       "      <td>16.033</td>\n",
       "      <td>15.050</td>\n",
       "      <td>16.397</td>\n",
       "      <td>701.531</td>\n",
       "    </tr>\n",
       "    <tr>\n",
       "      <td>std</td>\n",
       "      <td>1.003</td>\n",
       "      <td>0.998</td>\n",
       "      <td>0.997</td>\n",
       "      <td>0.995</td>\n",
       "      <td>0.999</td>\n",
       "      <td>1.010</td>\n",
       "      <td>0.997</td>\n",
       "      <td>1.311</td>\n",
       "      <td>1.622</td>\n",
       "      <td>1.475</td>\n",
       "      <td>1.188</td>\n",
       "      <td>1.514</td>\n",
       "      <td>1.533</td>\n",
       "      <td>1.740</td>\n",
       "      <td>119.520</td>\n",
       "    </tr>\n",
       "  </tbody>\n",
       "</table>\n",
       "</div>"
      ],
      "text/plain": [
       "      measurement_3  measurement_4  measurement_5  measurement_6  \\\n",
       "mean         17.795         11.737         17.131         17.507   \n",
       "std           1.003          0.998          0.997          0.995   \n",
       "\n",
       "      measurement_7  measurement_8  measurement_9  measurement_10  \\\n",
       "mean         11.718         19.023         11.430          16.034   \n",
       "std           0.999          1.010          0.997           1.311   \n",
       "\n",
       "      measurement_11  measurement_12  measurement_13  measurement_14  \\\n",
       "mean          19.193          11.733          15.666          16.033   \n",
       "std            1.622           1.475           1.188           1.514   \n",
       "\n",
       "      measurement_15  measurement_16  measurement_17  \n",
       "mean          15.050          16.397         701.531  \n",
       "std            1.533           1.740         119.520  "
      ]
     },
     "execution_count": 8,
     "metadata": {},
     "output_type": "execute_result"
    }
   ],
   "source": [
    "df_train.describe(include='all').loc['mean': 'std', 'measurement_3':'measurement_17'].round(3)"
   ]
  },
  {
   "cell_type": "markdown",
   "metadata": {
    "id": "HlG53x4OPZwW"
   },
   "source": [
    "# 전처리"
   ]
  },
  {
   "cell_type": "markdown",
   "metadata": {},
   "source": [
    "**출제자 노트**\n",
    "\n",
    "전처리 과정은 문제에서 제공하는 수식을 해석하고 의도를 파악하는 것을 연습하는데에 중점을 두었습니다. 실제 시험에서도 문제 설명량의 커서 이에 대한 압박을 겪을 수 있습니다. 이에 당황하여 솔루션 찾는데 힘들 수 있지만, 이를 제대로 해석하고 제공하는 힌트와 가이드를 보고 대처한다면, 생각외로 쉽게 해결책을 마련할 수 있습니다."
   ]
  },
  {
   "cell_type": "markdown",
   "metadata": {
    "id": "VmgDHLNVPo69"
   },
   "source": [
    "## 단계 1"
   ]
  },
  {
   "cell_type": "markdown",
   "metadata": {},
   "source": [
    "### 방법 1.\n",
    "\n",
    "DataFrame 단위로 추가"
   ]
  },
  {
   "cell_type": "code",
   "execution_count": 9,
   "metadata": {},
   "outputs": [],
   "source": [
    "df_basetable = df_train.copy()\n",
    "df_basetable[['isna_{}'.format(i) for i in range(3, 18)]] = \\\n",
    "             df_train[['measurement_{}'.format(i) for i in range(3, 18)]].isna()"
   ]
  },
  {
   "cell_type": "markdown",
   "metadata": {},
   "source": [
    "### 방법 2. \n",
    "\n",
    "pandas 버젼에 따라, 복수의 Series를 추가할 경우 데이터프레임이 파편화 되어 성능이 떨어진다는 경고를 받을 수 있다.\n",
    "\n",
    "성능 저하를 피하기 위한 방법으로 Series를 만들어 두고 나중에 concat으로 결합하면 성능 저하를 막을 수 있다."
   ]
  },
  {
   "cell_type": "code",
   "execution_count": 10,
   "metadata": {
    "id": "i9WZpZPQP71u"
   },
   "outputs": [],
   "source": [
    "# table의 다수의 컬럼을 직접 추가하면 성능 이슈 경고가 나오니, 이를 피하기 위해 concat 메소드를 씁니다.\n",
    "na_cols = [df_train]\n",
    "for i in range(3, 18):\n",
    "    na_cols.append(df_train['measurement_{}'.format(i)].isna().rename('isna_{}'.format(i)))\n",
    "df_basetable = pd.concat(na_cols, axis=1) # 최종 과정을 거친 데이터셋의 명인 basetable을 따서 df_basetable을  생성"
   ]
  },
  {
   "cell_type": "markdown",
   "metadata": {},
   "source": [
    "### 방법 3.\n",
    "\n",
    "직접 추가.\n",
    "\n",
    "이 경우에는 추가하는 열의 수가 많지 않으므로, 성능 Warning이 발생하지 않는다."
   ]
  },
  {
   "cell_type": "code",
   "execution_count": 11,
   "metadata": {},
   "outputs": [],
   "source": [
    "df_basetable = df_train.copy()\n",
    "for i in range(3, 18):\n",
    "    df_basetable['isna_{}'.format(i)] = df_train['measurement_{}'.format(i)].isna()"
   ]
  },
  {
   "cell_type": "markdown",
   "metadata": {
    "id": "qTuOI28auiZo"
   },
   "source": [
    "## 단계 2"
   ]
  },
  {
   "cell_type": "markdown",
   "metadata": {},
   "source": [
    "**출제자 노트** \n",
    "\n",
    "원래 내용은 IterativeImputer를 사용하지 않고, LinearRegression을 이용하여 보다 정교한 결측값을 복원하는 것이 었는데, 복잡도가 크다는 의견이 있었고, 이 점이 타당하다고 판단되어 이를 IterativeImputer를 이용하는 방향으로 바꾼 것입니다. 이전의 문제를 버리기에는 아까워서 소개를 합니다."
   ]
  },
  {
   "cell_type": "code",
   "execution_count": 12,
   "metadata": {
    "colab": {
     "base_uri": "https://localhost:8080/"
    },
    "id": "pxr1d47-XL5H",
    "outputId": "3c7ca94a-735d-4800-ff22-2f6c8992ae39"
   },
   "outputs": [
    {
     "name": "stdout",
     "output_type": "stream",
     "text": [
      "\n"
     ]
    }
   ],
   "source": [
    "\"\"\"\n",
    "본 내용은 실행시 이후 결과가 다를 수 있어, 혼란을 피하기 위해 주석 처리합니다.\n",
    "\n",
    "from sklearn.linear_model import Lasso\n",
    "from sklearn.metrics import r2_score\n",
    "\n",
    "m_cols = ['measurement_{}'.format(i) for i in range(3, 10)] # 편의를 위해 measurement3~measurement9까지 컬럼값을 담는 리스트를 만든다.\n",
    "df_examine = df_org.loc[df_org[m_cols + ['measurement_17']].notna().all(axis=1)] # m_cols와 measuement_17에서 결측치가 없는 데이터프레임 df_examine을 만든다.\n",
    "df_org['measurement_17'].isna().sum() # measurement_17의 결측치 확인\n",
    "len(df_examine), len(df_org)\n",
    "\n",
    "lr = Lasso()\n",
    "pc_list = [] # coef 데이터프레임 구성을 위해 처리한 product_code 저장 \n",
    "coef_list = [] # 마찬가지로 회귀계수 저장\n",
    "impute_cnt = []\n",
    "for k, v in df_examine.groupby('product_code'): # groupby를 이용하여 product_code 별로 구분하여 데이터프레임의 행들을 나누어 가져온다.\n",
    "    lr.fit(v[m_cols],v['measurement_17']) # 학습\n",
    "    print(k, lr.coef_, r2_score(v['measurement_17'], lr.predict(v[m_cols]))) # 결과 확인\n",
    "    coef_ = lr.coef_.copy() # 복사\n",
    "    avail_cols = np.array(m_cols)[coef_ != 0] # 연관성이 있는 속성명을 뽑아 낸다, 작업을 편하게 하기 위해 list를 numpy array로 바꾼다.\n",
    "    pc_list.append(k) # 처리한 product_code를 저장\n",
    "    coef_list.append(coef_) # 도출한 회귀계수 저장\n",
    "    # 현재 복원 스텝을 진행하는 product_code 에서 연관성이 있는 속성이 결측이 없고 measurement_17은 결측인 행을 뽑기 위한  Boolean 인덱싱 행을  만든다.\n",
    "    target_cond = (df_basetable['product_code'] == k) & df_basetable[avail_cols].notna().all(axis=1) & df_basetable['measurement_17'].isna()\n",
    "    impute_cnt.append(target_cond.sum())\n",
    "    # 결측치를 예측하고 입력한다. loc를 행을 선택후 값을 지정할 때에, 대입하는 값의 수가 일치하면, 인덱스와 상관없이 순서대로 대입이 되게 된다. \n",
    "    df_basetable.loc[target_cond, 'measurement_17'] = lr.predict(df_basetable.loc[target_cond][m_cols].fillna(0))\n",
    "df_coef = pd.DataFrame(np.vstack(coef_list), columns=lr.feature_names_in_, index=pc_list) # coef 데이터프레밍 생성\n",
    "df_coef.head()\n",
    "\n",
    "\"\"\"\n",
    "print(\"\")"
   ]
  },
  {
   "cell_type": "code",
   "execution_count": 13,
   "metadata": {},
   "outputs": [],
   "source": [
    "df_basetable_bak = df_basetable.copy() # 여러 방법을 보이기 위해 백업"
   ]
  },
  {
   "cell_type": "markdown",
   "metadata": {},
   "source": [
    "### 방법1"
   ]
  },
  {
   "cell_type": "code",
   "execution_count": 14,
   "metadata": {
    "id": "omz6poFPZrEX"
   },
   "outputs": [],
   "source": [
    "# train에 나왔던 product_code가 나오지 않으므로 test는 별도의 복원 모델을 사용하면 됩니다.\n",
    "# 요건 Kaggle 형에서\n",
    "from sklearn.experimental import enable_iterative_imputer\n",
    "from sklearn.impute import IterativeImputer\n",
    "from sklearn.linear_model import LinearRegression\n",
    "\n",
    "itr_cols = ['measurement_{}'.format(i) for i in range(3, 10)] + ['measurement_17']\n",
    "for c in df_basetable['product_code'].unique():\n",
    "    imp = IterativeImputer(LinearRegression(), random_state=123)\n",
    "    # df_basetable.loc[df_basetable['product_code']][iter_cols] = ... 은 reference warning을 유발시키고, 오작동의 소지가 있습니다.\n",
    "    # 일부분을 대치할 경우 아래처럼 loc[filter 조건, 컬럼명]으로 대치를 권고합니다 (Pandas Guide 내용) \n",
    "    df_basetable.loc[df_basetable['product_code'] == c, itr_cols] = \\\n",
    "            imp.fit_transform(df_basetable.loc[df_basetable['product_code'] == c, itr_cols])"
   ]
  },
  {
   "cell_type": "markdown",
   "metadata": {},
   "source": [
    "### 방법2"
   ]
  },
  {
   "cell_type": "code",
   "execution_count": 15,
   "metadata": {},
   "outputs": [],
   "source": [
    "# GroupBy를 이용한 버젼\n",
    "df_basetable = df_basetable_bak.copy()\n",
    "itr_cols = ['measurement_{}'.format(i) for i in range(3, 10)] + ['measurement_17']\n",
    "df_basetable[itr_cols] = df_basetable.groupby('product_code', group_keys=False)[itr_cols]\\\n",
    "            .apply(lambda x: pd.DataFrame(IterativeImputer(LinearRegression(), random_state=123).fit_transform(x[itr_cols]), \n",
    "                                         index=x.index, columns=itr_cols))"
   ]
  },
  {
   "cell_type": "markdown",
   "metadata": {
    "id": "84koLHzHw_dA"
   },
   "source": [
    "## 단계 3\n",
    "\n",
    " 만일 train과 test에  product_code가 섞여 나온다면, train과 test의 내용을 결합하여 평균을 구해야겠지만,\n",
    " \n",
    " train에 나왔던 product_code가 test에는 나오지 않으므로 train에 썼던 평균을 테스트에 쓸 필요는 없어 별도로 진행 가능합니다\n",
    " \n",
    " 데이터의 구성을 간단하게 살펴 보는 것이 구현 복잡도를 결정할 수 있으니 요약 정보를 유심히 보는 것이 \n",
    " \n",
    " 이런 경우에 도움이 됩니다.\n",
    " \n",
    " test는 Kaggle형 에서..."
   ]
  },
  {
   "cell_type": "code",
   "execution_count": 16,
   "metadata": {},
   "outputs": [],
   "source": [
    "# 여러 방법을 시도해도 문제 없게 처리 이전에 값을 저장해 둔 것이니, \n",
    "# 실전에서는 불필요한 사항입니다. 이점 유념 바랍니다.\n",
    "df_basetable_bak = df_basetable.copy() # (실습을 위한 코드)"
   ]
  },
  {
   "cell_type": "markdown",
   "metadata": {},
   "source": [
    "### 방법 1\n",
    "\n",
    "Groupby - Transform을 이용한 방법\n",
    "\n",
    "대상열을 한번에"
   ]
  },
  {
   "cell_type": "code",
   "execution_count": 17,
   "metadata": {
    "id": "TeHssWb_-Zex"
   },
   "outputs": [],
   "source": [
    "df_basetable = df_basetable_bak.copy() # 여러 번 실행해 봐도 문제 없도록 처리 이전 값으로 복원. (실습을 위한 코드)\n",
    "\n",
    "cols = ['measurement_{}'.format(i) for i in range(10, 17)]\n",
    "# groupby를 통해 나온 집계값을 바로 사용할 경우에 transform을 이용하면 편합니다.\n",
    "df_basetable[cols] = df_basetable.groupby('product_code')[cols].transform(lambda x: x.fillna(x.mean()))"
   ]
  },
  {
   "cell_type": "code",
   "execution_count": 18,
   "metadata": {
    "colab": {
     "base_uri": "https://localhost:8080/",
     "height": 112
    },
    "id": "7j7K9URey8g_",
    "outputId": "90275daa-6488-4fda-e2c8-d51b578c6d94"
   },
   "outputs": [
    {
     "data": {
      "text/html": [
       "<div>\n",
       "<style scoped>\n",
       "    .dataframe tbody tr th:only-of-type {\n",
       "        vertical-align: middle;\n",
       "    }\n",
       "\n",
       "    .dataframe tbody tr th {\n",
       "        vertical-align: top;\n",
       "    }\n",
       "\n",
       "    .dataframe thead th {\n",
       "        text-align: right;\n",
       "    }\n",
       "</style>\n",
       "<table border=\"1\" class=\"dataframe\">\n",
       "  <thead>\n",
       "    <tr style=\"text-align: right;\">\n",
       "      <th></th>\n",
       "      <th>3</th>\n",
       "      <th>4</th>\n",
       "      <th>5</th>\n",
       "      <th>6</th>\n",
       "      <th>7</th>\n",
       "      <th>8</th>\n",
       "      <th>9</th>\n",
       "      <th>10</th>\n",
       "      <th>11</th>\n",
       "      <th>12</th>\n",
       "      <th>13</th>\n",
       "      <th>14</th>\n",
       "      <th>15</th>\n",
       "      <th>16</th>\n",
       "      <th>17</th>\n",
       "    </tr>\n",
       "  </thead>\n",
       "  <tbody>\n",
       "    <tr>\n",
       "      <td>mean</td>\n",
       "      <td>17.796</td>\n",
       "      <td>11.736</td>\n",
       "      <td>17.131</td>\n",
       "      <td>17.506</td>\n",
       "      <td>11.719</td>\n",
       "      <td>19.022</td>\n",
       "      <td>11.434</td>\n",
       "      <td>16.034</td>\n",
       "      <td>19.194</td>\n",
       "      <td>11.734</td>\n",
       "      <td>15.666</td>\n",
       "      <td>16.033</td>\n",
       "      <td>15.051</td>\n",
       "      <td>16.398</td>\n",
       "      <td>701.768</td>\n",
       "    </tr>\n",
       "    <tr>\n",
       "      <td>std</td>\n",
       "      <td>0.997</td>\n",
       "      <td>0.994</td>\n",
       "      <td>0.994</td>\n",
       "      <td>0.992</td>\n",
       "      <td>0.993</td>\n",
       "      <td>1.005</td>\n",
       "      <td>0.997</td>\n",
       "      <td>1.278</td>\n",
       "      <td>1.579</td>\n",
       "      <td>1.433</td>\n",
       "      <td>1.149</td>\n",
       "      <td>1.461</td>\n",
       "      <td>1.478</td>\n",
       "      <td>1.671</td>\n",
       "      <td>119.180</td>\n",
       "    </tr>\n",
       "  </tbody>\n",
       "</table>\n",
       "</div>"
      ],
      "text/plain": [
       "           3       4       5       6       7       8       9      10      11  \\\n",
       "mean  17.796  11.736  17.131  17.506  11.719  19.022  11.434  16.034  19.194   \n",
       "std    0.997   0.994   0.994   0.992   0.993   1.005   0.997   1.278   1.579   \n",
       "\n",
       "          12      13      14      15      16       17  \n",
       "mean  11.734  15.666  16.033  15.051  16.398  701.768  \n",
       "std    1.433   1.149   1.461   1.478   1.671  119.180  "
      ]
     },
     "execution_count": 18,
     "metadata": {},
     "output_type": "execute_result"
    }
   ],
   "source": [
    "m_cols = ['measurement_{}'.format(i) for i in range(0, 18)]\n",
    "# (1) 평균을 구한다.\n",
    "# (2) 소수점 3 째자리 까지 반올림 한다.\n",
    "# (3) 컬럼명을 바꾼다.\n",
    "df_basetable[m_cols[3:]].apply(['mean', 'std'])\\\n",
    "                .applymap(lambda x: round(x, 3))\\\n",
    "                .rename(columns=lambda x: x.split('_')[1])"
   ]
  },
  {
   "cell_type": "markdown",
   "metadata": {},
   "source": [
    "### 방법 2\n",
    "\n",
    "반복문을 이용한 방법\n",
    "\n",
    "열별로 따로 따로 처리"
   ]
  },
  {
   "cell_type": "code",
   "execution_count": 19,
   "metadata": {},
   "outputs": [],
   "source": [
    "# 방법 2 - 반복문을 이용\n",
    "# 위에 방법 보다 직관적이지만 구현할 것이 많다.\n",
    "df_basetable = df_basetable_bak.copy() # 처리 이전 값 복원\n",
    "for i in df_basetable['product_code'].unique():\n",
    "    df_basetable.loc[df_basetable['product_code'] == i, m_cols] = \\\n",
    "            df_basetable.loc[df_basetable['product_code'] == i, m_cols].fillna(\n",
    "                df_basetable.loc[df_basetable['product_code'] == i, m_cols].mean()\n",
    "            )"
   ]
  },
  {
   "cell_type": "code",
   "execution_count": 20,
   "metadata": {},
   "outputs": [
    {
     "data": {
      "text/html": [
       "<div>\n",
       "<style scoped>\n",
       "    .dataframe tbody tr th:only-of-type {\n",
       "        vertical-align: middle;\n",
       "    }\n",
       "\n",
       "    .dataframe tbody tr th {\n",
       "        vertical-align: top;\n",
       "    }\n",
       "\n",
       "    .dataframe thead th {\n",
       "        text-align: right;\n",
       "    }\n",
       "</style>\n",
       "<table border=\"1\" class=\"dataframe\">\n",
       "  <thead>\n",
       "    <tr style=\"text-align: right;\">\n",
       "      <th></th>\n",
       "      <th>3</th>\n",
       "      <th>4</th>\n",
       "      <th>5</th>\n",
       "      <th>6</th>\n",
       "      <th>7</th>\n",
       "      <th>8</th>\n",
       "      <th>9</th>\n",
       "      <th>10</th>\n",
       "      <th>11</th>\n",
       "      <th>12</th>\n",
       "      <th>13</th>\n",
       "      <th>14</th>\n",
       "      <th>15</th>\n",
       "      <th>16</th>\n",
       "      <th>17</th>\n",
       "    </tr>\n",
       "  </thead>\n",
       "  <tbody>\n",
       "    <tr>\n",
       "      <td>mean</td>\n",
       "      <td>17.796</td>\n",
       "      <td>11.736</td>\n",
       "      <td>17.131</td>\n",
       "      <td>17.506</td>\n",
       "      <td>11.719</td>\n",
       "      <td>19.022</td>\n",
       "      <td>11.434</td>\n",
       "      <td>16.034</td>\n",
       "      <td>19.194</td>\n",
       "      <td>11.734</td>\n",
       "      <td>15.666</td>\n",
       "      <td>16.033</td>\n",
       "      <td>15.051</td>\n",
       "      <td>16.398</td>\n",
       "      <td>701.768</td>\n",
       "    </tr>\n",
       "    <tr>\n",
       "      <td>std</td>\n",
       "      <td>0.997</td>\n",
       "      <td>0.994</td>\n",
       "      <td>0.994</td>\n",
       "      <td>0.992</td>\n",
       "      <td>0.993</td>\n",
       "      <td>1.005</td>\n",
       "      <td>0.997</td>\n",
       "      <td>1.278</td>\n",
       "      <td>1.579</td>\n",
       "      <td>1.433</td>\n",
       "      <td>1.149</td>\n",
       "      <td>1.461</td>\n",
       "      <td>1.478</td>\n",
       "      <td>1.671</td>\n",
       "      <td>119.180</td>\n",
       "    </tr>\n",
       "  </tbody>\n",
       "</table>\n",
       "</div>"
      ],
      "text/plain": [
       "           3       4       5       6       7       8       9      10      11  \\\n",
       "mean  17.796  11.736  17.131  17.506  11.719  19.022  11.434  16.034  19.194   \n",
       "std    0.997   0.994   0.994   0.992   0.993   1.005   0.997   1.278   1.579   \n",
       "\n",
       "          12      13      14      15      16       17  \n",
       "mean  11.734  15.666  16.033  15.051  16.398  701.768  \n",
       "std    1.433   1.149   1.461   1.478   1.671  119.180  "
      ]
     },
     "execution_count": 20,
     "metadata": {},
     "output_type": "execute_result"
    }
   ],
   "source": [
    "m_cols = ['measurement_{}'.format(i) for i in range(0, 18)]\n",
    "df_basetable[m_cols[3:]].apply(['mean', 'std'])\\\n",
    "                .applymap(lambda x: round(x, 3))\\\n",
    "                .rename(columns=lambda x: x.split('_')[1])"
   ]
  },
  {
   "cell_type": "markdown",
   "metadata": {
    "id": "9X-QzE9wRZzn"
   },
   "source": [
    "# 문제 1"
   ]
  },
  {
   "cell_type": "markdown",
   "metadata": {},
   "source": [
    "**출제자 노트**\n",
    "\n",
    "확률, 통계, 검정의 개념을 하나의 문제에 담았습니다. 복합적인 응용을 연습하고자 고안한 문제입니다. 단계를 두어 원하는 결과를 도출할 수 있도록 했으니 각 단계에서 필요로 하는 개념을 생각하여 적용하면 답을 뽑을 수 있습니다. 이 문제를 접근법은 Lv3 이론 교재 47-49페이지를 참조하면 됩니다."
   ]
  },
  {
   "cell_type": "markdown",
   "metadata": {
    "id": "wX826iTkRxdf"
   },
   "source": [
    "## 단계 1-1"
   ]
  },
  {
   "cell_type": "code",
   "execution_count": 63,
   "metadata": {},
   "outputs": [],
   "source": [
    "P_true = 0.2114\n",
    "P_var = P_true * (1 - P_true)"
   ]
  },
  {
   "cell_type": "code",
   "execution_count": 64,
   "metadata": {
    "colab": {
     "base_uri": "https://localhost:8080/"
    },
    "id": "LcGO3OHjRZbY",
    "outputId": "ee9397e0-67d7-4105-e90e-e496df8ada22"
   },
   "outputs": [
    {
     "data": {
      "text/plain": [
       "(312, 0.14423076923076922)"
      ]
     },
     "execution_count": 64,
     "metadata": {},
     "output_type": "execute_result"
    }
   ],
   "source": [
    "n_samples = df_basetable['isna_3'].sum()\n",
    "P_missing_true = df_basetable.loc[df_basetable['isna_3'], 'failure'].mean()\n",
    "n_samples, P_missing_true"
   ]
  },
  {
   "cell_type": "code",
   "execution_count": 65,
   "metadata": {
    "colab": {
     "base_uri": "https://localhost:8080/"
    },
    "id": "nvMrw-araVNS",
    "outputId": "467ba89a-34f1-470b-89c1-83708237c830"
   },
   "outputs": [],
   "source": [
    "# 위 사건은 베르눌리 사건에 해당한다, \n",
    "# P_missing_true 확률이면서, 평균에 해당된다.\n",
    "\n",
    "P_missing_var = P_true * (1- P_true) / n_samples\n",
    "P_missing_std = P_missing_var ** 0.5"
   ]
  },
  {
   "cell_type": "code",
   "execution_count": 66,
   "metadata": {
    "colab": {
     "base_uri": "https://localhost:8080/"
    },
    "id": "Cuo3h3zPftqr",
    "outputId": "2e2b9018-6dfd-4dec-ae62-080376b5872c"
   },
   "outputs": [
    {
     "data": {
      "text/plain": [
       "(0.14423076923076922, 0.0036630709140241546)"
      ]
     },
     "execution_count": 66,
     "metadata": {},
     "output_type": "execute_result"
    }
   ],
   "source": [
    "# 방법.1\n",
    "from scipy.stats import norm\n",
    "\n",
    "if P_missing_true < P_true:\n",
    "    pvalue = norm.cdf(P_missing_true, loc=P_true, scale=P_missing_std) * 2\n",
    "else:\n",
    "    pvalue = (1 - norm.cdf(P_missing_true, loc=P_true, scale=P_missing_std)) * 2\n",
    "P_missing_true, pvalue"
   ]
  },
  {
   "cell_type": "markdown",
   "metadata": {},
   "source": [
    "### 방법 2"
   ]
  },
  {
   "cell_type": "code",
   "execution_count": 67,
   "metadata": {},
   "outputs": [
    {
     "data": {
      "text/plain": [
       "0.0036630709140241546"
      ]
     },
     "execution_count": 67,
     "metadata": {},
     "output_type": "execute_result"
    }
   ],
   "source": [
    "# 방법.2 표준화\n",
    "pvalue = norm.cdf(-abs((P_missing_true - P_true) /  P_missing_std)) * 2\n",
    "pvalue"
   ]
  },
  {
   "cell_type": "markdown",
   "metadata": {},
   "source": [
    "### 방법 3\n",
    "\n",
    "이론 수업 때 썼던 statsmodels에 있는 함수를 이용한 방법"
   ]
  },
  {
   "cell_type": "code",
   "execution_count": 68,
   "metadata": {},
   "outputs": [
    {
     "data": {
      "text/plain": [
       "(-2.905807189028007, 0.0036630709140241546)"
      ]
     },
     "execution_count": 68,
     "metadata": {},
     "output_type": "execute_result"
    }
   ],
   "source": [
    "from statsmodels.stats.proportion import proportions_ztest\n",
    "\n",
    "proportions_ztest(count=df_basetable.loc[df_basetable['isna_3'], 'failure'].sum(), nobs=n_samples,\n",
    "                     value=P_true, prop_var=P_true, alternative='two-sided')"
   ]
  },
  {
   "cell_type": "code",
   "execution_count": 77,
   "metadata": {},
   "outputs": [
    {
     "data": {
      "image/png": "[encoded data removed]",
      "text/plain": [
       "<Figure size 640x480 with 1 Axes>"
      ]
     },
     "metadata": {},
     "output_type": "display_data"
    }
   ],
   "source": [
    "# 표준정규 분포를 이용한 pvalue 도출을 그래프로 설명\n",
    "col = 'isna_{}'.format(4)\n",
    "P_var = P_true * (1 - P_true)\n",
    "n_samples = df_basetable[col].sum()\n",
    "P_missing_true = df_basetable.loc[df_basetable[col], 'failure'].mean()\n",
    "P_missing_var = P_var / n_samples\n",
    "P_missing_std = P_missing_var ** 0.5\n",
    "\n",
    "stat = -abs((P_missing_true - P_true) / P_missing_std)\n",
    "\n",
    "plt.plot(np.linspace(-5, 5, 100), norm.pdf(np.linspace(-5, 5, 100)))\n",
    "plt.axvline(stat, color='red', linestyle='--')\n",
    "plt.text(stat, 0.03, str(stat)[:7])\n",
    "plt.axvline(-stat, color='red', linestyle='--')\n",
    "plt.text(-stat, 0.01, str(-stat)[:6])\n",
    "plt.fill_between(np.linspace(-5, stat, 100), np.zeros(shape=100),\n",
    "                norm.pdf(np.linspace(-5, stat, 100)), color='orange')\n",
    "plt.fill_between(np.linspace(-stat, 5, 100), np.zeros(shape=100),\n",
    "                norm.pdf(np.linspace(-stat, 5, 100)), color='orange')\n",
    "\n",
    "plt.show()"
   ]
  },
  {
   "cell_type": "markdown",
   "metadata": {
    "id": "O-9ee5BubHaJ"
   },
   "source": [
    "## 단계 1-2"
   ]
  },
  {
   "cell_type": "code",
   "execution_count": 70,
   "metadata": {
    "colab": {
     "base_uri": "https://localhost:8080/"
    },
    "id": "UwHl7W5KhkER",
    "outputId": "2974951b-e7bc-42d6-b0fe-7b3bda330c92"
   },
   "outputs": [
    {
     "name": "stdout",
     "output_type": "stream",
     "text": [
      "3 0.14423076923076922 312 0.0036630709140241546\n",
      "4 0.23755656108597284 442 0.17803686833140808 x\n",
      "5 0.24955752212389382 565 0.026325008335499278\n",
      "6 0.215625 640 0.793491357072205 x\n",
      "7 0.2245430809399478 766 0.37298091572329806 x\n",
      "8 0.20164126611957797 853 0.48514534123655306 x\n",
      "9 0.21840242669362994 989 0.589649524697301 x\n",
      "10 0.22096317280453256 1059 0.44594047726157915 x\n",
      "11 0.21016949152542372 1180 0.9175464043670771 x\n",
      "12 0.21833721833721834 1287 0.5421744277936988 x\n",
      "13 0.2064516129032258 1395 0.6507952588133231 x\n",
      "14 0.21862348178137653 1482 0.49582912857498873 x\n",
      "15 0.2114784778540237 1603 0.9938599942603648 x\n",
      "16 0.2066744730679157 1708 0.6324265724265041 x\n"
     ]
    },
    {
     "data": {
      "text/plain": [
       "(['isna_3', 'isna_5'], [0.0036630709140241546, 0.026325008335499278])"
      ]
     },
     "execution_count": 70,
     "metadata": {},
     "output_type": "execute_result"
    }
   ],
   "source": [
    "sel_na_feat = []\n",
    "pvalue_sum = []\n",
    "\n",
    "for i in range(3, 17):\n",
    "    col = 'isna_{}'.format(i)\n",
    "    n_samples = df_basetable[col].sum()\n",
    "    P_missing_true = df_basetable.loc[df_basetable[col], 'failure'].mean()\n",
    "    P_missing_var = P_var / n_samples\n",
    "    P_missing_std = P_missing_var ** 0.5\n",
    "    \n",
    "    stats = -abs((P_missing_true - P_true) / P_missing_std)\n",
    "    pvalue = norm.cdf(stats) * 2\n",
    "    if pvalue < 0.05:\n",
    "        print(i, P_missing_true, n_samples, pvalue)\n",
    "        sel_na_feat.append(col)\n",
    "        pvalue_sum.append(pvalue)\n",
    "    else:\n",
    "        print(i, P_missing_true, n_samples, pvalue, 'x')\n",
    "sel_na_feat, pvalue_sum"
   ]
  },
  {
   "cell_type": "code",
   "execution_count": 29,
   "metadata": {
    "colab": {
     "base_uri": "https://localhost:8080/"
    },
    "id": "WUOsqHZEkfvo",
    "outputId": "5acd7a67-dec6-4330-c6ac-56895a0ad0cc"
   },
   "outputs": [
    {
     "data": {
      "text/plain": [
       "0.029988079249523434"
      ]
     },
     "execution_count": 29,
     "metadata": {},
     "output_type": "execute_result"
    }
   ],
   "source": [
    "np.sum(pvalue_sum)"
   ]
  },
  {
   "cell_type": "markdown",
   "metadata": {},
   "source": [
    "## 단계 1-3"
   ]
  },
  {
   "cell_type": "code",
   "execution_count": 30,
   "metadata": {
    "colab": {
     "base_uri": "https://localhost:8080/",
     "height": 300
    },
    "id": "BZD_Ycd5k8SR",
    "outputId": "40b34160-56d3-4abe-c25d-bf9afebf049f"
   },
   "outputs": [],
   "source": [
    "df_prob1 = df_basetable.assign(\n",
    "    na_1 = lambda x: x['isna_3'],\n",
    "    na_2 = lambda x: x['isna_5']\n",
    ")"
   ]
  },
  {
   "cell_type": "markdown",
   "metadata": {},
   "source": [
    "답\n",
    "\n",
    "**시험장: 0.030 / BDC: 0.030**"
   ]
  },
  {
   "cell_type": "markdown",
   "metadata": {
    "id": "5ooCnr1Vi9YL"
   },
   "source": [
    "## 단계 3 (Optional)\n",
    "\n",
    "본 분석과 상관은 없지만, 행이 지닌 결측치의 수가 좋은 속성이 될 수 있어, 참고 삼아 문제를 만들어 봤습니다."
   ]
  },
  {
   "cell_type": "code",
   "execution_count": 31,
   "metadata": {
    "colab": {
     "base_uri": "https://localhost:8080/"
    },
    "id": "42MDbCxIkV73",
    "outputId": "2a42e1d5-7437-4dbd-81d9-3c19869ef7f7"
   },
   "outputs": [
    {
     "data": {
      "text/plain": [
       "(10.259983114743783,\n",
       " 0.11412193815222517,\n",
       " 6,\n",
       " array([[8.56774466e+03, 2.29725534e+03],\n",
       "        [5.94734747e+03, 1.59465253e+03],\n",
       "        [1.95563799e+03, 5.24362010e+02],\n",
       "        [4.03744617e+02, 1.08255383e+02],\n",
       "        [4.17938764e+01, 1.12061236e+01],\n",
       "        [3.94281853e+00, 1.05718147e+00],\n",
       "        [7.88563706e-01, 2.11436294e-01]]))"
      ]
     },
     "execution_count": 31,
     "metadata": {},
     "output_type": "execute_result"
    }
   ],
   "source": [
    "from scipy.stats import chi2_contingency\n",
    "df_conti_na = pd.crosstab(index=df_basetable[['isna_{}'.format(i) for i in range(3, 17)]].sum(axis=1),\n",
    "                          columns=df_basetable['failure'])\n",
    "chi2_contingency(df_conti_na) "
   ]
  },
  {
   "cell_type": "markdown",
   "metadata": {},
   "source": [
    "검정 결과에 따라, 결측치 수와 failure는 독립이라고 할수 없어 failure를 구분하기에는 적절하지 않다고 판단됩니다."
   ]
  },
  {
   "cell_type": "markdown",
   "metadata": {
    "id": "6BiHbT8wPepf"
   },
   "source": [
    "# 문제 2"
   ]
  },
  {
   "cell_type": "markdown",
   "metadata": {},
   "source": [
    "**출제자 노트**\n",
    "\n",
    "시험에서 만날 수 있는 통계 검정을 하나의 세트로 구성한 문제입니다. 통계 검정 함수를 연습하여 대응력을 높혀 봅시다."
   ]
  },
  {
   "cell_type": "markdown",
   "metadata": {
    "id": "1a6h3NOqHJj3"
   },
   "source": [
    "## 단계 2-1"
   ]
  },
  {
   "cell_type": "code",
   "execution_count": 32,
   "metadata": {
    "colab": {
     "base_uri": "https://localhost:8080/"
    },
    "id": "WedrtuvJHYSC",
    "outputId": "80a28f12-1b48-4085-a6e0-91659295d008"
   },
   "outputs": [
    {
     "data": {
      "text/plain": [
       "21257"
      ]
     },
     "execution_count": 32,
     "metadata": {},
     "output_type": "execute_result"
    }
   ],
   "source": [
    "#loading이 na가 아닌 행들만 골라냅니다. \n",
    "# 데이터프레임 변경이 df_prob_1에 간섭을 주지 않고, 참조 경고를 피하기 위해 deep copy를 합니다.\n",
    "df_prob2 = df_prob1.loc[df_prob1['loading'].notna()].copy()\n",
    "len(df_prob2)"
   ]
  },
  {
   "cell_type": "markdown",
   "metadata": {},
   "source": [
    "## 단계 2-2"
   ]
  },
  {
   "cell_type": "code",
   "execution_count": 33,
   "metadata": {},
   "outputs": [],
   "source": [
    "df_prob2['loading_log'] = np.log(df_prob2['loading']) "
   ]
  },
  {
   "cell_type": "code",
   "execution_count": 34,
   "metadata": {
    "colab": {
     "base_uri": "https://localhost:8080/",
     "height": 226
    },
    "id": "XEpO0EkkO-sw",
    "outputId": "be7e1290-e3cd-4cac-8c29-7b0fc2f1139f"
   },
   "outputs": [
    {
     "data": {
      "image/png": "[encoded data removed]",
      "text/plain": [
       "<Figure size 1400x300 with 2 Axes>"
      ]
     },
     "metadata": {},
     "output_type": "display_data"
    }
   ],
   "source": [
    "# 로그 변환이 어떤 효과를 보였는지, 보여주기 위한 참고용 코드입니다.\n",
    "# 좌측으로 치우친 loading 변수가 log 변환을 통해 좌우 대칭형으로 변환되었음을 확인할 수 있습니다.\n",
    "\n",
    "fig, axes = plt.subplots(1, 2, figsize=(14, 3) )\n",
    "sns.histplot(data=df_prob2, x='loading', ax=axes[0])\n",
    "sns.histplot(data=df_prob2, x='loading_log', ax=axes[1])\n",
    "plt.show()"
   ]
  },
  {
   "cell_type": "code",
   "execution_count": 35,
   "metadata": {},
   "outputs": [
    {
     "data": {
      "text/plain": [
       "(KstestResult(statistic=0.0600599455247498, pvalue=4.255982724723072e-67),\n",
       " KstestResult(statistic=0.0042631101250387715, pvalue=0.832889492249071))"
      ]
     },
     "execution_count": 35,
     "metadata": {},
     "output_type": "execute_result"
    }
   ],
   "source": [
    "# 정규 분포와 얼마나 가까워졌는지 확인해보자.\n",
    "from scipy.stats import kstest\n",
    "from scipy.stats import norm, zscore\n",
    "kstest(zscore(df_prob2['loading']), norm.cdf), kstest(zscore(df_prob2['loading_log']), norm.cdf)"
   ]
  },
  {
   "cell_type": "markdown",
   "metadata": {
    "id": "jETocsSqHC4Y"
   },
   "source": [
    "## 단계 2-3"
   ]
  },
  {
   "cell_type": "code",
   "execution_count": 36,
   "metadata": {
    "id": "Vz2WeJO3KasZ"
   },
   "outputs": [],
   "source": [
    "from scipy.stats import jarque_bera"
   ]
  },
  {
   "cell_type": "code",
   "execution_count": 37,
   "metadata": {
    "colab": {
     "base_uri": "https://localhost:8080/"
    },
    "id": "66IfbqdpKG-A",
    "outputId": "5a3828d0-05fc-482a-b358-fa93c8ae9965"
   },
   "outputs": [
    {
     "data": {
      "text/plain": [
       "3"
      ]
     },
     "execution_count": 37,
     "metadata": {},
     "output_type": "execute_result"
    }
   ],
   "source": [
    "# Group-By를 이용한 방법\n",
    "B = (df_prob2.groupby('product_code')['loading_log'].apply(lambda x: jarque_bera(x)[1]) > 0.05).sum()\n",
    "B"
   ]
  },
  {
   "cell_type": "code",
   "execution_count": 38,
   "metadata": {
    "colab": {
     "base_uri": "https://localhost:8080/"
    },
    "id": "fbYkgUSrr_Ay",
    "outputId": "c386f7a2-f3e7-4037-98ff-cc08fa0d2b74"
   },
   "outputs": [
    {
     "data": {
      "text/plain": [
       "3"
      ]
     },
     "execution_count": 38,
     "metadata": {},
     "output_type": "execute_result"
    }
   ],
   "source": [
    "# 반복문을 이용한 방법\n",
    "v_list = []\n",
    "for i in df_prob2['product_code'].unique():\n",
    "    v_list.append(jarque_bera(df_prob2.loc[df_prob2['product_code'] == i, \"loading_log\"])[1])\n",
    "B = np.sum(np.array(v_list) > 0.05)\n",
    "B"
   ]
  },
  {
   "cell_type": "code",
   "execution_count": 39,
   "metadata": {},
   "outputs": [],
   "source": [
    "# 하드 코딩은 생략합니다."
   ]
  },
  {
   "cell_type": "markdown",
   "metadata": {
    "id": "znKnezYwCBWa"
   },
   "source": [
    "## 단계 2-4"
   ]
  },
  {
   "cell_type": "code",
   "execution_count": 40,
   "metadata": {
    "id": "AXVyKEv1H-w0"
   },
   "outputs": [],
   "source": [
    "from scipy.stats import bartlett"
   ]
  },
  {
   "cell_type": "code",
   "execution_count": 41,
   "metadata": {},
   "outputs": [],
   "source": [
    "# 메뉴얼을 보자\n",
    "# bartlett?"
   ]
  },
  {
   "cell_type": "raw",
   "metadata": {},
   "source": [
    "Signature: bartlett(*args)\n",
    "Docstring:\n",
    "Perform Bartlett's test for equal variances.\n",
    "\n",
    "Bartlett's test tests the null hypothesis that all input samples\n",
    "are from populations with equal variances.  For samples\n",
    "from significantly non-normal populations, Levene's test\n",
    "`levene` is more robust.\n",
    "\n",
    "Parameters\n",
    "----------\n",
    "sample1, sample2,... : array_like\n",
    "    arrays of sample data.  Only 1d arrays are accepted, they may have\n",
    "    different lengths.\n",
    "\n",
    "Returns\n",
    "-------\n",
    "statistic : float\n",
    "    The test statistic.\n",
    "pvalue : float\n",
    "    The p-value of the test.\n",
    "\n",
    "----------------------중간 생략 ----------------------------"
   ]
  },
  {
   "cell_type": "code",
   "execution_count": 42,
   "metadata": {
    "colab": {
     "base_uri": "https://localhost:8080/"
    },
    "id": "6WCMseJICAyv",
    "outputId": "72789363-0a76-4d81-8372-67f9d3190e09"
   },
   "outputs": [
    {
     "data": {
      "text/plain": [
       "BartlettResult(statistic=1.928667047072185, pvalue=0.5873433093297675)"
      ]
     },
     "execution_count": 42,
     "metadata": {},
     "output_type": "execute_result"
    }
   ],
   "source": [
    "# 방법 1 - groupby와 *를 활용한 리스트를 매개변수로 전달하여 코드를 최적화한 방법\n",
    "# 위 메뉴얼을 보면 표본집단들을 별로 가변 매개변수 형식으로 받도록 함수를 만들었습니다.\n",
    "# 리스트를 가변 매개 변수에 전달하는 방법으로 코드를 최적화합니다.\n",
    "bartlett(*df_prob2.groupby('product_code')['loading_log'].agg(list).tolist())"
   ]
  },
  {
   "cell_type": "code",
   "execution_count": 43,
   "metadata": {
    "colab": {
     "base_uri": "https://localhost:8080/"
    },
    "id": "nntArnpGIbrY",
    "outputId": "14cfaeae-046a-41b0-a424-f45fd28df49d"
   },
   "outputs": [
    {
     "data": {
      "text/plain": [
       "BartlettResult(statistic=1.928667047072185, pvalue=0.5873433093297675)"
      ]
     },
     "execution_count": 43,
     "metadata": {},
     "output_type": "execute_result"
    }
   ],
   "source": [
    "# 방법 2 - groupby 대신에 필터링으로 product_code별로 구분한 표본집단을 만듭니다.\n",
    "v_list = []\n",
    "for i in df_prob2['product_code'].unique():\n",
    "    v_list.append(df_prob2.loc[df_prob2['product_code'] == i, \"loading_log\"])\n",
    "bartlett(*v_list)"
   ]
  },
  {
   "cell_type": "code",
   "execution_count": 44,
   "metadata": {
    "colab": {
     "base_uri": "https://localhost:8080/"
    },
    "id": "c4ZbXT1UIB_x",
    "outputId": "22f1c144-e3e9-4070-c0e7-f906f8454720"
   },
   "outputs": [
    {
     "data": {
      "text/plain": [
       "BartlettResult(statistic=1.928667047072185, pvalue=0.5873433093297675)"
      ]
     },
     "execution_count": 44,
     "metadata": {},
     "output_type": "execute_result"
    }
   ],
   "source": [
    "# 방법 3 - product_code의 수가 많지 않아, 모든 과정을 하드코딩으로 해도 무방합다\n",
    "v_A = df_prob2.loc[df_prob2['product_code'] == \"A\", 'loading_log']\n",
    "v_B = df_prob2.loc[df_prob2['product_code'] == \"B\", 'loading_log']\n",
    "v_C = df_prob2.loc[df_prob2['product_code'] == \"C\", 'loading_log']\n",
    "v_E = df_prob2.loc[df_prob2['product_code'] == \"E\", 'loading_log']\n",
    "\n",
    "bartlett(v_A, v_B, v_C, v_E)"
   ]
  },
  {
   "cell_type": "code",
   "execution_count": 45,
   "metadata": {
    "colab": {
     "base_uri": "https://localhost:8080/"
    },
    "id": "1OYgSVjtJ2QI",
    "outputId": "171a4cd1-5335-4717-c0f6-fd1e09ca334f"
   },
   "outputs": [
    {
     "data": {
      "text/plain": [
       "0.5873433093297675"
      ]
     },
     "execution_count": 45,
     "metadata": {},
     "output_type": "execute_result"
    }
   ],
   "source": [
    "res = bartlett(*df_prob2.groupby('product_code')['loading_log'].agg(list).tolist())\n",
    "C = res.pvalue\n",
    "C"
   ]
  },
  {
   "cell_type": "markdown",
   "metadata": {
    "id": "E7jrsOb-NgYX"
   },
   "source": [
    "## 단계 2-5"
   ]
  },
  {
   "cell_type": "code",
   "execution_count": 46,
   "metadata": {
    "id": "q92HH38qPZkb"
   },
   "outputs": [],
   "source": [
    "from scipy.stats import f_oneway"
   ]
  },
  {
   "cell_type": "code",
   "execution_count": 47,
   "metadata": {
    "colab": {
     "base_uri": "https://localhost:8080/"
    },
    "id": "tesyQV3AOkA3",
    "outputId": "63730ddc-c1b4-426d-d33c-dce5a14a2b99"
   },
   "outputs": [
    {
     "data": {
      "text/plain": [
       "0.7733782072320899"
      ]
     },
     "execution_count": 47,
     "metadata": {},
     "output_type": "execute_result"
    }
   ],
   "source": [
    "# *를 이용한 방법\n",
    "res = f_oneway(*df_prob2.groupby('product_code')['loading_log'].agg(list).tolist())\n",
    "D = res.pvalue\n",
    "D"
   ]
  },
  {
   "cell_type": "code",
   "execution_count": 48,
   "metadata": {},
   "outputs": [],
   "source": [
    "# 다른 방법은 생략합니다."
   ]
  },
  {
   "cell_type": "markdown",
   "metadata": {},
   "source": [
    "### statsmodels 를 이용한 방법"
   ]
  },
  {
   "cell_type": "code",
   "execution_count": 49,
   "metadata": {},
   "outputs": [],
   "source": [
    "from statsmodels.formula.api import ols\n",
    "import statsmodels.api as sm"
   ]
  },
  {
   "cell_type": "code",
   "execution_count": 50,
   "metadata": {},
   "outputs": [],
   "source": [
    "C_ = C\n",
    "del C # C에 변수값이 설정되어 있으면 아래 식(formula)을 해석하는 데 오류가 발생\n",
    "loading_log_model = ols('loading_log ~ C(product_code)', data=df_prob2).fit()\n",
    "C = C_"
   ]
  },
  {
   "cell_type": "code",
   "execution_count": 51,
   "metadata": {},
   "outputs": [
    {
     "data": {
      "text/html": [
       "<div>\n",
       "<style scoped>\n",
       "    .dataframe tbody tr th:only-of-type {\n",
       "        vertical-align: middle;\n",
       "    }\n",
       "\n",
       "    .dataframe tbody tr th {\n",
       "        vertical-align: top;\n",
       "    }\n",
       "\n",
       "    .dataframe thead th {\n",
       "        text-align: right;\n",
       "    }\n",
       "</style>\n",
       "<table border=\"1\" class=\"dataframe\">\n",
       "  <thead>\n",
       "    <tr style=\"text-align: right;\">\n",
       "      <th></th>\n",
       "      <th>df</th>\n",
       "      <th>sum_sq</th>\n",
       "      <th>mean_sq</th>\n",
       "      <th>F</th>\n",
       "      <th>PR(&gt;F)</th>\n",
       "    </tr>\n",
       "  </thead>\n",
       "  <tbody>\n",
       "    <tr>\n",
       "      <td>C(product_code)</td>\n",
       "      <td>3.0</td>\n",
       "      <td>0.098609</td>\n",
       "      <td>0.032870</td>\n",
       "      <td>0.371773</td>\n",
       "      <td>0.773378</td>\n",
       "    </tr>\n",
       "    <tr>\n",
       "      <td>Residual</td>\n",
       "      <td>21253.0</td>\n",
       "      <td>1879.053397</td>\n",
       "      <td>0.088414</td>\n",
       "      <td>NaN</td>\n",
       "      <td>NaN</td>\n",
       "    </tr>\n",
       "  </tbody>\n",
       "</table>\n",
       "</div>"
      ],
      "text/plain": [
       "                      df       sum_sq   mean_sq         F    PR(>F)\n",
       "C(product_code)      3.0     0.098609  0.032870  0.371773  0.773378\n",
       "Residual         21253.0  1879.053397  0.088414       NaN       NaN"
      ]
     },
     "execution_count": 51,
     "metadata": {},
     "output_type": "execute_result"
    }
   ],
   "source": [
    "sm.stats.anova_lm(loading_log_model)"
   ]
  },
  {
   "cell_type": "markdown",
   "metadata": {},
   "source": [
    "## 단계 2-6"
   ]
  },
  {
   "cell_type": "code",
   "execution_count": 52,
   "metadata": {
    "id": "fBY6F5pwBRGh"
   },
   "outputs": [],
   "source": [
    "from scipy.stats import chi2_contingency"
   ]
  },
  {
   "cell_type": "code",
   "execution_count": 53,
   "metadata": {
    "colab": {
     "base_uri": "https://localhost:8080/"
    },
    "id": "9ZOq2Fzu0NzZ",
    "outputId": "675e66a1-af9a-4f14-a12c-b2ff3cdcd796"
   },
   "outputs": [
    {
     "data": {
      "text/plain": [
       "((7.0400463075335615,\n",
       "  0.029598749837407304,\n",
       "  2,\n",
       "  array([[4106.03584702, 1102.96415298],\n",
       "         [4162.79042198, 1118.20957802],\n",
       "         [8487.17373101, 2279.82626899]])),\n",
       " 0)"
      ]
     },
     "execution_count": 53,
     "metadata": {},
     "output_type": "execute_result"
    }
   ],
   "source": [
    "# 빈도수 테이블을 만듭니다.\n",
    "df_conti = pd.crosstab(index=df_prob2['attribute_0'].str.cat(df_prob2['attribute_1']), \n",
    "                       columns=df_prob2['failure'])\n",
    "res = chi2_contingency(df_conti)\n",
    "# 유의 수준이 보통 5%이지만 이 문제는 1% 임을 유의 합니다.\n",
    "E = 1 if res[0] < 0.01 else 0\n",
    "res, E"
   ]
  },
  {
   "cell_type": "markdown",
   "metadata": {
    "id": "_ULjnzoxtxNp"
   },
   "source": [
    "B + C + D + E 의 값을 소수점 3째 자리에서 반올림하여 2째 자리까지 출력하라. 합을 구한 후에 반올림을 진행해야 한다는 점을 유의하시오.\n",
    "\n",
    "예) 3.16"
   ]
  },
  {
   "cell_type": "code",
   "execution_count": 54,
   "metadata": {
    "colab": {
     "base_uri": "https://localhost:8080/"
    },
    "id": "J3TOVwkjKoVQ",
    "outputId": "b2bf58a7-110f-4b54-aead-59ab86cfb5fa"
   },
   "outputs": [
    {
     "data": {
      "text/plain": [
       "4.360721516561858"
      ]
     },
     "execution_count": 54,
     "metadata": {},
     "output_type": "execute_result"
    }
   ],
   "source": [
    "B + C + D + E"
   ]
  },
  {
   "cell_type": "markdown",
   "metadata": {},
   "source": [
    "**시험장: 4.36, BDC: 4.36**"
   ]
  },
  {
   "cell_type": "markdown",
   "metadata": {
    "id": "iBpxx56Vu3Hv"
   },
   "source": [
    "# 문제 3"
   ]
  },
  {
   "cell_type": "markdown",
   "metadata": {},
   "source": [
    "**출제자 노트**\n",
    "\n",
    "Area under of ROC curve 라는 지표를 사용합니다. 측정에는 Positive 확률과 실제 Label입니다. Accuracy나 f1_score는 예측 Label이 사용합니다. \n",
    "\n",
    "무턱대고 실제 Label을 넣으면 안 됩니다. 측정하는 지표가 어떤 것인지 주의해 주세요. 루프를 활용한 솔루션을 연습하고자 고안한 문제입니다."
   ]
  },
  {
   "cell_type": "markdown",
   "metadata": {
    "id": "oD7u-tEPcIja"
   },
   "source": [
    "## 단계 3-1"
   ]
  },
  {
   "cell_type": "code",
   "execution_count": 55,
   "metadata": {
    "id": "HPJEb_-F1dG-"
   },
   "outputs": [],
   "source": [
    "from sklearn.model_selection import train_test_split\n",
    "from sklearn.preprocessing import StandardScaler\n",
    "from sklearn.metrics import roc_auc_score \n",
    "from sklearn.linear_model import LogisticRegression\n",
    "\n",
    "# 중요!!!!\n",
    "# accuracy_score와 f1_score는 Label값을 입력으로 널지만 \n",
    "# roc_auc_score는 Positive인 확률을 넣습니다. "
   ]
  },
  {
   "cell_type": "code",
   "execution_count": 56,
   "metadata": {
    "colab": {
     "base_uri": "https://localhost:8080/"
    },
    "id": "MG91jzQbx_dF",
    "outputId": "8be13b9d-68f2-4928-e219-cecc19c1af66"
   },
   "outputs": [],
   "source": [
    "X_cols_cont = ['measurement_{}'.format(i) for i in range(0, 18)] + ['loading']\n",
    "X_cols_bool = ['na_1', 'na_2']\n",
    "X_cols = X_cols_cont + X_cols_bool\n",
    "target = 'failure'\n",
    "\n",
    "df_prob3 = df_prob1.copy()\n",
    "df_prob3['loading'] =df_prob3['loading'].fillna(df_prob3['loading'].mean())"
   ]
  },
  {
   "cell_type": "markdown",
   "metadata": {},
   "source": [
    "## 단계 3-2"
   ]
  },
  {
   "cell_type": "code",
   "execution_count": 57,
   "metadata": {},
   "outputs": [
    {
     "data": {
      "text/plain": [
       "((17166, 42), (4292, 42))"
      ]
     },
     "execution_count": 57,
     "metadata": {},
     "output_type": "execute_result"
    }
   ],
   "source": [
    "df_prob3_train, df_prob3_test = train_test_split(df_prob3, train_size=0.8, random_state=123, stratify=df_prob3[target])\n",
    "# 시험장 버젼은 deep copy를 하지 않으면 경고가 발생. 경고를 회피하고 혹시나 있을 예상치 못한 간섭 현상을 예방하기 위해\n",
    "df_prob3_train = df_prob3_train.copy()\n",
    "df_prob3_test = df_prob3_test.copy()\n",
    "df_prob3_train.shape, df_prob3_test.shape"
   ]
  },
  {
   "cell_type": "markdown",
   "metadata": {},
   "source": [
    "## 단계 3-3"
   ]
  },
  {
   "cell_type": "code",
   "execution_count": 58,
   "metadata": {
    "id": "a5p0LRZPy4pQ"
   },
   "outputs": [],
   "source": [
    "std_scaler = StandardScaler()\n",
    "\n",
    "df_prob3_train[X_cols_cont] = std_scaler.fit_transform(df_prob3_train[X_cols_cont])\n",
    "df_prob3_test[X_cols_cont] = std_scaler.transform(df_prob3_test[X_cols_cont])"
   ]
  },
  {
   "cell_type": "markdown",
   "metadata": {
    "id": "rVQqWMrJz0kW"
   },
   "source": [
    "## 단계 3-4"
   ]
  },
  {
   "cell_type": "code",
   "execution_count": 59,
   "metadata": {},
   "outputs": [
    {
     "data": {
      "text/plain": [
       "loading           0\n",
       "measurement_17    0\n",
       "dtype: int64"
      ]
     },
     "execution_count": 59,
     "metadata": {},
     "output_type": "execute_result"
    }
   ],
   "source": [
    "df_prob3_train[['loading', 'measurement_17']].isna().sum()"
   ]
  },
  {
   "cell_type": "code",
   "execution_count": 60,
   "metadata": {
    "colab": {
     "base_uri": "https://localhost:8080/"
    },
    "id": "uzDxrayDls3G",
    "outputId": "05c9c890-5d96-4ad9-f50d-630154089774"
   },
   "outputs": [
    {
     "data": {
      "text/plain": [
       "0.5952982435574312"
      ]
     },
     "execution_count": 60,
     "metadata": {},
     "output_type": "execute_result"
    }
   ],
   "source": [
    "clf = LogisticRegression(solver='lbfgs')\n",
    "clf.fit(df_prob3_train[X_cols], df_prob3_train[target])\n",
    "# df_prob_3_train에 대한 roc_auc_score\n",
    "roc_auc_score(df_prob3_train[target], clf.predict_proba(df_prob3_train[X_cols])[:, 1])"
   ]
  },
  {
   "cell_type": "code",
   "execution_count": 67,
   "metadata": {},
   "outputs": [
    {
     "data": {
      "text/plain": [
       "0.5792951262053387"
      ]
     },
     "execution_count": 67,
     "metadata": {},
     "output_type": "execute_result"
    }
   ],
   "source": [
    "# df_prob_3_test에 대한 roc_auc_score\n",
    "A = roc_auc_score(df_prob3_test[target], clf.predict_proba(df_prob3_test[X_cols])[:, 1])\n",
    "A"
   ]
  },
  {
   "cell_type": "code",
   "execution_count": 61,
   "metadata": {},
   "outputs": [
    {
     "data": {
      "image/png": "[encoded data removed]",
      "text/plain": [
       "<Figure size 500x500 with 1 Axes>"
      ]
     },
     "metadata": {},
     "output_type": "display_data"
    }
   ],
   "source": [
    "# ROC curve 그리기\n",
    "\n",
    "df_roc = pd.DataFrame({'prob': clf.predict_proba(df_prob3_test[X_cols])[:, 1],\n",
    " 'label': df_prob3_test[target]})\n",
    "df_roc.sort_values('prob', ascending=False, inplace=True) # Positive 확률에 따른 False Positive 수를 구하기 위해 정렬\n",
    "df_roc['fp'] = df_roc['label'].cumsum() # Positive 확률까지의 누적 False Positive 수\n",
    "df_roc = df_roc['fp'].value_counts().sort_index().cumsum().reset_index() # False Positive에 따른 True Positive 수를 구한다.\n",
    "df_roc.columns = ['tp', 'fp']\n",
    "df_roc['fp'] = df_roc['fp'].shift(1).fillna(0) # shift를 해야만 False Positive 따른 True Positive 수가 맞춰진다.\n",
    "df_roc['tpr'] = df_roc['tp'] / df_roc['tp'].iloc[-1] # Rate로 환산, 마지막 수는 True의 수이다.\n",
    "df_roc['fpr'] = df_roc['fp'] / df_roc['fp'].iloc[-1] # Rate로 환산, 마지막 수는 False의 수이다.\n",
    "\n",
    "plt.figure(figsize=(5, 5))\n",
    "plt.plot(df_roc['fpr'], df_roc['tpr'])\n",
    "plt.fill_between(df_roc['fpr'], df_roc['tpr'], np.zeros_like(df_roc['tpr']), alpha=0.5)\n",
    "plt.plot([0, 1], [0, 1], linestyle='--', color='black')\n",
    "plt.xlabel('False Positive Rate')\n",
    "plt.ylabel('True Positive Rate')\n",
    "plt.show()"
   ]
  },
  {
   "cell_type": "markdown",
   "metadata": {
    "id": "HKdS_gKX1-zM"
   },
   "source": [
    "## 단계 3-5"
   ]
  },
  {
   "cell_type": "code",
   "execution_count": 68,
   "metadata": {},
   "outputs": [
    {
     "name": "stderr",
     "output_type": "stream",
     "text": [
      "c:\\users\\user\\python3.7\\lib\\site-packages\\sklearn\\externals\\joblib\\__init__.py:15: DeprecationWarning: sklearn.externals.joblib is deprecated in 0.21 and will be removed in 0.23. Please import this functionality directly from joblib, which can be installed with: pip install joblib. If this warning is raised when loading pickled models, you may need to re-serialize those models with scikit-learn 0.21+.\n",
      "  warnings.warn(msg, category=DeprecationWarning)\n"
     ]
    }
   ],
   "source": [
    "from mlxtend.feature_selection import SequentialFeatureSelector\n",
    "from sklearn.model_selection import StratifiedKFold"
   ]
  },
  {
   "cell_type": "code",
   "execution_count": 69,
   "metadata": {},
   "outputs": [],
   "source": [
    "sfs = SequentialFeatureSelector(\n",
    "    LogisticRegression(solver='lbfgs'),\n",
    "    k_features = 'best',\n",
    "    forward = True,\n",
    "    floating = False,\n",
    "    scoring='roc_auc',\n",
    "    cv=StratifiedKFold(n_splits=5, random_state=123, shuffle=True)\n",
    ")"
   ]
  },
  {
   "cell_type": "code",
   "execution_count": 70,
   "metadata": {},
   "outputs": [
    {
     "data": {
      "text/plain": [
       "SequentialFeatureSelector(clone_estimator=True,\n",
       "                          cv=StratifiedKFold(n_splits=5, random_state=123, shuffle=True),\n",
       "                          estimator=LogisticRegression(C=1.0, class_weight=None,\n",
       "                                                       dual=False,\n",
       "                                                       fit_intercept=True,\n",
       "                                                       intercept_scaling=1,\n",
       "                                                       l1_ratio=None,\n",
       "                                                       max_iter=100,\n",
       "                                                       multi_class='warn',\n",
       "                                                       n_jobs=None,\n",
       "                                                       penalty='l2',\n",
       "                                                       random_state=None,\n",
       "                                                       solver='lbfgs',\n",
       "                                                       tol=0.0001, verbose=0,\n",
       "                                                       warm_start=False),\n",
       "                          floating=False, forward=True, k_features='best',\n",
       "                          n_jobs=1, pre_dispatch='2*n_jobs', scoring='roc_auc',\n",
       "                          verbose=0)"
      ]
     },
     "execution_count": 70,
     "metadata": {},
     "output_type": "execute_result"
    }
   ],
   "source": [
    "sfs.fit(df_prob3_train[X_cols], df_prob3_train[target])"
   ]
  },
  {
   "cell_type": "code",
   "execution_count": 71,
   "metadata": {
    "collapsed": true
   },
   "outputs": [
    {
     "data": {
      "text/plain": [
       "{1: {'feature_idx': (18,),\n",
       "  'cv_scores': array([0.60037345, 0.57115188, 0.58550503, 0.58230804, 0.60340806]),\n",
       "  'avg_score': 0.5885492900130771,\n",
       "  'feature_names': ('loading',)},\n",
       " 2: {'feature_idx': (17, 18),\n",
       "  'cv_scores': array([0.60267405, 0.57143555, 0.58795125, 0.58050448, 0.60829591]),\n",
       "  'avg_score': 0.5901722458803432,\n",
       "  'feature_names': ('measurement_17', 'loading')},\n",
       " 3: {'feature_idx': (4, 17, 18),\n",
       "  'cv_scores': array([0.60560384, 0.56745342, 0.59135025, 0.58167225, 0.60799722]),\n",
       "  'avg_score': 0.5908153976487898,\n",
       "  'feature_names': ('measurement_4', 'measurement_17', 'loading')},\n",
       " 4: {'feature_idx': (1, 4, 17, 18),\n",
       "  'cv_scores': array([0.60829203, 0.56526443, 0.58923045, 0.58339007, 0.60951609]),\n",
       "  'avg_score': 0.5911386131847978,\n",
       "  'feature_names': ('measurement_1',\n",
       "   'measurement_4',\n",
       "   'measurement_17',\n",
       "   'loading')},\n",
       " 5: {'feature_idx': (1, 4, 17, 18, 19),\n",
       "  'cv_scores': array([0.60964655, 0.56444317, 0.59139146, 0.58382766, 0.60829642]),\n",
       "  'avg_score': 0.5915210536302331,\n",
       "  'feature_names': ('measurement_1',\n",
       "   'measurement_4',\n",
       "   'measurement_17',\n",
       "   'loading',\n",
       "   'na_1')},\n",
       " 6: {'feature_idx': (1, 4, 14, 17, 18, 19),\n",
       "  'cv_scores': array([0.61088307, 0.56618796, 0.58814816, 0.58388567, 0.60966365]),\n",
       "  'avg_score': 0.5917537024093409,\n",
       "  'feature_names': ('measurement_1',\n",
       "   'measurement_4',\n",
       "   'measurement_14',\n",
       "   'measurement_17',\n",
       "   'loading',\n",
       "   'na_1')},\n",
       " 7: {'feature_idx': (1, 2, 4, 14, 17, 18, 19),\n",
       "  'cv_scores': array([0.60960027, 0.56712014, 0.58806115, 0.58466469, 0.60889023]),\n",
       "  'avg_score': 0.5916672956050881,\n",
       "  'feature_names': ('measurement_1',\n",
       "   'measurement_2',\n",
       "   'measurement_4',\n",
       "   'measurement_14',\n",
       "   'measurement_17',\n",
       "   'loading',\n",
       "   'na_1')},\n",
       " 8: {'feature_idx': (0, 1, 2, 4, 14, 17, 18, 19),\n",
       "  'cv_scores': array([0.61044004, 0.56535449, 0.58867481, 0.58513536, 0.60899352]),\n",
       "  'avg_score': 0.5917196433419487,\n",
       "  'feature_names': ('measurement_0',\n",
       "   'measurement_1',\n",
       "   'measurement_2',\n",
       "   'measurement_4',\n",
       "   'measurement_14',\n",
       "   'measurement_17',\n",
       "   'loading',\n",
       "   'na_1')},\n",
       " 9: {'feature_idx': (0, 1, 2, 3, 4, 14, 17, 18, 19),\n",
       "  'cv_scores': array([0.61039579, 0.56491079, 0.58863257, 0.58522695, 0.60896553]),\n",
       "  'avg_score': 0.5916263266705529,\n",
       "  'feature_names': ('measurement_0',\n",
       "   'measurement_1',\n",
       "   'measurement_2',\n",
       "   'measurement_3',\n",
       "   'measurement_4',\n",
       "   'measurement_14',\n",
       "   'measurement_17',\n",
       "   'loading',\n",
       "   'na_1')},\n",
       " 10: {'feature_idx': (0, 1, 2, 3, 4, 6, 14, 17, 18, 19),\n",
       "  'cv_scores': array([0.61083119, 0.56344026, 0.58886257, 0.58502851, 0.60937107]),\n",
       "  'avg_score': 0.5915067187872627,\n",
       "  'feature_names': ('measurement_0',\n",
       "   'measurement_1',\n",
       "   'measurement_2',\n",
       "   'measurement_3',\n",
       "   'measurement_4',\n",
       "   'measurement_6',\n",
       "   'measurement_14',\n",
       "   'measurement_17',\n",
       "   'loading',\n",
       "   'na_1')},\n",
       " 11: {'feature_idx': (0, 1, 2, 3, 4, 6, 7, 14, 17, 18, 19),\n",
       "  'cv_scores': array([0.6107259 , 0.56341482, 0.58825146, 0.58472626, 0.60945045]),\n",
       "  'avg_score': 0.5913137771575298,\n",
       "  'feature_names': ('measurement_0',\n",
       "   'measurement_1',\n",
       "   'measurement_2',\n",
       "   'measurement_3',\n",
       "   'measurement_4',\n",
       "   'measurement_6',\n",
       "   'measurement_7',\n",
       "   'measurement_14',\n",
       "   'measurement_17',\n",
       "   'loading',\n",
       "   'na_1')},\n",
       " 12: {'feature_idx': (0, 1, 2, 3, 4, 5, 6, 7, 14, 17, 18, 19),\n",
       "  'cv_scores': array([0.61076099, 0.56317821, 0.58823975, 0.58430648, 0.60895434]),\n",
       "  'avg_score': 0.5910879545549661,\n",
       "  'feature_names': ('measurement_0',\n",
       "   'measurement_1',\n",
       "   'measurement_2',\n",
       "   'measurement_3',\n",
       "   'measurement_4',\n",
       "   'measurement_5',\n",
       "   'measurement_6',\n",
       "   'measurement_7',\n",
       "   'measurement_14',\n",
       "   'measurement_17',\n",
       "   'loading',\n",
       "   'na_1')},\n",
       " 13: {'feature_idx': (0, 1, 2, 3, 4, 5, 6, 7, 14, 16, 17, 18, 19),\n",
       "  'cv_scores': array([0.61109416, 0.56308764, 0.58649649, 0.5843253 , 0.60912174]),\n",
       "  'avg_score': 0.5908250669005813,\n",
       "  'feature_names': ('measurement_0',\n",
       "   'measurement_1',\n",
       "   'measurement_2',\n",
       "   'measurement_3',\n",
       "   'measurement_4',\n",
       "   'measurement_5',\n",
       "   'measurement_6',\n",
       "   'measurement_7',\n",
       "   'measurement_14',\n",
       "   'measurement_16',\n",
       "   'measurement_17',\n",
       "   'loading',\n",
       "   'na_1')},\n",
       " 14: {'feature_idx': (0, 1, 2, 3, 4, 5, 6, 7, 10, 14, 16, 17, 18, 19),\n",
       "  'cv_scores': array([0.61094563, 0.56271059, 0.58619883, 0.5838526 , 0.60905865]),\n",
       "  'avg_score': 0.5905532593766387,\n",
       "  'feature_names': ('measurement_0',\n",
       "   'measurement_1',\n",
       "   'measurement_2',\n",
       "   'measurement_3',\n",
       "   'measurement_4',\n",
       "   'measurement_5',\n",
       "   'measurement_6',\n",
       "   'measurement_7',\n",
       "   'measurement_10',\n",
       "   'measurement_14',\n",
       "   'measurement_16',\n",
       "   'measurement_17',\n",
       "   'loading',\n",
       "   'na_1')},\n",
       " 15: {'feature_idx': (0, 1, 2, 3, 4, 5, 6, 7, 10, 12, 14, 16, 17, 18, 19),\n",
       "  'cv_scores': array([0.61105194, 0.56244498, 0.58597799, 0.58321249, 0.60873503]),\n",
       "  'avg_score': 0.5902844860221045,\n",
       "  'feature_names': ('measurement_0',\n",
       "   'measurement_1',\n",
       "   'measurement_2',\n",
       "   'measurement_3',\n",
       "   'measurement_4',\n",
       "   'measurement_5',\n",
       "   'measurement_6',\n",
       "   'measurement_7',\n",
       "   'measurement_10',\n",
       "   'measurement_12',\n",
       "   'measurement_14',\n",
       "   'measurement_16',\n",
       "   'measurement_17',\n",
       "   'loading',\n",
       "   'na_1')},\n",
       " 16: {'feature_idx': (0, 1, 2, 3, 4, 5, 6, 7, 10, 12, 14, 16, 17, 18, 19, 20),\n",
       "  'cv_scores': array([0.61214502, 0.56220532, 0.5858691 , 0.58423015, 0.60545662]),\n",
       "  'avg_score': 0.5899812426631774,\n",
       "  'feature_names': ('measurement_0',\n",
       "   'measurement_1',\n",
       "   'measurement_2',\n",
       "   'measurement_3',\n",
       "   'measurement_4',\n",
       "   'measurement_5',\n",
       "   'measurement_6',\n",
       "   'measurement_7',\n",
       "   'measurement_10',\n",
       "   'measurement_12',\n",
       "   'measurement_14',\n",
       "   'measurement_16',\n",
       "   'measurement_17',\n",
       "   'loading',\n",
       "   'na_1',\n",
       "   'na_2')},\n",
       " 17: {'feature_idx': (0,\n",
       "   1,\n",
       "   2,\n",
       "   3,\n",
       "   4,\n",
       "   5,\n",
       "   6,\n",
       "   7,\n",
       "   8,\n",
       "   10,\n",
       "   12,\n",
       "   14,\n",
       "   16,\n",
       "   17,\n",
       "   18,\n",
       "   19,\n",
       "   20),\n",
       "  'cv_scores': array([0.61155702, 0.56213103, 0.58598104, 0.58256067, 0.6051498 ]),\n",
       "  'avg_score': 0.5894759133397836,\n",
       "  'feature_names': ('measurement_0',\n",
       "   'measurement_1',\n",
       "   'measurement_2',\n",
       "   'measurement_3',\n",
       "   'measurement_4',\n",
       "   'measurement_5',\n",
       "   'measurement_6',\n",
       "   'measurement_7',\n",
       "   'measurement_8',\n",
       "   'measurement_10',\n",
       "   'measurement_12',\n",
       "   'measurement_14',\n",
       "   'measurement_16',\n",
       "   'measurement_17',\n",
       "   'loading',\n",
       "   'na_1',\n",
       "   'na_2')},\n",
       " 18: {'feature_idx': (0,\n",
       "   1,\n",
       "   2,\n",
       "   3,\n",
       "   4,\n",
       "   5,\n",
       "   6,\n",
       "   7,\n",
       "   8,\n",
       "   10,\n",
       "   12,\n",
       "   13,\n",
       "   14,\n",
       "   16,\n",
       "   17,\n",
       "   18,\n",
       "   19,\n",
       "   20),\n",
       "  'cv_scores': array([0.61196089, 0.55878851, 0.58604109, 0.58232763, 0.60572783]),\n",
       "  'avg_score': 0.5889691877700873,\n",
       "  'feature_names': ('measurement_0',\n",
       "   'measurement_1',\n",
       "   'measurement_2',\n",
       "   'measurement_3',\n",
       "   'measurement_4',\n",
       "   'measurement_5',\n",
       "   'measurement_6',\n",
       "   'measurement_7',\n",
       "   'measurement_8',\n",
       "   'measurement_10',\n",
       "   'measurement_12',\n",
       "   'measurement_13',\n",
       "   'measurement_14',\n",
       "   'measurement_16',\n",
       "   'measurement_17',\n",
       "   'loading',\n",
       "   'na_1',\n",
       "   'na_2')},\n",
       " 19: {'feature_idx': (0,\n",
       "   1,\n",
       "   2,\n",
       "   3,\n",
       "   4,\n",
       "   5,\n",
       "   6,\n",
       "   7,\n",
       "   8,\n",
       "   9,\n",
       "   10,\n",
       "   12,\n",
       "   13,\n",
       "   14,\n",
       "   16,\n",
       "   17,\n",
       "   18,\n",
       "   19,\n",
       "   20),\n",
       "  'cv_scores': array([0.61279405, 0.55895999, 0.58550936, 0.58045359, 0.60450663]),\n",
       "  'avg_score': 0.5884447231004424,\n",
       "  'feature_names': ('measurement_0',\n",
       "   'measurement_1',\n",
       "   'measurement_2',\n",
       "   'measurement_3',\n",
       "   'measurement_4',\n",
       "   'measurement_5',\n",
       "   'measurement_6',\n",
       "   'measurement_7',\n",
       "   'measurement_8',\n",
       "   'measurement_9',\n",
       "   'measurement_10',\n",
       "   'measurement_12',\n",
       "   'measurement_13',\n",
       "   'measurement_14',\n",
       "   'measurement_16',\n",
       "   'measurement_17',\n",
       "   'loading',\n",
       "   'na_1',\n",
       "   'na_2')},\n",
       " 20: {'feature_idx': (0,\n",
       "   1,\n",
       "   2,\n",
       "   3,\n",
       "   4,\n",
       "   5,\n",
       "   6,\n",
       "   7,\n",
       "   8,\n",
       "   9,\n",
       "   10,\n",
       "   11,\n",
       "   12,\n",
       "   13,\n",
       "   14,\n",
       "   16,\n",
       "   17,\n",
       "   18,\n",
       "   19,\n",
       "   20),\n",
       "  'cv_scores': array([0.6121145 , 0.5580619 , 0.58406732, 0.58034369, 0.60451884]),\n",
       "  'avg_score': 0.5878212495585312,\n",
       "  'feature_names': ('measurement_0',\n",
       "   'measurement_1',\n",
       "   'measurement_2',\n",
       "   'measurement_3',\n",
       "   'measurement_4',\n",
       "   'measurement_5',\n",
       "   'measurement_6',\n",
       "   'measurement_7',\n",
       "   'measurement_8',\n",
       "   'measurement_9',\n",
       "   'measurement_10',\n",
       "   'measurement_11',\n",
       "   'measurement_12',\n",
       "   'measurement_13',\n",
       "   'measurement_14',\n",
       "   'measurement_16',\n",
       "   'measurement_17',\n",
       "   'loading',\n",
       "   'na_1',\n",
       "   'na_2')},\n",
       " 21: {'feature_idx': (0,\n",
       "   1,\n",
       "   2,\n",
       "   3,\n",
       "   4,\n",
       "   5,\n",
       "   6,\n",
       "   7,\n",
       "   8,\n",
       "   9,\n",
       "   10,\n",
       "   11,\n",
       "   12,\n",
       "   13,\n",
       "   14,\n",
       "   15,\n",
       "   16,\n",
       "   17,\n",
       "   18,\n",
       "   19,\n",
       "   20),\n",
       "  'cv_scores': array([0.61192935, 0.55740601, 0.58412533, 0.58013608, 0.60244433]),\n",
       "  'avg_score': 0.5872082214451655,\n",
       "  'feature_names': ('measurement_0',\n",
       "   'measurement_1',\n",
       "   'measurement_2',\n",
       "   'measurement_3',\n",
       "   'measurement_4',\n",
       "   'measurement_5',\n",
       "   'measurement_6',\n",
       "   'measurement_7',\n",
       "   'measurement_8',\n",
       "   'measurement_9',\n",
       "   'measurement_10',\n",
       "   'measurement_11',\n",
       "   'measurement_12',\n",
       "   'measurement_13',\n",
       "   'measurement_14',\n",
       "   'measurement_15',\n",
       "   'measurement_16',\n",
       "   'measurement_17',\n",
       "   'loading',\n",
       "   'na_1',\n",
       "   'na_2')}}"
      ]
     },
     "execution_count": 71,
     "metadata": {},
     "output_type": "execute_result"
    }
   ],
   "source": [
    "# 전진 선택법 수행 결과\n",
    "sfs.subsets_"
   ]
  },
  {
   "cell_type": "code",
   "execution_count": 72,
   "metadata": {},
   "outputs": [
    {
     "data": {
      "text/plain": [
       "(('measurement_1',\n",
       "  'measurement_4',\n",
       "  'measurement_14',\n",
       "  'measurement_17',\n",
       "  'loading',\n",
       "  'na_1'),\n",
       " (1, 4, 14, 17, 18, 19))"
      ]
     },
     "execution_count": 72,
     "metadata": {},
     "output_type": "execute_result"
    }
   ],
   "source": [
    "# 전진 선택법을 통해 도출한 속성\n",
    "sfs.k_feature_names_, sfs.k_feature_idx_"
   ]
  },
  {
   "cell_type": "markdown",
   "metadata": {},
   "source": [
    "## 단계 3-6"
   ]
  },
  {
   "cell_type": "code",
   "execution_count": 73,
   "metadata": {},
   "outputs": [
    {
     "data": {
      "text/plain": [
       "LogisticRegression(C=1.0, class_weight=None, dual=False, fit_intercept=True,\n",
       "                   intercept_scaling=1, l1_ratio=None, max_iter=100,\n",
       "                   multi_class='warn', n_jobs=None, penalty='l2',\n",
       "                   random_state=None, solver='lbfgs', tol=0.0001, verbose=0,\n",
       "                   warm_start=False)"
      ]
     },
     "execution_count": 73,
     "metadata": {},
     "output_type": "execute_result"
    }
   ],
   "source": [
    "X_cols_sfs = list(sfs.k_feature_names_)\n",
    "lr = LogisticRegression(solver='lbfgs')\n",
    "lr.fit(df_prob3_train[X_cols_sfs], df_prob3_train[target])"
   ]
  },
  {
   "cell_type": "code",
   "execution_count": 74,
   "metadata": {},
   "outputs": [
    {
     "data": {
      "text/plain": [
       "0.5838326230092876"
      ]
     },
     "execution_count": 74,
     "metadata": {},
     "output_type": "execute_result"
    }
   ],
   "source": [
    "B = roc_auc_score(df_prob3_test[target], lr.predict_proba(df_prob3_test[X_cols_sfs])[:, 1])\n",
    "B"
   ]
  },
  {
   "cell_type": "code",
   "execution_count": 75,
   "metadata": {},
   "outputs": [
    {
     "data": {
      "text/plain": [
       "-0.004537496803948882"
      ]
     },
     "execution_count": 75,
     "metadata": {},
     "output_type": "execute_result"
    }
   ],
   "source": [
    "A - B"
   ]
  },
  {
   "cell_type": "markdown",
   "metadata": {},
   "source": [
    "**시험장: -0.005, BDC: -0.003**"
   ]
  },
  {
   "cell_type": "markdown",
   "metadata": {
    "id": "tVwd54bDv3TS"
   },
   "source": [
    "# 문제 4\n",
    "\n"
   ]
  },
  {
   "cell_type": "markdown",
   "metadata": {},
   "source": [
    "**출제자 노트**\n",
    "\n",
    "시험의 대응의 하나의 축은 문제에 대한 이해력입니다. Linear Discriminant Model을 주제로한 서사가 담겨 있습니다. 이러한 서사에 대한 대응력을 높혀 봅시다. 그리고 Linear Discriminant Model를 고른 것은 다소 생소한 모델이기 때문이고, 지도 학습으로 쓸 수 있으면서, 속성을 추출하는 데도 사용하는 특이한 면이 있어 다루어 봤습니다. 다소 생소한 모델이 나와도 당황하지 마시고, sklearn의 모듈의 기본 구성 (fit, transform, predict)를 생각하면 쉽게 접근이 가능 합니다. 이와 함께 PCA 문제는 자주 나오는 패턴이라 담았습니다."
   ]
  },
  {
   "cell_type": "markdown",
   "metadata": {},
   "source": [
    "## 단계 4-1"
   ]
  },
  {
   "cell_type": "code",
   "execution_count": 76,
   "metadata": {
    "id": "BGUdlNoqnEUC"
   },
   "outputs": [],
   "source": [
    "from sklearn.discriminant_analysis import LinearDiscriminantAnalysis\n",
    "from scipy.stats import spearmanr"
   ]
  },
  {
   "cell_type": "code",
   "execution_count": 77,
   "metadata": {
    "id": "UdX_5hFJt913"
   },
   "outputs": [
    {
     "data": {
      "text/plain": [
       "LinearDiscriminantAnalysis(n_components=None, priors=None, shrinkage=None,\n",
       "                           solver='svd', store_covariance=False, tol=0.0001)"
      ]
     },
     "execution_count": 77,
     "metadata": {},
     "output_type": "execute_result"
    }
   ],
   "source": [
    "lda = LinearDiscriminantAnalysis() # 모델 생성\n",
    "# 입력 변수리스트를 변수로 만들자. 실수를 줄일 수 있다.\n",
    "all_m_cols = ['measurement_{}'.format(i) for i in range(0, 18)]\n",
    "lda.fit(df_prob3_train[all_m_cols], df_prob3_train['failure'])"
   ]
  },
  {
   "cell_type": "code",
   "execution_count": 78,
   "metadata": {
    "colab": {
     "base_uri": "https://localhost:8080/"
    },
    "id": "pzaW6_-mfzVl",
    "outputId": "8e23593c-8529-4995-c5bb-a0baaf1a2f80"
   },
   "outputs": [
    {
     "data": {
      "text/plain": [
       "0.5340281034067301"
      ]
     },
     "execution_count": 78,
     "metadata": {},
     "output_type": "execute_result"
    }
   ],
   "source": [
    "# lda 모델을 분류기로도 쓸 수 있다.\n",
    "roc_auc_score(df_prob3_train['failure'], lda.predict_proba(df_prob3_train[all_m_cols])[:, 1])"
   ]
  },
  {
   "cell_type": "code",
   "execution_count": 79,
   "metadata": {
    "colab": {
     "base_uri": "https://localhost:8080/"
    },
    "id": "-qMQvkR7dsAN",
    "outputId": "31ecf8a1-f41a-434a-cbb3-ae7cd2289966"
   },
   "outputs": [
    {
     "data": {
      "text/plain": [
       "0.5233319056281441"
      ]
     },
     "execution_count": 79,
     "metadata": {},
     "output_type": "execute_result"
    }
   ],
   "source": [
    "# test 셋에도 적용해 보자\n",
    "roc_auc_score(df_prob3_test['failure'], lda.predict_proba(df_prob3_test[all_m_cols])[:, 1])"
   ]
  },
  {
   "cell_type": "code",
   "execution_count": 80,
   "metadata": {
    "colab": {
     "base_uri": "https://localhost:8080/"
    },
    "id": "CAsz-iGgfj-Z",
    "outputId": "2054c0db-eeb9-4401-f39d-f550c46eb833"
   },
   "outputs": [
    {
     "data": {
      "text/plain": [
       "(SpearmanrResult(correlation=0.0029462997112993335, pvalue=0.6995009550811424),\n",
       " 0.6995009550811424)"
      ]
     },
     "execution_count": 80,
     "metadata": {},
     "output_type": "execute_result"
    }
   ],
   "source": [
    "res = spearmanr(lda.transform(df_prob3_train[all_m_cols])[:, 0],\n",
    "          df_prob3_train['loading'])\n",
    "A = res.pvalue\n",
    "res, A # loading과 관측값과는 연관성있다고 보기 힘들다."
   ]
  },
  {
   "cell_type": "code",
   "execution_count": 81,
   "metadata": {
    "id": "frJBd01rYFxK"
   },
   "outputs": [
    {
     "data": {
      "text/plain": [
       "(0.007688137797842969, 0.31382219694393537)"
      ]
     },
     "execution_count": 81,
     "metadata": {},
     "output_type": "execute_result"
    }
   ],
   "source": [
    "# 참고 pearson correlation\n",
    "from scipy.stats import pearsonr\n",
    "pearsonr(lda.transform(df_prob3_train[all_m_cols])[:, 0],\n",
    "          df_prob3_train['loading'])"
   ]
  },
  {
   "cell_type": "markdown",
   "metadata": {
    "id": "AeGoJZLZoLKI"
   },
   "source": [
    "## 단계 4-2"
   ]
  },
  {
   "cell_type": "code",
   "execution_count": 82,
   "metadata": {
    "id": "9A5qZQegqG6G"
   },
   "outputs": [],
   "source": [
    "from sklearn.decomposition import PCA\n",
    "X_pca_cols = ['measurement_{}'.format(i) for i in range(0, 18)] # PCA 입력변수명\n",
    "pca_cols = ['pca_{}'.format(i) for i in range(0, 18)] # PCA 파생 변수명"
   ]
  },
  {
   "cell_type": "code",
   "execution_count": 83,
   "metadata": {},
   "outputs": [],
   "source": [
    "df_prob4_train = df_prob3_train.copy()\n",
    "df_prob4_test = df_prob3_test.copy()"
   ]
  },
  {
   "cell_type": "code",
   "execution_count": 84,
   "metadata": {},
   "outputs": [],
   "source": [
    "pca = PCA() #  모든 컴포난트를 가져와서 넣자\n",
    "pca.fit(df_prob4_train[X_pca_cols])\n",
    "df_prob4_train[pca_cols] = pd.DataFrame(pca.transform(df_prob4_train[X_pca_cols]), index=df_prob4_train.index)\n",
    "df_prob4_test[pca_cols] = pd.DataFrame(pca.transform(df_prob4_test[X_pca_cols]), index=df_prob4_test.index)"
   ]
  },
  {
   "cell_type": "markdown",
   "metadata": {
    "id": "b3bGg5TruP8o"
   },
   "source": [
    "## 단계 4-3"
   ]
  },
  {
   "cell_type": "code",
   "execution_count": 85,
   "metadata": {
    "id": "Kf9OwjTbZvuV"
   },
   "outputs": [],
   "source": [
    "X_prob4 = ['loading']"
   ]
  },
  {
   "cell_type": "code",
   "execution_count": 86,
   "metadata": {},
   "outputs": [
    {
     "data": {
      "text/plain": [
       "0.5778277926972065"
      ]
     },
     "execution_count": 86,
     "metadata": {},
     "output_type": "execute_result"
    }
   ],
   "source": [
    "lr = LogisticRegression(solver='lbfgs')\n",
    "lr.fit(df_prob4_train[X_prob4], df_prob4_train[target])\n",
    "best_auc = roc_auc_score(df_prob4_test[target], lr.predict_proba(df_prob4_test[X_prob4])[:, 1])\n",
    "best_auc"
   ]
  },
  {
   "cell_type": "code",
   "execution_count": 87,
   "metadata": {
    "id": "RRZ0CA1oMbBv"
   },
   "outputs": [
    {
     "name": "stdout",
     "output_type": "stream",
     "text": [
      "0 0.579565141627812\n",
      "1 0.5784170060859327\n",
      "2 0.5786498903164131\n",
      "3 0.5801256923420173\n",
      "4 0.5805735466314028\n",
      "5 0.5811103203542446\n",
      "6 0.581757510516433\n",
      "7 0.5808025223153578\n",
      "8 0.5801787834323228\n",
      "9 0.5801664063683251\n",
      "10 0.5794231311040503\n",
      "11 0.5785678108393766\n",
      "12 0.5782202759108135\n",
      "13 0.5782310244137587\n",
      "14 0.5776818736269195\n",
      "15 0.5772988360674158\n",
      "16 0.5768773644670778\n",
      "17 0.5771252314592396\n"
     ]
    },
    {
     "data": {
      "text/plain": [
       "(['loading', 'pca_0', 'pca_1', 'pca_2', 'pca_3', 'pca_4', 'pca_5', 'pca_6'],\n",
       " 0.581757510516433)"
      ]
     },
     "execution_count": 87,
     "metadata": {},
     "output_type": "execute_result"
    }
   ],
   "source": [
    "best_X_cols = X_prob4.copy()\n",
    "for i in range(18):\n",
    "    X_prob4.append('pca_{}'.format(i))\n",
    "    lr.fit(df_prob4_train[X_prob4], df_prob4_train[target])\n",
    "    cur_auc = roc_auc_score(df_prob4_test[target], lr.predict_proba(df_prob4_test[X_prob4])[:, 1])\n",
    "    print(i, cur_auc)\n",
    "    if cur_auc > best_auc:\n",
    "        best_X_cols = X_prob4.copy()\n",
    "        best_auc = cur_auc\n",
    "best_X_cols,  best_auc"
   ]
  },
  {
   "cell_type": "code",
   "execution_count": 88,
   "metadata": {},
   "outputs": [
    {
     "data": {
      "text/plain": [
       "0.49053704530610626"
      ]
     },
     "execution_count": 88,
     "metadata": {},
     "output_type": "execute_result"
    }
   ],
   "source": [
    "B = np.sum(pca.explained_variance_ratio_[:7])\n",
    "B"
   ]
  },
  {
   "cell_type": "code",
   "execution_count": 89,
   "metadata": {
    "colab": {
     "base_uri": "https://localhost:8080/"
    },
    "id": "smt49ztAykGt",
    "outputId": "1ff22e02-5cb8-4817-ef97-151bab86eb87"
   },
   "outputs": [
    {
     "data": {
      "text/plain": [
       "1.1900380003872486"
      ]
     },
     "execution_count": 89,
     "metadata": {},
     "output_type": "execute_result"
    }
   ],
   "source": [
    "A + B"
   ]
  },
  {
   "cell_type": "markdown",
   "metadata": {},
   "source": [
    "**시험장: 1.19, BDC: 1.19**"
   ]
  },
  {
   "cell_type": "markdown",
   "metadata": {
    "id": "hrb7sivhxe2B"
   },
   "source": [
    "# 문제 5"
   ]
  },
  {
   "cell_type": "markdown",
   "metadata": {},
   "source": [
    "**출제자 노트**\n",
    "\n",
    "문제에서 주는 힌트가 모두 도움이 되지 않을 수 있습니다. 취사 선택해야 할 경우가 있죠. 이 솔루션에서는 3가지 솔루션을 제시했습니다. 어떤 방법으로 어떤 모듈을 택하느냐에 따라 답은 같지만, 해결 방법의 복잡도는 상당히 차이가 납니다. 교차 검증을 주제로 대응 방법을 연습해 봅시다."
   ]
  },
  {
   "cell_type": "markdown",
   "metadata": {
    "id": "ZWxYncZJ-dSf"
   },
   "source": [
    "## 단계 5-1"
   ]
  },
  {
   "cell_type": "code",
   "execution_count": 84,
   "metadata": {
    "id": "RU1lUToEz_T5"
   },
   "outputs": [],
   "source": [
    "from sklearn.model_selection import StratifiedKFold \n",
    "# 혹시 문제에 대한 StratifiedGroupedKFold가 적합하지 않느냐라고 챌린지를 한다면,\n",
    "# 타당하지만 배운 내용이 아니라 사용하지는...\n",
    "import itertools\n",
    "from sklearn.ensemble import RandomForestClassifier"
   ]
  },
  {
   "cell_type": "code",
   "execution_count": 85,
   "metadata": {
    "id": "F_5wJE0VzsKZ"
   },
   "outputs": [],
   "source": [
    "X_cols = ['loading'] + m_cols + ['na_1', 'na_2']\n",
    "kf = StratifiedKFold(n_splits=5, random_state=123, shuffle=True)"
   ]
  },
  {
   "cell_type": "markdown",
   "metadata": {},
   "source": [
    "### 방법 1\n",
    "\n",
    "GridSearchCV 활용"
   ]
  },
  {
   "cell_type": "code",
   "execution_count": 86,
   "metadata": {
    "colab": {
     "base_uri": "https://localhost:8080/"
    },
    "id": "SCR9-Sfk4O1a",
    "outputId": "3353965f-2d69-4f16-a953-b50e39ff798a"
   },
   "outputs": [
    {
     "data": {
      "text/plain": [
       "GridSearchCV(cv=StratifiedKFold(n_splits=5, random_state=123, shuffle=True),\n",
       "             error_score='raise-deprecating',\n",
       "             estimator=RandomForestClassifier(bootstrap=True, class_weight=None,\n",
       "                                              criterion='gini', max_depth=None,\n",
       "                                              max_features='auto',\n",
       "                                              max_leaf_nodes=None,\n",
       "                                              min_impurity_decrease=0.0,\n",
       "                                              min_impurity_split=None,\n",
       "                                              min_samples_leaf=1,\n",
       "                                              min_samples_split=2,\n",
       "                                              min_weight_fraction_leaf=0.0,\n",
       "                                              n_estimators='warn', n_jobs=None,\n",
       "                                              oob_score=False, random_state=123,\n",
       "                                              verbose=0, warm_start=False),\n",
       "             iid='warn', n_jobs=None,\n",
       "             param_grid={'max_depth': [5, 6, 7],\n",
       "                         'min_samples_split': [256, 512],\n",
       "                         'n_estimators': [5, 10, 15]},\n",
       "             pre_dispatch='2*n_jobs', refit=True, return_train_score=False,\n",
       "             scoring='roc_auc', verbose=0)"
      ]
     },
     "execution_count": 86,
     "metadata": {},
     "output_type": "execute_result"
    }
   ],
   "source": [
    "# GridSearchCV 이용하기\n",
    "from sklearn.model_selection import GridSearchCV\n",
    "est = RandomForestClassifier(random_state=123)\n",
    "clf = GridSearchCV(estimator=est, \n",
    "                   param_grid={'n_estimators': [5, 10, 15], \n",
    "                               'max_depth': [5, 6, 7], \n",
    "                               'min_samples_split': [256, 512]}, \n",
    "                   scoring='roc_auc', cv=kf)\n",
    "clf.fit(df_prob3_train[X_cols], df_prob3_train['failure'])"
   ]
  },
  {
   "cell_type": "code",
   "execution_count": 87,
   "metadata": {
    "colab": {
     "base_uri": "https://localhost:8080/"
    },
    "id": "Mu23wcsa6oJl",
    "outputId": "3f280195-2599-4bb1-cb5e-597b8009721c"
   },
   "outputs": [
    {
     "data": {
      "text/plain": [
       "({'max_depth': 7, 'min_samples_split': 512, 'n_estimators': 15},\n",
       " 0.5745230040906384)"
      ]
     },
     "execution_count": 87,
     "metadata": {},
     "output_type": "execute_result"
    }
   ],
   "source": [
    "clf.best_params_, clf.best_score_"
   ]
  },
  {
   "cell_type": "markdown",
   "metadata": {},
   "source": [
    "### 방법 2\n",
    "\n",
    "cross_val_score 활용"
   ]
  },
  {
   "cell_type": "code",
   "execution_count": 88,
   "metadata": {
    "colab": {
     "base_uri": "https://localhost:8080/"
    },
    "id": "ANPQne9M3Iu_",
    "outputId": "b11bdfe2-d2df-4672-ce2b-6a1d45877d54"
   },
   "outputs": [
    {
     "name": "stdout",
     "output_type": "stream",
     "text": [
      "5 5 256 0.5547115468443294\n",
      "5 5 512 0.5617150416141751\n",
      "5 6 256 0.5568999583940097\n",
      "5 6 512 0.5623239919998733\n",
      "5 7 256 0.5567633668997499\n",
      "5 7 512 0.5642015275666604\n",
      "10 5 256 0.5654552370913933\n",
      "10 5 512 0.5707474621000601\n",
      "10 6 256 0.5681316681217556\n",
      "10 6 512 0.5680847464819798\n",
      "10 7 256 0.5670255107788329\n",
      "10 7 512 0.5724060304780464\n",
      "15 5 256 0.5692073209929452\n",
      "15 5 512 0.5716407241067258\n",
      "15 6 256 0.5706158790202794\n",
      "15 6 512 0.5699305861415821\n",
      "15 7 256 0.5699417404975209\n",
      "15 7 512 0.5745226991354744\n"
     ]
    }
   ],
   "source": [
    "# cross_val_score 이용하기\n",
    "from sklearn.model_selection import cross_val_score\n",
    "best_auc = 0\n",
    "best_param = None\n",
    "# 3중 루프를 돌리거나, recursive 함수 호출로 조합을 만들 수도 있겠지만 \n",
    "# itertools의 product 함수를 이용하여 간편하게 가져온다.\n",
    "for n_estimators, max_depth, min_samples_split in itertools.product([5, 10, 15], [5, 6, 7], [256, 512]):\n",
    "    clf = RandomForestClassifier(n_estimators=n_estimators, \n",
    "                                 max_depth=max_depth, \n",
    "                                 min_samples_split=min_samples_split, random_state=123)\n",
    "    cur_auc = np.mean(cross_val_score(clf, df_prob3_train[X_cols], df_prob3_train['failure'], cv=kf, scoring='roc_auc'))\n",
    "    if best_auc < cur_auc:\n",
    "        best_auc = cur_auc\n",
    "        best_param = (n_estimators, max_depth, min_samples_split)\n",
    "    print(n_estimators, max_depth, min_samples_split, cur_auc)"
   ]
  },
  {
   "cell_type": "code",
   "execution_count": 89,
   "metadata": {
    "colab": {
     "base_uri": "https://localhost:8080/"
    },
    "id": "mwNjjYgw4HoA",
    "outputId": "30ec7869-4c20-4682-f4c8-424c63937b7d"
   },
   "outputs": [
    {
     "data": {
      "text/plain": [
       "((15, 7, 512), 0.5745226991354744)"
      ]
     },
     "execution_count": 89,
     "metadata": {},
     "output_type": "execute_result"
    }
   ],
   "source": [
    "best_param, best_auc # 미세하게 차이남, floating point 연산 방법 차이"
   ]
  },
  {
   "cell_type": "markdown",
   "metadata": {},
   "source": [
    "### 방법 3\n",
    "\n",
    "루프 활용"
   ]
  },
  {
   "cell_type": "code",
   "execution_count": 90,
   "metadata": {
    "colab": {
     "base_uri": "https://localhost:8080/"
    },
    "id": "QHLq10bVxebZ",
    "outputId": "4d0bc076-3265-46f2-e712-6c87592b9e7c"
   },
   "outputs": [
    {
     "name": "stdout",
     "output_type": "stream",
     "text": [
      "5 5 256 0.5547115468443294\n",
      "5 5 512 0.5617150416141751\n",
      "5 6 256 0.5568999583940097\n",
      "5 6 512 0.5623239919998733\n",
      "5 7 256 0.5567633668997499\n",
      "5 7 512 0.5642015275666604\n",
      "10 5 256 0.5654552370913933\n",
      "10 5 512 0.5707474621000601\n",
      "10 6 256 0.5681316681217556\n",
      "10 6 512 0.5680847464819798\n",
      "10 7 256 0.5670255107788329\n",
      "10 7 512 0.5724060304780464\n",
      "15 5 256 0.5692073209929452\n",
      "15 5 512 0.5716407241067258\n",
      "15 6 256 0.5706158790202794\n",
      "15 6 512 0.5699305861415821\n",
      "15 7 256 0.5699417404975209\n",
      "15 7 512 0.5745226991354744\n"
     ]
    }
   ],
   "source": [
    "# 루프를 활용하여 구하기\n",
    "best_auc = 0\n",
    "best_param = None\n",
    "for n_estimators, max_depth, min_samples_split in itertools.product([5, 10, 15], [5, 6, 7], [256, 512]):\n",
    "    clf = RandomForestClassifier(n_estimators=n_estimators, \n",
    "                                 max_depth=max_depth, \n",
    "                                 min_samples_split=min_samples_split, random_state=123)\n",
    "    auc_list = []\n",
    "    for train_index, test_index in kf.split(df_prob3_train[X_cols], df_prob3_train['failure']):\n",
    "        clf.fit(df_prob3_train.iloc[train_index][X_cols], df_prob3_train.iloc[train_index]['failure'])\n",
    "        y_hat = clf.predict_proba(df_prob3_train.iloc[test_index][X_cols])[:, 1]\n",
    "        auc = roc_auc_score(df_prob3_train.iloc[test_index]['failure'], y_hat)\n",
    "        auc_list.append(auc)\n",
    "    cur_auc = np.mean(auc_list)\n",
    "    if best_auc < cur_auc:\n",
    "        best_auc = cur_auc\n",
    "        best_param = (n_estimators, max_depth, min_samples_split)\n",
    "    print(n_estimators, max_depth, min_samples_split, cur_auc)"
   ]
  },
  {
   "cell_type": "code",
   "execution_count": 91,
   "metadata": {
    "colab": {
     "base_uri": "https://localhost:8080/"
    },
    "id": "-Z5V3gaX4M3X",
    "outputId": "565ea878-76fe-4f86-8f0d-0c7323ece7d9"
   },
   "outputs": [
    {
     "data": {
      "text/plain": [
       "((15, 7, 512), 0.5745226991354744)"
      ]
     },
     "execution_count": 91,
     "metadata": {},
     "output_type": "execute_result"
    }
   ],
   "source": [
    "best_param, best_auc"
   ]
  },
  {
   "cell_type": "markdown",
   "metadata": {
    "id": "Ipts_usZ66NG"
   },
   "source": [
    "## 단계 5-2"
   ]
  },
  {
   "cell_type": "code",
   "execution_count": 92,
   "metadata": {
    "colab": {
     "base_uri": "https://localhost:8080/"
    },
    "id": "3Z5AtCyn628s",
    "outputId": "9eca6b5d-b0df-43a7-8343-02e199c05d48"
   },
   "outputs": [
    {
     "data": {
      "text/plain": [
       "0.5687712018291998"
      ]
     },
     "execution_count": 92,
     "metadata": {},
     "output_type": "execute_result"
    }
   ],
   "source": [
    "clf = RandomForestClassifier(max_depth=7, min_samples_split=512, n_estimators=15, random_state=123)\n",
    "clf.fit(df_prob3_train[X_cols], df_prob3_train['failure'])\n",
    "A = roc_auc_score(df_prob3_test['failure'], clf.predict_proba(df_prob3_test[X_cols])[:, 1])\n",
    "A"
   ]
  },
  {
   "cell_type": "markdown",
   "metadata": {},
   "source": [
    "**0.569, 0.569**"
   ]
  },
  {
   "cell_type": "markdown",
   "metadata": {
    "id": "psgkhsagSWX6"
   },
   "source": [
    "# 문제 6\n",
    "\n",
    "[Kaggle 형] train.csv을 학습 데이터로 사용하여, failure를 맞추는 분류 모델을 만들고, test.csv 테스트 데이터에 대한 failure일 확률을 다음과 같은 포맷으로 submission.csv라는 이름으로 만들어라. 측정에 대한 지표는 area under of ROC curve 이다.\n",
    "\n",
    "Id,failure\n",
    "\n",
    "26570, 0.1\n",
    "\n",
    "26571, 0.2\n",
    "\n",
    "....\n",
    "\n",
    "\n"
   ]
  },
  {
   "cell_type": "markdown",
   "metadata": {},
   "source": [
    "**출제자 노트**\n",
    "\n",
    "이전 문제에서 Kaggle형 문제에 대응할 만한 솔루션이 있다면 가져와서 적용하면 훨씬 접근이 쉬워집니다. 적용할 방법이 있는 지 살펴 보고 가져와서 적용해 봅시다."
   ]
  },
  {
   "cell_type": "code",
   "execution_count": 93,
   "metadata": {
    "colab": {
     "base_uri": "https://localhost:8080/",
     "height": 238
    },
    "id": "cjo0h0wZ9aBJ",
    "outputId": "3872d985-09e2-489c-9fed-1f7621e6f82f"
   },
   "outputs": [
    {
     "data": {
      "text/html": [
       "<div>\n",
       "<style scoped>\n",
       "    .dataframe tbody tr th:only-of-type {\n",
       "        vertical-align: middle;\n",
       "    }\n",
       "\n",
       "    .dataframe tbody tr th {\n",
       "        vertical-align: top;\n",
       "    }\n",
       "\n",
       "    .dataframe thead th {\n",
       "        text-align: right;\n",
       "    }\n",
       "</style>\n",
       "<table border=\"1\" class=\"dataframe\">\n",
       "  <thead>\n",
       "    <tr style=\"text-align: right;\">\n",
       "      <th></th>\n",
       "      <th>failure</th>\n",
       "    </tr>\n",
       "    <tr>\n",
       "      <th>id</th>\n",
       "      <th></th>\n",
       "    </tr>\n",
       "  </thead>\n",
       "  <tbody>\n",
       "    <tr>\n",
       "      <td>16115</td>\n",
       "      <td>1</td>\n",
       "    </tr>\n",
       "    <tr>\n",
       "      <td>16116</td>\n",
       "      <td>0</td>\n",
       "    </tr>\n",
       "    <tr>\n",
       "      <td>16117</td>\n",
       "      <td>0</td>\n",
       "    </tr>\n",
       "    <tr>\n",
       "      <td>16118</td>\n",
       "      <td>1</td>\n",
       "    </tr>\n",
       "    <tr>\n",
       "      <td>16119</td>\n",
       "      <td>0</td>\n",
       "    </tr>\n",
       "  </tbody>\n",
       "</table>\n",
       "</div>"
      ],
      "text/plain": [
       "       failure\n",
       "id            \n",
       "16115        1\n",
       "16116        0\n",
       "16117        0\n",
       "16118        1\n",
       "16119        0"
      ]
     },
     "execution_count": 93,
     "metadata": {},
     "output_type": "execute_result"
    }
   ],
   "source": [
    "# 실제 시험에서는 정답을 주지 않지만, \n",
    "# 본 과제는 연습이 목표이므로, 정답을 포함했다.\n",
    "# 정답 데이터셋을 불러온다\n",
    "df_ans = pd.read_csv('test_prob_ans.csv', index_col='id')\n",
    "df_ans.head()"
   ]
  },
  {
   "cell_type": "code",
   "execution_count": 94,
   "metadata": {
    "id": "zgqd3i3m7Hyd"
   },
   "outputs": [],
   "source": [
    "# Kaggle형은 별도의 노트북으로 만들도록 합니다. 위의 코드 없이 별도로 돌려도 작동할 수 있게 만들었습니다.\n",
    "\n",
    "import pandas as pd\n",
    "\n",
    "df_org = pd.read_csv('train_prob.csv', dtype={'failure': 'int8', 'attribute_2': 'int8', 'attribute_3': 'int8'}, index_col='id')\n",
    "df_test = pd.read_csv('test_prob.csv', dtype={'failure': 'int8', 'attribute_2': 'int8', 'attribute_3': 'int8'}, index_col='id')\n",
    "\n",
    "df_prob6_train = df_org.copy()\n",
    "df_prob6_test = df_test.copy()"
   ]
  },
  {
   "cell_type": "markdown",
   "metadata": {},
   "source": [
    "### 방법 1\n",
    "\n",
    "좋은 성능을 보인 모델을 떼와서 적용해보자"
   ]
  },
  {
   "cell_type": "code",
   "execution_count": 95,
   "metadata": {
    "id": "eugA_2lX6x0f"
   },
   "outputs": [],
   "source": [
    "from sklearn.experimental import enable_iterative_imputer\n",
    "from sklearn.impute import IterativeImputer\n",
    "from sklearn.linear_model import LinearRegression\n",
    "from sklearn.preprocessing import StandardScaler\n",
    "from sklearn.metrics import roc_auc_score\n",
    "\n",
    "# 문제에서 유효했던 것을 집대성하여 Kaggle형에서 사용하자.\n",
    "# 동일한 과정을 테스트에 적용할 필요가 있는 경우에\n",
    "# 복잡한 과정이 필요하다면 함수화하여 소스코드의 복잡도를 줄이고, 실수를 줄이자.\n",
    "def preproc(df, std_scaler=None):\n",
    "    # 결측치 파생 변수 사용 \n",
    "    df[['na_1', 'na_2']] = df[['measurement_3', 'measurement_5']].isna()\n",
    "    \n",
    "    # 결측치 보정\n",
    "    # 데이터처리기를 사용할 때, \n",
    "    # 보통 train 셋을 대상으로 fit하고 test에서는 transform이지만\n",
    "    # 위에서도 언급했지만,\n",
    "    # 이 과정은 product_code 별로 변환로 IterativeImputer를 적용하라고 했다. \n",
    "    # test에서 나오는 product_code는 train에 나오지 않으므로,\n",
    "    # 구분할 이유가 없는 것이다.\n",
    "    # 이 점을 유념하여 혼선이 없기를 바란다.\n",
    "    itr_cols = ['measurement_{}'.format(i) for i in range(3, 10)] + ['measurement_17']\n",
    "    for c in df['product_code'].unique():\n",
    "        imp = IterativeImputer(LinearRegression(), random_state=123)\n",
    "        df.loc[df['product_code'] == c, itr_cols] = imp.fit_transform(df.loc[df['product_code'] == c, itr_cols])\n",
    "    for i in range(10, 17):\n",
    "        col = 'measurement_{}'.format(i)\n",
    "        df[col] = df.groupby('product_code')[col].transform(lambda x: x.fillna(x.mean()))\n",
    "    df['loading'] = df['loading'].fillna(df['loading'].mean())\n",
    "    X_std_cols = ['loading'] + ['measurement_{}'.format(i) for i in range(0, 18)]\n",
    "    \n",
    "    # 팁: 학습셋에서만 fit이 필요한 경우에는 None으로 받고 이를 반환하여 \n",
    "    # 테스트셋에서는 학습셋에서 fit했던 것을 사용하도록한다.\n",
    "    if std_scaler is None: # 학습셋일 경우에 \n",
    "        std_scaler = StandardScaler()\n",
    "        df[X_std_cols] = std_scaler.fit_transform(df[X_std_cols])\n",
    "    else: # 학습셋에서 썼던 변환기 사용\n",
    "        df[X_std_cols] = std_scaler.transform(df[X_std_cols])\n",
    "    return df, std_scaler"
   ]
  },
  {
   "cell_type": "code",
   "execution_count": 96,
   "metadata": {
    "id": "tZs8Fo4-7umP"
   },
   "outputs": [],
   "source": [
    "df_prob6_train_proc, std_scaler = preproc(df_prob6_train)\n",
    "df_prob6_test_proc, _ = preproc(df_prob6_test, std_scaler)"
   ]
  },
  {
   "cell_type": "code",
   "execution_count": 97,
   "metadata": {
    "colab": {
     "base_uri": "https://localhost:8080/"
    },
    "id": "d-vMsxBV9Z8g",
    "outputId": "b6e3680a-5eb8-4d03-b566-d10d3aadb05a"
   },
   "outputs": [
    {
     "data": {
      "text/plain": [
       "0.5916532449664929"
      ]
     },
     "execution_count": 97,
     "metadata": {},
     "output_type": "execute_result"
    }
   ],
   "source": [
    "from sklearn.linear_model import LogisticRegression\n",
    "# 전진 선택법으로 추려 낸 입력 변수\n",
    "sel_feat = ['loading',  'na_1', 'measurement_1', 'measurement_4',  'measurement_14', 'measurement_17']\n",
    "clf = LogisticRegression(solver='lbfgs')\n",
    "clf.fit(df_prob6_train_proc[sel_feat], df_prob6_train_proc['failure'])\n",
    "roc_auc_score(df_prob6_train_proc['failure'], clf.predict_proba(df_prob6_train_proc[sel_feat])[:, 1])"
   ]
  },
  {
   "cell_type": "markdown",
   "metadata": {},
   "source": [
    "## 방법 2\n",
    "\n",
    "\n",
    "sklearn.compose.ComposeTransformer과 \n",
    "sklearn.pipeline.make_pipeline을  통한 \n",
    "\n",
    "빠르고 다양한 처리과정 구성"
   ]
  },
  {
   "cell_type": "code",
   "execution_count": 98,
   "metadata": {},
   "outputs": [],
   "source": [
    "df_prob6_train = df_org.copy()\n",
    "df_prob6_test = df_test.copy()"
   ]
  },
  {
   "cell_type": "code",
   "execution_count": 99,
   "metadata": {},
   "outputs": [],
   "source": [
    "# test에도 동일하게 전처리 적용\n",
    "df_prob6_train[['na_1', 'na_2']] = df_prob6_train[['measurement_3', 'measurement_5']].isna()\n",
    "df_prob6_test[['na_1', 'na_2']] = df_prob6_test[['measurement_3', 'measurement_5']].isna()\n",
    "itr_cols = ['measurement_{}'.format(i) for i in range(3, 10)] + ['measurement_17']\n",
    "for c in df_prob6_train['product_code'].unique():\n",
    "    imp = IterativeImputer(LinearRegression(), random_state=123)\n",
    "    df_prob6_train.loc[df_prob6_train['product_code'] == c, itr_cols] =\\\n",
    "            imp.fit_transform(df_prob6_train.loc[df_prob6_train['product_code'] == c, itr_cols])\n",
    "\n",
    "for c in df_prob6_test['product_code'].unique():\n",
    "    imp = IterativeImputer(LinearRegression(), random_state=123)\n",
    "    df_prob6_test.loc[df_prob6_test['product_code'] == c, itr_cols] =\\\n",
    "            imp.fit_transform(df_prob6_test.loc[df_prob6_test['product_code'] == c, itr_cols])\n",
    "df_prob6_train['loading'] = df_prob6_train['loading'].fillna(df_prob6_train['loading'].mean())\n",
    "df_prob6_test['loading'] = df_prob6_test['loading'].fillna(df_prob6_test['loading'].mean())\n",
    "\n",
    "imp_mean_cols = ['measurement_{}'.format(i) for i in range(10, 17)]\n",
    "df_prob6_train[imp_mean_cols] = df_prob6_train.groupby('product_code')[imp_mean_cols].transform(lambda x: x.fillna(x.mean()))\n",
    "df_prob6_test[imp_mean_cols] = df_prob6_test.groupby('product_code')[imp_mean_cols].transform(lambda x: x.fillna(x.mean()))"
   ]
  },
  {
   "cell_type": "code",
   "execution_count": 100,
   "metadata": {},
   "outputs": [],
   "source": [
    "from sklearn.compose import ColumnTransformer\n",
    "from sklearn.preprocessing import StandardScaler\n",
    "from mlxtend.feature_selection import SequentialFeatureSelector\n",
    "from sklearn.linear_model import LogisticRegression\n",
    "from sklearn.decomposition import PCA\n",
    "from sklearn.pipeline import make_pipeline\n",
    "\n",
    "X_cols = ['loading', 'na_1', 'na_2'] + ['measurement_{}'.format(i) for i in range(0, 18)]\n",
    "target = 'failure'"
   ]
  },
  {
   "cell_type": "code",
   "execution_count": 101,
   "metadata": {},
   "outputs": [],
   "source": [
    "# 문제 4의 처리 과정\n",
    "ct_1 = ColumnTransformer(\n",
    "    [('loading', StandardScaler(), ['loading']),\n",
    "     ('pca_std', make_pipeline(StandardScaler(), PCA(n_components=7)), ['measurement_{}'.format(i) for i in range(0, 18)]),\n",
    "     ('pt', 'passthrough', ['na_1', 'na_2'])]\n",
    ")"
   ]
  },
  {
   "cell_type": "code",
   "execution_count": 102,
   "metadata": {},
   "outputs": [
    {
     "data": {
      "text/plain": [
       "0.5920062838657576"
      ]
     },
     "execution_count": 102,
     "metadata": {},
     "output_type": "execute_result"
    }
   ],
   "source": [
    "clf_1 = make_pipeline(ct_1, LogisticRegression(solver='lbfgs'))\n",
    "clf_1.fit(df_prob6_train[X_cols], df_prob6_train[target])\n",
    "roc_auc_score(df_prob6_train[target], clf_1.predict_proba(df_prob6_train[X_cols])[:, 1])"
   ]
  },
  {
   "cell_type": "code",
   "execution_count": 103,
   "metadata": {},
   "outputs": [],
   "source": [
    "ct_2 = ColumnTransformer(\n",
    "    [('std', StandardScaler(), ['loading'] + ['measurement_{}'.format(i) for i in range(0, 18)]),\n",
    "     ('pt', 'passthrough', ['na_1', 'na_2'])]\n",
    ")\n",
    "sfs = SequentialFeatureSelector(\n",
    "    LogisticRegression(solver='lbfgs'),\n",
    "    k_features = 'best',\n",
    "    forward = True,\n",
    "    floating = False,\n",
    "    scoring='roc_auc',\n",
    "    cv=StratifiedKFold(n_splits=5, random_state=123, shuffle=True)\n",
    ")"
   ]
  },
  {
   "cell_type": "code",
   "execution_count": 104,
   "metadata": {},
   "outputs": [
    {
     "data": {
      "text/plain": [
       "0.5919719087170596"
      ]
     },
     "execution_count": 104,
     "metadata": {},
     "output_type": "execute_result"
    }
   ],
   "source": [
    "# 문제 3이 처리 과정\n",
    "\n",
    "clf_2 = make_pipeline(ct_2, sfs, LogisticRegression(solver='lbfgs'))\n",
    "clf_2.fit(df_prob6_train[X_cols], df_prob6_train[target])\n",
    "roc_auc_score(df_prob6_train[target], clf_2.predict_proba(df_prob6_train[X_cols])[:, 1])"
   ]
  },
  {
   "cell_type": "code",
   "execution_count": 105,
   "metadata": {},
   "outputs": [
    {
     "data": {
      "text/plain": [
       "0.5925813870071603"
      ]
     },
     "execution_count": 105,
     "metadata": {},
     "output_type": "execute_result"
    }
   ],
   "source": [
    "# 두 개를 ensemble\n",
    "\n",
    "from sklearn.ensemble import VotingClassifier\n",
    "\n",
    "clf_e = VotingClassifier([\n",
    "    ('clf_1', clf_1),\n",
    "    ('clf_2', clf_2)\n",
    "], voting='soft')\n",
    "\n",
    "clf_e.fit(df_prob6_train[X_cols], df_prob6_train[target])\n",
    "roc_auc_score(df_prob6_train[target], clf_e.predict_proba(df_prob6_train[X_cols])[:, 1])"
   ]
  },
  {
   "cell_type": "code",
   "execution_count": 106,
   "metadata": {
    "colab": {
     "base_uri": "https://localhost:8080/"
    },
    "id": "az41tZpc_CX3",
    "outputId": "d7426148-0a9d-42ba-a349-3b2c304660fe"
   },
   "outputs": [
    {
     "name": "stderr",
     "output_type": "stream",
     "text": [
      "'head'은(는) 내부 또는 외부 명령, 실행할 수 있는 프로그램, 또는\n",
      "배치 파일이 아닙니다.\n"
     ]
    }
   ],
   "source": [
    "# 출력 파일 제작시 index를 첨부여부를 명확하게 해야 합니다.\n",
    "# DataFrame 사용 스타일에 따라 ID를 Index에 두고 쓰는 사람도 있고, \n",
    "# 일반 컬럼에 두고 쓰는 사람이 있을 텐데\n",
    "# 본 솔루션은 인덱스에 row ID를 담고 있어 index를 포함하여 출력 파일을 제작했습니다.\n",
    "df_submit = pd.DataFrame({'failure': clf.predict_proba(df_prob6_test_proc[sel_feat])[:, 1]}, \n",
    "             index=df_prob6_test_proc.index)\n",
    "df_submit.to_csv('answer6.csv', index=True)\n",
    "!head answer6.csv"
   ]
  },
  {
   "cell_type": "code",
   "execution_count": 107,
   "metadata": {},
   "outputs": [
    {
     "data": {
      "text/html": [
       "<div>\n",
       "<style scoped>\n",
       "    .dataframe tbody tr th:only-of-type {\n",
       "        vertical-align: middle;\n",
       "    }\n",
       "\n",
       "    .dataframe tbody tr th {\n",
       "        vertical-align: top;\n",
       "    }\n",
       "\n",
       "    .dataframe thead th {\n",
       "        text-align: right;\n",
       "    }\n",
       "</style>\n",
       "<table border=\"1\" class=\"dataframe\">\n",
       "  <thead>\n",
       "    <tr style=\"text-align: right;\">\n",
       "      <th></th>\n",
       "      <th>failure</th>\n",
       "    </tr>\n",
       "    <tr>\n",
       "      <th>id</th>\n",
       "      <th></th>\n",
       "    </tr>\n",
       "  </thead>\n",
       "  <tbody>\n",
       "    <tr>\n",
       "      <td>16115</td>\n",
       "      <td>0.145254</td>\n",
       "    </tr>\n",
       "    <tr>\n",
       "      <td>16116</td>\n",
       "      <td>0.178405</td>\n",
       "    </tr>\n",
       "    <tr>\n",
       "      <td>16117</td>\n",
       "      <td>0.215412</td>\n",
       "    </tr>\n",
       "    <tr>\n",
       "      <td>16118</td>\n",
       "      <td>0.263162</td>\n",
       "    </tr>\n",
       "    <tr>\n",
       "      <td>16119</td>\n",
       "      <td>0.215025</td>\n",
       "    </tr>\n",
       "  </tbody>\n",
       "</table>\n",
       "</div>"
      ],
      "text/plain": [
       "        failure\n",
       "id             \n",
       "16115  0.145254\n",
       "16116  0.178405\n",
       "16117  0.215412\n",
       "16118  0.263162\n",
       "16119  0.215025"
      ]
     },
     "execution_count": 107,
     "metadata": {},
     "output_type": "execute_result"
    }
   ],
   "source": [
    "df_submit.head(5)"
   ]
  },
  {
   "cell_type": "code",
   "execution_count": 108,
   "metadata": {},
   "outputs": [
    {
     "data": {
      "text/plain": [
       "0.5883705035971223"
      ]
     },
     "execution_count": 108,
     "metadata": {},
     "output_type": "execute_result"
    }
   ],
   "source": [
    "# 정답으로 제출한 솔루션의 성능 측정해보자.\n",
    "roc_auc_score(df_ans['failure'], clf.predict_proba(df_prob6_test_proc[sel_feat])[:, 1])"
   ]
  },
  {
   "cell_type": "code",
   "execution_count": 109,
   "metadata": {
    "colab": {
     "base_uri": "https://localhost:8080/"
    },
    "id": "iKB_z8y1_ymo",
    "outputId": "5593b6c1-49a3-4ca3-e261-4f9207c9ea7a"
   },
   "outputs": [
    {
     "data": {
      "text/plain": [
       "0.590693120503597"
      ]
     },
     "execution_count": 109,
     "metadata": {},
     "output_type": "execute_result"
    }
   ],
   "source": [
    "# 정답으로 제출한 솔루션의 성능 측정해보자.\n",
    "roc_auc_score(df_ans['failure'], clf_1.predict_proba(df_prob6_test[X_cols])[:, 1])"
   ]
  },
  {
   "cell_type": "code",
   "execution_count": 110,
   "metadata": {
    "id": "jzXA57IXCNSf"
   },
   "outputs": [
    {
     "data": {
      "text/plain": [
       "0.5884543615107913"
      ]
     },
     "execution_count": 110,
     "metadata": {},
     "output_type": "execute_result"
    }
   ],
   "source": [
    "# 정답으로 제출한 솔루션의 성능 측정해보자.\n",
    "roc_auc_score(df_ans['failure'], clf_2.predict_proba(df_prob6_test[X_cols])[:, 1])"
   ]
  },
  {
   "cell_type": "code",
   "execution_count": 111,
   "metadata": {},
   "outputs": [
    {
     "data": {
      "text/plain": [
       "0.5901843525179856"
      ]
     },
     "execution_count": 111,
     "metadata": {},
     "output_type": "execute_result"
    }
   ],
   "source": [
    "# 정답으로 제출한 솔루션의 성능 측정해보자.\n",
    "roc_auc_score(df_ans['failure'], clf_e.predict_proba(df_prob6_test[X_cols])[:, 1])"
   ]
  },
  {
   "cell_type": "code",
   "execution_count": null,
   "metadata": {},
   "outputs": [],
   "source": []
  }
 ],
 "metadata": {
  "colab": {
   "provenance": [],
   "toc_visible": true
  },
  "kernelspec": {
   "display_name": "Python 3 (ipykernel)",
   "language": "python",
   "name": "python3"
  },
  "language_info": {
   "codemirror_mode": {
    "name": "ipython",
    "version": 3
   },
   "file_extension": ".py",
   "mimetype": "text/x-python",
   "name": "python",
   "nbconvert_exporter": "python",
   "pygments_lexer": "ipython3",
   "version": "3.7.4"
  }
 },
 "nbformat": 4,
 "nbformat_minor": 4
}
