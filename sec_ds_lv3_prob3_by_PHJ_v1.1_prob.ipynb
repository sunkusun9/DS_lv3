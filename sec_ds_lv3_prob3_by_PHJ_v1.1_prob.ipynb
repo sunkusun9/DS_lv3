{
 "cells": [
  {
   "cell_type": "code",
   "execution_count": 1,
   "id": "b50fbe70",
   "metadata": {},
   "outputs": [
    {
     "name": "stdout",
     "output_type": "stream",
     "text": [
      "3.7.4 (tags/v3.7.4:e09359112e, Jul  8 2019, 20:34:20) [MSC v.1916 64 bit (AMD64)]\n",
      "numpy 1.18.5\n",
      "pandas 0.25.1\n",
      "sklearn 0.21.3\n",
      "mlxtend 0.15.0.0\n",
      "scipy 1.5.2\n"
     ]
    }
   ],
   "source": [
    "import numpy as np\n",
    "import pandas as pd\n",
    "import sklearn\n",
    "import mlxtend\n",
    "import scipy\n",
    "import sys\n",
    "print(sys.version)\n",
    "for i in [np, pd, sklearn, mlxtend, scipy]:\n",
    "    print(i.__name__, i.__version__)"
   ]
  },
  {
   "cell_type": "code",
   "execution_count": 5,
   "id": "711bd916",
   "metadata": {},
   "outputs": [],
   "source": [
    "import matplotlib.pyplot as plt\n",
    "import seaborn as sns"
   ]
  },
  {
   "cell_type": "code",
   "execution_count": 6,
   "id": "d28c334e",
   "metadata": {},
   "outputs": [],
   "source": [
    "# 시각화 모듈을 불러오고, 한글 폰트를 설정  \n",
    "\n",
    "import matplotlib as mpl\n",
    "import matplotlib.font_manager as fm\n",
    "\n",
    "plt.rc('font', family='NanumBarunGothic') \n",
    "mpl.rcParams['axes.unicode_minus'] = False"
   ]
  },
  {
   "cell_type": "markdown",
   "id": "38b3bb7e",
   "metadata": {},
   "source": [
    "# 문제 개요\n",
    "\n",
    "삼성전자 A공장은 전기료 효율화를 통한 원가절감 방안을 찾고 있다. \n",
    "\n",
    "공장 가동시 일시적인 과부하로 최대수요전력이 증가하면 불리한 기본요금이 산정되고 이는 원가상승 요인이 된다. \n",
    "\n",
    "최대수요전력이 높아 지는 시간을 예측하여 선제적으로 수요전력을 조정하는 모델을 개발하고자 한다.\n",
    "\n",
    "최대수요전력을 바탕으로 시간 단위로 산정한다. 당일 데이터를 바탕으로, 그 다음 날의 최대수요전력을 예측한다. \n",
    "\n",
    "이를 바탕으로 다음 날의 생산 원가를 예측한다. \n",
    "\n",
    "보유한 데이터는 A공장에서 2021년 1월 1일 ~ 2021년 9월 14일 (9개월) 동안 변압기에 감지센서를 부착하여 \n",
    "\n",
    "15분 단위로 최대수요전력을 관측한 데이터이다. \n",
    "\n",
    "데이터는 2종류이며, ‘elec.csv’ 데이터는 최대수요전력을 측정한 데이터이며,\n",
    "\n",
    "’info.csv’ 데이터는 측정 당시 기상정보 및 생산량과 인건비율 등의 정보가 포함되어 있다. \n",
    "\n",
    "- 데이터 파일: elec.csv (24,642 rows, 4 columns, 데이터셋명-elec)\n",
    "\n",
    "|컬럼명|내용|타입|\n",
    "|------|:--|----|\n",
    "|Date|측정  날짜|문자열|\n",
    "|DateHour|측정 날짜와 시간|문자열|\n",
    "|Minute|15분 간격으로 측정<br/>(15분, 30분, 45분, 60분)|문자열|\n",
    "|Value|최대수요전력(피크전기 사용량)<br/> 최대수요전력이란 공장 내 설치된 변압기를 통해<br/>일정 시간 단위로 누적 계산되는 전력을 의미|정수형|\n",
    "\n",
    "- 데이터 파일: info.csv (6,168 rows, 9 columns, 데이터셋명-info)\n",
    "\n",
    "|컬럼명|내용|타입|\n",
    "|----|:--|-----|\n",
    "|Date|측정 날짜와 시간|문자열|\n",
    "|생산량|해당 시점에 생산해야 할 생산량|정수형|\n",
    "|기온|해당 시점의 기온|실수형|\n",
    "|풍속|해당 시점의 풍속|실수형|\n",
    "|습도|해당 시점의 습도|정수형|\n",
    "|강수량|해당 시점의 강수량|실수형|\n",
    "|전기요금(계절)|해당시점의 전기요금|실수형|\n",
    "|공장인원|해당 시점에 공장이 보유한 생산력|실수형|\n",
    "|인건비|야간 및 주간 인건비에 대한 비율값|실수형|"
   ]
  },
  {
   "cell_type": "code",
   "execution_count": 7,
   "id": "83066835",
   "metadata": {},
   "outputs": [
    {
     "data": {
      "text/html": [
       "<div>\n",
       "<style scoped>\n",
       "    .dataframe tbody tr th:only-of-type {\n",
       "        vertical-align: middle;\n",
       "    }\n",
       "\n",
       "    .dataframe tbody tr th {\n",
       "        vertical-align: top;\n",
       "    }\n",
       "\n",
       "    .dataframe thead th {\n",
       "        text-align: right;\n",
       "    }\n",
       "</style>\n",
       "<table border=\"1\" class=\"dataframe\">\n",
       "  <thead>\n",
       "    <tr style=\"text-align: right;\">\n",
       "      <th></th>\n",
       "      <th>Date</th>\n",
       "      <th>DateHour</th>\n",
       "      <th>Minute</th>\n",
       "      <th>Value</th>\n",
       "    </tr>\n",
       "  </thead>\n",
       "  <tbody>\n",
       "    <tr>\n",
       "      <td>0</td>\n",
       "      <td>2021-01-01 00:15:00</td>\n",
       "      <td>2021-01-01 00:00:00</td>\n",
       "      <td>15분</td>\n",
       "      <td>62</td>\n",
       "    </tr>\n",
       "    <tr>\n",
       "      <td>1</td>\n",
       "      <td>2021-01-01 00:30:00</td>\n",
       "      <td>2021-01-01 00:00:00</td>\n",
       "      <td>30분</td>\n",
       "      <td>61</td>\n",
       "    </tr>\n",
       "    <tr>\n",
       "      <td>2</td>\n",
       "      <td>2021-01-01 00:45:00</td>\n",
       "      <td>2021-01-01 00:00:00</td>\n",
       "      <td>45분</td>\n",
       "      <td>61</td>\n",
       "    </tr>\n",
       "    <tr>\n",
       "      <td>3</td>\n",
       "      <td>2021-01-01 01:00:00</td>\n",
       "      <td>2021-01-01 00:00:00</td>\n",
       "      <td>60분</td>\n",
       "      <td>61</td>\n",
       "    </tr>\n",
       "    <tr>\n",
       "      <td>4</td>\n",
       "      <td>2021-01-01 01:15:00</td>\n",
       "      <td>2021-01-01 01:00:00</td>\n",
       "      <td>15분</td>\n",
       "      <td>96</td>\n",
       "    </tr>\n",
       "  </tbody>\n",
       "</table>\n",
       "</div>"
      ],
      "text/plain": [
       "                 Date            DateHour Minute  Value\n",
       "0 2021-01-01 00:15:00 2021-01-01 00:00:00    15분     62\n",
       "1 2021-01-01 00:30:00 2021-01-01 00:00:00    30분     61\n",
       "2 2021-01-01 00:45:00 2021-01-01 00:00:00    45분     61\n",
       "3 2021-01-01 01:00:00 2021-01-01 00:00:00    60분     61\n",
       "4 2021-01-01 01:15:00 2021-01-01 01:00:00    15분     96"
      ]
     },
     "execution_count": 7,
     "metadata": {},
     "output_type": "execute_result"
    }
   ],
   "source": [
    "#방법1\n",
    "df_elec = pd.read_csv('elec.csv', parse_dates=['Date', 'DateHour'])\n",
    "\n",
    "#방법2\n",
    "#df_elec = pd.read_csv('elec.csv')\n",
    "#df_elec['Date'] = pd.to_datetime(df_elec['Date'])\n",
    "#df_elec['DateHour'] = pd.to_datetime(df_elec['DateHour'])\n",
    "df_elec.head()"
   ]
  },
  {
   "cell_type": "code",
   "execution_count": 8,
   "id": "26c8694e",
   "metadata": {},
   "outputs": [
    {
     "name": "stdout",
     "output_type": "stream",
     "text": [
      "<class 'pandas.core.frame.DataFrame'>\n",
      "RangeIndex: 24672 entries, 0 to 24671\n",
      "Data columns (total 4 columns):\n",
      "Date        24672 non-null datetime64[ns]\n",
      "DateHour    24672 non-null datetime64[ns]\n",
      "Minute      24672 non-null object\n",
      "Value       24672 non-null int64\n",
      "dtypes: datetime64[ns](2), int64(1), object(1)\n",
      "memory usage: 771.1+ KB\n"
     ]
    }
   ],
   "source": [
    "df_elec.info()"
   ]
  },
  {
   "cell_type": "code",
   "execution_count": 9,
   "id": "3caea7cf",
   "metadata": {},
   "outputs": [
    {
     "data": {
      "text/html": [
       "<div>\n",
       "<style scoped>\n",
       "    .dataframe tbody tr th:only-of-type {\n",
       "        vertical-align: middle;\n",
       "    }\n",
       "\n",
       "    .dataframe tbody tr th {\n",
       "        vertical-align: top;\n",
       "    }\n",
       "\n",
       "    .dataframe thead th {\n",
       "        text-align: right;\n",
       "    }\n",
       "</style>\n",
       "<table border=\"1\" class=\"dataframe\">\n",
       "  <thead>\n",
       "    <tr style=\"text-align: right;\">\n",
       "      <th></th>\n",
       "      <th>Date</th>\n",
       "      <th>생산량</th>\n",
       "      <th>기온</th>\n",
       "      <th>풍속</th>\n",
       "      <th>습도</th>\n",
       "      <th>강수량</th>\n",
       "      <th>전기요금(계절)</th>\n",
       "      <th>공장인원</th>\n",
       "      <th>인건비</th>\n",
       "    </tr>\n",
       "  </thead>\n",
       "  <tbody>\n",
       "    <tr>\n",
       "      <td>0</td>\n",
       "      <td>2021-01-01 00:00:00</td>\n",
       "      <td>0</td>\n",
       "      <td>-3.2</td>\n",
       "      <td>2.4</td>\n",
       "      <td>71</td>\n",
       "      <td>0.0</td>\n",
       "      <td>109.8</td>\n",
       "      <td>0.0</td>\n",
       "      <td>1.5</td>\n",
       "    </tr>\n",
       "    <tr>\n",
       "      <td>1</td>\n",
       "      <td>2021-01-01 01:00:00</td>\n",
       "      <td>0</td>\n",
       "      <td>-4.5</td>\n",
       "      <td>1.5</td>\n",
       "      <td>77</td>\n",
       "      <td>0.0</td>\n",
       "      <td>109.8</td>\n",
       "      <td>0.0</td>\n",
       "      <td>1.5</td>\n",
       "    </tr>\n",
       "    <tr>\n",
       "      <td>2</td>\n",
       "      <td>2021-01-01 02:00:00</td>\n",
       "      <td>0</td>\n",
       "      <td>-3.9</td>\n",
       "      <td>2.6</td>\n",
       "      <td>58</td>\n",
       "      <td>0.0</td>\n",
       "      <td>109.8</td>\n",
       "      <td>0.0</td>\n",
       "      <td>1.5</td>\n",
       "    </tr>\n",
       "    <tr>\n",
       "      <td>3</td>\n",
       "      <td>2021-01-01 03:00:00</td>\n",
       "      <td>0</td>\n",
       "      <td>-4.1</td>\n",
       "      <td>2.6</td>\n",
       "      <td>56</td>\n",
       "      <td>0.0</td>\n",
       "      <td>109.8</td>\n",
       "      <td>0.0</td>\n",
       "      <td>1.5</td>\n",
       "    </tr>\n",
       "    <tr>\n",
       "      <td>4</td>\n",
       "      <td>2021-01-01 04:00:00</td>\n",
       "      <td>0</td>\n",
       "      <td>-4.6</td>\n",
       "      <td>2.6</td>\n",
       "      <td>60</td>\n",
       "      <td>0.0</td>\n",
       "      <td>109.8</td>\n",
       "      <td>0.0</td>\n",
       "      <td>1.5</td>\n",
       "    </tr>\n",
       "  </tbody>\n",
       "</table>\n",
       "</div>"
      ],
      "text/plain": [
       "                 Date  생산량   기온   풍속  습도  강수량  전기요금(계절)  공장인원  인건비\n",
       "0 2021-01-01 00:00:00    0 -3.2  2.4  71  0.0     109.8   0.0  1.5\n",
       "1 2021-01-01 01:00:00    0 -4.5  1.5  77  0.0     109.8   0.0  1.5\n",
       "2 2021-01-01 02:00:00    0 -3.9  2.6  58  0.0     109.8   0.0  1.5\n",
       "3 2021-01-01 03:00:00    0 -4.1  2.6  56  0.0     109.8   0.0  1.5\n",
       "4 2021-01-01 04:00:00    0 -4.6  2.6  60  0.0     109.8   0.0  1.5"
      ]
     },
     "execution_count": 9,
     "metadata": {},
     "output_type": "execute_result"
    }
   ],
   "source": [
    "df_info = pd.read_csv('info.csv', parse_dates=['Date'])\n",
    "df_info.head()"
   ]
  },
  {
   "cell_type": "code",
   "execution_count": 10,
   "id": "b6e2335b",
   "metadata": {},
   "outputs": [
    {
     "name": "stdout",
     "output_type": "stream",
     "text": [
      "<class 'pandas.core.frame.DataFrame'>\n",
      "RangeIndex: 6168 entries, 0 to 6167\n",
      "Data columns (total 9 columns):\n",
      "Date        6168 non-null datetime64[ns]\n",
      "생산량         6168 non-null int64\n",
      "기온          6168 non-null float64\n",
      "풍속          6165 non-null float64\n",
      "습도          6168 non-null int64\n",
      "강수량         6167 non-null float64\n",
      "전기요금(계절)    6168 non-null float64\n",
      "공장인원        6151 non-null float64\n",
      "인건비         6168 non-null float64\n",
      "dtypes: datetime64[ns](1), float64(6), int64(2)\n",
      "memory usage: 433.8 KB\n"
     ]
    }
   ],
   "source": [
    "df_info.info()"
   ]
  },
  {
   "cell_type": "markdown",
   "id": "09e1a1a4",
   "metadata": {},
   "source": [
    "# 전처리(Preprocessing)\n",
    "\n",
    "데이터를 분석하기 위하여 다음에 안내된 순서대로 데이터를 가공 (pre-processing) 하시오. (순서대로 전처리 수행)\n",
    "\n",
    "## 단계 1 \n",
    "\n",
    "데이터셋 elec를 이용하여 다음 그림과 같이 재구성하시오.\n",
    "\n",
    "\n",
    " ̵ 최대수요전력 (Value)을 시간당 15분 간격으로 관측하여 얻은 4번의 결과 \n",
    " \n",
    " ̵ DateHour 변수 기준으로 시간당 한 행에 4번 측정결과가 나오도록 재구성함.\n",
    " \n",
    " ̵ 재구성된 데이터셋은 elec1로 표기(6,168 rows, 5 columns)\n",
    "\n",
    "|DateHour|15분|30분|45분|60분|\n",
    "|--------|----|----|----|----|\n",
    "|2021-01-01 00:00:00|62|61|61|61|\n",
    "|2021-01-01 01:00:00|96|93|116|113|\n",
    "|2021-01-01 02:00:00|106|96|106|107|\n",
    "|2021-01-01 03:00:00|92|110|110|109|\n",
    "|2021-01-01 04:00:00|108|105|106|108|"
   ]
  },
  {
   "cell_type": "code",
   "execution_count": 11,
   "id": "ce14aea9",
   "metadata": {},
   "outputs": [
    {
     "data": {
      "text/html": [
       "<div>\n",
       "<style scoped>\n",
       "    .dataframe tbody tr th:only-of-type {\n",
       "        vertical-align: middle;\n",
       "    }\n",
       "\n",
       "    .dataframe tbody tr th {\n",
       "        vertical-align: top;\n",
       "    }\n",
       "\n",
       "    .dataframe thead th {\n",
       "        text-align: right;\n",
       "    }\n",
       "</style>\n",
       "<table border=\"1\" class=\"dataframe\">\n",
       "  <thead>\n",
       "    <tr style=\"text-align: right;\">\n",
       "      <th>Minute</th>\n",
       "      <th>15분</th>\n",
       "      <th>30분</th>\n",
       "      <th>45분</th>\n",
       "      <th>60분</th>\n",
       "    </tr>\n",
       "    <tr>\n",
       "      <th>DateHour</th>\n",
       "      <th></th>\n",
       "      <th></th>\n",
       "      <th></th>\n",
       "      <th></th>\n",
       "    </tr>\n",
       "  </thead>\n",
       "  <tbody>\n",
       "    <tr>\n",
       "      <td>2021-01-01 00:00:00</td>\n",
       "      <td>62</td>\n",
       "      <td>61</td>\n",
       "      <td>61</td>\n",
       "      <td>61</td>\n",
       "    </tr>\n",
       "    <tr>\n",
       "      <td>2021-01-01 01:00:00</td>\n",
       "      <td>96</td>\n",
       "      <td>93</td>\n",
       "      <td>116</td>\n",
       "      <td>113</td>\n",
       "    </tr>\n",
       "    <tr>\n",
       "      <td>2021-01-01 02:00:00</td>\n",
       "      <td>106</td>\n",
       "      <td>96</td>\n",
       "      <td>106</td>\n",
       "      <td>107</td>\n",
       "    </tr>\n",
       "    <tr>\n",
       "      <td>2021-01-01 03:00:00</td>\n",
       "      <td>92</td>\n",
       "      <td>110</td>\n",
       "      <td>110</td>\n",
       "      <td>109</td>\n",
       "    </tr>\n",
       "    <tr>\n",
       "      <td>2021-01-01 04:00:00</td>\n",
       "      <td>108</td>\n",
       "      <td>105</td>\n",
       "      <td>106</td>\n",
       "      <td>108</td>\n",
       "    </tr>\n",
       "  </tbody>\n",
       "</table>\n",
       "</div>"
      ],
      "text/plain": [
       "Minute               15분  30분  45분  60분\n",
       "DateHour                               \n",
       "2021-01-01 00:00:00   62   61   61   61\n",
       "2021-01-01 01:00:00   96   93  116  113\n",
       "2021-01-01 02:00:00  106   96  106  107\n",
       "2021-01-01 03:00:00   92  110  110  109\n",
       "2021-01-01 04:00:00  108  105  106  108"
      ]
     },
     "execution_count": 11,
     "metadata": {},
     "output_type": "execute_result"
    }
   ],
   "source": [
    "# 방법1 pivot\n",
    "df_elec1 = df_elec.pivot(index='DateHour', columns='Minute', values='Value')\n",
    "# 방법2 crosstab\n",
    "#df_elec1 = pd.crosstab(index=df_elec['DateHour'], columns=df_elec['Minute'], \n",
    "#                       values=df_elec['Value'], aggfunc='sum')\n",
    "# 방법3 pivot_table\n",
    "#df_elec1 = df_elec.pivot_table(index='DateHour', columns='Minute', values='Value', aggfunc='sum')\n",
    "df_elec1.head()"
   ]
  },
  {
   "cell_type": "markdown",
   "id": "531466c2",
   "metadata": {},
   "source": [
    "## 단계 2\n",
    "\n",
    "데이터셋 elec1의 DateHour 변수를 이용하여 아래의 파생변수를 생성한다.\n",
    "\n",
    "̵ 요일명(DayName): DateHour 변수에서 요일명을 숫자로 추출, 0(월)~6(일)으로 반환\n",
    "\n",
    "̵ 시간(Hour): DateHour 변수에서 시간 추출\n",
    "\n",
    "̵ 오전/오후(AM): 생성한 시간(Hour) 변수를 기준으로 \n",
    "\n",
    " 12시 전( < 12:00)은 오전(0), 이후(>= 12:00)는 오후(1)로 표기, 이때 표기는 숫자 0, 1로 표기\n",
    " \n",
    "̵ 주말유무(Weekend_yn): 생성한 요일명(DayName) 변수를 이용하여 5,6이면 1(주말), 그외는 0(평일) 로 표기\n",
    "\n",
    "̵ 공휴일(Holiday_yn): 다음은 공휴일 목록임\n",
    "\n",
    "  [\"2021-01-01\", \"2021-02-11\", \"2021-02-12\", \"2021-03-01\", \"2021-05-05\", \"2021-05-19\", \"2021-08-16\"], \n",
    "\n",
    "  목록에 해당하면 1, 아니면 0로 표기한다. DateHour의 일자를 기준으로 판별한다.\n",
    " \n",
    "̵ 최대수요전력 평균(Avg): 시간당 15분 간격(15분, 30분, 45분, 60분)으로 측정한 최대수요전력 (Value)의 평균값\n",
    "\n",
    "̵ 최대수요전력 합계(TotalHour): 시간당 15분 간격(15분, 30분, 45분, 60분)으로 측정한 최대수요전력 (Value)의 총합"
   ]
  },
  {
   "cell_type": "code",
   "execution_count": 12,
   "id": "173be3fd",
   "metadata": {},
   "outputs": [],
   "source": [
    "df_elec1['DayName'] = df_elec1.index.weekday\n",
    "df_elec1['Hour'] = df_elec1.index.hour\n",
    "df_elec1['AM'] = df_elec1.index.hour < 12\n",
    "df_elec1['Weekend_yn'] = df_elec1.index.weekday.isin([5, 6]).astype('int8')\n",
    "holi_list = [\"2021-01-01\", \"2021-02-11\", \"2021-02-12\", \"2021-03-01\", \"2021-05-05\", \"2021-05-19\", \"2021-08-16\"]\n",
    "df_elec1['Holiday_yn'] = df_elec1.index.strftime('%Y-%m-%d').isin(holi_list).astype('int8')\n",
    "min_cols = ['15분', '30분', '45분', '60분']\n",
    "df_elec1['Avg'] = df_elec1[min_cols].mean(axis=1)\n",
    "df_elec1['TotalHour'] = df_elec1[min_cols].sum(axis=1)"
   ]
  },
  {
   "cell_type": "code",
   "execution_count": 13,
   "id": "91735aef",
   "metadata": {},
   "outputs": [],
   "source": [
    "#df_elec1['DayName'] = df_elec1.reset_index()['DateHour'].dt.weekday\n",
    "#df_elec1['Hour'] = df_elec1.reset_index()['DateHour'].dt.weekday\n",
    "#df_elec1['AM'] = df_elec1.reset_index()['DateHour'].dt.weekday\n",
    "#df_elec1['Weekend_yn'] = df_elec1.index.weekday.isin([5, 6]).astype('int8')"
   ]
  },
  {
   "cell_type": "markdown",
   "id": "d0c60eca",
   "metadata": {},
   "source": [
    "## 단계 3\n",
    "    \n",
    "info데이터셋에 결측치가 존재한다. 이 때 발생된 결측치들은 0으로 변경하시오. \n",
    "\n",
    "  ̵ 풍속, 강수량은 바람이 불지 않는 경우, 비가 오지 않는 경우 기록되지 않는 경우가 존재함, 이는 0의 의미임\n",
    "\n",
    "  ̵ 공장인원의 경우 생산량이 없다던가 인력이 필요하지 않은 경우 기록되지 않는 경우가 존재함, 이는 0의 의미임\n",
    "\n",
    "  ̵ 결측치를 처리한 후 데이터셋명은 info1로 표기함\n"
   ]
  },
  {
   "cell_type": "code",
   "execution_count": 14,
   "id": "82c74ecd",
   "metadata": {},
   "outputs": [],
   "source": [
    "df_info1 = df_info.fillna(0)"
   ]
  },
  {
   "cell_type": "markdown",
   "id": "8a21d0df",
   "metadata": {},
   "source": [
    "## 단계 4\n",
    "\n",
    "elec1와 info1 데이터프레임을 결합하시오. \n",
    "\n",
    "결합 시 elec1데이터셋 에서는 DateHour 변수, info1데이터셋 에서는 Date 변수를 기준으로 inner join하시오.\n",
    "\n",
    "\n",
    " ̵ elec1 데이터셋 기준으로 info1 데이터셋 결합\n",
    " \n",
    " ̵ 결합 방식: inner join, elec1.DateHour == info1.Date\n",
    " \n",
    " ̵ 결합 후 Date 변수 제거\n",
    " \n",
    " ̵ 결합 후 생성된 데이터셋명 basetable1로 표기(6,168 rows, 20 columns)\n"
   ]
  },
  {
   "cell_type": "code",
   "execution_count": 15,
   "id": "b5462b20",
   "metadata": {},
   "outputs": [
    {
     "data": {
      "text/html": [
       "<div>\n",
       "<style scoped>\n",
       "    .dataframe tbody tr th:only-of-type {\n",
       "        vertical-align: middle;\n",
       "    }\n",
       "\n",
       "    .dataframe tbody tr th {\n",
       "        vertical-align: top;\n",
       "    }\n",
       "\n",
       "    .dataframe thead th {\n",
       "        text-align: right;\n",
       "    }\n",
       "</style>\n",
       "<table border=\"1\" class=\"dataframe\">\n",
       "  <thead>\n",
       "    <tr style=\"text-align: right;\">\n",
       "      <th></th>\n",
       "      <th>15분</th>\n",
       "      <th>30분</th>\n",
       "      <th>45분</th>\n",
       "      <th>60분</th>\n",
       "      <th>DayName</th>\n",
       "      <th>Hour</th>\n",
       "      <th>AM</th>\n",
       "      <th>Weekend_yn</th>\n",
       "      <th>Holiday_yn</th>\n",
       "      <th>Avg</th>\n",
       "      <th>TotalHour</th>\n",
       "      <th>생산량</th>\n",
       "      <th>기온</th>\n",
       "      <th>풍속</th>\n",
       "      <th>습도</th>\n",
       "      <th>강수량</th>\n",
       "      <th>전기요금(계절)</th>\n",
       "      <th>공장인원</th>\n",
       "      <th>인건비</th>\n",
       "    </tr>\n",
       "    <tr>\n",
       "      <th>DateHour</th>\n",
       "      <th></th>\n",
       "      <th></th>\n",
       "      <th></th>\n",
       "      <th></th>\n",
       "      <th></th>\n",
       "      <th></th>\n",
       "      <th></th>\n",
       "      <th></th>\n",
       "      <th></th>\n",
       "      <th></th>\n",
       "      <th></th>\n",
       "      <th></th>\n",
       "      <th></th>\n",
       "      <th></th>\n",
       "      <th></th>\n",
       "      <th></th>\n",
       "      <th></th>\n",
       "      <th></th>\n",
       "      <th></th>\n",
       "    </tr>\n",
       "  </thead>\n",
       "  <tbody>\n",
       "    <tr>\n",
       "      <td>2021-01-01 00:00:00</td>\n",
       "      <td>62</td>\n",
       "      <td>61</td>\n",
       "      <td>61</td>\n",
       "      <td>61</td>\n",
       "      <td>4</td>\n",
       "      <td>0</td>\n",
       "      <td>True</td>\n",
       "      <td>0</td>\n",
       "      <td>1</td>\n",
       "      <td>61.25</td>\n",
       "      <td>245</td>\n",
       "      <td>0</td>\n",
       "      <td>-3.2</td>\n",
       "      <td>2.4</td>\n",
       "      <td>71</td>\n",
       "      <td>0.0</td>\n",
       "      <td>109.8</td>\n",
       "      <td>0.0</td>\n",
       "      <td>1.5</td>\n",
       "    </tr>\n",
       "    <tr>\n",
       "      <td>2021-01-01 01:00:00</td>\n",
       "      <td>96</td>\n",
       "      <td>93</td>\n",
       "      <td>116</td>\n",
       "      <td>113</td>\n",
       "      <td>4</td>\n",
       "      <td>1</td>\n",
       "      <td>True</td>\n",
       "      <td>0</td>\n",
       "      <td>1</td>\n",
       "      <td>104.50</td>\n",
       "      <td>418</td>\n",
       "      <td>0</td>\n",
       "      <td>-4.5</td>\n",
       "      <td>1.5</td>\n",
       "      <td>77</td>\n",
       "      <td>0.0</td>\n",
       "      <td>109.8</td>\n",
       "      <td>0.0</td>\n",
       "      <td>1.5</td>\n",
       "    </tr>\n",
       "    <tr>\n",
       "      <td>2021-01-01 02:00:00</td>\n",
       "      <td>106</td>\n",
       "      <td>96</td>\n",
       "      <td>106</td>\n",
       "      <td>107</td>\n",
       "      <td>4</td>\n",
       "      <td>2</td>\n",
       "      <td>True</td>\n",
       "      <td>0</td>\n",
       "      <td>1</td>\n",
       "      <td>103.75</td>\n",
       "      <td>415</td>\n",
       "      <td>0</td>\n",
       "      <td>-3.9</td>\n",
       "      <td>2.6</td>\n",
       "      <td>58</td>\n",
       "      <td>0.0</td>\n",
       "      <td>109.8</td>\n",
       "      <td>0.0</td>\n",
       "      <td>1.5</td>\n",
       "    </tr>\n",
       "    <tr>\n",
       "      <td>2021-01-01 03:00:00</td>\n",
       "      <td>92</td>\n",
       "      <td>110</td>\n",
       "      <td>110</td>\n",
       "      <td>109</td>\n",
       "      <td>4</td>\n",
       "      <td>3</td>\n",
       "      <td>True</td>\n",
       "      <td>0</td>\n",
       "      <td>1</td>\n",
       "      <td>105.25</td>\n",
       "      <td>421</td>\n",
       "      <td>0</td>\n",
       "      <td>-4.1</td>\n",
       "      <td>2.6</td>\n",
       "      <td>56</td>\n",
       "      <td>0.0</td>\n",
       "      <td>109.8</td>\n",
       "      <td>0.0</td>\n",
       "      <td>1.5</td>\n",
       "    </tr>\n",
       "    <tr>\n",
       "      <td>2021-01-01 04:00:00</td>\n",
       "      <td>108</td>\n",
       "      <td>105</td>\n",
       "      <td>106</td>\n",
       "      <td>108</td>\n",
       "      <td>4</td>\n",
       "      <td>4</td>\n",
       "      <td>True</td>\n",
       "      <td>0</td>\n",
       "      <td>1</td>\n",
       "      <td>106.75</td>\n",
       "      <td>427</td>\n",
       "      <td>0</td>\n",
       "      <td>-4.6</td>\n",
       "      <td>2.6</td>\n",
       "      <td>60</td>\n",
       "      <td>0.0</td>\n",
       "      <td>109.8</td>\n",
       "      <td>0.0</td>\n",
       "      <td>1.5</td>\n",
       "    </tr>\n",
       "  </tbody>\n",
       "</table>\n",
       "</div>"
      ],
      "text/plain": [
       "                     15분  30분  45분  60분  DayName  Hour    AM  Weekend_yn  \\\n",
       "DateHour                                                                   \n",
       "2021-01-01 00:00:00   62   61   61   61        4     0  True           0   \n",
       "2021-01-01 01:00:00   96   93  116  113        4     1  True           0   \n",
       "2021-01-01 02:00:00  106   96  106  107        4     2  True           0   \n",
       "2021-01-01 03:00:00   92  110  110  109        4     3  True           0   \n",
       "2021-01-01 04:00:00  108  105  106  108        4     4  True           0   \n",
       "\n",
       "                     Holiday_yn     Avg  TotalHour  생산량   기온   풍속  습도  강수량  \\\n",
       "DateHour                                                                     \n",
       "2021-01-01 00:00:00           1   61.25        245    0 -3.2  2.4  71  0.0   \n",
       "2021-01-01 01:00:00           1  104.50        418    0 -4.5  1.5  77  0.0   \n",
       "2021-01-01 02:00:00           1  103.75        415    0 -3.9  2.6  58  0.0   \n",
       "2021-01-01 03:00:00           1  105.25        421    0 -4.1  2.6  56  0.0   \n",
       "2021-01-01 04:00:00           1  106.75        427    0 -4.6  2.6  60  0.0   \n",
       "\n",
       "                     전기요금(계절)  공장인원  인건비  \n",
       "DateHour                                  \n",
       "2021-01-01 00:00:00     109.8   0.0  1.5  \n",
       "2021-01-01 01:00:00     109.8   0.0  1.5  \n",
       "2021-01-01 02:00:00     109.8   0.0  1.5  \n",
       "2021-01-01 03:00:00     109.8   0.0  1.5  \n",
       "2021-01-01 04:00:00     109.8   0.0  1.5  "
      ]
     },
     "execution_count": 15,
     "metadata": {},
     "output_type": "execute_result"
    }
   ],
   "source": [
    "# 방법 1 join\n",
    "df_basetable1 =  df_elec1.join(df_info1.set_index('Date'), how='inner')\n",
    "# 방법 2 merge\n",
    "#df_basetable1 = df_elec1.merge(df_info1, how='inner', left_on='DateHour', right_on='Date')\\\n",
    "#                        .rename(columns={'Date':'DateHour'}).set_index('DateHour')\n",
    "df_basetable1.head()"
   ]
  },
  {
   "cell_type": "markdown",
   "id": "726dc919",
   "metadata": {},
   "source": [
    "# 문제 1\n",
    "\n",
    "basetable1을 이용하여 다음 질문에 답하시오."
   ]
  },
  {
   "cell_type": "markdown",
   "id": "c64e1b58",
   "metadata": {},
   "source": [
    "## 단계 1-1\n",
    "\n",
    "시간당 최대수요전력 합계(TotalHour) 기준으로 최대값과 최소값이 차이값을 구하고, 이 값을 A라고 한다."
   ]
  },
  {
   "cell_type": "code",
   "execution_count": 16,
   "id": "0127985e",
   "metadata": {},
   "outputs": [
    {
     "data": {
      "text/plain": [
       "830"
      ]
     },
     "execution_count": 16,
     "metadata": {},
     "output_type": "execute_result"
    }
   ],
   "source": [
    "mx, mn = df_basetable1['TotalHour'].agg(['max', 'min'])\n",
    "A = mx - mn\n",
    "A"
   ]
  },
  {
   "cell_type": "markdown",
   "id": "71ca7995",
   "metadata": {},
   "source": [
    "## 단계 1-2 \n",
    "\n",
    "일별 기준(DateHour 변수 사용)으로 시간당 최대수요전력 합계(TotalHour) 최대값을 찾는다. \n",
    "\n",
    "일별로 최대값이 첫 번째로 빈번하게 발생하는 시간(Hour)을 B, \n",
    "\n",
    "두 번째로 빈번하게 발생하는 시간(Hour)을 C라고 한다. \n",
    "\n",
    "하루에 최대값에 해당하는 시간(Hour)이 여러 번 나올 수 있음을 고려하라."
   ]
  },
  {
   "cell_type": "code",
   "execution_count": 17,
   "id": "51b7f333",
   "metadata": {},
   "outputs": [
    {
     "data": {
      "text/plain": [
       "(8, 11)"
      ]
     },
     "execution_count": 17,
     "metadata": {},
     "output_type": "execute_result"
    }
   ],
   "source": [
    "B, C = df_basetable1.loc[df_basetable1.groupby(df_basetable1.index.date)['TotalHour']\\\n",
    "                  .transform(lambda x: x.max() == x), 'Hour']\\\n",
    "                  .value_counts().iloc[:2].index\n",
    "B, C"
   ]
  },
  {
   "cell_type": "markdown",
   "id": "ba549b1d",
   "metadata": {},
   "source": [
    "## 단계 1-3\n",
    "\n",
    "일별 기준(DateHour 변수 사용)으로 시간당 최대수요전력 합계(TotalHour) 의 범위(최대값-최소값)가 가장 큰 값을 찾고 \n",
    "\n",
    "이 값을 D라고 한다."
   ]
  },
  {
   "cell_type": "code",
   "execution_count": 18,
   "id": "4b8aafd5",
   "metadata": {},
   "outputs": [
    {
     "data": {
      "text/html": [
       "<div>\n",
       "<style scoped>\n",
       "    .dataframe tbody tr th:only-of-type {\n",
       "        vertical-align: middle;\n",
       "    }\n",
       "\n",
       "    .dataframe tbody tr th {\n",
       "        vertical-align: top;\n",
       "    }\n",
       "\n",
       "    .dataframe thead th {\n",
       "        text-align: right;\n",
       "    }\n",
       "</style>\n",
       "<table border=\"1\" class=\"dataframe\">\n",
       "  <thead>\n",
       "    <tr style=\"text-align: right;\">\n",
       "      <th></th>\n",
       "      <th>15분</th>\n",
       "      <th>30분</th>\n",
       "      <th>45분</th>\n",
       "      <th>60분</th>\n",
       "      <th>DayName</th>\n",
       "      <th>Hour</th>\n",
       "      <th>AM</th>\n",
       "      <th>Weekend_yn</th>\n",
       "      <th>Holiday_yn</th>\n",
       "      <th>Avg</th>\n",
       "      <th>TotalHour</th>\n",
       "      <th>생산량</th>\n",
       "      <th>기온</th>\n",
       "      <th>풍속</th>\n",
       "      <th>습도</th>\n",
       "      <th>강수량</th>\n",
       "      <th>전기요금(계절)</th>\n",
       "      <th>공장인원</th>\n",
       "      <th>인건비</th>\n",
       "    </tr>\n",
       "    <tr>\n",
       "      <th>DateHour</th>\n",
       "      <th></th>\n",
       "      <th></th>\n",
       "      <th></th>\n",
       "      <th></th>\n",
       "      <th></th>\n",
       "      <th></th>\n",
       "      <th></th>\n",
       "      <th></th>\n",
       "      <th></th>\n",
       "      <th></th>\n",
       "      <th></th>\n",
       "      <th></th>\n",
       "      <th></th>\n",
       "      <th></th>\n",
       "      <th></th>\n",
       "      <th></th>\n",
       "      <th></th>\n",
       "      <th></th>\n",
       "      <th></th>\n",
       "    </tr>\n",
       "  </thead>\n",
       "  <tbody>\n",
       "    <tr>\n",
       "      <td>2021-01-01 00:00:00</td>\n",
       "      <td>62</td>\n",
       "      <td>61</td>\n",
       "      <td>61</td>\n",
       "      <td>61</td>\n",
       "      <td>4</td>\n",
       "      <td>0</td>\n",
       "      <td>True</td>\n",
       "      <td>0</td>\n",
       "      <td>1</td>\n",
       "      <td>61.25</td>\n",
       "      <td>245</td>\n",
       "      <td>0</td>\n",
       "      <td>-3.2</td>\n",
       "      <td>2.4</td>\n",
       "      <td>71</td>\n",
       "      <td>0.0</td>\n",
       "      <td>109.8</td>\n",
       "      <td>0.0</td>\n",
       "      <td>1.5</td>\n",
       "    </tr>\n",
       "    <tr>\n",
       "      <td>2021-01-01 01:00:00</td>\n",
       "      <td>96</td>\n",
       "      <td>93</td>\n",
       "      <td>116</td>\n",
       "      <td>113</td>\n",
       "      <td>4</td>\n",
       "      <td>1</td>\n",
       "      <td>True</td>\n",
       "      <td>0</td>\n",
       "      <td>1</td>\n",
       "      <td>104.50</td>\n",
       "      <td>418</td>\n",
       "      <td>0</td>\n",
       "      <td>-4.5</td>\n",
       "      <td>1.5</td>\n",
       "      <td>77</td>\n",
       "      <td>0.0</td>\n",
       "      <td>109.8</td>\n",
       "      <td>0.0</td>\n",
       "      <td>1.5</td>\n",
       "    </tr>\n",
       "    <tr>\n",
       "      <td>2021-01-01 02:00:00</td>\n",
       "      <td>106</td>\n",
       "      <td>96</td>\n",
       "      <td>106</td>\n",
       "      <td>107</td>\n",
       "      <td>4</td>\n",
       "      <td>2</td>\n",
       "      <td>True</td>\n",
       "      <td>0</td>\n",
       "      <td>1</td>\n",
       "      <td>103.75</td>\n",
       "      <td>415</td>\n",
       "      <td>0</td>\n",
       "      <td>-3.9</td>\n",
       "      <td>2.6</td>\n",
       "      <td>58</td>\n",
       "      <td>0.0</td>\n",
       "      <td>109.8</td>\n",
       "      <td>0.0</td>\n",
       "      <td>1.5</td>\n",
       "    </tr>\n",
       "    <tr>\n",
       "      <td>2021-01-01 03:00:00</td>\n",
       "      <td>92</td>\n",
       "      <td>110</td>\n",
       "      <td>110</td>\n",
       "      <td>109</td>\n",
       "      <td>4</td>\n",
       "      <td>3</td>\n",
       "      <td>True</td>\n",
       "      <td>0</td>\n",
       "      <td>1</td>\n",
       "      <td>105.25</td>\n",
       "      <td>421</td>\n",
       "      <td>0</td>\n",
       "      <td>-4.1</td>\n",
       "      <td>2.6</td>\n",
       "      <td>56</td>\n",
       "      <td>0.0</td>\n",
       "      <td>109.8</td>\n",
       "      <td>0.0</td>\n",
       "      <td>1.5</td>\n",
       "    </tr>\n",
       "    <tr>\n",
       "      <td>2021-01-01 04:00:00</td>\n",
       "      <td>108</td>\n",
       "      <td>105</td>\n",
       "      <td>106</td>\n",
       "      <td>108</td>\n",
       "      <td>4</td>\n",
       "      <td>4</td>\n",
       "      <td>True</td>\n",
       "      <td>0</td>\n",
       "      <td>1</td>\n",
       "      <td>106.75</td>\n",
       "      <td>427</td>\n",
       "      <td>0</td>\n",
       "      <td>-4.6</td>\n",
       "      <td>2.6</td>\n",
       "      <td>60</td>\n",
       "      <td>0.0</td>\n",
       "      <td>109.8</td>\n",
       "      <td>0.0</td>\n",
       "      <td>1.5</td>\n",
       "    </tr>\n",
       "  </tbody>\n",
       "</table>\n",
       "</div>"
      ],
      "text/plain": [
       "                     15분  30분  45분  60분  DayName  Hour    AM  Weekend_yn  \\\n",
       "DateHour                                                                   \n",
       "2021-01-01 00:00:00   62   61   61   61        4     0  True           0   \n",
       "2021-01-01 01:00:00   96   93  116  113        4     1  True           0   \n",
       "2021-01-01 02:00:00  106   96  106  107        4     2  True           0   \n",
       "2021-01-01 03:00:00   92  110  110  109        4     3  True           0   \n",
       "2021-01-01 04:00:00  108  105  106  108        4     4  True           0   \n",
       "\n",
       "                     Holiday_yn     Avg  TotalHour  생산량   기온   풍속  습도  강수량  \\\n",
       "DateHour                                                                     \n",
       "2021-01-01 00:00:00           1   61.25        245    0 -3.2  2.4  71  0.0   \n",
       "2021-01-01 01:00:00           1  104.50        418    0 -4.5  1.5  77  0.0   \n",
       "2021-01-01 02:00:00           1  103.75        415    0 -3.9  2.6  58  0.0   \n",
       "2021-01-01 03:00:00           1  105.25        421    0 -4.1  2.6  56  0.0   \n",
       "2021-01-01 04:00:00           1  106.75        427    0 -4.6  2.6  60  0.0   \n",
       "\n",
       "                     전기요금(계절)  공장인원  인건비  \n",
       "DateHour                                  \n",
       "2021-01-01 00:00:00     109.8   0.0  1.5  \n",
       "2021-01-01 01:00:00     109.8   0.0  1.5  \n",
       "2021-01-01 02:00:00     109.8   0.0  1.5  \n",
       "2021-01-01 03:00:00     109.8   0.0  1.5  \n",
       "2021-01-01 04:00:00     109.8   0.0  1.5  "
      ]
     },
     "execution_count": 18,
     "metadata": {},
     "output_type": "execute_result"
    }
   ],
   "source": [
    "df_basetable1.head()"
   ]
  },
  {
   "cell_type": "code",
   "execution_count": 19,
   "id": "d20754b6",
   "metadata": {},
   "outputs": [],
   "source": [
    "df_tmp = df_basetable1.groupby(df_basetable1.index.date)['TotalHour']\\\n",
    "                    .agg(['max', 'min']).rename(columns={'max': 'mx', 'min': 'mn'})\n",
    "D = (df_tmp['mx'] - df_tmp['mn']).max()"
   ]
  },
  {
   "cell_type": "markdown",
   "id": "2afb00d6",
   "metadata": {},
   "source": [
    "## 단계 1-4\n",
    "\n",
    "공휴일과 주말을 제외한 평일 데이터만 추출을 한 후, \n",
    "\n",
    "일별 기준으로 시간당 최대수요전력 합계(TotalHour)의 범위(최대값-최소값)가 가장 큰 일자의 DayName을 E라고 한다.\n",
    "\n"
   ]
  },
  {
   "cell_type": "code",
   "execution_count": 20,
   "id": "e7755a11",
   "metadata": {},
   "outputs": [],
   "source": [
    "df_tmp = df_basetable1.loc[~df_basetable1[['Weekend_yn', 'Holiday_yn']].any(axis=1)]\n",
    "df_tmp = df_tmp.groupby(df_tmp.index.date)['TotalHour']\\\n",
    "                .agg(['max', 'min']).rename(columns={'max': 'mx', 'min': 'mn'})\n",
    "df_tmp['diff'] = df_tmp['mx'] - df_tmp['mn']\n",
    "E = df_tmp['diff'].idxmax().weekday()"
   ]
  },
  {
   "cell_type": "code",
   "execution_count": 21,
   "id": "1187e6e0",
   "metadata": {},
   "outputs": [
    {
     "data": {
      "text/plain": [
       "1555"
      ]
     },
     "execution_count": 21,
     "metadata": {},
     "output_type": "execute_result"
    }
   ],
   "source": [
    "A + B + C + D + E"
   ]
  },
  {
   "cell_type": "markdown",
   "id": "4dab0b7c",
   "metadata": {},
   "source": [
    "A + B + C + D + E를 적으시오.\n",
    "\n",
    "**1555**"
   ]
  },
  {
   "cell_type": "markdown",
   "id": "13fe3635",
   "metadata": {},
   "source": [
    "# 문제 2\n",
    "\n",
    "최대수요전력 평균(Avg) 값이 오전/오후에 따라 차이가 있는지 검정하시오."
   ]
  },
  {
   "cell_type": "code",
   "execution_count": null,
   "id": "8bf5aa28",
   "metadata": {},
   "outputs": [],
   "source": []
  },
  {
   "cell_type": "markdown",
   "id": "65eef818",
   "metadata": {},
   "source": [
    "##  단계 2-1\n",
    "\n",
    "basetable1 에서 공휴일과 주말을 제외하고 prob2 데이터프레임을 만든다.\n",
    "\n",
    "- prob2에서 시간(Hour)이 8과 11사이 (8, 11 포함) 또는 13과 16 (13, 16 포함) 사이의 행들만 남긴다.\n",
    "\n",
    "- prob2에서 Avg가 130이상인 행들만을 남긴다.\n",
    "\n",
    "Hint] 최종 1233개 행만 남는다.\n"
   ]
  },
  {
   "cell_type": "code",
   "execution_count": 22,
   "id": "61bc3749",
   "metadata": {},
   "outputs": [],
   "source": [
    "df_prob2 = df_basetable1.loc[~df_basetable1[['Weekend_yn', 'Holiday_yn']].any(axis=1)].copy()\n",
    "df_prob2 = df_prob2.loc[df_prob2['Hour'].between(8, 11, inclusive=True) |\n",
    "            df_prob2['Hour'].between(13, 16, inclusive=True)].query('Avg >= 130').copy()"
   ]
  },
  {
   "cell_type": "code",
   "execution_count": 23,
   "id": "c232de66",
   "metadata": {},
   "outputs": [
    {
     "data": {
      "text/plain": [
       "<seaborn.axisgrid.FacetGrid at 0x1da036c1148>"
      ]
     },
     "execution_count": 23,
     "metadata": {},
     "output_type": "execute_result"
    },
    {
     "data": {
      "image/png": "[encoded data removed]",
      "text/plain": [
       "<Figure size 1000x500 with 2 Axes>"
      ]
     },
     "metadata": {},
     "output_type": "display_data"
    }
   ],
   "source": [
    "sns.displot(data=df_prob2, x='Avg', col='AM')"
   ]
  },
  {
   "cell_type": "markdown",
   "id": "3f2affb9",
   "metadata": {},
   "source": [
    "## 단계 2-2\n",
    "\n",
    "오전(AM = 0) 인 행들을 대상으로 Avg에 대하여 Shapiro-Wilk 검정을 사용하여 정규성 검정한다. \n",
    "\n",
    "검정 결과에서 p-value를 A라고 한다.\n",
    "\n",
    "Hint] scipy.stats.shapiro\n"
   ]
  },
  {
   "cell_type": "code",
   "execution_count": 24,
   "id": "d763c2b2",
   "metadata": {},
   "outputs": [
    {
     "data": {
      "text/plain": [
       "0.043661389499902725"
      ]
     },
     "execution_count": 24,
     "metadata": {},
     "output_type": "execute_result"
    }
   ],
   "source": [
    "from scipy.stats import shapiro\n",
    "A = shapiro(df_prob2.loc[df_prob2['AM'] == 0, 'Avg']).pvalue\n",
    "A"
   ]
  },
  {
   "cell_type": "markdown",
   "id": "db911fc0",
   "metadata": {},
   "source": [
    "## 단계 2-3\n",
    "\n",
    "오후(AM = 1) 인 행들을 대상으로 Avg에 대하여 Shapiro-Wilk 검정을 사용하여 정규성 검정한다. \n",
    "\n",
    "검정 결과에서 p-value를 B라고 한다."
   ]
  },
  {
   "cell_type": "code",
   "execution_count": 25,
   "id": "bfb189f7",
   "metadata": {},
   "outputs": [
    {
     "data": {
      "text/plain": [
       "0.026428762823343277"
      ]
     },
     "execution_count": 25,
     "metadata": {},
     "output_type": "execute_result"
    }
   ],
   "source": [
    "B = shapiro(df_prob2.loc[df_prob2['AM'] == 1, 'Avg']).pvalue\n",
    "B"
   ]
  },
  {
   "cell_type": "markdown",
   "id": "307f96f6",
   "metadata": {},
   "source": [
    "## 단계 2-4\n",
    "\n",
    "오전/오후에 따라 Avg의 모평균에 차이가 있는지 검정을 한다. 검정 통계량의 절대값을 C라고 한다. \n",
    "\n",
    "검정 방법은 T-검정을 사용하며, Bartlett 검정을 하고 결과를 T-검정 시 반영한다. 검정 결과에서 검정통계량의 절대값을 C라고 한다.\n",
    "\n",
    "Hint] scipy.stats.ttest_ind, \n",
    "scipy.stats.bartlett\n"
   ]
  },
  {
   "cell_type": "code",
   "execution_count": 26,
   "id": "a419ed7d",
   "metadata": {},
   "outputs": [
    {
     "data": {
      "text/plain": [
       "8.27772409322812"
      ]
     },
     "execution_count": 26,
     "metadata": {},
     "output_type": "execute_result"
    }
   ],
   "source": [
    "from scipy.stats import ttest_ind\n",
    "from scipy.stats import bartlett\n",
    "\n",
    "eq_var =  bartlett(df_prob2.loc[df_prob2['AM'] == 0, 'Avg'], \n",
    "        df_prob2.loc[df_prob2['AM'] == 1, 'Avg']).pvalue > 0.05\n",
    "C = ttest_ind(df_prob2.loc[df_prob2['AM'] == 0, 'Avg'],\n",
    "         df_prob2.loc[df_prob2['AM'] == 1, 'Avg'], equal_var = eq_var)\n",
    "C = abs(C.statistic)\n",
    "C"
   ]
  },
  {
   "cell_type": "markdown",
   "id": "9cea2f72",
   "metadata": {},
   "source": [
    "## 단계 2-5\n",
    "\n",
    "단계 2-2와 2-3의 결과에서 유의 수준을 5%라고 한다면, T-검정의 가정을 만족한다면 D 값은 1 아니면 0으로한다."
   ]
  },
  {
   "cell_type": "code",
   "execution_count": 27,
   "id": "a5190550",
   "metadata": {},
   "outputs": [],
   "source": [
    "D = 0"
   ]
  },
  {
   "cell_type": "markdown",
   "id": "5da4f1ee",
   "metadata": {},
   "source": [
    "## 단계 2-6\n",
    "\n",
    "오전/오후에 따라 Avg의 모평균에 차이가 있는지 Mann-Whiteny U 검정을 사용하여 검정한다. \n",
    "\n",
    "검정 결과 검정통계량을 E값으로 한다.\n",
    "\n",
    "Hint] scipy.stats.mannwhitneyu\n"
   ]
  },
  {
   "cell_type": "code",
   "execution_count": 28,
   "id": "9ec1b4d2",
   "metadata": {},
   "outputs": [
    {
     "data": {
      "text/plain": [
       "140292.5"
      ]
     },
     "execution_count": 28,
     "metadata": {},
     "output_type": "execute_result"
    }
   ],
   "source": [
    "from scipy.stats import mannwhitneyu\n",
    "\n",
    "E = mannwhitneyu(df_prob2.loc[df_prob2['AM'] == 0, 'Avg'],\n",
    "            df_prob2.loc[df_prob2['AM'] == 1, 'Avg']).statistic\n",
    "E"
   ]
  },
  {
   "cell_type": "code",
   "execution_count": 29,
   "id": "2d2e3d52",
   "metadata": {},
   "outputs": [
    {
     "data": {
      "text/plain": [
       "140300.84781424556"
      ]
     },
     "execution_count": 29,
     "metadata": {},
     "output_type": "execute_result"
    }
   ],
   "source": [
    "A + B + C + D + E"
   ]
  },
  {
   "cell_type": "markdown",
   "id": "74a74dc6",
   "metadata": {},
   "source": [
    "A + B + C + D + E를 소수점 넷째 자리에서 반올림하여 셋째 자리까지 적으시오\n",
    "\n",
    "**140300.848**"
   ]
  },
  {
   "cell_type": "markdown",
   "id": "bb5c441f",
   "metadata": {},
   "source": [
    "## 문제 3\n",
    "\n",
    "\n",
    "DateHour를 기준으로 DateHour의 다음날 같은 시각의 최대전력사용량을 예측하려고 한다.\n"
   ]
  },
  {
   "cell_type": "code",
   "execution_count": 30,
   "id": "6a464773",
   "metadata": {},
   "outputs": [
    {
     "data": {
      "text/plain": [
       "DateHour\n",
       "2021-01-01 00:00:00    253.0\n",
       "2021-01-01 01:00:00    418.0\n",
       "2021-01-01 02:00:00    415.0\n",
       "2021-01-01 03:00:00    421.0\n",
       "2021-01-01 04:00:00    427.0\n",
       "                       ...  \n",
       "2021-09-14 19:00:00      NaN\n",
       "2021-09-14 20:00:00      NaN\n",
       "2021-09-14 21:00:00      NaN\n",
       "2021-09-14 22:00:00      NaN\n",
       "2021-09-14 23:00:00      NaN\n",
       "Name: TotalHour, Length: 6168, dtype: float64"
      ]
     },
     "execution_count": 30,
     "metadata": {},
     "output_type": "execute_result"
    }
   ],
   "source": [
    "df_basetable1['TotalHour'].shift(-24)"
   ]
  },
  {
   "cell_type": "code",
   "execution_count": 31,
   "id": "d0f8cfde",
   "metadata": {},
   "outputs": [
    {
     "data": {
      "text/plain": [
       "DateHour\n",
       "2021-01-02 00:00:00    253\n",
       "2021-01-02 01:00:00    418\n",
       "2021-01-02 02:00:00    415\n",
       "2021-01-02 03:00:00    421\n",
       "2021-01-02 04:00:00    427\n",
       "                      ... \n",
       "2021-09-14 19:00:00    613\n",
       "2021-09-14 20:00:00    512\n",
       "2021-09-14 21:00:00    513\n",
       "2021-09-14 22:00:00    443\n",
       "2021-09-14 23:00:00    439\n",
       "Name: TotalHour, Length: 6144, dtype: int64"
      ]
     },
     "execution_count": 31,
     "metadata": {},
     "output_type": "execute_result"
    }
   ],
   "source": [
    "df_basetable1['TotalHour'].iloc[24:]"
   ]
  },
  {
   "cell_type": "markdown",
   "id": "82dcd88a",
   "metadata": {},
   "source": [
    "## 단계 3-1 \n",
    "\n",
    "basetable1에 아래 그림과 같이 다음날 같은 시각의 TotalHour를 파생 변수로 생성한다. \n",
    "\n",
    "파생 변수의 이름은 target으로 한다. target에 결측치가 있는 행은 모두 제거하여 prob3 데이터셋을 만든다."
   ]
  },
  {
   "cell_type": "code",
   "execution_count": 32,
   "id": "c6ebd01f",
   "metadata": {},
   "outputs": [
    {
     "data": {
      "text/html": [
       "<div>\n",
       "<style scoped>\n",
       "    .dataframe tbody tr th:only-of-type {\n",
       "        vertical-align: middle;\n",
       "    }\n",
       "\n",
       "    .dataframe tbody tr th {\n",
       "        vertical-align: top;\n",
       "    }\n",
       "\n",
       "    .dataframe thead th {\n",
       "        text-align: right;\n",
       "    }\n",
       "</style>\n",
       "<table border=\"1\" class=\"dataframe\">\n",
       "  <thead>\n",
       "    <tr style=\"text-align: right;\">\n",
       "      <th></th>\n",
       "      <th>15분</th>\n",
       "      <th>30분</th>\n",
       "      <th>45분</th>\n",
       "      <th>60분</th>\n",
       "      <th>DayName</th>\n",
       "      <th>Hour</th>\n",
       "      <th>AM</th>\n",
       "      <th>Weekend_yn</th>\n",
       "      <th>Holiday_yn</th>\n",
       "      <th>Avg</th>\n",
       "      <th>TotalHour</th>\n",
       "      <th>생산량</th>\n",
       "      <th>기온</th>\n",
       "      <th>풍속</th>\n",
       "      <th>습도</th>\n",
       "      <th>강수량</th>\n",
       "      <th>전기요금(계절)</th>\n",
       "      <th>공장인원</th>\n",
       "      <th>인건비</th>\n",
       "      <th>target</th>\n",
       "    </tr>\n",
       "    <tr>\n",
       "      <th>DateHour</th>\n",
       "      <th></th>\n",
       "      <th></th>\n",
       "      <th></th>\n",
       "      <th></th>\n",
       "      <th></th>\n",
       "      <th></th>\n",
       "      <th></th>\n",
       "      <th></th>\n",
       "      <th></th>\n",
       "      <th></th>\n",
       "      <th></th>\n",
       "      <th></th>\n",
       "      <th></th>\n",
       "      <th></th>\n",
       "      <th></th>\n",
       "      <th></th>\n",
       "      <th></th>\n",
       "      <th></th>\n",
       "      <th></th>\n",
       "      <th></th>\n",
       "    </tr>\n",
       "  </thead>\n",
       "  <tbody>\n",
       "    <tr>\n",
       "      <td>2021-01-01 00:00:00</td>\n",
       "      <td>62</td>\n",
       "      <td>61</td>\n",
       "      <td>61</td>\n",
       "      <td>61</td>\n",
       "      <td>4</td>\n",
       "      <td>0</td>\n",
       "      <td>True</td>\n",
       "      <td>0</td>\n",
       "      <td>1</td>\n",
       "      <td>61.25</td>\n",
       "      <td>245</td>\n",
       "      <td>0</td>\n",
       "      <td>-3.2</td>\n",
       "      <td>2.4</td>\n",
       "      <td>71</td>\n",
       "      <td>0.0</td>\n",
       "      <td>109.8</td>\n",
       "      <td>0.0</td>\n",
       "      <td>1.5</td>\n",
       "      <td>253.0</td>\n",
       "    </tr>\n",
       "    <tr>\n",
       "      <td>2021-01-01 01:00:00</td>\n",
       "      <td>96</td>\n",
       "      <td>93</td>\n",
       "      <td>116</td>\n",
       "      <td>113</td>\n",
       "      <td>4</td>\n",
       "      <td>1</td>\n",
       "      <td>True</td>\n",
       "      <td>0</td>\n",
       "      <td>1</td>\n",
       "      <td>104.50</td>\n",
       "      <td>418</td>\n",
       "      <td>0</td>\n",
       "      <td>-4.5</td>\n",
       "      <td>1.5</td>\n",
       "      <td>77</td>\n",
       "      <td>0.0</td>\n",
       "      <td>109.8</td>\n",
       "      <td>0.0</td>\n",
       "      <td>1.5</td>\n",
       "      <td>418.0</td>\n",
       "    </tr>\n",
       "    <tr>\n",
       "      <td>2021-01-01 02:00:00</td>\n",
       "      <td>106</td>\n",
       "      <td>96</td>\n",
       "      <td>106</td>\n",
       "      <td>107</td>\n",
       "      <td>4</td>\n",
       "      <td>2</td>\n",
       "      <td>True</td>\n",
       "      <td>0</td>\n",
       "      <td>1</td>\n",
       "      <td>103.75</td>\n",
       "      <td>415</td>\n",
       "      <td>0</td>\n",
       "      <td>-3.9</td>\n",
       "      <td>2.6</td>\n",
       "      <td>58</td>\n",
       "      <td>0.0</td>\n",
       "      <td>109.8</td>\n",
       "      <td>0.0</td>\n",
       "      <td>1.5</td>\n",
       "      <td>415.0</td>\n",
       "    </tr>\n",
       "    <tr>\n",
       "      <td>2021-01-01 03:00:00</td>\n",
       "      <td>92</td>\n",
       "      <td>110</td>\n",
       "      <td>110</td>\n",
       "      <td>109</td>\n",
       "      <td>4</td>\n",
       "      <td>3</td>\n",
       "      <td>True</td>\n",
       "      <td>0</td>\n",
       "      <td>1</td>\n",
       "      <td>105.25</td>\n",
       "      <td>421</td>\n",
       "      <td>0</td>\n",
       "      <td>-4.1</td>\n",
       "      <td>2.6</td>\n",
       "      <td>56</td>\n",
       "      <td>0.0</td>\n",
       "      <td>109.8</td>\n",
       "      <td>0.0</td>\n",
       "      <td>1.5</td>\n",
       "      <td>421.0</td>\n",
       "    </tr>\n",
       "    <tr>\n",
       "      <td>2021-01-01 04:00:00</td>\n",
       "      <td>108</td>\n",
       "      <td>105</td>\n",
       "      <td>106</td>\n",
       "      <td>108</td>\n",
       "      <td>4</td>\n",
       "      <td>4</td>\n",
       "      <td>True</td>\n",
       "      <td>0</td>\n",
       "      <td>1</td>\n",
       "      <td>106.75</td>\n",
       "      <td>427</td>\n",
       "      <td>0</td>\n",
       "      <td>-4.6</td>\n",
       "      <td>2.6</td>\n",
       "      <td>60</td>\n",
       "      <td>0.0</td>\n",
       "      <td>109.8</td>\n",
       "      <td>0.0</td>\n",
       "      <td>1.5</td>\n",
       "      <td>427.0</td>\n",
       "    </tr>\n",
       "  </tbody>\n",
       "</table>\n",
       "</div>"
      ],
      "text/plain": [
       "                     15분  30분  45분  60분  DayName  Hour    AM  Weekend_yn  \\\n",
       "DateHour                                                                   \n",
       "2021-01-01 00:00:00   62   61   61   61        4     0  True           0   \n",
       "2021-01-01 01:00:00   96   93  116  113        4     1  True           0   \n",
       "2021-01-01 02:00:00  106   96  106  107        4     2  True           0   \n",
       "2021-01-01 03:00:00   92  110  110  109        4     3  True           0   \n",
       "2021-01-01 04:00:00  108  105  106  108        4     4  True           0   \n",
       "\n",
       "                     Holiday_yn     Avg  TotalHour  생산량   기온   풍속  습도  강수량  \\\n",
       "DateHour                                                                     \n",
       "2021-01-01 00:00:00           1   61.25        245    0 -3.2  2.4  71  0.0   \n",
       "2021-01-01 01:00:00           1  104.50        418    0 -4.5  1.5  77  0.0   \n",
       "2021-01-01 02:00:00           1  103.75        415    0 -3.9  2.6  58  0.0   \n",
       "2021-01-01 03:00:00           1  105.25        421    0 -4.1  2.6  56  0.0   \n",
       "2021-01-01 04:00:00           1  106.75        427    0 -4.6  2.6  60  0.0   \n",
       "\n",
       "                     전기요금(계절)  공장인원  인건비  target  \n",
       "DateHour                                          \n",
       "2021-01-01 00:00:00     109.8   0.0  1.5   253.0  \n",
       "2021-01-01 01:00:00     109.8   0.0  1.5   418.0  \n",
       "2021-01-01 02:00:00     109.8   0.0  1.5   415.0  \n",
       "2021-01-01 03:00:00     109.8   0.0  1.5   421.0  \n",
       "2021-01-01 04:00:00     109.8   0.0  1.5   427.0  "
      ]
     },
     "execution_count": 32,
     "metadata": {},
     "output_type": "execute_result"
    }
   ],
   "source": [
    "df_prob3 = df_basetable1.assign(\n",
    "    target=lambda x: x['TotalHour'].shift(-24)\n",
    ").dropna()\n",
    "df_prob3.head()"
   ]
  },
  {
   "cell_type": "markdown",
   "id": "94fb03ee",
   "metadata": {},
   "source": [
    "## 단계 3-2 \n",
    "\n",
    "학습용과 테스트용 데이터셋을 2021년 8월 14일 전과 이후로 분리\n",
    "\n",
    ". prob3_train: DateHour 변수 기준으로 2021년 8월 14일 전(8월 14일 미포함) 데이터 (행의 수: 5400개)\n",
    "\n",
    ". prob3_test: DateHour 변수 기준으로 2021년 8월 14일 이후(8월 14일 포함) 데이터 (행의 수: 744 개)\n"
   ]
  },
  {
   "cell_type": "code",
   "execution_count": 33,
   "id": "eaba7c5a",
   "metadata": {},
   "outputs": [
    {
     "data": {
      "text/plain": [
       "((5400, 20), (744, 20))"
      ]
     },
     "execution_count": 33,
     "metadata": {},
     "output_type": "execute_result"
    }
   ],
   "source": [
    "df_prob3_train = df_prob3.loc[df_prob3.index.strftime('%Y-%m-%d') < '2021-08-14'].copy()\n",
    "df_prob3_test = df_prob3.loc[df_prob3.index.strftime('%Y-%m-%d') >= '2021-08-14'].copy()\n",
    "df_prob3_train.shape, df_prob3_test.shape"
   ]
  },
  {
   "cell_type": "markdown",
   "id": "0655f050",
   "metadata": {},
   "source": [
    "## 단계 3-3\n",
    "\n",
    "결정트리 회귀모델(Decision Tree Regression Model)을 사용하여 target을 예측하는 모델을 prob3_train으로 학습시킨다. \n",
    "\n",
    "요건은 다음과 같다.\n",
    "\n",
    "\n",
    "성능 측정 지표: $MAE(Y, \\hat{y})=\\sum^n_{i=1}|y_i - \\hat{y_i}|$\n",
    "\n",
    "입력 변수: 15분, 30분, 45분, 60분, DayName, Hour, AM, Weekend_yn, Holiday_yn, Avg, TotalHour, \n",
    "\n",
    "           생산량, 기온, 풍속, 습도, 강수량, 전기요금(계절), 공장인원, 인건비\n",
    "※ 입력 변수의 순서는 반드시 나열한 순서로 해야 함.\n",
    "\n",
    "대상 변수: target\n",
    "\n",
    "결정 트리 구성 요건:\n",
    "\n",
    "   sklearn.tree.DecisionTreeRegressor, random_state=123\n",
    "   \n",
    "   |하이퍼 파라미터|값|\n",
    "   |-|-|\n",
    "   |트리의 최대 깊이|10|\n",
    "   |리프 노드(Leaf Node)의 최소 샘플 수|4|\n",
    "   \n",
    "학습한 모델에서 측정한 입력 변수 중에서 가장 중요도가 높은 입력 변수의 입력 순서를 A (순서는 1부터 시작) 라고 한다. \n",
    "\n",
    "결정 트리의 prob4_test에 대한 성능을 B라고 한다. \n"
   ]
  },
  {
   "cell_type": "code",
   "execution_count": 34,
   "id": "7a1dea0d",
   "metadata": {},
   "outputs": [
    {
     "data": {
      "text/plain": [
       "DecisionTreeRegressor(criterion='mse', max_depth=10, max_features=None,\n",
       "                      max_leaf_nodes=None, min_impurity_decrease=0.0,\n",
       "                      min_impurity_split=None, min_samples_leaf=4,\n",
       "                      min_samples_split=2, min_weight_fraction_leaf=0.0,\n",
       "                      presort=False, random_state=123, splitter='best')"
      ]
     },
     "execution_count": 34,
     "metadata": {},
     "output_type": "execute_result"
    }
   ],
   "source": [
    "X_cols = [\n",
    "    '15분', '30분', '45분', '60분', 'DayName', 'Hour', 'AM', 'Weekend_yn', 'Holiday_yn', 'Avg', 'TotalHour',\n",
    "    '생산량', '기온', '풍속', '습도', '강수량', '전기요금(계절)', '공장인원', '인건비'\n",
    "]\n",
    "from sklearn.tree import DecisionTreeRegressor\n",
    "reg_dt = DecisionTreeRegressor(\n",
    "    random_state=123,\n",
    "    max_depth=10,\n",
    "    min_samples_leaf=4\n",
    ")\n",
    "reg_dt.fit(df_prob3_train[X_cols], df_prob3_train['target'])"
   ]
  },
  {
   "cell_type": "code",
   "execution_count": 35,
   "id": "855ca016",
   "metadata": {},
   "outputs": [
    {
     "data": {
      "text/plain": [
       "5"
      ]
     },
     "execution_count": 35,
     "metadata": {},
     "output_type": "execute_result"
    }
   ],
   "source": [
    "A = np.argmax(reg_dt.feature_importances_) + 1\n",
    "A"
   ]
  },
  {
   "cell_type": "code",
   "execution_count": 36,
   "id": "2b2ffa2c",
   "metadata": {},
   "outputs": [
    {
     "data": {
      "image/png": "[encoded data removed]",
      "text/plain": [
       "<Figure size 640x480 with 1 Axes>"
      ]
     },
     "metadata": {},
     "output_type": "display_data"
    }
   ],
   "source": [
    "df_i = pd.DataFrame({'name': X_cols, 'importance': reg_dt.feature_importances_})\\\n",
    "                    .sort_values('importance', ascending=False)\n",
    "sns.barplot(data=df_i, x='importance', y='name')\n",
    "plt.show()"
   ]
  },
  {
   "cell_type": "code",
   "execution_count": 37,
   "id": "f0b822bd",
   "metadata": {},
   "outputs": [
    {
     "data": {
      "text/plain": [
       "37.27394388956255"
      ]
     },
     "execution_count": 37,
     "metadata": {},
     "output_type": "execute_result"
    }
   ],
   "source": [
    "from sklearn.metrics import mean_absolute_error\n",
    "B = mean_absolute_error(df_prob3_test['target'], reg_dt.predict(df_prob3_test[X_cols]))\n",
    "B"
   ]
  },
  {
   "cell_type": "markdown",
   "id": "d8a5d710",
   "metadata": {},
   "source": [
    "## 단계 3-4\n",
    "\n",
    "결정트리 대신에 랜덤포레스트 회귀모델(Random-Forest Regression Model)을 사용한다. \n",
    "\n",
    "랜덤포레스트 회귀모델을 구성하는 결정트리 수는 50개로 하고, 다른 설정은 결정트리와 같다. \n",
    "\n",
    "prob4_train으로 학습하고 prob4_test에 대한 성능을 C라고 한다."
   ]
  },
  {
   "cell_type": "code",
   "execution_count": 38,
   "id": "4b57ef47",
   "metadata": {},
   "outputs": [
    {
     "data": {
      "text/plain": [
       "RandomForestRegressor(bootstrap=True, criterion='mse', max_depth=10,\n",
       "                      max_features='auto', max_leaf_nodes=None,\n",
       "                      min_impurity_decrease=0.0, min_impurity_split=None,\n",
       "                      min_samples_leaf=4, min_samples_split=2,\n",
       "                      min_weight_fraction_leaf=0.0, n_estimators=50,\n",
       "                      n_jobs=None, oob_score=False, random_state=123, verbose=0,\n",
       "                      warm_start=False)"
      ]
     },
     "execution_count": 38,
     "metadata": {},
     "output_type": "execute_result"
    }
   ],
   "source": [
    "from sklearn.ensemble import RandomForestRegressor\n",
    "reg_rf = RandomForestRegressor(\n",
    "    n_estimators=50,\n",
    "    random_state=123,\n",
    "    max_depth=10,\n",
    "    min_samples_leaf=4\n",
    ")\n",
    "reg_rf.fit(df_prob3_train[X_cols], df_prob3_train['target'])"
   ]
  },
  {
   "cell_type": "code",
   "execution_count": 39,
   "id": "6860f360",
   "metadata": {},
   "outputs": [
    {
     "data": {
      "text/plain": [
       "33.827583781718324"
      ]
     },
     "execution_count": 39,
     "metadata": {},
     "output_type": "execute_result"
    }
   ],
   "source": [
    "C = mean_absolute_error(df_prob3_test['target'], reg_rf.predict(df_prob3_test[X_cols]))\n",
    "C"
   ]
  },
  {
   "cell_type": "code",
   "execution_count": 40,
   "id": "6d179f39",
   "metadata": {},
   "outputs": [
    {
     "data": {
      "text/plain": [
       "76.10152767128088"
      ]
     },
     "execution_count": 40,
     "metadata": {},
     "output_type": "execute_result"
    }
   ],
   "source": [
    "A + B + C"
   ]
  },
  {
   "cell_type": "markdown",
   "id": "e202e03b",
   "metadata": {},
   "source": [
    "A + B + C를 소수점 넷째 자리에서 반올림하여 셋째 자리까지 적으시오\n",
    "\n",
    "**76.102**"
   ]
  },
  {
   "cell_type": "markdown",
   "id": "e765a1bb",
   "metadata": {},
   "source": [
    "## 문제 4\n",
    "\n",
    "DateHour를 기준으로 동일한 시각의 n일 이전의 TotalHour를 파생 변수 lag_n이라고 한다. \n",
    "\n",
    "예를 들어 DateHour가 2021-01-07 00:00:00이라면, lag_1은 2021-01-06 00:00:00의 TotalHour값인 96이 된다. "
   ]
  },
  {
   "cell_type": "code",
   "execution_count": 41,
   "id": "564bc5c1",
   "metadata": {},
   "outputs": [
    {
     "data": {
      "text/plain": [
       "DateHour\n",
       "2021-01-02 00:00:00    245.0\n",
       "2021-01-02 01:00:00    418.0\n",
       "2021-01-02 02:00:00    415.0\n",
       "2021-01-02 03:00:00    421.0\n",
       "2021-01-02 04:00:00    427.0\n",
       "                       ...  \n",
       "2021-09-13 19:00:00     92.0\n",
       "2021-09-13 20:00:00     93.0\n",
       "2021-09-13 21:00:00    100.0\n",
       "2021-09-13 22:00:00     92.0\n",
       "2021-09-13 23:00:00     91.0\n",
       "Name: TotalHour, Length: 6120, dtype: float64"
      ]
     },
     "execution_count": 41,
     "metadata": {},
     "output_type": "execute_result"
    }
   ],
   "source": [
    "df_prob3['TotalHour'].shift(24).iloc[24:]"
   ]
  },
  {
   "cell_type": "code",
   "execution_count": 42,
   "id": "cb0f5f8f",
   "metadata": {},
   "outputs": [
    {
     "data": {
      "text/plain": [
       "DateHour\n",
       "2021-01-01 00:00:00    245\n",
       "2021-01-01 01:00:00    418\n",
       "2021-01-01 02:00:00    415\n",
       "2021-01-01 03:00:00    421\n",
       "2021-01-01 04:00:00    427\n",
       "                      ... \n",
       "2021-09-13 19:00:00    592\n",
       "2021-09-13 20:00:00    483\n",
       "2021-09-13 21:00:00    490\n",
       "2021-09-13 22:00:00    440\n",
       "2021-09-13 23:00:00    431\n",
       "Name: TotalHour, Length: 6144, dtype: int64"
      ]
     },
     "execution_count": 42,
     "metadata": {},
     "output_type": "execute_result"
    }
   ],
   "source": [
    "df_prob3['TotalHour']"
   ]
  },
  {
   "cell_type": "markdown",
   "id": "5f419404",
   "metadata": {},
   "source": [
    "## 단계 4-1\n",
    "\n",
    "prob3에 lag_1 ~ lag_6까지의 6개의 파생 변수를 추가하여 prob4를 만든다. \n",
    "\n",
    "prob4에 lag_1~6까지 하나라도 결측치가 있다면 삭제한다."
   ]
  },
  {
   "cell_type": "code",
   "execution_count": 43,
   "id": "4fc24389",
   "metadata": {},
   "outputs": [],
   "source": [
    "c_list = [df_prob3]\n",
    "for i in range(1, 7):\n",
    "    c_list.append(df_prob3['TotalHour'].shift(24 * i).rename('lag_{}'.format(i)))"
   ]
  },
  {
   "cell_type": "code",
   "execution_count": 44,
   "id": "531d48b5",
   "metadata": {},
   "outputs": [
    {
     "data": {
      "text/html": [
       "<div>\n",
       "<style scoped>\n",
       "    .dataframe tbody tr th:only-of-type {\n",
       "        vertical-align: middle;\n",
       "    }\n",
       "\n",
       "    .dataframe tbody tr th {\n",
       "        vertical-align: top;\n",
       "    }\n",
       "\n",
       "    .dataframe thead th {\n",
       "        text-align: right;\n",
       "    }\n",
       "</style>\n",
       "<table border=\"1\" class=\"dataframe\">\n",
       "  <thead>\n",
       "    <tr style=\"text-align: right;\">\n",
       "      <th></th>\n",
       "      <th>15분</th>\n",
       "      <th>30분</th>\n",
       "      <th>45분</th>\n",
       "      <th>60분</th>\n",
       "      <th>DayName</th>\n",
       "      <th>Hour</th>\n",
       "      <th>AM</th>\n",
       "      <th>Weekend_yn</th>\n",
       "      <th>Holiday_yn</th>\n",
       "      <th>Avg</th>\n",
       "      <th>...</th>\n",
       "      <th>전기요금(계절)</th>\n",
       "      <th>공장인원</th>\n",
       "      <th>인건비</th>\n",
       "      <th>target</th>\n",
       "      <th>lag_1</th>\n",
       "      <th>lag_2</th>\n",
       "      <th>lag_3</th>\n",
       "      <th>lag_4</th>\n",
       "      <th>lag_5</th>\n",
       "      <th>lag_6</th>\n",
       "    </tr>\n",
       "    <tr>\n",
       "      <th>DateHour</th>\n",
       "      <th></th>\n",
       "      <th></th>\n",
       "      <th></th>\n",
       "      <th></th>\n",
       "      <th></th>\n",
       "      <th></th>\n",
       "      <th></th>\n",
       "      <th></th>\n",
       "      <th></th>\n",
       "      <th></th>\n",
       "      <th></th>\n",
       "      <th></th>\n",
       "      <th></th>\n",
       "      <th></th>\n",
       "      <th></th>\n",
       "      <th></th>\n",
       "      <th></th>\n",
       "      <th></th>\n",
       "      <th></th>\n",
       "      <th></th>\n",
       "      <th></th>\n",
       "    </tr>\n",
       "  </thead>\n",
       "  <tbody>\n",
       "    <tr>\n",
       "      <td>2021-01-07 00:00:00</td>\n",
       "      <td>22</td>\n",
       "      <td>22</td>\n",
       "      <td>22</td>\n",
       "      <td>25</td>\n",
       "      <td>3</td>\n",
       "      <td>0</td>\n",
       "      <td>True</td>\n",
       "      <td>0</td>\n",
       "      <td>0</td>\n",
       "      <td>22.75</td>\n",
       "      <td>...</td>\n",
       "      <td>109.8</td>\n",
       "      <td>0.000000</td>\n",
       "      <td>1.5</td>\n",
       "      <td>252.0</td>\n",
       "      <td>96.0</td>\n",
       "      <td>96.0</td>\n",
       "      <td>271.0</td>\n",
       "      <td>88.0</td>\n",
       "      <td>253.0</td>\n",
       "      <td>245.0</td>\n",
       "    </tr>\n",
       "    <tr>\n",
       "      <td>2021-01-07 01:00:00</td>\n",
       "      <td>26</td>\n",
       "      <td>22</td>\n",
       "      <td>22</td>\n",
       "      <td>22</td>\n",
       "      <td>3</td>\n",
       "      <td>1</td>\n",
       "      <td>True</td>\n",
       "      <td>0</td>\n",
       "      <td>0</td>\n",
       "      <td>23.00</td>\n",
       "      <td>...</td>\n",
       "      <td>109.8</td>\n",
       "      <td>0.369565</td>\n",
       "      <td>1.5</td>\n",
       "      <td>396.0</td>\n",
       "      <td>85.0</td>\n",
       "      <td>85.0</td>\n",
       "      <td>432.0</td>\n",
       "      <td>99.0</td>\n",
       "      <td>418.0</td>\n",
       "      <td>418.0</td>\n",
       "    </tr>\n",
       "    <tr>\n",
       "      <td>2021-01-07 02:00:00</td>\n",
       "      <td>22</td>\n",
       "      <td>21</td>\n",
       "      <td>21</td>\n",
       "      <td>22</td>\n",
       "      <td>3</td>\n",
       "      <td>2</td>\n",
       "      <td>True</td>\n",
       "      <td>0</td>\n",
       "      <td>0</td>\n",
       "      <td>21.50</td>\n",
       "      <td>...</td>\n",
       "      <td>109.8</td>\n",
       "      <td>0.000000</td>\n",
       "      <td>1.5</td>\n",
       "      <td>411.0</td>\n",
       "      <td>85.0</td>\n",
       "      <td>85.0</td>\n",
       "      <td>439.0</td>\n",
       "      <td>88.0</td>\n",
       "      <td>415.0</td>\n",
       "      <td>415.0</td>\n",
       "    </tr>\n",
       "    <tr>\n",
       "      <td>2021-01-07 03:00:00</td>\n",
       "      <td>22</td>\n",
       "      <td>22</td>\n",
       "      <td>22</td>\n",
       "      <td>23</td>\n",
       "      <td>3</td>\n",
       "      <td>3</td>\n",
       "      <td>True</td>\n",
       "      <td>0</td>\n",
       "      <td>0</td>\n",
       "      <td>22.25</td>\n",
       "      <td>...</td>\n",
       "      <td>109.8</td>\n",
       "      <td>0.629213</td>\n",
       "      <td>1.5</td>\n",
       "      <td>398.0</td>\n",
       "      <td>90.0</td>\n",
       "      <td>90.0</td>\n",
       "      <td>426.0</td>\n",
       "      <td>88.0</td>\n",
       "      <td>421.0</td>\n",
       "      <td>421.0</td>\n",
       "    </tr>\n",
       "    <tr>\n",
       "      <td>2021-01-07 04:00:00</td>\n",
       "      <td>22</td>\n",
       "      <td>26</td>\n",
       "      <td>26</td>\n",
       "      <td>23</td>\n",
       "      <td>3</td>\n",
       "      <td>4</td>\n",
       "      <td>True</td>\n",
       "      <td>0</td>\n",
       "      <td>0</td>\n",
       "      <td>24.25</td>\n",
       "      <td>...</td>\n",
       "      <td>109.8</td>\n",
       "      <td>2.865979</td>\n",
       "      <td>1.5</td>\n",
       "      <td>420.0</td>\n",
       "      <td>93.0</td>\n",
       "      <td>93.0</td>\n",
       "      <td>435.0</td>\n",
       "      <td>95.0</td>\n",
       "      <td>427.0</td>\n",
       "      <td>427.0</td>\n",
       "    </tr>\n",
       "  </tbody>\n",
       "</table>\n",
       "<p>5 rows × 26 columns</p>\n",
       "</div>"
      ],
      "text/plain": [
       "                     15분  30분  45분  60분  DayName  Hour    AM  Weekend_yn  \\\n",
       "DateHour                                                                   \n",
       "2021-01-07 00:00:00   22   22   22   25        3     0  True           0   \n",
       "2021-01-07 01:00:00   26   22   22   22        3     1  True           0   \n",
       "2021-01-07 02:00:00   22   21   21   22        3     2  True           0   \n",
       "2021-01-07 03:00:00   22   22   22   23        3     3  True           0   \n",
       "2021-01-07 04:00:00   22   26   26   23        3     4  True           0   \n",
       "\n",
       "                     Holiday_yn    Avg  ...  전기요금(계절)      공장인원  인건비  target  \\\n",
       "DateHour                                ...                                    \n",
       "2021-01-07 00:00:00           0  22.75  ...     109.8  0.000000  1.5   252.0   \n",
       "2021-01-07 01:00:00           0  23.00  ...     109.8  0.369565  1.5   396.0   \n",
       "2021-01-07 02:00:00           0  21.50  ...     109.8  0.000000  1.5   411.0   \n",
       "2021-01-07 03:00:00           0  22.25  ...     109.8  0.629213  1.5   398.0   \n",
       "2021-01-07 04:00:00           0  24.25  ...     109.8  2.865979  1.5   420.0   \n",
       "\n",
       "                     lag_1  lag_2  lag_3  lag_4  lag_5  lag_6  \n",
       "DateHour                                                       \n",
       "2021-01-07 00:00:00   96.0   96.0  271.0   88.0  253.0  245.0  \n",
       "2021-01-07 01:00:00   85.0   85.0  432.0   99.0  418.0  418.0  \n",
       "2021-01-07 02:00:00   85.0   85.0  439.0   88.0  415.0  415.0  \n",
       "2021-01-07 03:00:00   90.0   90.0  426.0   88.0  421.0  421.0  \n",
       "2021-01-07 04:00:00   93.0   93.0  435.0   95.0  427.0  427.0  \n",
       "\n",
       "[5 rows x 26 columns]"
      ]
     },
     "execution_count": 44,
     "metadata": {},
     "output_type": "execute_result"
    }
   ],
   "source": [
    "df_prob4 = pd.concat(c_list, axis=1).dropna()\n",
    "df_prob4.head()"
   ]
  },
  {
   "cell_type": "markdown",
   "id": "4b61eed3",
   "metadata": {},
   "source": [
    "## 단계 4-2\n",
    "\n",
    "학습용과 테스트용 데이터셋을 2021년 8월 14일 전과 이후로 분리\n",
    "\n",
    ". prob4_train: DateHour 변수 기준으로 2021년 8월 14일 전(8월 14일 미포함) 데이터 (행의 수: 5256개)\n",
    "\n",
    ". prob4_test: DateHour 변수 기준으로 2021년 8월 14일 이후(8월 14일 포함) 데이터 (행의 수: 744 개)"
   ]
  },
  {
   "cell_type": "code",
   "execution_count": 45,
   "id": "59c4f0ec",
   "metadata": {},
   "outputs": [
    {
     "data": {
      "text/plain": [
       "((5256, 26), (744, 26))"
      ]
     },
     "execution_count": 45,
     "metadata": {},
     "output_type": "execute_result"
    }
   ],
   "source": [
    "df_prob4_train = df_prob4.loc[df_prob4.index.strftime('%Y-%m-%d') < '2021-08-14'].copy()\n",
    "df_prob4_test = df_prob4.loc[df_prob4.index.strftime('%Y-%m-%d') >= '2021-08-14'].copy()\n",
    "df_prob4_train.shape, df_prob4_test.shape"
   ]
  },
  {
   "cell_type": "markdown",
   "id": "4b00a6fe",
   "metadata": {},
   "source": [
    "## 단계 4-3\n",
    "\n",
    "prob4_train에서 TotalHour와 lag_1~6 를 표준화하고, \n",
    "\n",
    "prob4_train의 표준화 설정으로 prob4_test의 TotalHour와 lag_1~6를 표준화한다."
   ]
  },
  {
   "cell_type": "code",
   "execution_count": 46,
   "id": "979212f7",
   "metadata": {},
   "outputs": [],
   "source": [
    "from sklearn.preprocessing import StandardScaler\n",
    "X_cols_prob4 = ['TotalHour'] + ['lag_{}'.format(i) for i in range(1, 7)]\n",
    "std_scaler = StandardScaler()\n",
    "df_prob4_train[X_cols_prob4] = std_scaler.fit_transform(df_prob4_train[X_cols_prob4])\n",
    "df_prob4_test[X_cols_prob4] = std_scaler.transform(df_prob4_test[X_cols_prob4])"
   ]
  },
  {
   "cell_type": "code",
   "execution_count": 47,
   "id": "c4d7fc8d",
   "metadata": {},
   "outputs": [
    {
     "data": {
      "text/html": [
       "<div>\n",
       "<style scoped>\n",
       "    .dataframe tbody tr th:only-of-type {\n",
       "        vertical-align: middle;\n",
       "    }\n",
       "\n",
       "    .dataframe tbody tr th {\n",
       "        vertical-align: top;\n",
       "    }\n",
       "\n",
       "    .dataframe thead th {\n",
       "        text-align: right;\n",
       "    }\n",
       "</style>\n",
       "<table border=\"1\" class=\"dataframe\">\n",
       "  <thead>\n",
       "    <tr style=\"text-align: right;\">\n",
       "      <th></th>\n",
       "      <th>TotalHour</th>\n",
       "      <th>lag_1</th>\n",
       "      <th>lag_2</th>\n",
       "      <th>lag_3</th>\n",
       "      <th>lag_4</th>\n",
       "      <th>lag_5</th>\n",
       "      <th>lag_6</th>\n",
       "    </tr>\n",
       "  </thead>\n",
       "  <tbody>\n",
       "    <tr>\n",
       "      <td>mean</td>\n",
       "      <td>9.463088e-17</td>\n",
       "      <td>0.000000</td>\n",
       "      <td>-8.246405e-17</td>\n",
       "      <td>2.433366e-17</td>\n",
       "      <td>-1.067977e-16</td>\n",
       "      <td>-3.920422e-17</td>\n",
       "      <td>8.922340e-17</td>\n",
       "    </tr>\n",
       "    <tr>\n",
       "      <td>std</td>\n",
       "      <td>1.000095e+00</td>\n",
       "      <td>1.000095</td>\n",
       "      <td>1.000095e+00</td>\n",
       "      <td>1.000095e+00</td>\n",
       "      <td>1.000095e+00</td>\n",
       "      <td>1.000095e+00</td>\n",
       "      <td>1.000095e+00</td>\n",
       "    </tr>\n",
       "  </tbody>\n",
       "</table>\n",
       "</div>"
      ],
      "text/plain": [
       "         TotalHour     lag_1         lag_2         lag_3         lag_4  \\\n",
       "mean  9.463088e-17  0.000000 -8.246405e-17  2.433366e-17 -1.067977e-16   \n",
       "std   1.000095e+00  1.000095  1.000095e+00  1.000095e+00  1.000095e+00   \n",
       "\n",
       "             lag_5         lag_6  \n",
       "mean -3.920422e-17  8.922340e-17  \n",
       "std   1.000095e+00  1.000095e+00  "
      ]
     },
     "execution_count": 47,
     "metadata": {},
     "output_type": "execute_result"
    }
   ],
   "source": [
    "df_prob4_train[X_cols_prob4].agg(['mean', 'std'])"
   ]
  },
  {
   "cell_type": "code",
   "execution_count": 48,
   "id": "e4651b65",
   "metadata": {},
   "outputs": [
    {
     "data": {
      "text/html": [
       "<div>\n",
       "<style scoped>\n",
       "    .dataframe tbody tr th:only-of-type {\n",
       "        vertical-align: middle;\n",
       "    }\n",
       "\n",
       "    .dataframe tbody tr th {\n",
       "        vertical-align: top;\n",
       "    }\n",
       "\n",
       "    .dataframe thead th {\n",
       "        text-align: right;\n",
       "    }\n",
       "</style>\n",
       "<table border=\"1\" class=\"dataframe\">\n",
       "  <thead>\n",
       "    <tr style=\"text-align: right;\">\n",
       "      <th></th>\n",
       "      <th>TotalHour</th>\n",
       "      <th>lag_1</th>\n",
       "      <th>lag_2</th>\n",
       "      <th>lag_3</th>\n",
       "      <th>lag_4</th>\n",
       "      <th>lag_5</th>\n",
       "      <th>lag_6</th>\n",
       "    </tr>\n",
       "  </thead>\n",
       "  <tbody>\n",
       "    <tr>\n",
       "      <td>mean</td>\n",
       "      <td>0.040191</td>\n",
       "      <td>0.065556</td>\n",
       "      <td>0.138973</td>\n",
       "      <td>0.194793</td>\n",
       "      <td>0.202593</td>\n",
       "      <td>0.192817</td>\n",
       "      <td>0.130666</td>\n",
       "    </tr>\n",
       "    <tr>\n",
       "      <td>std</td>\n",
       "      <td>1.020678</td>\n",
       "      <td>1.014981</td>\n",
       "      <td>0.998460</td>\n",
       "      <td>0.991484</td>\n",
       "      <td>0.990697</td>\n",
       "      <td>1.003863</td>\n",
       "      <td>1.027020</td>\n",
       "    </tr>\n",
       "  </tbody>\n",
       "</table>\n",
       "</div>"
      ],
      "text/plain": [
       "      TotalHour     lag_1     lag_2     lag_3     lag_4     lag_5     lag_6\n",
       "mean   0.040191  0.065556  0.138973  0.194793  0.202593  0.192817  0.130666\n",
       "std    1.020678  1.014981  0.998460  0.991484  0.990697  1.003863  1.027020"
      ]
     },
     "execution_count": 48,
     "metadata": {},
     "output_type": "execute_result"
    }
   ],
   "source": [
    "df_prob4_test[X_cols_prob4].agg(['mean', 'std'])"
   ]
  },
  {
   "cell_type": "markdown",
   "id": "fe364f71",
   "metadata": {},
   "source": [
    "## 단계 4-4\n",
    "\n",
    "SVR 모델을 아래 요건에 3가지 커널(Kernel)로 prob4_train을 학습하고 \n",
    "\n",
    "prob4_test로 성능을 측정한다. \n",
    "\n",
    "그 중 가장 좋은 성능을 보인 커널의 번호를 A, 그 때의 성능을 B라고 한다.\n",
    "\n",
    "성능 측정 지표: $MAE(Y, \\hat{y})=\\sum^n_{i=1}|y_i - \\hat{y_i}|$\n",
    "\n",
    "입력 변수: TotalHour, lag_1 ~ 6\n",
    "\n",
    "대상 변수: target\n",
    "\n",
    "요건] sklearn.svm.SVR, C=10\n",
    "\n",
    "\n",
    "1: $k(x_i,x_j)=\\langle x_i,x_j \\rangle$\n",
    "\n",
    "2: $k(x_i,x_j)=(\\gamma \\langle x_i,x_j \\rangle +1)^2,\\gamma=0.1$\n",
    "\n",
    "3: $k(x_i,x_j)=exp⁡(||-\\gamma ||x_i-x_j||^2 ),\\gamma=0.1$\n",
    "\n",
    " $\\langle x,x' \\rangle:x,x'$ 의 내적,$||x_i-x_j||^2$:L2-norm\n"
   ]
  },
  {
   "cell_type": "code",
   "execution_count": 49,
   "id": "f637d3b4",
   "metadata": {},
   "outputs": [
    {
     "name": "stdout",
     "output_type": "stream",
     "text": [
      "{'kernel': 'linear', 'C': 10} 32.88361068048479\n",
      "{'kernel': 'poly', 'degree': 2, 'coef0': 1, 'gamma': 0.1, 'C': 10} 32.04119565841312\n",
      "{'kernel': 'rbf', 'gamma': 0.1, 'C': 10} 30.017658858928023\n"
     ]
    }
   ],
   "source": [
    "from sklearn.svm import SVR\n",
    "\n",
    "param_list = [\n",
    "    {'kernel': 'linear', 'C': 10},\n",
    "    {'kernel': 'poly', 'degree': 2, 'coef0': 1, 'gamma': 0.1, 'C': 10},\n",
    "    {'kernel': 'rbf', 'gamma': 0.1, 'C': 10}\n",
    "]\n",
    "for param in param_list:\n",
    "    svr = SVR(**param)\n",
    "    svr.fit(df_prob4_train[X_cols_prob4], df_prob4_train['target'])\n",
    "    print(param, mean_absolute_error(df_prob4_test['target'], svr.predict(df_prob4_test[X_cols_prob4])))\n"
   ]
  },
  {
   "cell_type": "code",
   "execution_count": 50,
   "id": "c1bd0654",
   "metadata": {},
   "outputs": [],
   "source": [
    "A, B = 3, 30.017658858928023"
   ]
  },
  {
   "cell_type": "markdown",
   "id": "df50837d",
   "metadata": {},
   "source": [
    "## 단계 4-5\n",
    "\n",
    "퍼셉트론 회귀모델을 다음과 같이 3가지 설정으로 prob4_train으로 학습하고, \n",
    "\n",
    "prob4_test로 성능을 측정한다. \n",
    "\n",
    "가장 좋은 성능을 보인 경우의 번호 C, 그 때의 성능을 D라고 한다.\n",
    "\n",
    "\n",
    "성능 측정 지표: MAE(y,y ̂ )=∑_(i=1)^n▒|y_i-(y_i ) ̂ | \n",
    "\n",
    "입력 변수: TotalHour, lag_1 ~ 6\n",
    "\n",
    "대상 변수: target\n",
    "\n",
    "요건] sklearn.neural_network.MLPRegressor, \n",
    "\n",
    "learing_rate_init=0.05, random_state=123, max_iter=500\n",
    "\n",
    "\n",
    "|No.|은닉층의 수|은닉층의 활성화 함수|\n",
    "|---|---------|-------------|\n",
    "|1|[8]|relu|\n",
    "|2|[8, 4]|relu|\n",
    "|3|[8, 4]|sigmoid|\n",
    "\n",
    "\n"
   ]
  },
  {
   "cell_type": "code",
   "execution_count": 51,
   "id": "c9e54a2b",
   "metadata": {},
   "outputs": [
    {
     "name": "stdout",
     "output_type": "stream",
     "text": [
      "{'hidden_layer_sizes': [8], 'activation': 'relu'} 39.682836715413366\n",
      "{'hidden_layer_sizes': [8, 4], 'activation': 'relu'} 38.57988917988747\n",
      "{'hidden_layer_sizes': [8, 4], 'activation': 'logistic'} 43.740119906766495\n"
     ]
    }
   ],
   "source": [
    "from sklearn.neural_network import MLPRegressor\n",
    "\n",
    "param_list = [\n",
    "    {'hidden_layer_sizes': [8], 'activation': 'relu'}, \n",
    "    {'hidden_layer_sizes': [8, 4], 'activation': 'relu'},\n",
    "    {'hidden_layer_sizes': [8, 4], 'activation': 'logistic'}\n",
    "]\n",
    "for param in param_list:\n",
    "    reg_nn = MLPRegressor(learning_rate_init=0.05, random_state=123, max_iter=500, **param)\n",
    "    reg_nn.fit(df_prob4_train[X_cols_prob4], df_prob4_train['target'])\n",
    "    print(param, mean_absolute_error(df_prob4_test['target'], reg_nn.predict(df_prob4_test[X_cols_prob4])))"
   ]
  },
  {
   "cell_type": "code",
   "execution_count": 52,
   "id": "05572c16",
   "metadata": {},
   "outputs": [],
   "source": [
    "C, D = 2, 38.57988917988747"
   ]
  },
  {
   "cell_type": "code",
   "execution_count": 53,
   "id": "a276c0f9",
   "metadata": {},
   "outputs": [
    {
     "data": {
      "text/plain": [
       "73.59754803881549"
      ]
     },
     "execution_count": 53,
     "metadata": {},
     "output_type": "execute_result"
    }
   ],
   "source": [
    "A + B + C + D"
   ]
  },
  {
   "cell_type": "markdown",
   "id": "c20c461e",
   "metadata": {},
   "source": [
    "**73.60**"
   ]
  },
  {
   "cell_type": "markdown",
   "id": "c83bcbd4",
   "metadata": {},
   "source": [
    "# 문제 5\n",
    "\n",
    "info에서 기온, 풍속, 습도 강수량 데이터에서 이상치를 탐색하고자 한다."
   ]
  },
  {
   "cell_type": "markdown",
   "id": "9d613628",
   "metadata": {},
   "source": [
    "## 단계 5-1\n",
    "\n",
    "info1에서 기온, 풍속, 습도, 강수량 만을 떼어 weather1 데이터프레임을 만든다."
   ]
  },
  {
   "cell_type": "code",
   "execution_count": 54,
   "id": "ae0aa7f2",
   "metadata": {},
   "outputs": [
    {
     "data": {
      "text/html": [
       "<div>\n",
       "<style scoped>\n",
       "    .dataframe tbody tr th:only-of-type {\n",
       "        vertical-align: middle;\n",
       "    }\n",
       "\n",
       "    .dataframe tbody tr th {\n",
       "        vertical-align: top;\n",
       "    }\n",
       "\n",
       "    .dataframe thead th {\n",
       "        text-align: right;\n",
       "    }\n",
       "</style>\n",
       "<table border=\"1\" class=\"dataframe\">\n",
       "  <thead>\n",
       "    <tr style=\"text-align: right;\">\n",
       "      <th></th>\n",
       "      <th>기온</th>\n",
       "      <th>풍속</th>\n",
       "      <th>습도</th>\n",
       "      <th>강수량</th>\n",
       "    </tr>\n",
       "  </thead>\n",
       "  <tbody>\n",
       "    <tr>\n",
       "      <td>0</td>\n",
       "      <td>-3.2</td>\n",
       "      <td>2.4</td>\n",
       "      <td>71</td>\n",
       "      <td>0.0</td>\n",
       "    </tr>\n",
       "    <tr>\n",
       "      <td>1</td>\n",
       "      <td>-4.5</td>\n",
       "      <td>1.5</td>\n",
       "      <td>77</td>\n",
       "      <td>0.0</td>\n",
       "    </tr>\n",
       "    <tr>\n",
       "      <td>2</td>\n",
       "      <td>-3.9</td>\n",
       "      <td>2.6</td>\n",
       "      <td>58</td>\n",
       "      <td>0.0</td>\n",
       "    </tr>\n",
       "    <tr>\n",
       "      <td>3</td>\n",
       "      <td>-4.1</td>\n",
       "      <td>2.6</td>\n",
       "      <td>56</td>\n",
       "      <td>0.0</td>\n",
       "    </tr>\n",
       "    <tr>\n",
       "      <td>4</td>\n",
       "      <td>-4.6</td>\n",
       "      <td>2.6</td>\n",
       "      <td>60</td>\n",
       "      <td>0.0</td>\n",
       "    </tr>\n",
       "  </tbody>\n",
       "</table>\n",
       "</div>"
      ],
      "text/plain": [
       "    기온   풍속  습도  강수량\n",
       "0 -3.2  2.4  71  0.0\n",
       "1 -4.5  1.5  77  0.0\n",
       "2 -3.9  2.6  58  0.0\n",
       "3 -4.1  2.6  56  0.0\n",
       "4 -4.6  2.6  60  0.0"
      ]
     },
     "execution_count": 54,
     "metadata": {},
     "output_type": "execute_result"
    }
   ],
   "source": [
    "X_cols_prob5 = ['기온', '풍속', '습도', '강수량']\n",
    "df_weather1 = df_info1[X_cols_prob5].copy()\n",
    "df_weather1.head()"
   ]
  },
  {
   "cell_type": "markdown",
   "id": "930f68be",
   "metadata": {},
   "source": [
    "## 단계 5-2\n",
    "\n",
    "weather1의 기온, 풍속, 습도, 강수량을 표준화 한다.\n"
   ]
  },
  {
   "cell_type": "code",
   "execution_count": 55,
   "id": "ca3ee6e3",
   "metadata": {},
   "outputs": [
    {
     "data": {
      "text/html": [
       "<div>\n",
       "<style scoped>\n",
       "    .dataframe tbody tr th:only-of-type {\n",
       "        vertical-align: middle;\n",
       "    }\n",
       "\n",
       "    .dataframe tbody tr th {\n",
       "        vertical-align: top;\n",
       "    }\n",
       "\n",
       "    .dataframe thead th {\n",
       "        text-align: right;\n",
       "    }\n",
       "</style>\n",
       "<table border=\"1\" class=\"dataframe\">\n",
       "  <thead>\n",
       "    <tr style=\"text-align: right;\">\n",
       "      <th></th>\n",
       "      <th>기온</th>\n",
       "      <th>풍속</th>\n",
       "      <th>습도</th>\n",
       "      <th>강수량</th>\n",
       "    </tr>\n",
       "  </thead>\n",
       "  <tbody>\n",
       "    <tr>\n",
       "      <td>0</td>\n",
       "      <td>-2.085903</td>\n",
       "      <td>0.289680</td>\n",
       "      <td>0.039195</td>\n",
       "      <td>-0.233447</td>\n",
       "    </tr>\n",
       "    <tr>\n",
       "      <td>1</td>\n",
       "      <td>-2.227830</td>\n",
       "      <td>-0.483098</td>\n",
       "      <td>0.300129</td>\n",
       "      <td>-0.233447</td>\n",
       "    </tr>\n",
       "    <tr>\n",
       "      <td>2</td>\n",
       "      <td>-2.162325</td>\n",
       "      <td>0.461409</td>\n",
       "      <td>-0.526162</td>\n",
       "      <td>-0.233447</td>\n",
       "    </tr>\n",
       "    <tr>\n",
       "      <td>3</td>\n",
       "      <td>-2.184160</td>\n",
       "      <td>0.461409</td>\n",
       "      <td>-0.613140</td>\n",
       "      <td>-0.233447</td>\n",
       "    </tr>\n",
       "    <tr>\n",
       "      <td>4</td>\n",
       "      <td>-2.238748</td>\n",
       "      <td>0.461409</td>\n",
       "      <td>-0.439184</td>\n",
       "      <td>-0.233447</td>\n",
       "    </tr>\n",
       "  </tbody>\n",
       "</table>\n",
       "</div>"
      ],
      "text/plain": [
       "         기온        풍속        습도       강수량\n",
       "0 -2.085903  0.289680  0.039195 -0.233447\n",
       "1 -2.227830 -0.483098  0.300129 -0.233447\n",
       "2 -2.162325  0.461409 -0.526162 -0.233447\n",
       "3 -2.184160  0.461409 -0.613140 -0.233447\n",
       "4 -2.238748  0.461409 -0.439184 -0.233447"
      ]
     },
     "execution_count": 55,
     "metadata": {},
     "output_type": "execute_result"
    }
   ],
   "source": [
    "from sklearn.preprocessing import StandardScaler\n",
    "\n",
    "df_weather1[X_cols_prob5] = StandardScaler().fit_transform(df_weather1[X_cols_prob5])\n",
    "df_weather1.head()"
   ]
  },
  {
   "cell_type": "code",
   "execution_count": 56,
   "id": "69e9665e",
   "metadata": {},
   "outputs": [
    {
     "data": {
      "text/html": [
       "<div>\n",
       "<style scoped>\n",
       "    .dataframe tbody tr th:only-of-type {\n",
       "        vertical-align: middle;\n",
       "    }\n",
       "\n",
       "    .dataframe tbody tr th {\n",
       "        vertical-align: top;\n",
       "    }\n",
       "\n",
       "    .dataframe thead th {\n",
       "        text-align: right;\n",
       "    }\n",
       "</style>\n",
       "<table border=\"1\" class=\"dataframe\">\n",
       "  <thead>\n",
       "    <tr style=\"text-align: right;\">\n",
       "      <th></th>\n",
       "      <th>기온</th>\n",
       "      <th>풍속</th>\n",
       "      <th>습도</th>\n",
       "      <th>강수량</th>\n",
       "    </tr>\n",
       "  </thead>\n",
       "  <tbody>\n",
       "    <tr>\n",
       "      <td>mean</td>\n",
       "      <td>-1.474537e-16</td>\n",
       "      <td>-1.843172e-17</td>\n",
       "      <td>-2.580441e-16</td>\n",
       "      <td>4.607930e-17</td>\n",
       "    </tr>\n",
       "    <tr>\n",
       "      <td>std</td>\n",
       "      <td>1.000081e+00</td>\n",
       "      <td>1.000081e+00</td>\n",
       "      <td>1.000081e+00</td>\n",
       "      <td>1.000081e+00</td>\n",
       "    </tr>\n",
       "  </tbody>\n",
       "</table>\n",
       "</div>"
      ],
      "text/plain": [
       "                기온            풍속            습도           강수량\n",
       "mean -1.474537e-16 -1.843172e-17 -2.580441e-16  4.607930e-17\n",
       "std   1.000081e+00  1.000081e+00  1.000081e+00  1.000081e+00"
      ]
     },
     "execution_count": 56,
     "metadata": {},
     "output_type": "execute_result"
    }
   ],
   "source": [
    "df_weather1[X_cols_prob5].agg(['mean', 'std'])"
   ]
  },
  {
   "cell_type": "markdown",
   "id": "acd80c60",
   "metadata": {},
   "source": [
    "## 단계 5-3\n",
    "\n",
    "DBSCAN 군집화를 입실론(epsilon) 반경을 0.5, 주변 영역에 포함하는 최소 샘플수를 7로하여 군집화를 수행 한다. \n",
    "\n",
    "weather1에 DBSCAN 결과에서 소속 군집이 없는 샘플들을 이상점으로 간주한다. \n",
    "\n",
    "이상점 여부를 파생변수 outlier_dbscan로 하여 weather1에 추가한다. (소속 군집이 있으면: False, 없으면 True)\n",
    "\n",
    "  Hint] sklearn.cluster.DBSCAN, algorithm=’brute’\n"
   ]
  },
  {
   "cell_type": "code",
   "execution_count": 57,
   "id": "d599ba93",
   "metadata": {},
   "outputs": [
    {
     "data": {
      "text/plain": [
       "DBSCAN(algorithm='brute', eps=0.5, leaf_size=30, metric='euclidean',\n",
       "       metric_params=None, min_samples=7, n_jobs=None, p=None)"
      ]
     },
     "execution_count": 57,
     "metadata": {},
     "output_type": "execute_result"
    }
   ],
   "source": [
    "from sklearn.cluster import DBSCAN\n",
    "\n",
    "dbscan = DBSCAN(\n",
    "    eps=0.5, # 군집화를 입실론(epsilon) 반경을 0.5, \n",
    "    min_samples=7, # 주변 영역에 포함하는 최소 샘플수를 7로하여 군집화를 수행 한다.\n",
    "    algorithm='brute'\n",
    ")\n",
    "dbscan.fit(df_weather1[X_cols_prob5])"
   ]
  },
  {
   "cell_type": "code",
   "execution_count": 58,
   "id": "3e981d23",
   "metadata": {},
   "outputs": [],
   "source": [
    "df_weather1['outlier_dbscan'] = dbscan.labels_ == -1"
   ]
  },
  {
   "cell_type": "markdown",
   "id": "47f524cc",
   "metadata": {},
   "source": [
    "## 단계 5-4\n",
    "\n",
    "IsolationForest를 사용하여 weather1의 이상점을 탐색한다. \n",
    "\n",
    "학습시 비복원 추출은 하지 않고, 트리의 수는 30개를 사용한다. \n",
    "\n",
    "IsolationForest으로 탐지한 이상점 여부는 파생변수 outlier_isof로 하여 weather1에 추가한다. (이상치라면 True, 아니면 False)\n",
    "\n",
    "Hint] sklearn.ensemble.IsolationForest, \n",
    "\n",
    "random_state=123, contamination=’auto’, behaviour=’auto’\n"
   ]
  },
  {
   "cell_type": "code",
   "execution_count": 59,
   "id": "061bde3a",
   "metadata": {},
   "outputs": [],
   "source": [
    "from sklearn.ensemble import IsolationForest\n",
    "\n",
    "isf = IsolationForest(\n",
    "    bootstrap=False, #학습시 비복원 추출은 하지 않고, \n",
    "    n_estimators=30, #트리의 수는 30개를 사용한다.\n",
    "    random_state=123, contamination='auto', behaviour='auto'\n",
    ")\n",
    "isf.fit(df_weather1[X_cols_prob5])\n",
    "df_weather1['outlier_isof'] = isf.predict(df_weather1[X_cols_prob5]) == -1"
   ]
  },
  {
   "cell_type": "markdown",
   "id": "96822119",
   "metadata": {},
   "source": [
    "## 단계 5-5\n",
    "\n",
    "LocalOutlierFactor를 사용하여 weather1의 이상점을 탐색한다. \n",
    "\n",
    "관찰할 주변의 샘플은 10개이다. 그리고, 샘플간의 거리는 유클리디언 거리를 사용한다. \n",
    "\n",
    "LocalOutlierFactor로 탐지한 이상 여부를 outlier_lof로 하여 weather1에 추가한다.\n",
    "\n",
    "Hint] sklearn.neighbors.LocalOutlierFactor,\n",
    " contamination=’auto’\n"
   ]
  },
  {
   "cell_type": "code",
   "execution_count": 60,
   "id": "cb07157a",
   "metadata": {},
   "outputs": [],
   "source": [
    "from sklearn.neighbors import LocalOutlierFactor\n",
    "\n",
    "lof = LocalOutlierFactor(\n",
    "    n_neighbors=10, #관찰할 주변의 샘플은 10개이다\n",
    "    metric='minkowski', p=2, #샘플간의 거리는 유클리디언 거리\n",
    "    contamination='auto'\n",
    ")\n",
    "result = lof.fit_predict(df_weather1[X_cols_prob5])\n",
    "df_weather1['outlier_lof'] = result == -1"
   ]
  },
  {
   "cell_type": "markdown",
   "id": "4efe6d30",
   "metadata": {},
   "source": [
    "## 단계 5-6 \n",
    "\n",
    "outlier_dbscan가 True인 행의 개수를 A, outlier_isof가 True인 행의 개수 B\n",
    ",  outlier_lof가 True인 행의 개수 C 이다.\n"
   ]
  },
  {
   "cell_type": "code",
   "execution_count": 61,
   "id": "d1ea8c53",
   "metadata": {},
   "outputs": [
    {
     "data": {
      "text/plain": [
       "outlier_dbscan     210\n",
       "outlier_isof      1108\n",
       "outlier_lof         83\n",
       "dtype: int64"
      ]
     },
     "execution_count": 61,
     "metadata": {},
     "output_type": "execute_result"
    }
   ],
   "source": [
    "df_weather1[['outlier_dbscan', 'outlier_isof', 'outlier_lof']].sum(axis=0)"
   ]
  },
  {
   "cell_type": "code",
   "execution_count": 62,
   "id": "179cf319",
   "metadata": {},
   "outputs": [
    {
     "data": {
      "text/plain": [
       "(210, 1108, 83)"
      ]
     },
     "execution_count": 62,
     "metadata": {},
     "output_type": "execute_result"
    }
   ],
   "source": [
    "A, B, C = df_weather1[['outlier_dbscan', 'outlier_isof', 'outlier_lof']].sum(axis=0).values\n",
    "A, B, C"
   ]
  },
  {
   "cell_type": "markdown",
   "id": "b193cd24",
   "metadata": {},
   "source": [
    "## 단계 5-7\n",
    "\n",
    "outlier_dbscan, outlier_isof 그리고 outlier_lof 모두가 True인 행의 개수는 D이다."
   ]
  },
  {
   "cell_type": "code",
   "execution_count": 63,
   "id": "9ebba9ac",
   "metadata": {},
   "outputs": [
    {
     "data": {
      "text/plain": [
       "16"
      ]
     },
     "execution_count": 63,
     "metadata": {},
     "output_type": "execute_result"
    }
   ],
   "source": [
    "D = np.sum(df_weather1[['outlier_dbscan', 'outlier_isof', 'outlier_lof']].all(axis=1))\n",
    "D"
   ]
  },
  {
   "cell_type": "code",
   "execution_count": 64,
   "id": "705e0a96",
   "metadata": {},
   "outputs": [
    {
     "data": {
      "text/plain": [
       "1417"
      ]
     },
     "execution_count": 64,
     "metadata": {},
     "output_type": "execute_result"
    }
   ],
   "source": [
    "A + B + C + D"
   ]
  },
  {
   "cell_type": "markdown",
   "id": "4e99c4b5",
   "metadata": {},
   "source": [
    "A + B + C + D를 적는다."
   ]
  },
  {
   "cell_type": "markdown",
   "id": "bd95fe1f",
   "metadata": {},
   "source": [
    "# 문제 6\n",
    "\n",
    "(kaggle 형 문제) prob4 를 바탕으로 아래 데이터셋을 만든다.\n",
    "\n",
    ". prob6_train: DateHour 변수 기준으로 2021년 8월 14일 전(8월 14일 미포함) 데이터 (행의 수: 5256개)\n",
    "\n",
    ". prob6_test: DateHour 변수 기준으로 2021년 8월 14일 이후(8월 14일 포함) 데이터 (행의 수: 744 개)\n",
    "\n",
    "일 때, prob6_train으로 target을 예측하는 모델을 만들어, \n",
    "\n",
    "prob6_test의 target에 대한 MAE를 최소화하는 모델을 만든다. \n",
    "\n",
    "prob6_test의 예측 결과를 아래와 같은 형식으로 출력한다. 파일명은 answer6.csv 이다.\n"
   ]
  },
  {
   "cell_type": "code",
   "execution_count": 66,
   "id": "90529ff8",
   "metadata": {},
   "outputs": [
    {
     "data": {
      "text/plain": [
       "((5256, 26), (744, 26))"
      ]
     },
     "execution_count": 66,
     "metadata": {},
     "output_type": "execute_result"
    }
   ],
   "source": [
    "df_prob6_train = df_prob4.loc[df_prob4.index.strftime('%Y-%m-%d') < '2021-08-14'].copy()\n",
    "df_prob6_test = df_prob4.loc[df_prob4.index.strftime('%Y-%m-%d') >= '2021-08-14'].copy()\n",
    "df_prob6_train.shape, df_prob6_test.shape"
   ]
  },
  {
   "cell_type": "code",
   "execution_count": 70,
   "id": "dc0302c4",
   "metadata": {},
   "outputs": [
    {
     "data": {
      "text/plain": [
       "Pipeline(memory=None,\n",
       "         steps=[('columntransformer',\n",
       "                 ColumnTransformer(n_jobs=None, remainder='drop',\n",
       "                                   sparse_threshold=0.3,\n",
       "                                   transformer_weights=None,\n",
       "                                   transformers=[('std',\n",
       "                                                  StandardScaler(copy=True,\n",
       "                                                                 with_mean=True,\n",
       "                                                                 with_std=True),\n",
       "                                                  ['TotalHour', 'lag_1',\n",
       "                                                   'lag_2', 'lag_3', 'lag_4',\n",
       "                                                   'lag_5', 'lag_6'])],\n",
       "                                   verbose=False)),\n",
       "                ('svr',\n",
       "                 SVR(C=10, cache_size=200, coef0=0.0, degree=3, epsilon=0.1,\n",
       "                     gamma=0.1, kernel='rbf', max_iter=-1, shrinking=True,\n",
       "                     tol=0.001, verbose=False))],\n",
       "         verbose=False)"
      ]
     },
     "execution_count": 70,
     "metadata": {},
     "output_type": "execute_result"
    }
   ],
   "source": [
    "from sklearn.svm import SVR\n",
    "from sklearn.preprocessing import StandardScaler\n",
    "from sklearn.compose import ColumnTransformer\n",
    "from sklearn.pipeline import make_pipeline\n",
    "X_cols = ['TotalHour'] + ['lag_{}'.format(i) for i in range(1, 7)]\n",
    "ct_svr = ColumnTransformer(\n",
    "    [('std', StandardScaler(), X_cols)],\n",
    ")\n",
    "reg_svr = make_pipeline(ct_svr, SVR(kernel='rbf', gamma=0.1, C=10))\n",
    "reg_svr.fit(df_prob6_train[X_cols], df_prob6_train['target'])"
   ]
  },
  {
   "cell_type": "code",
   "execution_count": 71,
   "id": "34b43422",
   "metadata": {},
   "outputs": [
    {
     "data": {
      "text/plain": [
       "70.43814330923178"
      ]
     },
     "execution_count": 71,
     "metadata": {},
     "output_type": "execute_result"
    }
   ],
   "source": [
    "from sklearn.metrics import mean_absolute_error\n",
    "mean_absolute_error(df_prob6_train['target'], reg_svr.predict(df_prob6_train[X_cols]))"
   ]
  },
  {
   "cell_type": "code",
   "execution_count": 77,
   "id": "3b66abc8",
   "metadata": {},
   "outputs": [
    {
     "data": {
      "text/plain": [
       "RandomForestRegressor(bootstrap=True, criterion='mse', max_depth=10,\n",
       "                      max_features='auto', max_leaf_nodes=None,\n",
       "                      min_impurity_decrease=0.0, min_impurity_split=None,\n",
       "                      min_samples_leaf=4, min_samples_split=2,\n",
       "                      min_weight_fraction_leaf=0.0, n_estimators=50,\n",
       "                      n_jobs=None, oob_score=False, random_state=123, verbose=0,\n",
       "                      warm_start=False)"
      ]
     },
     "execution_count": 77,
     "metadata": {},
     "output_type": "execute_result"
    }
   ],
   "source": [
    "from sklearn.ensemble import RandomForestRegressor\n",
    "reg_rf = RandomForestRegressor(\n",
    "    n_estimators=50,\n",
    "    random_state=123,\n",
    "    max_depth=10,\n",
    "    min_samples_leaf=4\n",
    ")\n",
    "X_cols_rf = [\n",
    "    '15분', '30분', '45분', '60분', 'DayName', 'Hour', 'AM', 'Weekend_yn', 'Holiday_yn', 'Avg', 'TotalHour',\n",
    "    '생산량', '기온', '풍속', '습도', '강수량', '전기요금(계절)', '공장인원', '인건비'\n",
    "]\n",
    "reg_rf.fit(df_prob6_train[X_cols_rf], df_prob6_train['target'])"
   ]
  },
  {
   "cell_type": "code",
   "execution_count": 80,
   "id": "20b33b6c",
   "metadata": {},
   "outputs": [
    {
     "data": {
      "text/plain": [
       "30.017658858928023"
      ]
     },
     "execution_count": 80,
     "metadata": {},
     "output_type": "execute_result"
    }
   ],
   "source": [
    "mean_absolute_error(df_prob6_test['target'], reg_svr.predict(df_prob6_test[X_cols]))"
   ]
  },
  {
   "cell_type": "code",
   "execution_count": 79,
   "id": "9efaf663",
   "metadata": {},
   "outputs": [
    {
     "data": {
      "text/plain": [
       "33.37572496970047"
      ]
     },
     "execution_count": 79,
     "metadata": {},
     "output_type": "execute_result"
    }
   ],
   "source": [
    "mean_absolute_error(df_prob6_test['target'], reg_rf.predict(df_prob6_test[X_cols_rf]))"
   ]
  },
  {
   "cell_type": "code",
   "execution_count": 81,
   "id": "7af3fa62",
   "metadata": {},
   "outputs": [
    {
     "data": {
      "text/plain": [
       "27.88071808697553"
      ]
     },
     "execution_count": 81,
     "metadata": {},
     "output_type": "execute_result"
    }
   ],
   "source": [
    "mean_absolute_error(df_prob6_test['target'], \n",
    "                    reg_rf.predict(df_prob6_test[X_cols_rf]) * 0.5 + reg_svr.predict(df_prob6_test[X_cols]) * 0.5)"
   ]
  },
  {
   "cell_type": "code",
   "execution_count": 76,
   "id": "23e477e8",
   "metadata": {},
   "outputs": [],
   "source": [
    "pd.DataFrame({'TotalHour': reg_svr.predict(df_prob6_test[X_cols])}, index=df_prob6_test.index)\n",
    "            .to_csv('answer6.csv')"
   ]
  }
 ],
 "metadata": {
  "kernelspec": {
   "display_name": "Python 3 (ipykernel)",
   "language": "python",
   "name": "python3"
  },
  "language_info": {
   "codemirror_mode": {
    "name": "ipython",
    "version": 3
   },
   "file_extension": ".py",
   "mimetype": "text/x-python",
   "name": "python",
   "nbconvert_exporter": "python",
   "pygments_lexer": "ipython3",
   "version": "3.7.4"
  }
 },
 "nbformat": 4,
 "nbformat_minor": 5
}
