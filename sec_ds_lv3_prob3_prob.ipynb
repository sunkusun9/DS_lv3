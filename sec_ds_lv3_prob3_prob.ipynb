{
 "cells": [
  {
   "cell_type": "markdown",
   "id": "65ff6d42",
   "metadata": {},
   "source": [
    "# 시험장 환경 정보\n",
    "\n",
    "Python: 3.7.4 (tags/v3.7.4:e09359112e, Jul  8 2019, 20:34:20) [MSC v.1916 64 bit (AMD64)]\n",
    "\n",
    "|모듈|버젼|\n",
    "|----|----|\n",
    "|pandas|0.25.1|\n",
    "|numpy|1.18.5|\n",
    "|sklearn|0.21.3|\n",
    "|scipy|1.5.2|\n",
    "|mlxtend|0.15.0.0|\n",
    "|statsmodels|0.11.1|"
   ]
  },
  {
   "cell_type": "code",
   "execution_count": 1,
   "id": "de0201e6",
   "metadata": {
    "scrolled": true
   },
   "outputs": [
    {
     "name": "stdout",
     "output_type": "stream",
     "text": [
      "3.7.4 (tags/v3.7.4:e09359112e, Jul  8 2019, 20:34:20) [MSC v.1916 64 bit (AMD64)]\n",
      "pandas 0.25.1\n",
      "numpy 1.18.5\n",
      "sklearn 0.21.3\n",
      "scipy 1.5.2\n",
      "mlxtend 0.15.0.0\n",
      "statsmodels 0.11.1\n"
     ]
    }
   ],
   "source": [
    "# 실행 환경 확인\n",
    "\n",
    "import pandas as pd\n",
    "import numpy as np\n",
    "import sklearn\n",
    "import scipy\n",
    "import statsmodels\n",
    "import mlxtend\n",
    "import sys\n",
    "\n",
    "print(sys.version)\n",
    "for i in [pd, np, sklearn, scipy, mlxtend, statsmodels]:\n",
    "    print(i.__name__, i.__version__)"
   ]
  },
  {
   "cell_type": "code",
   "execution_count": 2,
   "id": "b34013a3",
   "metadata": {},
   "outputs": [],
   "source": [
    "# 시각화 모듈 설정\n",
    "# 참고용 차트를 출력하기 위함\n",
    "import matplotlib.pyplot as plt\n",
    "import seaborn as sns\n",
    "\n",
    "import matplotlib as mpl\n",
    "import matplotlib.font_manager as fm\n",
    "plt.rc('font', family='Malgun Gothic')\n",
    "mpl.rcParams['axes.unicode_minus'] = False"
   ]
  },
  {
   "cell_type": "markdown",
   "id": "38b3bb7e",
   "metadata": {},
   "source": [
    "# 문제 개요\n",
    "\n",
    "삼성전자 A공장은 전기료 효율화를 통한 원가절감 방안을 찾고 있다. \n",
    "\n",
    "공장 가동 시 일시적인 과부하로 최대수요전력이 증가하면 불리한 기본요금이 산정되고 이는 원가상승 요인이 된다. \n",
    "\n",
    "전기 요금은 최대수요전력을 바탕으로 시간 단위로 산정된다. \n",
    "\n",
    "최대수요전력을 예측하여 선제적으로 원가상승에 대응하고자 한다.\n",
    "\n",
    "당일 데이터를 바탕으로, 그 다음 날의 최대수요전력을 예측하는 모델을 개발한다.\n",
    "\n",
    "보유한 데이터는 A공장에서 2021년 1월 1일 ~ 2021년 9월 14일 (9개월) 동안 변압기에 감지센서를 부착하여\n",
    "\n",
    "15분 단위로 최대수요전력을 관측한 데이터이다. \n",
    "\n",
    "데이터는 2종류이며, ‘elec.csv’ 데이터는 최대수요전력을 측정한 데이터이며, \n",
    "\n",
    "'info.csv' 데이터는 측정 당시 기상정보 및 생산량과 인건비율 등의 정보가 포함되어 있다. \n",
    "\n",
    "\n",
    "- 데이터 파일: elec.csv (24,642 rows, 4 columns, 데이터셋명-elec)\n",
    "\n",
    "|변수명|내용|타입|\n",
    "|------|:--|----|\n",
    "|Date|측정  날짜|문자열|\n",
    "|DateHour|측정 날짜와 시간|문자열|\n",
    "|Minute|15분 간격으로 측정<br/>(15분, 30분, 45분, 60분)|문자열|\n",
    "|Value|최대수요전력(피크전기 사용량)<br/> 최대수요전력이란 공장 내 설치된 변압기를 통해<br/>일정 시간 단위로 누적 계산되는 전력을 의미|정수형|\n",
    "\n",
    "- 데이터 파일: info.csv (6,168 rows, 9 columns, 데이터셋명-info)\n",
    "\n",
    "|변수명|내용|타입|\n",
    "|----|:--|-----|\n",
    "|Date|측정 날짜와 시간|문자열|\n",
    "|생산량|해당 시점에 생산해야 할 생산량|정수형|\n",
    "|기온|해당 시점의 기온|실수형|\n",
    "|풍속|해당 시점의 풍속|실수형|\n",
    "|습도|해당 시점의 습도|정수형|\n",
    "|강수량|해당 시점의 강수량|실수형|\n",
    "|전기요금(계절)|해당시점의 전기요금|실수형|\n",
    "|공장인원|해당 시점에 공장이 보유한 생산력|실수형|\n",
    "|인건비|야간 및 주간 인건비에 대한 비율값|실수형|"
   ]
  },
  {
   "cell_type": "code",
   "execution_count": 3,
   "id": "83066835",
   "metadata": {},
   "outputs": [
    {
     "data": {
      "text/html": [
       "<div>\n",
       "<style scoped>\n",
       "    .dataframe tbody tr th:only-of-type {\n",
       "        vertical-align: middle;\n",
       "    }\n",
       "\n",
       "    .dataframe tbody tr th {\n",
       "        vertical-align: top;\n",
       "    }\n",
       "\n",
       "    .dataframe thead th {\n",
       "        text-align: right;\n",
       "    }\n",
       "</style>\n",
       "<table border=\"1\" class=\"dataframe\">\n",
       "  <thead>\n",
       "    <tr style=\"text-align: right;\">\n",
       "      <th></th>\n",
       "      <th>Date</th>\n",
       "      <th>DateHour</th>\n",
       "      <th>Minute</th>\n",
       "      <th>Value</th>\n",
       "    </tr>\n",
       "  </thead>\n",
       "  <tbody>\n",
       "    <tr>\n",
       "      <td>0</td>\n",
       "      <td>2021-01-01 00:15:00</td>\n",
       "      <td>2021-01-01 00:00:00</td>\n",
       "      <td>15분</td>\n",
       "      <td>62</td>\n",
       "    </tr>\n",
       "    <tr>\n",
       "      <td>1</td>\n",
       "      <td>2021-01-01 00:30:00</td>\n",
       "      <td>2021-01-01 00:00:00</td>\n",
       "      <td>30분</td>\n",
       "      <td>61</td>\n",
       "    </tr>\n",
       "    <tr>\n",
       "      <td>2</td>\n",
       "      <td>2021-01-01 00:45:00</td>\n",
       "      <td>2021-01-01 00:00:00</td>\n",
       "      <td>45분</td>\n",
       "      <td>61</td>\n",
       "    </tr>\n",
       "    <tr>\n",
       "      <td>3</td>\n",
       "      <td>2021-01-01 01:00:00</td>\n",
       "      <td>2021-01-01 00:00:00</td>\n",
       "      <td>60분</td>\n",
       "      <td>61</td>\n",
       "    </tr>\n",
       "    <tr>\n",
       "      <td>4</td>\n",
       "      <td>2021-01-01 01:15:00</td>\n",
       "      <td>2021-01-01 01:00:00</td>\n",
       "      <td>15분</td>\n",
       "      <td>96</td>\n",
       "    </tr>\n",
       "  </tbody>\n",
       "</table>\n",
       "</div>"
      ],
      "text/plain": [
       "                 Date            DateHour Minute  Value\n",
       "0 2021-01-01 00:15:00 2021-01-01 00:00:00    15분     62\n",
       "1 2021-01-01 00:30:00 2021-01-01 00:00:00    30분     61\n",
       "2 2021-01-01 00:45:00 2021-01-01 00:00:00    45분     61\n",
       "3 2021-01-01 01:00:00 2021-01-01 00:00:00    60분     61\n",
       "4 2021-01-01 01:15:00 2021-01-01 01:00:00    15분     96"
      ]
     },
     "execution_count": 3,
     "metadata": {},
     "output_type": "execute_result"
    }
   ],
   "source": [
    "df_elec = pd.read_csv('elec.csv', parse_dates=['Date', 'DateHour'])\n",
    "df_elec.head()"
   ]
  },
  {
   "cell_type": "code",
   "execution_count": 4,
   "id": "5f7e11ec",
   "metadata": {},
   "outputs": [
    {
     "name": "stdout",
     "output_type": "stream",
     "text": [
      "<class 'pandas.core.frame.DataFrame'>\n",
      "RangeIndex: 24672 entries, 0 to 24671\n",
      "Data columns (total 4 columns):\n",
      "Date        24672 non-null datetime64[ns]\n",
      "DateHour    24672 non-null datetime64[ns]\n",
      "Minute      24672 non-null object\n",
      "Value       24672 non-null int64\n",
      "dtypes: datetime64[ns](2), int64(1), object(1)\n",
      "memory usage: 771.1+ KB\n"
     ]
    }
   ],
   "source": [
    "df_elec.info()"
   ]
  },
  {
   "cell_type": "code",
   "execution_count": 5,
   "id": "c42cf4c1",
   "metadata": {},
   "outputs": [
    {
     "data": {
      "text/html": [
       "<div>\n",
       "<style scoped>\n",
       "    .dataframe tbody tr th:only-of-type {\n",
       "        vertical-align: middle;\n",
       "    }\n",
       "\n",
       "    .dataframe tbody tr th {\n",
       "        vertical-align: top;\n",
       "    }\n",
       "\n",
       "    .dataframe thead th {\n",
       "        text-align: right;\n",
       "    }\n",
       "</style>\n",
       "<table border=\"1\" class=\"dataframe\">\n",
       "  <thead>\n",
       "    <tr style=\"text-align: right;\">\n",
       "      <th></th>\n",
       "      <th>count</th>\n",
       "      <th>mean</th>\n",
       "      <th>std</th>\n",
       "      <th>min</th>\n",
       "      <th>25%</th>\n",
       "      <th>50%</th>\n",
       "      <th>75%</th>\n",
       "      <th>max</th>\n",
       "    </tr>\n",
       "  </thead>\n",
       "  <tbody>\n",
       "    <tr>\n",
       "      <td>Value</td>\n",
       "      <td>24672.0</td>\n",
       "      <td>93.312459</td>\n",
       "      <td>58.032613</td>\n",
       "      <td>0.0</td>\n",
       "      <td>23.0</td>\n",
       "      <td>104.0</td>\n",
       "      <td>143.0</td>\n",
       "      <td>222.0</td>\n",
       "    </tr>\n",
       "  </tbody>\n",
       "</table>\n",
       "</div>"
      ],
      "text/plain": [
       "         count       mean        std  min   25%    50%    75%    max\n",
       "Value  24672.0  93.312459  58.032613  0.0  23.0  104.0  143.0  222.0"
      ]
     },
     "execution_count": 5,
     "metadata": {},
     "output_type": "execute_result"
    }
   ],
   "source": [
    "df_elec.select_dtypes('number').describe().T"
   ]
  },
  {
   "cell_type": "code",
   "execution_count": 6,
   "id": "640715f7",
   "metadata": {},
   "outputs": [
    {
     "data": {
      "text/html": [
       "<div>\n",
       "<style scoped>\n",
       "    .dataframe tbody tr th:only-of-type {\n",
       "        vertical-align: middle;\n",
       "    }\n",
       "\n",
       "    .dataframe tbody tr th {\n",
       "        vertical-align: top;\n",
       "    }\n",
       "\n",
       "    .dataframe thead th {\n",
       "        text-align: right;\n",
       "    }\n",
       "</style>\n",
       "<table border=\"1\" class=\"dataframe\">\n",
       "  <thead>\n",
       "    <tr style=\"text-align: right;\">\n",
       "      <th></th>\n",
       "      <th>Date</th>\n",
       "      <th>생산량</th>\n",
       "      <th>기온</th>\n",
       "      <th>풍속</th>\n",
       "      <th>습도</th>\n",
       "      <th>강수량</th>\n",
       "      <th>전기요금(계절)</th>\n",
       "      <th>공장인원</th>\n",
       "      <th>인건비</th>\n",
       "    </tr>\n",
       "  </thead>\n",
       "  <tbody>\n",
       "    <tr>\n",
       "      <td>0</td>\n",
       "      <td>2021-01-01 00:00:00</td>\n",
       "      <td>0</td>\n",
       "      <td>-3.2</td>\n",
       "      <td>2.4</td>\n",
       "      <td>71</td>\n",
       "      <td>0.0</td>\n",
       "      <td>109.8</td>\n",
       "      <td>0.000000</td>\n",
       "      <td>1.5</td>\n",
       "    </tr>\n",
       "    <tr>\n",
       "      <td>1</td>\n",
       "      <td>2021-01-01 01:00:00</td>\n",
       "      <td>0</td>\n",
       "      <td>-4.5</td>\n",
       "      <td>1.5</td>\n",
       "      <td>77</td>\n",
       "      <td>0.0</td>\n",
       "      <td>109.8</td>\n",
       "      <td>0.000000</td>\n",
       "      <td>1.5</td>\n",
       "    </tr>\n",
       "    <tr>\n",
       "      <td>2</td>\n",
       "      <td>2021-01-01 02:00:00</td>\n",
       "      <td>0</td>\n",
       "      <td>-3.9</td>\n",
       "      <td>2.6</td>\n",
       "      <td>58</td>\n",
       "      <td>0.0</td>\n",
       "      <td>109.8</td>\n",
       "      <td>0.000000</td>\n",
       "      <td>1.5</td>\n",
       "    </tr>\n",
       "    <tr>\n",
       "      <td>3</td>\n",
       "      <td>2021-01-01 03:00:00</td>\n",
       "      <td>0</td>\n",
       "      <td>-4.1</td>\n",
       "      <td>2.6</td>\n",
       "      <td>56</td>\n",
       "      <td>0.0</td>\n",
       "      <td>109.8</td>\n",
       "      <td>0.000000</td>\n",
       "      <td>1.5</td>\n",
       "    </tr>\n",
       "    <tr>\n",
       "      <td>4</td>\n",
       "      <td>2021-01-01 04:00:00</td>\n",
       "      <td>0</td>\n",
       "      <td>-4.6</td>\n",
       "      <td>2.6</td>\n",
       "      <td>60</td>\n",
       "      <td>0.0</td>\n",
       "      <td>109.8</td>\n",
       "      <td>0.000000</td>\n",
       "      <td>1.5</td>\n",
       "    </tr>\n",
       "    <tr>\n",
       "      <td>...</td>\n",
       "      <td>...</td>\n",
       "      <td>...</td>\n",
       "      <td>...</td>\n",
       "      <td>...</td>\n",
       "      <td>...</td>\n",
       "      <td>...</td>\n",
       "      <td>...</td>\n",
       "      <td>...</td>\n",
       "      <td>...</td>\n",
       "    </tr>\n",
       "    <tr>\n",
       "      <td>6163</td>\n",
       "      <td>2021-09-14 19:00:00</td>\n",
       "      <td>1497</td>\n",
       "      <td>21.7</td>\n",
       "      <td>3.6</td>\n",
       "      <td>85</td>\n",
       "      <td>9.4</td>\n",
       "      <td>167.2</td>\n",
       "      <td>2.442088</td>\n",
       "      <td>1.5</td>\n",
       "    </tr>\n",
       "    <tr>\n",
       "      <td>6164</td>\n",
       "      <td>2021-09-14 20:00:00</td>\n",
       "      <td>45</td>\n",
       "      <td>22.2</td>\n",
       "      <td>4.2</td>\n",
       "      <td>78</td>\n",
       "      <td>9.4</td>\n",
       "      <td>167.2</td>\n",
       "      <td>0.087891</td>\n",
       "      <td>1.5</td>\n",
       "    </tr>\n",
       "    <tr>\n",
       "      <td>6165</td>\n",
       "      <td>2021-09-14 21:00:00</td>\n",
       "      <td>149</td>\n",
       "      <td>22.2</td>\n",
       "      <td>4.3</td>\n",
       "      <td>76</td>\n",
       "      <td>9.4</td>\n",
       "      <td>167.2</td>\n",
       "      <td>0.290448</td>\n",
       "      <td>1.5</td>\n",
       "    </tr>\n",
       "    <tr>\n",
       "      <td>6166</td>\n",
       "      <td>2021-09-14 22:00:00</td>\n",
       "      <td>66</td>\n",
       "      <td>22.0</td>\n",
       "      <td>2.5</td>\n",
       "      <td>79</td>\n",
       "      <td>9.4</td>\n",
       "      <td>167.2</td>\n",
       "      <td>0.148984</td>\n",
       "      <td>1.5</td>\n",
       "    </tr>\n",
       "    <tr>\n",
       "      <td>6167</td>\n",
       "      <td>2021-09-14 23:00:00</td>\n",
       "      <td>405</td>\n",
       "      <td>22.0</td>\n",
       "      <td>2.5</td>\n",
       "      <td>79</td>\n",
       "      <td>9.4</td>\n",
       "      <td>167.2</td>\n",
       "      <td>0.922551</td>\n",
       "      <td>1.5</td>\n",
       "    </tr>\n",
       "  </tbody>\n",
       "</table>\n",
       "<p>6168 rows × 9 columns</p>\n",
       "</div>"
      ],
      "text/plain": [
       "                    Date   생산량    기온   풍속  습도  강수량  전기요금(계절)      공장인원  인건비\n",
       "0    2021-01-01 00:00:00     0  -3.2  2.4  71  0.0     109.8  0.000000  1.5\n",
       "1    2021-01-01 01:00:00     0  -4.5  1.5  77  0.0     109.8  0.000000  1.5\n",
       "2    2021-01-01 02:00:00     0  -3.9  2.6  58  0.0     109.8  0.000000  1.5\n",
       "3    2021-01-01 03:00:00     0  -4.1  2.6  56  0.0     109.8  0.000000  1.5\n",
       "4    2021-01-01 04:00:00     0  -4.6  2.6  60  0.0     109.8  0.000000  1.5\n",
       "...                  ...   ...   ...  ...  ..  ...       ...       ...  ...\n",
       "6163 2021-09-14 19:00:00  1497  21.7  3.6  85  9.4     167.2  2.442088  1.5\n",
       "6164 2021-09-14 20:00:00    45  22.2  4.2  78  9.4     167.2  0.087891  1.5\n",
       "6165 2021-09-14 21:00:00   149  22.2  4.3  76  9.4     167.2  0.290448  1.5\n",
       "6166 2021-09-14 22:00:00    66  22.0  2.5  79  9.4     167.2  0.148984  1.5\n",
       "6167 2021-09-14 23:00:00   405  22.0  2.5  79  9.4     167.2  0.922551  1.5\n",
       "\n",
       "[6168 rows x 9 columns]"
      ]
     },
     "execution_count": 6,
     "metadata": {},
     "output_type": "execute_result"
    }
   ],
   "source": [
    "df_info = pd.read_csv('info.csv')\n",
    "df_info['Date'] = pd.to_datetime(df_info['Date'])\n",
    "df_info"
   ]
  },
  {
   "cell_type": "code",
   "execution_count": 7,
   "id": "de79c417",
   "metadata": {},
   "outputs": [
    {
     "name": "stdout",
     "output_type": "stream",
     "text": [
      "<class 'pandas.core.frame.DataFrame'>\n",
      "RangeIndex: 6168 entries, 0 to 6167\n",
      "Data columns (total 9 columns):\n",
      "Date        6168 non-null datetime64[ns]\n",
      "생산량         6168 non-null int64\n",
      "기온          6168 non-null float64\n",
      "풍속          6165 non-null float64\n",
      "습도          6168 non-null int64\n",
      "강수량         6167 non-null float64\n",
      "전기요금(계절)    6168 non-null float64\n",
      "공장인원        6151 non-null float64\n",
      "인건비         6168 non-null float64\n",
      "dtypes: datetime64[ns](1), float64(6), int64(2)\n",
      "memory usage: 433.8 KB\n"
     ]
    }
   ],
   "source": [
    "df_info.info()"
   ]
  },
  {
   "cell_type": "code",
   "execution_count": 8,
   "id": "cf103d07",
   "metadata": {},
   "outputs": [
    {
     "data": {
      "text/html": [
       "<div>\n",
       "<style scoped>\n",
       "    .dataframe tbody tr th:only-of-type {\n",
       "        vertical-align: middle;\n",
       "    }\n",
       "\n",
       "    .dataframe tbody tr th {\n",
       "        vertical-align: top;\n",
       "    }\n",
       "\n",
       "    .dataframe thead th {\n",
       "        text-align: right;\n",
       "    }\n",
       "</style>\n",
       "<table border=\"1\" class=\"dataframe\">\n",
       "  <thead>\n",
       "    <tr style=\"text-align: right;\">\n",
       "      <th></th>\n",
       "      <th>count</th>\n",
       "      <th>mean</th>\n",
       "      <th>std</th>\n",
       "      <th>min</th>\n",
       "      <th>25%</th>\n",
       "      <th>50%</th>\n",
       "      <th>75%</th>\n",
       "      <th>max</th>\n",
       "    </tr>\n",
       "  </thead>\n",
       "  <tbody>\n",
       "    <tr>\n",
       "      <td>생산량</td>\n",
       "      <td>6168.0</td>\n",
       "      <td>467.344682</td>\n",
       "      <td>857.571815</td>\n",
       "      <td>0.0</td>\n",
       "      <td>0.0</td>\n",
       "      <td>45.000000</td>\n",
       "      <td>637.250000</td>\n",
       "      <td>9830.000000</td>\n",
       "    </tr>\n",
       "    <tr>\n",
       "      <td>기온</td>\n",
       "      <td>6168.0</td>\n",
       "      <td>15.906064</td>\n",
       "      <td>9.160356</td>\n",
       "      <td>-12.0</td>\n",
       "      <td>9.6</td>\n",
       "      <td>17.400000</td>\n",
       "      <td>23.300000</td>\n",
       "      <td>33.400000</td>\n",
       "    </tr>\n",
       "    <tr>\n",
       "      <td>풍속</td>\n",
       "      <td>6165.0</td>\n",
       "      <td>2.063633</td>\n",
       "      <td>1.164118</td>\n",
       "      <td>0.0</td>\n",
       "      <td>1.2</td>\n",
       "      <td>1.900000</td>\n",
       "      <td>2.800000</td>\n",
       "      <td>7.600000</td>\n",
       "    </tr>\n",
       "    <tr>\n",
       "      <td>습도</td>\n",
       "      <td>6168.0</td>\n",
       "      <td>70.098735</td>\n",
       "      <td>22.996164</td>\n",
       "      <td>8.0</td>\n",
       "      <td>53.0</td>\n",
       "      <td>74.000000</td>\n",
       "      <td>91.000000</td>\n",
       "      <td>98.000000</td>\n",
       "    </tr>\n",
       "    <tr>\n",
       "      <td>강수량</td>\n",
       "      <td>6167.0</td>\n",
       "      <td>2.244252</td>\n",
       "      <td>9.613491</td>\n",
       "      <td>0.0</td>\n",
       "      <td>0.0</td>\n",
       "      <td>0.000000</td>\n",
       "      <td>0.100000</td>\n",
       "      <td>122.400000</td>\n",
       "    </tr>\n",
       "    <tr>\n",
       "      <td>전기요금(계절)</td>\n",
       "      <td>6168.0</td>\n",
       "      <td>162.757198</td>\n",
       "      <td>30.820855</td>\n",
       "      <td>109.8</td>\n",
       "      <td>167.2</td>\n",
       "      <td>167.200000</td>\n",
       "      <td>191.600000</td>\n",
       "      <td>191.600000</td>\n",
       "    </tr>\n",
       "    <tr>\n",
       "      <td>공장인원</td>\n",
       "      <td>6151.0</td>\n",
       "      <td>0.901336</td>\n",
       "      <td>1.985511</td>\n",
       "      <td>0.0</td>\n",
       "      <td>0.0</td>\n",
       "      <td>0.112971</td>\n",
       "      <td>1.162285</td>\n",
       "      <td>48.386364</td>\n",
       "    </tr>\n",
       "    <tr>\n",
       "      <td>인건비</td>\n",
       "      <td>6168.0</td>\n",
       "      <td>1.313959</td>\n",
       "      <td>0.241700</td>\n",
       "      <td>1.0</td>\n",
       "      <td>1.0</td>\n",
       "      <td>1.500000</td>\n",
       "      <td>1.500000</td>\n",
       "      <td>1.500000</td>\n",
       "    </tr>\n",
       "  </tbody>\n",
       "</table>\n",
       "</div>"
      ],
      "text/plain": [
       "           count        mean         std    min    25%         50%  \\\n",
       "생산량       6168.0  467.344682  857.571815    0.0    0.0   45.000000   \n",
       "기온        6168.0   15.906064    9.160356  -12.0    9.6   17.400000   \n",
       "풍속        6165.0    2.063633    1.164118    0.0    1.2    1.900000   \n",
       "습도        6168.0   70.098735   22.996164    8.0   53.0   74.000000   \n",
       "강수량       6167.0    2.244252    9.613491    0.0    0.0    0.000000   \n",
       "전기요금(계절)  6168.0  162.757198   30.820855  109.8  167.2  167.200000   \n",
       "공장인원      6151.0    0.901336    1.985511    0.0    0.0    0.112971   \n",
       "인건비       6168.0    1.313959    0.241700    1.0    1.0    1.500000   \n",
       "\n",
       "                 75%          max  \n",
       "생산량       637.250000  9830.000000  \n",
       "기온         23.300000    33.400000  \n",
       "풍속          2.800000     7.600000  \n",
       "습도         91.000000    98.000000  \n",
       "강수량         0.100000   122.400000  \n",
       "전기요금(계절)  191.600000   191.600000  \n",
       "공장인원        1.162285    48.386364  \n",
       "인건비         1.500000     1.500000  "
      ]
     },
     "execution_count": 8,
     "metadata": {},
     "output_type": "execute_result"
    }
   ],
   "source": [
    "df_info.select_dtypes('number').describe().T"
   ]
  },
  {
   "cell_type": "markdown",
   "id": "09e1a1a4",
   "metadata": {},
   "source": [
    "# 전처리(Preprocessing)\n",
    "\n",
    "데이터를 분석하기 위하여 다음에 안내된 순서대로 데이터를 가공 (pre-processing) 하시오. (순서대로 전처리 수행)\n",
    "\n",
    "## 단계 1 \n",
    "\n",
    "데이터셋 elec를 이용하여 다음 그림과 같이 재구성하시오.\n",
    "\n",
    "\n",
    " ̵ 최대수요전력 (Value)을 시간당 15분 간격으로 관측하여 얻은 4번의 결과 \n",
    " \n",
    " ̵ DateHour 변수 기준으로 시간당 한 행에 4번 측정결과가 나오도록 재구성함.\n",
    " \n",
    " ̵ 재구성된 데이터셋은 elec1로 표기(6,168 rows, 5 columns)\n",
    "\n",
    "|DateHour|15분|30분|45분|60분|\n",
    "|--------|----|----|----|----|\n",
    "|2021-01-01 00:00:00|62|61|61|61|\n",
    "|2021-01-01 01:00:00|96|93|116|113|\n",
    "|2021-01-01 02:00:00|106|96|106|107|\n",
    "|2021-01-01 03:00:00|92|110|110|109|\n",
    "|2021-01-01 04:00:00|108|105|106|108|"
   ]
  },
  {
   "cell_type": "code",
   "execution_count": 9,
   "id": "900e653b",
   "metadata": {},
   "outputs": [
    {
     "data": {
      "text/plain": [
       "Minute\n",
       "15분    0\n",
       "30분    0\n",
       "45분    0\n",
       "60분    0\n",
       "dtype: int64"
      ]
     },
     "execution_count": 9,
     "metadata": {},
     "output_type": "execute_result"
    }
   ],
   "source": [
    "# DateHour와 Minute로 교차시켰을 때, 여러 개의 행이 존재할 지 체크합니다.\n",
    "np.sum(pd.crosstab(index=df_elec['DateHour'], columns=df_elec['Minute'], values=df_elec['Value'], aggfunc='count')!=1)"
   ]
  },
  {
   "cell_type": "code",
   "execution_count": 10,
   "id": "ce14aea9",
   "metadata": {},
   "outputs": [
    {
     "data": {
      "text/plain": [
       "(6168, 4)"
      ]
     },
     "execution_count": 10,
     "metadata": {},
     "output_type": "execute_result"
    }
   ],
   "source": [
    "# 중복이 없을 경우 pivot으로도 처리 가능 합니다.\n",
    "df_elec1 = df_elec.pivot(index='DateHour', columns='Minute', values='Value')\n",
    "#df_elec1 = pd.crosstab(index=df_elec['DateHour'], columns=df_elec['Minute'], values=df_elec['Value'], aggfunc='max')\n",
    "#df_elec.set_index(['DateHour', 'Minute'])['Value'].unstack()\n",
    "df_elec1.shape"
   ]
  },
  {
   "cell_type": "markdown",
   "id": "531466c2",
   "metadata": {},
   "source": [
    "## 단계 2\n",
    "\n",
    "데이터셋 elec1의 DateHour 변수를 이용하여 아래의 파생변수를 생성한다.\n",
    "\n",
    "̵ 요일명(DayName): DateHour 변수에서 요일명을 숫자로 추출, 0(월)~6(일)으로 반환\n",
    "\n",
    "̵ 시간(Hour): DateHour 변수에서 시간 추출\n",
    "\n",
    "̵ 오전/오후(AM): 생성한 시간(Hour) 변수를 기준으로 \n",
    "\n",
    " 12시 전( < 12:00)은 오전(0), 이후(>= 12:00)는 오후(1)로 표기, 이때 표기는 숫자 0, 1로 표기\n",
    " \n",
    "̵ 주말유무(Weekend_yn): 생성한 요일명(DayName) 변수를 이용하여 5,6이면 1(주말), 그외는 0(평일) 로 표기\n",
    "\n",
    "̵ 공휴일(Holiday_yn): 다음은 공휴일 목록임\n",
    "\n",
    "  [\"2021-01-01\", \"2021-02-11\", \"2021-02-12\", \"2021-03-01\", \"2021-05-05\", \"2021-05-19\", \"2021-08-16\"], \n",
    "\n",
    "  목록에 해당하면 1, 아니면 0로 표기한다. DateHour의 일자를 기준으로 판별한다.\n",
    " \n",
    "̵ 최대수요전력 평균(Avg): 시간당 15분 간격(15분, 30분, 45분, 60분)으로 측정한 최대수요전력 (Value)의 평균값\n",
    "\n",
    "̵ 최대수요전력 합계(TotalHour): 시간당 15분 간격(15분, 30분, 45분, 60분)으로 측정한 최대수요전력 (Value)의 총합"
   ]
  },
  {
   "cell_type": "code",
   "execution_count": 11,
   "id": "173be3fd",
   "metadata": {},
   "outputs": [
    {
     "data": {
      "text/html": [
       "<div>\n",
       "<style scoped>\n",
       "    .dataframe tbody tr th:only-of-type {\n",
       "        vertical-align: middle;\n",
       "    }\n",
       "\n",
       "    .dataframe tbody tr th {\n",
       "        vertical-align: top;\n",
       "    }\n",
       "\n",
       "    .dataframe thead th {\n",
       "        text-align: right;\n",
       "    }\n",
       "</style>\n",
       "<table border=\"1\" class=\"dataframe\">\n",
       "  <thead>\n",
       "    <tr style=\"text-align: right;\">\n",
       "      <th>Minute</th>\n",
       "      <th>15분</th>\n",
       "      <th>30분</th>\n",
       "      <th>45분</th>\n",
       "      <th>60분</th>\n",
       "      <th>DayName</th>\n",
       "      <th>Hour</th>\n",
       "      <th>AM</th>\n",
       "      <th>Weekend_yn</th>\n",
       "      <th>Holiday_yn</th>\n",
       "      <th>Avg</th>\n",
       "      <th>TotalHour</th>\n",
       "    </tr>\n",
       "    <tr>\n",
       "      <th>DateHour</th>\n",
       "      <th></th>\n",
       "      <th></th>\n",
       "      <th></th>\n",
       "      <th></th>\n",
       "      <th></th>\n",
       "      <th></th>\n",
       "      <th></th>\n",
       "      <th></th>\n",
       "      <th></th>\n",
       "      <th></th>\n",
       "      <th></th>\n",
       "    </tr>\n",
       "  </thead>\n",
       "  <tbody>\n",
       "    <tr>\n",
       "      <td>2021-01-01 00:00:00</td>\n",
       "      <td>62</td>\n",
       "      <td>61</td>\n",
       "      <td>61</td>\n",
       "      <td>61</td>\n",
       "      <td>4</td>\n",
       "      <td>0</td>\n",
       "      <td>0</td>\n",
       "      <td>0</td>\n",
       "      <td>1</td>\n",
       "      <td>61.25</td>\n",
       "      <td>245</td>\n",
       "    </tr>\n",
       "    <tr>\n",
       "      <td>2021-01-01 01:00:00</td>\n",
       "      <td>96</td>\n",
       "      <td>93</td>\n",
       "      <td>116</td>\n",
       "      <td>113</td>\n",
       "      <td>4</td>\n",
       "      <td>1</td>\n",
       "      <td>0</td>\n",
       "      <td>0</td>\n",
       "      <td>1</td>\n",
       "      <td>104.50</td>\n",
       "      <td>418</td>\n",
       "    </tr>\n",
       "    <tr>\n",
       "      <td>2021-01-01 02:00:00</td>\n",
       "      <td>106</td>\n",
       "      <td>96</td>\n",
       "      <td>106</td>\n",
       "      <td>107</td>\n",
       "      <td>4</td>\n",
       "      <td>2</td>\n",
       "      <td>0</td>\n",
       "      <td>0</td>\n",
       "      <td>1</td>\n",
       "      <td>103.75</td>\n",
       "      <td>415</td>\n",
       "    </tr>\n",
       "    <tr>\n",
       "      <td>2021-01-01 03:00:00</td>\n",
       "      <td>92</td>\n",
       "      <td>110</td>\n",
       "      <td>110</td>\n",
       "      <td>109</td>\n",
       "      <td>4</td>\n",
       "      <td>3</td>\n",
       "      <td>0</td>\n",
       "      <td>0</td>\n",
       "      <td>1</td>\n",
       "      <td>105.25</td>\n",
       "      <td>421</td>\n",
       "    </tr>\n",
       "    <tr>\n",
       "      <td>2021-01-01 04:00:00</td>\n",
       "      <td>108</td>\n",
       "      <td>105</td>\n",
       "      <td>106</td>\n",
       "      <td>108</td>\n",
       "      <td>4</td>\n",
       "      <td>4</td>\n",
       "      <td>0</td>\n",
       "      <td>0</td>\n",
       "      <td>1</td>\n",
       "      <td>106.75</td>\n",
       "      <td>427</td>\n",
       "    </tr>\n",
       "  </tbody>\n",
       "</table>\n",
       "</div>"
      ],
      "text/plain": [
       "Minute               15분  30분  45분  60분  DayName  Hour  AM  Weekend_yn  \\\n",
       "DateHour                                                                 \n",
       "2021-01-01 00:00:00   62   61   61   61        4     0   0           0   \n",
       "2021-01-01 01:00:00   96   93  116  113        4     1   0           0   \n",
       "2021-01-01 02:00:00  106   96  106  107        4     2   0           0   \n",
       "2021-01-01 03:00:00   92  110  110  109        4     3   0           0   \n",
       "2021-01-01 04:00:00  108  105  106  108        4     4   0           0   \n",
       "\n",
       "Minute               Holiday_yn     Avg  TotalHour  \n",
       "DateHour                                            \n",
       "2021-01-01 00:00:00           1   61.25        245  \n",
       "2021-01-01 01:00:00           1  104.50        418  \n",
       "2021-01-01 02:00:00           1  103.75        415  \n",
       "2021-01-01 03:00:00           1  105.25        421  \n",
       "2021-01-01 04:00:00           1  106.75        427  "
      ]
     },
     "execution_count": 11,
     "metadata": {},
     "output_type": "execute_result"
    }
   ],
   "source": [
    "holidays = pd.to_datetime([\"2021-01-01\", \"2021-02-11\", \"2021-02-12\", \"2021-03-01\", \"2021-05-05\", \"2021-05-19\", \"2021-08-16\"])\n",
    "min_cols = ['15분', '30분', '45분', '60분']\n",
    "df_elec1 = df_elec1.assign(\n",
    "    DayName = df_elec1.index.weekday,\n",
    "    Hour = df_elec1.index.hour,\n",
    "    AM = (df_elec1.index.hour >= 12).astype('int8'),\n",
    "    Weekend_yn = df_elec1.index.weekday.isin({5, 6}).astype('int8'),\n",
    "    Holiday_yn = np.isin(df_elec1.index.date, holidays.date).astype('int8'), # Date형식으로 비교하여 값을 뽑아냅니다.\n",
    "    Avg = df_elec1[min_cols].apply('mean', axis=1),\n",
    "    TotalHour = df_elec1[min_cols].apply('sum', axis=1)\n",
    ")\n",
    "df_elec1.head()"
   ]
  },
  {
   "cell_type": "markdown",
   "id": "d0c60eca",
   "metadata": {},
   "source": [
    "## 단계 3\n",
    "    \n",
    "info데이터셋에 결측치가 존재한다. 이 때 발생된 결측치들은 0으로 변경하시오. \n",
    "\n",
    "- 풍속, 강수량은 바람이 불지 않는 경우, 비가 오지 않는 경우 기록되지 않는 경우가 존재함, 이는 0의 의미임\n",
    "\n",
    "- 공장인원의 경우 생산량이 없다던가 인력이 필요하지 않은 경우 기록되지 않는 경우가 존재함, 이는 0의 의미임\n",
    "\n",
    "- 결측치를 처리한 후 데이터셋명은 info1로 표기함\n"
   ]
  },
  {
   "cell_type": "code",
   "execution_count": 12,
   "id": "82c74ecd",
   "metadata": {},
   "outputs": [
    {
     "data": {
      "text/plain": [
       "Date        0\n",
       "생산량         0\n",
       "기온          0\n",
       "풍속          0\n",
       "습도          0\n",
       "강수량         0\n",
       "전기요금(계절)    0\n",
       "공장인원        0\n",
       "인건비         0\n",
       "dtype: int64"
      ]
     },
     "execution_count": 12,
     "metadata": {},
     "output_type": "execute_result"
    }
   ],
   "source": [
    "df_info1 = df_info.fillna(0)\n",
    "df_info1.isna().sum()"
   ]
  },
  {
   "cell_type": "markdown",
   "id": "8a21d0df",
   "metadata": {},
   "source": [
    "## 단계 4\n",
    "\n",
    "elec1와 info1 데이터프레임을 결합하시오. \n",
    "\n",
    "결합 시 elec1데이터셋 에서는 DateHour 변수, info1데이터셋 에서는 Date 변수를 기준으로 inner join하시오.\n",
    "\n",
    "\n",
    "- elec1 데이터셋에 info1을 데이터셋 결합\n",
    " \n",
    "- 결합 방식: inner join, elec1.DateHour == info1.Date\n",
    " \n",
    "- 결합 후 Date와 DateHour 같다. 두 변수를 이름을 DateHour 하여 하나만 남긴다.\n",
    " \n",
    "- 결합 후 생성된 데이터셋명 basetable1로 표기(6,168 rows, 20 columns)\n"
   ]
  },
  {
   "cell_type": "code",
   "execution_count": 13,
   "id": "0b8d91f0",
   "metadata": {},
   "outputs": [
    {
     "data": {
      "text/plain": [
       "(6168, 19)"
      ]
     },
     "execution_count": 13,
     "metadata": {},
     "output_type": "execute_result"
    }
   ],
   "source": [
    "# 방법1: merge: 붙이고자 하는 데이터프레임의 컬럼을 기준으로 붙입니다.\n",
    "df_basetable1 = df_elec1.merge(df_info1, left_on='DateHour', right_on='Date', how='inner')\\\n",
    "        .rename(columns={'Date': 'DateHour'}).set_index('DateHour').copy()\n",
    "df_basetable1.shape"
   ]
  },
  {
   "cell_type": "code",
   "execution_count": 14,
   "id": "02160398",
   "metadata": {},
   "outputs": [
    {
     "data": {
      "text/plain": [
       "(6168, 19)"
      ]
     },
     "execution_count": 14,
     "metadata": {},
     "output_type": "execute_result"
    }
   ],
   "source": [
    "# 방법2: join: 붙이고자 하는 데이터프레임의 인덱스를 기준으로 붙입니다.\n",
    "df_basetable1 = df_elec1.join(df_info1.set_index('Date'), how='inner').copy()\n",
    "df_basetable1.shape"
   ]
  },
  {
   "cell_type": "markdown",
   "id": "726dc919",
   "metadata": {},
   "source": [
    "\n",
    "# 문제 1\n",
    "\n",
    "basetable1을 이용하여 다음 질문에 답하시오."
   ]
  },
  {
   "cell_type": "markdown",
   "id": "c64e1b58",
   "metadata": {},
   "source": [
    "## 단계 1-1\n",
    "\n",
    "시간당 최대수요전력 합계(TotalHour)의 최대값과 최소값이 차이를 구하고, 이 값을 A라고 한다."
   ]
  },
  {
   "cell_type": "code",
   "execution_count": 15,
   "id": "0127985e",
   "metadata": {},
   "outputs": [
    {
     "data": {
      "text/plain": [
       "(830, 0, 830)"
      ]
     },
     "execution_count": 15,
     "metadata": {},
     "output_type": "execute_result"
    }
   ],
   "source": [
    "mx, mn = df_basetable1['TotalHour'].agg(['max', 'min'])\n",
    "A = mx - mn\n",
    "mx, mn, A"
   ]
  },
  {
   "cell_type": "markdown",
   "id": "71ca7995",
   "metadata": {},
   "source": [
    "## 단계 1-2 \n",
    "\n",
    "일별로 시간당 최대수요전력 합계(TotalHour)의 최대값을 찾고 최대치가 빈번하게 발생하는 시간을 찾고자 한다.\n",
    "\n",
    "일별로 최대수요전력 합계(TotalHour)의 최대값이 첫 번째로 빈번하게 발생하는 시간(Hour)을 B, \n",
    "\n",
    "두 번째로 빈번하게 발생하는 시간(Hour)을 C라고 한다. \n",
    "\n",
    "하루에 최대값에 해당하는 시간(Hour)이 여러 번 나올 수 있음을 고려하라."
   ]
  },
  {
   "cell_type": "code",
   "execution_count": 16,
   "id": "06b532f2",
   "metadata": {},
   "outputs": [
    {
     "data": {
      "text/plain": [
       "8     57\n",
       "11    48\n",
       "13    31\n",
       "9     28\n",
       "4     26\n",
       "Name: Hour, dtype: int64"
      ]
     },
     "execution_count": 16,
     "metadata": {},
     "output_type": "execute_result"
    }
   ],
   "source": [
    "# 일자별 최대수요전력값에 해당하는 행들을 불리언(Boolean) 인덱스를 구하여 뽑아내고\n",
    "# 해당 행들의 시간을 카운트하여\n",
    "# 답을 도출합니다.\n",
    "df_basetable1.loc[df_basetable1.groupby(df_basetable1.index.date)['TotalHour']\\\n",
    "                  .transform(lambda x: x == x.max()), 'Hour']\\\n",
    "                  .value_counts().head(5)"
   ]
  },
  {
   "cell_type": "code",
   "execution_count": 17,
   "id": "cc8a83a7",
   "metadata": {},
   "outputs": [
    {
     "data": {
      "text/plain": [
       "(8, 11)"
      ]
     },
     "execution_count": 17,
     "metadata": {},
     "output_type": "execute_result"
    }
   ],
   "source": [
    "B, C = 8, 11\n",
    "B, C"
   ]
  },
  {
   "cell_type": "markdown",
   "id": "ba549b1d",
   "metadata": {},
   "source": [
    "## 단계 1-3\n",
    "\n",
    "일별 기준(DateHour 변수 사용)으로 시간당 최대수요전력 합계(TotalHour) 의 범위(최대값-최소값)가 가장 큰 값을 찾고 \n",
    "\n",
    "이 값을 D라고 한다."
   ]
  },
  {
   "cell_type": "code",
   "execution_count": 18,
   "id": "d20754b6",
   "metadata": {},
   "outputs": [
    {
     "data": {
      "text/plain": [
       "706"
      ]
     },
     "execution_count": 18,
     "metadata": {},
     "output_type": "execute_result"
    }
   ],
   "source": [
    "D = df_basetable1.groupby(df_basetable1.index.date)['TotalHour'].agg(lambda x: x.max() - x.min()).max()\n",
    "D"
   ]
  },
  {
   "cell_type": "markdown",
   "id": "2afb00d6",
   "metadata": {},
   "source": [
    "## 단계 1-4\n",
    "\n",
    "공휴일과 주말을 제외한 평일 데이터만 추출을 한 후, \n",
    "\n",
    "일별 기준으로 시간당 최대수요전력 합계(TotalHour)의 범위(최대값-최소값)가 가장 큰 일자의 요일명(DayName)을 E라고 한다.\n",
    "\n"
   ]
  },
  {
   "cell_type": "code",
   "execution_count": 19,
   "id": "e7755a11",
   "metadata": {},
   "outputs": [
    {
     "data": {
      "text/plain": [
       "0"
      ]
     },
     "execution_count": 19,
     "metadata": {},
     "output_type": "execute_result"
    }
   ],
   "source": [
    "df_tmp = df_basetable1.loc[~df_basetable1[['Weekend_yn', 'Holiday_yn']].any(axis=1)]\n",
    "E = df_tmp.groupby(df_tmp.index.date)['TotalHour'].agg(lambda x: x.max() - x.min()).idxmax().weekday()\n",
    "E"
   ]
  },
  {
   "cell_type": "code",
   "execution_count": 20,
   "id": "37777ab9",
   "metadata": {},
   "outputs": [
    {
     "data": {
      "text/plain": [
       "datetime.date(2021, 7, 19)"
      ]
     },
     "execution_count": 20,
     "metadata": {},
     "output_type": "execute_result"
    }
   ],
   "source": [
    "# Series를 groupby에 직접 넣을 때는, 해당 데이터프레임의 Index에 맞춰 작동합니다. \n",
    "# 의도에 맞게 작동하는지 확인하기 위해 Index를 확인해야 합니다.\n",
    "df_tmp.reset_index().groupby(df_tmp.reset_index()['DateHour'].dt.date)['TotalHour']\\\n",
    "    .agg(lambda x: x.max() - x.min()).idxmax()"
   ]
  },
  {
   "cell_type": "code",
   "execution_count": 21,
   "id": "e99080fd",
   "metadata": {},
   "outputs": [
    {
     "data": {
      "text/plain": [
       "datetime.date(2021, 7, 19)"
      ]
     },
     "execution_count": 21,
     "metadata": {},
     "output_type": "execute_result"
    }
   ],
   "source": [
    "# numpy array를 사용한다면, DataFrame의 순서에 대응해서 동작하게 됩니다.\n",
    "df_tmp.groupby(df_tmp.reset_index()['DateHour'].dt.date.values)['TotalHour']\\\n",
    "    .agg(lambda x: x.max() - x.min()).idxmax()"
   ]
  },
  {
   "cell_type": "code",
   "execution_count": 22,
   "id": "a1f5b3e3",
   "metadata": {},
   "outputs": [
    {
     "data": {
      "text/plain": [
       "(830, 8, 11, 706, 0, 1555)"
      ]
     },
     "execution_count": 22,
     "metadata": {},
     "output_type": "execute_result"
    }
   ],
   "source": [
    "A, B, C, D, E, A + B + C + D + E"
   ]
  },
  {
   "cell_type": "markdown",
   "id": "4dab0b7c",
   "metadata": {},
   "source": [
    "A + B + C + D + E를 적으시오.\n",
    "\n",
    "**1555**"
   ]
  },
  {
   "cell_type": "markdown",
   "id": "13fe3635",
   "metadata": {},
   "source": [
    "# 문제 2\n",
    "\n",
    "최대수요전력 평균(Avg) 값이 오전/오후에 따라 차이가 있는지 검정하시오."
   ]
  },
  {
   "cell_type": "code",
   "execution_count": null,
   "id": "8bf5aa28",
   "metadata": {},
   "outputs": [],
   "source": []
  },
  {
   "cell_type": "markdown",
   "id": "65eef818",
   "metadata": {},
   "source": [
    "##  단계 2-1\n",
    "\n",
    "basetable1 에서 공휴일과 주말을 제외하고 prob2 데이터프레임을 만든다. \n",
    "\n",
    "- prob2에서 시간(Hour)이 8과 11사이 (8, 11 포함) 또는 13과 16 (13, 16 포함) 사이의 행들만 남긴다.\n",
    "\n",
    "- prob2에서 Avg가 130이상인 행들만을 남긴다.\n",
    "\n",
    "Hint] 최종 1233개 행만 남는다.\n"
   ]
  },
  {
   "cell_type": "code",
   "execution_count": 23,
   "id": "61bc3749",
   "metadata": {},
   "outputs": [
    {
     "data": {
      "text/plain": [
       "(1233, 19)"
      ]
     },
     "execution_count": 23,
     "metadata": {},
     "output_type": "execute_result"
    }
   ],
   "source": [
    "# any 메소드는 하나라도 True이면 True를 반환합니다. \n",
    "df_prob2 = df_basetable1.loc[~df_basetable1[['Weekend_yn', 'Holiday_yn']].any(axis=1)].copy()\n",
    "# between을 활용하여 좀 더 간단히 구현하여, 실수의 가능성을 줄였습니다.\n",
    "df_prob2 = df_prob2.loc[df_prob2['Hour'].between(8, 11, inclusive=True) | \n",
    "             df_prob2['Hour'].between(13, 16, inclusive=True)].query('Avg >= 130').copy()\n",
    "df_prob2.shape"
   ]
  },
  {
   "cell_type": "markdown",
   "id": "3f2affb9",
   "metadata": {},
   "source": [
    "## 단계 2-2\n",
    "\n",
    "오전(AM = 0) 인 행들을 대상으로 Avg에 대하여 Shapiro-Wilk 검정을 사용하여 정규성 검정한다. \n",
    "\n",
    "검정 결과에서 p-value를 A라고 한다.\n",
    "\n",
    "Hint] scipy.stats.shapiro\n"
   ]
  },
  {
   "cell_type": "code",
   "execution_count": 24,
   "id": "c232de66",
   "metadata": {},
   "outputs": [
    {
     "data": {
      "text/plain": [
       "(ShapiroResult(statistic=0.9945228695869446, pvalue=0.026428762823343277),\n",
       " 0.026428762823343277)"
      ]
     },
     "execution_count": 24,
     "metadata": {},
     "output_type": "execute_result"
    }
   ],
   "source": [
    "from scipy.stats import shapiro\n",
    "result_2_2 = shapiro(df_prob2.query('AM == 0')['Avg'])\n",
    "A = result_2_2.pvalue\n",
    "result_2_2, A"
   ]
  },
  {
   "cell_type": "markdown",
   "id": "db911fc0",
   "metadata": {},
   "source": [
    "## 단계 2-3\n",
    "\n",
    "오후(AM = 1) 인 행들을 대상으로 Avg에 대하여 Shapiro-Wilk 검정을 사용하여 정규성 검정한다. \n",
    "\n",
    "검정 결과에서 p-value를 B라고 한다."
   ]
  },
  {
   "cell_type": "code",
   "execution_count": 25,
   "id": "bfb189f7",
   "metadata": {},
   "outputs": [
    {
     "data": {
      "text/plain": [
       "(ShapiroResult(statistic=0.9945228695869446, pvalue=0.026428762823343277),\n",
       " 0.043661389499902725)"
      ]
     },
     "execution_count": 25,
     "metadata": {},
     "output_type": "execute_result"
    }
   ],
   "source": [
    "result_2_3 = shapiro(df_prob2.query('AM == 1')['Avg'])\n",
    "B = result_2_3.pvalue\n",
    "result_2_2, B"
   ]
  },
  {
   "cell_type": "markdown",
   "id": "307f96f6",
   "metadata": {},
   "source": [
    "## 단계 2-4\n",
    "\n",
    "오전/오후에 따라 Avg의 모평균에 차이가 있는지 검정을 한다.\n",
    "\n",
    "검정 방법은 T-검정을 사용하며, Bartlett 검정을 하고 결과를 T-검정 시 반영한다(유의 수준 5%). \n",
    "\n",
    "검정 결과에서 검정통계량의 절대값을 C라고 한다.\n",
    "\n",
    "Hint] scipy.stats.ttest_ind, \n",
    "\n",
    "scipy.stats.bartlett\n"
   ]
  },
  {
   "cell_type": "code",
   "execution_count": 26,
   "id": "a419ed7d",
   "metadata": {},
   "outputs": [
    {
     "data": {
      "text/plain": [
       "(BartlettResult(statistic=0.1500142357781029, pvalue=0.6985217544572233), True)"
      ]
     },
     "execution_count": 26,
     "metadata": {},
     "output_type": "execute_result"
    }
   ],
   "source": [
    "from scipy.stats import bartlett\n",
    "# 등분산 검정을 하여 t-검정시 등분산 여부를 결정합니다.\n",
    "result_bart = bartlett(\n",
    "    df_prob2.query('AM == 0')['Avg'],\n",
    "    df_prob2.query('AM == 1')['Avg']\n",
    ")\n",
    "equal_var = result_bart.pvalue >= 0.05\n",
    "result_bart, equal_var"
   ]
  },
  {
   "cell_type": "code",
   "execution_count": 27,
   "id": "78505379",
   "metadata": {},
   "outputs": [
    {
     "data": {
      "text/plain": [
       "(Ttest_indResult(statistic=8.27772409322812, pvalue=3.2348808563995005e-16),\n",
       " 8.27772409322812)"
      ]
     },
     "execution_count": 27,
     "metadata": {},
     "output_type": "execute_result"
    }
   ],
   "source": [
    "from scipy.stats import ttest_ind\n",
    "result_2_4 = ttest_ind(\n",
    "    df_prob2.query('AM == 0')['Avg'],\n",
    "    df_prob2.query('AM == 1')['Avg'],\n",
    "    equal_var=equal_var # bartlett 검정의 결과를 반영합니다.\n",
    ")\n",
    "C = abs(result_2_4.statistic)\n",
    "result_2_4, C"
   ]
  },
  {
   "cell_type": "markdown",
   "id": "9cea2f72",
   "metadata": {},
   "source": [
    "## 단계 2-5\n",
    "\n",
    "단계 2-2와 2-3의 검정 결과를 바탕으로, 단계 2-4의 T-검정의 가정을 만족한다면 D 값을 1 아니면 0으로 한다. (유의 수준을 5%)"
   ]
  },
  {
   "cell_type": "code",
   "execution_count": 28,
   "id": "a5190550",
   "metadata": {},
   "outputs": [],
   "source": [
    "D = 0"
   ]
  },
  {
   "cell_type": "markdown",
   "id": "5da4f1ee",
   "metadata": {},
   "source": [
    "## 단계 2-6\n",
    "\n",
    "오전/오후에 따라 Avg를 구분하여 Mann-Whiteny U 검정을 하라. 검정 결과 검정통계량을 E값으로 한다.\n",
    "\n",
    "Hint] scipy.stats.mannwhitneyu, alternative='two-sided', 매개 변수 순서는 오전 Avg를 우선으로 한다."
   ]
  },
  {
   "cell_type": "code",
   "execution_count": 29,
   "id": "9ec1b4d2",
   "metadata": {},
   "outputs": [
    {
     "data": {
      "text/plain": [
       "(MannwhitneyuResult(statistic=239777.5, pvalue=1.7651446950415425e-15),\n",
       " 239777.5)"
      ]
     },
     "execution_count": 29,
     "metadata": {},
     "output_type": "execute_result"
    }
   ],
   "source": [
    "from scipy.stats import mannwhitneyu\n",
    "result_2_6 = mannwhitneyu(\n",
    "    df_prob2.query('AM == 0')['Avg'],\n",
    "    df_prob2.query('AM == 1')['Avg'],\n",
    "    alternative = 'two-sided'\n",
    ")\n",
    "E = result_2_6.statistic\n",
    "result_2_6, E"
   ]
  },
  {
   "cell_type": "code",
   "execution_count": 30,
   "id": "85797950",
   "metadata": {},
   "outputs": [
    {
     "data": {
      "text/plain": [
       "MannwhitneyuResult(statistic=140292.5, pvalue=1.7651446950415425e-15)"
      ]
     },
     "execution_count": 30,
     "metadata": {},
     "output_type": "execute_result"
    }
   ],
   "source": [
    "from scipy.stats import mannwhitneyu\n",
    "# 두 입력 변수의 순서에도 영향이 있습니다\n",
    "result_2_6_1 = mannwhitneyu(\n",
    "    df_prob2.query('AM == 1')['Avg'],\n",
    "    df_prob2.query('AM == 0')['Avg'],\n",
    "    alternative = 'two-sided'\n",
    ")\n",
    "result_2_6_1"
   ]
  },
  {
   "cell_type": "code",
   "execution_count": 31,
   "id": "9217546b",
   "metadata": {},
   "outputs": [
    {
     "data": {
      "text/plain": [
       "(MannwhitneyuResult(statistic=140292.5, pvalue=8.825723475207712e-16),\n",
       " 1.7651446950415425e-15)"
      ]
     },
     "execution_count": 31,
     "metadata": {},
     "output_type": "execute_result"
    }
   ],
   "source": [
    "from scipy.stats import mannwhitneyu\n",
    "# None일 때와 statistic이 같고, pvalue는 default일 때는 반이 되는 것이 확인됐습니다.\n",
    "result_2_6_2 = mannwhitneyu(\n",
    "    df_prob2.query('AM == 0')['Avg'],\n",
    "    df_prob2.query('AM == 1')['Avg'],\n",
    ")\n",
    "result_2_6_2, result_2_6_2.pvalue * 2"
   ]
  },
  {
   "cell_type": "code",
   "execution_count": 32,
   "id": "cd8bc439",
   "metadata": {},
   "outputs": [
    {
     "data": {
      "text/plain": [
       "(0.026428762823343277,\n",
       " 0.043661389499902725,\n",
       " 8.27772409322812,\n",
       " 0,\n",
       " 239777.5,\n",
       " 239785.84781424556)"
      ]
     },
     "execution_count": 32,
     "metadata": {},
     "output_type": "execute_result"
    }
   ],
   "source": [
    "A, B, C, D, E, A + B + C + D + E"
   ]
  },
  {
   "cell_type": "markdown",
   "id": "74a74dc6",
   "metadata": {},
   "source": [
    "A + B + C + D + E를 소수점 넷째 자리에서 반올림하여 셋째 자리까지 적으시오\n",
    "\n",
    "**239785.848**"
   ]
  },
  {
   "cell_type": "markdown",
   "id": "85bd78b8",
   "metadata": {},
   "source": [
    "## 단계 2-7, Optional\n",
    "\n",
    "Avg에 대하여 AM, DayName 두 범주에 대하여 이원산 분산분석(Two-way ANOVA)을 수행하고 상호작용항의 검정통계량을 구하라.\n",
    "\n",
    "Hint] statsmodels.formula.api.ols\n",
    "\n",
    "statsmodels.api.stats"
   ]
  },
  {
   "cell_type": "code",
   "execution_count": 33,
   "id": "137b791b",
   "metadata": {},
   "outputs": [
    {
     "data": {
      "text/plain": [
       "0.11962510466270143"
      ]
     },
     "execution_count": 33,
     "metadata": {},
     "output_type": "execute_result"
    }
   ],
   "source": [
    "from statsmodels.formula.api import ols\n",
    "from statsmodels.api import stats\n",
    "\n",
    "C_ = C \n",
    "del C # C에 값이 있으면, ols에서 처리시 오류가 발생합니다.\n",
    "lm = ols('Avg ~ C(AM)*C(DayName)', data=df_prob2).fit()\n",
    "#위와 동일한 방법입니다.\n",
    "#lm = ols('Avg ~ C(AM) + C(DayName) + C(AM):C(DayName)', data=df_prob2).fit() \n",
    "C = C_\n",
    "stats.anova_lm(lm).loc['C(AM):C(DayName)', 'F']"
   ]
  },
  {
   "cell_type": "markdown",
   "id": "bb5c441f",
   "metadata": {},
   "source": [
    "## 문제 3\n",
    "\n",
    "\n",
    "DateHour를 기준으로 다음날 같은 시각의 최대전력사용량을 예측하려고 한다.\n"
   ]
  },
  {
   "cell_type": "code",
   "execution_count": null,
   "id": "6a464773",
   "metadata": {},
   "outputs": [],
   "source": []
  },
  {
   "cell_type": "markdown",
   "id": "82dcd88a",
   "metadata": {},
   "source": [
    "## 단계 3-1 \n",
    "\n",
    "basetable1에 아래 그림과 같이, DateHour를 기준으로 다음날 같은 시각의 TotalHour를 이용하여 파생 변수 target을 생성한다. \n",
    "\n",
    "target에 결측치가 있는 행은 모두 제거하여 prob3 데이터셋을 만든다."
   ]
  },
  {
   "cell_type": "code",
   "execution_count": 36,
   "id": "265d4483",
   "metadata": {},
   "outputs": [
    {
     "data": {
      "text/plain": [
       "0"
      ]
     },
     "execution_count": 36,
     "metadata": {},
     "output_type": "execute_result"
    }
   ],
   "source": [
    "# shift를 사용해도 문제가 없을지 체크합니다.\n",
    "np.sum(np.unique(df_basetable1.index.date, return_counts=True)[1] != 24) #하루 중 빠지는 시간이 있을 지 확인합니다."
   ]
  },
  {
   "cell_type": "code",
   "execution_count": 37,
   "id": "11a5453b",
   "metadata": {},
   "outputs": [
    {
     "data": {
      "text/plain": [
       "2021-03    31.0\n",
       "2021-07    31.0\n",
       "2021-08    31.0\n",
       "2021-05    31.0\n",
       "2021-01    31.0\n",
       "2021-06    30.0\n",
       "2021-04    30.0\n",
       "2021-02    28.0\n",
       "2021-09    14.0\n",
       "dtype: float64"
      ]
     },
     "execution_count": 37,
     "metadata": {},
     "output_type": "execute_result"
    }
   ],
   "source": [
    "df_basetable1.index.strftime('%Y-%m').value_counts() / 24 #빠지는 일자가 있을 지 확인 합니다."
   ]
  },
  {
   "cell_type": "code",
   "execution_count": 38,
   "id": "c6ebd01f",
   "metadata": {},
   "outputs": [
    {
     "data": {
      "text/plain": [
       "(6144, 20)"
      ]
     },
     "execution_count": 38,
     "metadata": {},
     "output_type": "execute_result"
    }
   ],
   "source": [
    "df_prob3 = df_basetable1.sort_index().copy()\n",
    "df_prob3['target'] = df_prob3['TotalHour'].shift(-24) # shift 연산을 통해 다음날의 TotalHour를 가져옵니다.\n",
    "df_prob3 = df_prob3.dropna()\n",
    "df_prob3.shape"
   ]
  },
  {
   "cell_type": "code",
   "execution_count": 39,
   "id": "616e4d0f",
   "metadata": {},
   "outputs": [],
   "source": [
    "# shift 연산이 유효하지 않다면, 대응 방법입니다.\n",
    "from datetime import timedelta\n",
    "df_prob3_1 = df_basetable1.copy()\n",
    "s_tmp = df_prob3_1['TotalHour'].copy()\n",
    "s_tmp.index = df_prob3_1.index - timedelta(days=1)\n",
    "df_prob3_1['target'] = s_tmp\n",
    "df_prob3_1 = df_prob3_1.dropna()"
   ]
  },
  {
   "cell_type": "code",
   "execution_count": 40,
   "id": "bc37c445",
   "metadata": {},
   "outputs": [],
   "source": [
    "# 인덱스를 사용하지 않을 경우의 방법입니다.\n",
    "df_prob3_2 = df_basetable1.reset_index().copy()\n",
    "\n",
    "df_prob3_2 = df_prob3_2.merge(\n",
    "    df_prob3_2[['DateHour', 'TotalHour']].assign(\n",
    "        DateHour=lambda x: x['DateHour'] - timedelta(days=1)\n",
    "    ), left_on='DateHour', right_on='DateHour', how='inner'\n",
    ").rename(columns={'TotalHour_x': 'TotalHour', 'TotalHour_y': 'target'})"
   ]
  },
  {
   "cell_type": "code",
   "execution_count": 41,
   "id": "a0db724e",
   "metadata": {},
   "outputs": [
    {
     "data": {
      "text/plain": [
       "0"
      ]
     },
     "execution_count": 41,
     "metadata": {},
     "output_type": "execute_result"
    }
   ],
   "source": [
    "np.sum(df_prob3_2.set_index('DateHour')['target'] != df_prob3_1['target'])"
   ]
  },
  {
   "cell_type": "markdown",
   "id": "94fb03ee",
   "metadata": {},
   "source": [
    "## 단계 3-2 \n",
    "\n",
    "prob3을 학습용과 테스트용 데이터셋을 2021년 8월 14일 전과 이후로 분리\n",
    "\n",
    ". prob3_train: DateHour 변수 기준으로 2021년 8월 14일 전(8월 14일 미포함) 데이터 (행의 수: 5400개)\n",
    "\n",
    ". prob3_test: DateHour 변수 기준으로 2021년 8월 14일 이후(8월 14일 포함) 데이터 (행의 수: 744 개)\n"
   ]
  },
  {
   "cell_type": "code",
   "execution_count": 42,
   "id": "eaba7c5a",
   "metadata": {},
   "outputs": [
    {
     "data": {
      "text/plain": [
       "((5400, 20), (744, 20))"
      ]
     },
     "execution_count": 42,
     "metadata": {},
     "output_type": "execute_result"
    }
   ],
   "source": [
    "df_prob3_train = df_prob3.loc[df_prob3.index < '2021-08-14'].copy()\n",
    "df_prob3_test = df_prob3.loc[df_prob3.index >= '2021-08-14'].copy()\n",
    "df_prob3_train.shape, df_prob3_test.shape"
   ]
  },
  {
   "cell_type": "markdown",
   "id": "0655f050",
   "metadata": {},
   "source": [
    "## 단계 3-3\n",
    "\n",
    "결정트리 회귀모델(Decision Tree Regression Model)을 사용하여 target을 예측하는 모델을 prob3_train으로 학습시킨다. \n",
    "\n",
    "요건은 다음과 같다.\n",
    "\n",
    "\n",
    "성능 측정 지표: $MAE(Y, \\hat{Y})=\\frac{\\sum^n_{i=1}|y_i - \\hat{y_i}|}{n}$\n",
    "\n",
    "입력 변수: 15분, 30분, 45분, 60분, DayName, Hour, AM, Weekend_yn, Holiday_yn, Avg, TotalHour, \n",
    "\n",
    "           생산량, 기온, 풍속, 습도, 강수량, 전기요금(계절), 공장인원, 인건비\n",
    "※ 입력 변수의 순서는 반드시 나열한 순서로 해야 함.\n",
    "\n",
    "대상 변수: target\n",
    "\n",
    "결정 트리 구성 요건:\n",
    "\n",
    "   sklearn.tree.DecisionTreeRegressor, random_state=123\n",
    "   \n",
    "   |하이퍼 파라미터|값|\n",
    "   |-|-|\n",
    "   |트리의 최대 깊이|10|\n",
    "   |리프 노드(Leaf Node)의 최소 샘플 수|4|\n",
    "   \n",
    "모델의 학습 결과 가장 중요도가 높은 변수의 입력 순서를 A (순서는 1부터 시작) 라고 한다. \n",
    "\n",
    "결정 트리의 prob3_test에 대한 성능을 B라고 한다. \n"
   ]
  },
  {
   "cell_type": "code",
   "execution_count": 43,
   "id": "7a1dea0d",
   "metadata": {},
   "outputs": [
    {
     "data": {
      "text/plain": [
       "37.27394388956255"
      ]
     },
     "execution_count": 43,
     "metadata": {},
     "output_type": "execute_result"
    }
   ],
   "source": [
    "from sklearn.tree import DecisionTreeRegressor\n",
    "from sklearn.metrics import mean_absolute_error\n",
    "reg_dt = DecisionTreeRegressor(\n",
    "    random_state=123,\n",
    "    max_depth=10,\n",
    "    min_samples_leaf=4\n",
    ")\n",
    "X_prob3_3 = \"15분, 30분, 45분, 60분, DayName, Hour, AM, Weekend_yn, Holiday_yn, Avg, TotalHour, 생산량, 기온, 풍속, 습도, 강수량, 전기요금(계절), 공장인원, 인건비\"\n",
    "X_prob3_3 = [i.strip() for i in X_prob3_3.split(',')]\n",
    "reg_dt.fit(df_prob3_train[X_prob3_3], df_prob3_train['target'])\n",
    "B = mean_absolute_error(df_prob3_test['target'], reg_dt.predict(df_prob3_test[X_prob3_3]))\n",
    "B"
   ]
  },
  {
   "cell_type": "code",
   "execution_count": 44,
   "id": "c31d104a",
   "metadata": {},
   "outputs": [
    {
     "data": {
      "text/plain": [
       "49.446236559139784"
      ]
     },
     "execution_count": 44,
     "metadata": {},
     "output_type": "execute_result"
    }
   ],
   "source": [
    "# criterion을 mae로 할 경우\n",
    "reg_dt = DecisionTreeRegressor(\n",
    "    criterion='mae',\n",
    "    random_state=123,\n",
    "    max_depth=10, # 트리의 최대 깊이\n",
    "    min_samples_leaf=4 # 리프 노드의 최소 샘플 수\n",
    ")\n",
    "X_prob3_3 = \"15분, 30분, 45분, 60분, DayName, Hour, AM, Weekend_yn, Holiday_yn, Avg, TotalHour, 생산량, 기온, 풍속, 습도, 강수량, 전기요금(계절), 공장인원, 인건비\"\n",
    "X_prob3_3 = [i.strip() for i in X_prob3_3.split(',')]\n",
    "reg_dt.fit(df_prob3_train[X_prob3_3], df_prob3_train['target'])\n",
    "mean_absolute_error(df_prob3_test['target'], reg_dt.predict(df_prob3_test[X_prob3_3]))"
   ]
  },
  {
   "cell_type": "code",
   "execution_count": 47,
   "id": "a832896d",
   "metadata": {},
   "outputs": [
    {
     "data": {
      "text/plain": [
       "('DayName', 4, 5, 37.27394388956255)"
      ]
     },
     "execution_count": 47,
     "metadata": {},
     "output_type": "execute_result"
    }
   ],
   "source": [
    "idx = np.argmax(reg_dt.feature_importances_)\n",
    "A = idx + 1\n",
    "X_prob3_3[idx], idx, A, B"
   ]
  },
  {
   "cell_type": "markdown",
   "id": "d8a5d710",
   "metadata": {},
   "source": [
    "## 단계 3-4\n",
    "\n",
    "결정트리 대신에 랜덤포레스트 회귀모델(Random-Forest Regression Model)을 사용한다. \n",
    "\n",
    "랜덤포레스트 회귀모델을 구성하는 결정트리 수는 50개로 하고, 다른 설정은 결정트리와 같다. \n",
    "\n",
    "prob3_train으로 학습하고 prob3_test에 대한 성능을 C라고 한다.\n",
    "\n",
    "Hint] sklearn.ensemble.RandomForestRegressor"
   ]
  },
  {
   "cell_type": "code",
   "execution_count": 48,
   "id": "4b57ef47",
   "metadata": {},
   "outputs": [
    {
     "data": {
      "text/plain": [
       "33.86503261341183"
      ]
     },
     "execution_count": 48,
     "metadata": {},
     "output_type": "execute_result"
    }
   ],
   "source": [
    "from sklearn.ensemble import RandomForestRegressor\n",
    "\n",
    "reg_rf = RandomForestRegressor(\n",
    "    n_estimators=50,\n",
    "    random_state=123,\n",
    "    max_depth=10,\n",
    "    min_samples_leaf=4\n",
    ")\n",
    "reg_rf.fit(df_prob3_train[X_prob3_3], df_prob3_train['target'])\n",
    "C = mean_absolute_error(df_prob3_test['target'], reg_rf.predict(df_prob3_test[X_prob3_3]))\n",
    "C"
   ]
  },
  {
   "cell_type": "code",
   "execution_count": 49,
   "id": "fceac283",
   "metadata": {},
   "outputs": [
    {
     "data": {
      "text/plain": [
       "(5, 37.27394388956255, 33.86503261341183, 76.13897650297437)"
      ]
     },
     "execution_count": 49,
     "metadata": {},
     "output_type": "execute_result"
    }
   ],
   "source": [
    "A, B, C, A + B + C"
   ]
  },
  {
   "cell_type": "markdown",
   "id": "e202e03b",
   "metadata": {},
   "source": [
    "A + B + C를 소수점 넷째 자리에서 반올림하여 셋째 자리까지 적으시오\n",
    "\n",
    "**76.139**"
   ]
  },
  {
   "cell_type": "markdown",
   "id": "e765a1bb",
   "metadata": {},
   "source": [
    "## 문제 4\n",
    "\n",
    "DateHour를 기준으로 동일한 시각의 n일 이전의 TotalHour를 파생 변수 lag_n이라고 한다. \n",
    "\n",
    "예를 들어 DateHour가 2021-01-07 00:00:00이라면, lag_1은 2021-01-06 00:00:00의 TotalHour값인 96이 된다. "
   ]
  },
  {
   "cell_type": "code",
   "execution_count": null,
   "id": "564bc5c1",
   "metadata": {},
   "outputs": [],
   "source": []
  },
  {
   "cell_type": "markdown",
   "id": "5f419404",
   "metadata": {},
   "source": [
    "## 단계 4-1\n",
    "\n",
    "prob3에 lag_1 ~ lag_6까지의 6개의 파생 변수를 추가하여 prob4를 만든다. \n",
    "\n",
    "prob4에 lag_1 ~ lag_6까지 하나라도 결측치가 있다면 삭제한다."
   ]
  },
  {
   "cell_type": "code",
   "execution_count": 50,
   "id": "4fc24389",
   "metadata": {},
   "outputs": [
    {
     "data": {
      "text/plain": [
       "(6000, 26)"
      ]
     },
     "execution_count": 50,
     "metadata": {},
     "output_type": "execute_result"
    }
   ],
   "source": [
    "lag_list = [df_prob3]\n",
    "\n",
    "for i in range(1, 7):\n",
    "    lag_list.append(\n",
    "        df_prob3['TotalHour'].shift(24 * i).rename('lag_{}'.format(i)) # i일 이전의 동일 시점의 TotalHour를 가져옵니다.\n",
    "    )\n",
    "df_prob4 = pd.concat(lag_list, axis=1).dropna()\n",
    "df_prob4.shape"
   ]
  },
  {
   "cell_type": "markdown",
   "id": "4b61eed3",
   "metadata": {},
   "source": [
    "## 단계 4-2\n",
    "\n",
    "학습용과 테스트용 데이터셋을 2021년 8월 14일 전과 이후로 분리\n",
    "\n",
    ". prob4_train: DateHour 변수 기준으로 2021년 8월 14일 전(8월 14일 미포함) 데이터 (행의 수: 5256개)\n",
    "\n",
    ". prob4_test: DateHour 변수 기준으로 2021년 8월 14일 이후(8월 14일 포함) 데이터 (행의 수: 744 개)"
   ]
  },
  {
   "cell_type": "code",
   "execution_count": 51,
   "id": "59c4f0ec",
   "metadata": {},
   "outputs": [
    {
     "data": {
      "text/plain": [
       "((5256, 26), (744, 26))"
      ]
     },
     "execution_count": 51,
     "metadata": {},
     "output_type": "execute_result"
    }
   ],
   "source": [
    "df_prob4_train = df_prob4.loc[df_prob4.index < '2021-08-14'].copy()\n",
    "df_prob4_test = df_prob4.loc[df_prob4.index >= '2021-08-14'].copy()\n",
    "df_prob4_train.shape, df_prob4_test.shape"
   ]
  },
  {
   "cell_type": "markdown",
   "id": "4b00a6fe",
   "metadata": {},
   "source": [
    "## 단계 4-3\n",
    "\n",
    "prob4_train에서 TotalHour와 lag_1~6 를 표준화하고, \n",
    "\n",
    "prob4_train의 표준화 설정으로 prob4_test의 TotalHour와 lag_1~6를 표준화한다.\n",
    "\n",
    "Hint] sklearn.preprocessing.StandardScaler"
   ]
  },
  {
   "cell_type": "code",
   "execution_count": 52,
   "id": "979212f7",
   "metadata": {},
   "outputs": [],
   "source": [
    "from sklearn.preprocessing import StandardScaler\n",
    "\n",
    "X_prob4_3 = ['TotalHour'] + ['lag_{}'.format(i) for i in range(1, 7)]\n",
    "std_scaler = StandardScaler()\n",
    "df_prob4_train[X_prob4_3] = std_scaler.fit_transform(df_prob4_train[X_prob4_3])\n",
    "df_prob4_test[X_prob4_3] = std_scaler.transform(df_prob4_test[X_prob4_3])"
   ]
  },
  {
   "cell_type": "markdown",
   "id": "fe364f71",
   "metadata": {},
   "source": [
    "## 단계 4-4\n",
    "\n",
    "SVR 모델을 아래 요건에 3가지 커널(Kernel)로 prob4_train을 학습하고 \n",
    "\n",
    "prob4_test로 성능을 측정한다. \n",
    "\n",
    "그 중 가장 좋은 성능을 보인 커널의 번호를 A(No.), 그 때의 성능을 B라고 한다.\n",
    "\n",
    "성능 측정 지표: $MAE(Y, \\hat{Y})=\\frac{\\sum^n_{i=1}|y_i - \\hat{y_i}|}{n}$\n",
    "\n",
    "입력 변수: TotalHour, lag_1 ~ 6\n",
    "\n",
    "대상 변수: target\n",
    "\n",
    "요건] sklearn.svm.SVR, C=10\n",
    "\n",
    "\n",
    "1: $k(x_i,x_j)=\\langle x_i,x_j \\rangle$\n",
    "\n",
    "2: $k(x_i,x_j)=(\\gamma \\langle x_i,x_j \\rangle +1)^2,\\gamma=0.1$\n",
    "\n",
    "3: $k(x_i,x_j)=exp(-\\gamma ||x_i-x_j||^2 ),\\gamma=0.1$\n",
    "\n",
    " $\\langle x,x' \\rangle:x,x'$ 의 내적,$||x_i-x_j||^2$:L2-norm\n"
   ]
  },
  {
   "cell_type": "code",
   "execution_count": 53,
   "id": "f637d3b4",
   "metadata": {},
   "outputs": [
    {
     "name": "stdout",
     "output_type": "stream",
     "text": [
      "{'kernel': 'linear'} 32.88361068048479\n",
      "{'kernel': 'poly', 'degree': 2, 'coef0': 1, 'gamma': 0.1} 32.04119565841312\n",
      "{'kernel': 'rbf', 'gamma': 0.1} 30.017658858928023\n"
     ]
    }
   ],
   "source": [
    "from sklearn.svm import SVR\n",
    "from sklearn.metrics import mean_absolute_error\n",
    "\n",
    "X_prob4_4 = ['TotalHour'] + ['lag_{}'.format(i) for i in range(1, 7)]\n",
    "param_list = [\n",
    "    {'kernel': 'linear'}, # 1\n",
    "    {'kernel': 'poly', 'degree': 2, 'coef0': 1, 'gamma': 0.1}, # 2\n",
    "    {'kernel': 'rbf', 'gamma': 0.1} # 3\n",
    "]\n",
    "for param in param_list:\n",
    "    svr = SVR(C=10, **param)\n",
    "    svr.fit(df_prob4_train[X_prob4_4], df_prob4_train['target'])\n",
    "    print(param, mean_absolute_error(df_prob4_test['target'], svr.predict(df_prob4_test[X_prob4_4])))"
   ]
  },
  {
   "cell_type": "code",
   "execution_count": 54,
   "id": "aef21d67",
   "metadata": {},
   "outputs": [
    {
     "data": {
      "text/plain": [
       "32.88361068048479"
      ]
     },
     "execution_count": 54,
     "metadata": {},
     "output_type": "execute_result"
    }
   ],
   "source": [
    "# SVM에 kernel 함수를 구현하여 전달합니다(Linear Kernel).\n",
    "# kerel 함수는 x, y는 Dataset입니다. 샘플간의 Kernel 함수로 연산한 결과를 행렬(Matrix)로 반환 합니다.\n",
    "svr = SVR(kernel=lambda x, y: np.matmul(x,y.T), C=10) \n",
    "svr.fit(df_prob4_train[X_prob4_4], df_prob4_train['target'])\n",
    "mean_absolute_error(df_prob4_test['target'], svr.predict(df_prob4_test[X_prob4_4]))"
   ]
  },
  {
   "cell_type": "code",
   "execution_count": 55,
   "id": "4830fe5f",
   "metadata": {},
   "outputs": [
    {
     "data": {
      "text/plain": [
       "(3, 30.017658858928023)"
      ]
     },
     "execution_count": 55,
     "metadata": {},
     "output_type": "execute_result"
    }
   ],
   "source": [
    "A, B = 3, 30.017658858928023\n",
    "A, B"
   ]
  },
  {
   "cell_type": "markdown",
   "id": "df50837d",
   "metadata": {},
   "source": [
    "## 단계 4-5\n",
    "\n",
    "퍼셉트론 회귀모델을 다음과 같이 3가지 설정으로 prob4_train으로 학습하고, \n",
    "\n",
    "prob4_test로 성능을 측정한다. \n",
    "\n",
    "가장 좋은 성능을 보인 경우의 번호(No.) C, 그 때의 성능을 D라고 한다.\n",
    "\n",
    "\n",
    "성능 측정 지표: $MAE(Y, \\hat{Y})=\\frac{\\sum^n_{i=1}|y_i - \\hat{y_i}|}{n}$ \n",
    "\n",
    "입력 변수: TotalHour, lag_1 ~ 6\n",
    "\n",
    "대상 변수: target\n",
    "\n",
    "요건] sklearn.neural_network.MLPRegressor, \n",
    "\n",
    "learning_rate_init=0.05, random_state=123, max_iter=500\n",
    "\n",
    "\n",
    "|No.|은닉층의 수|은닉층의 활성화 함수|\n",
    "|---|---------|-------------|\n",
    "|1|[8]|relu|\n",
    "|2|[8, 4]|relu|\n",
    "|3|[8, 4]|sigmoid|\n",
    "\n",
    "\n"
   ]
  },
  {
   "cell_type": "code",
   "execution_count": 56,
   "id": "c9e54a2b",
   "metadata": {},
   "outputs": [
    {
     "name": "stdout",
     "output_type": "stream",
     "text": [
      "{'hidden_layer_sizes': 8, 'activation': 'relu'} 39.68283671541335\n",
      "{'hidden_layer_sizes': [8, 4], 'activation': 'relu'} 38.57988917988748\n",
      "{'hidden_layer_sizes': (8, 4), 'activation': 'logistic'} 45.59789336930046\n"
     ]
    }
   ],
   "source": [
    "from sklearn.neural_network import MLPRegressor\n",
    "X_prob4_5 = ['TotalHour'] + ['lag_{}'.format(i) for i in range(1, 7)]\n",
    "param_list = [\n",
    "    {'hidden_layer_sizes': 8, 'activation': 'relu'},  # 1\n",
    "    {'hidden_layer_sizes': [8, 4], 'activation': 'relu'}, # 2\n",
    "    {'hidden_layer_sizes': (8, 4), 'activation': 'logistic'} #3\n",
    "]\n",
    "for param in param_list:\n",
    "    mlp = MLPRegressor(learning_rate_init=0.05, random_state=123, max_iter=500, **param)\n",
    "    mlp.fit(df_prob4_train[X_prob4_5], df_prob4_train['target'])\n",
    "    print(param, mean_absolute_error(df_prob4_test['target'], mlp.predict(df_prob4_test[X_prob4_5])))"
   ]
  },
  {
   "cell_type": "code",
   "execution_count": 57,
   "id": "d56b2531",
   "metadata": {},
   "outputs": [
    {
     "data": {
      "text/plain": [
       "(2, 38.57988917988748)"
      ]
     },
     "execution_count": 57,
     "metadata": {},
     "output_type": "execute_result"
    }
   ],
   "source": [
    "C, D = 2, 38.57988917988748\n",
    "C, D"
   ]
  },
  {
   "cell_type": "code",
   "execution_count": 58,
   "id": "326d81c5",
   "metadata": {},
   "outputs": [
    {
     "data": {
      "text/plain": [
       "(3, 30.017658858928023, 2, 38.57988917988748, 73.5975480388155)"
      ]
     },
     "execution_count": 58,
     "metadata": {},
     "output_type": "execute_result"
    }
   ],
   "source": [
    "A, B, C, D, A + B + C + D"
   ]
  },
  {
   "cell_type": "markdown",
   "id": "a7066e4d",
   "metadata": {},
   "source": [
    "A + B+ C + D를 소수점 셋째 자리에서 반올림하여 둘째 자리까지 적으시오\n",
    "\n",
    "**76.60**"
   ]
  },
  {
   "cell_type": "markdown",
   "id": "c83bcbd4",
   "metadata": {},
   "source": [
    "# 문제 5\n",
    "\n",
    "info에서 기온, 풍속, 습도 강수량 데이터에서 이상치를 탐색하고자 한다."
   ]
  },
  {
   "cell_type": "markdown",
   "id": "9d613628",
   "metadata": {},
   "source": [
    "## 단계 5-1\n",
    "\n",
    "info1에서 기온, 풍속, 습도, 강수량 만을 떼어 weather1 데이터프레임을 만든다."
   ]
  },
  {
   "cell_type": "code",
   "execution_count": 59,
   "id": "ae0aa7f2",
   "metadata": {},
   "outputs": [
    {
     "data": {
      "text/html": [
       "<div>\n",
       "<style scoped>\n",
       "    .dataframe tbody tr th:only-of-type {\n",
       "        vertical-align: middle;\n",
       "    }\n",
       "\n",
       "    .dataframe tbody tr th {\n",
       "        vertical-align: top;\n",
       "    }\n",
       "\n",
       "    .dataframe thead th {\n",
       "        text-align: right;\n",
       "    }\n",
       "</style>\n",
       "<table border=\"1\" class=\"dataframe\">\n",
       "  <thead>\n",
       "    <tr style=\"text-align: right;\">\n",
       "      <th></th>\n",
       "      <th>기온</th>\n",
       "      <th>풍속</th>\n",
       "      <th>습도</th>\n",
       "      <th>강수량</th>\n",
       "    </tr>\n",
       "  </thead>\n",
       "  <tbody>\n",
       "    <tr>\n",
       "      <td>0</td>\n",
       "      <td>-3.2</td>\n",
       "      <td>2.4</td>\n",
       "      <td>71</td>\n",
       "      <td>0.0</td>\n",
       "    </tr>\n",
       "    <tr>\n",
       "      <td>1</td>\n",
       "      <td>-4.5</td>\n",
       "      <td>1.5</td>\n",
       "      <td>77</td>\n",
       "      <td>0.0</td>\n",
       "    </tr>\n",
       "    <tr>\n",
       "      <td>2</td>\n",
       "      <td>-3.9</td>\n",
       "      <td>2.6</td>\n",
       "      <td>58</td>\n",
       "      <td>0.0</td>\n",
       "    </tr>\n",
       "    <tr>\n",
       "      <td>3</td>\n",
       "      <td>-4.1</td>\n",
       "      <td>2.6</td>\n",
       "      <td>56</td>\n",
       "      <td>0.0</td>\n",
       "    </tr>\n",
       "    <tr>\n",
       "      <td>4</td>\n",
       "      <td>-4.6</td>\n",
       "      <td>2.6</td>\n",
       "      <td>60</td>\n",
       "      <td>0.0</td>\n",
       "    </tr>\n",
       "  </tbody>\n",
       "</table>\n",
       "</div>"
      ],
      "text/plain": [
       "    기온   풍속  습도  강수량\n",
       "0 -3.2  2.4  71  0.0\n",
       "1 -4.5  1.5  77  0.0\n",
       "2 -3.9  2.6  58  0.0\n",
       "3 -4.1  2.6  56  0.0\n",
       "4 -4.6  2.6  60  0.0"
      ]
     },
     "execution_count": 59,
     "metadata": {},
     "output_type": "execute_result"
    }
   ],
   "source": [
    "X_prob5 = ['기온', '풍속', '습도', '강수량']\n",
    "df_weather1 = df_info1[X_prob5].copy()\n",
    "df_weather1.head()"
   ]
  },
  {
   "cell_type": "markdown",
   "id": "930f68be",
   "metadata": {},
   "source": [
    "## 단계 5-2\n",
    "\n",
    "weather1의 기온, 풍속, 습도, 강수량을 표준화 한다.\n"
   ]
  },
  {
   "cell_type": "code",
   "execution_count": 60,
   "id": "ca3ee6e3",
   "metadata": {},
   "outputs": [
    {
     "data": {
      "text/html": [
       "<div>\n",
       "<style scoped>\n",
       "    .dataframe tbody tr th:only-of-type {\n",
       "        vertical-align: middle;\n",
       "    }\n",
       "\n",
       "    .dataframe tbody tr th {\n",
       "        vertical-align: top;\n",
       "    }\n",
       "\n",
       "    .dataframe thead th {\n",
       "        text-align: right;\n",
       "    }\n",
       "</style>\n",
       "<table border=\"1\" class=\"dataframe\">\n",
       "  <thead>\n",
       "    <tr style=\"text-align: right;\">\n",
       "      <th></th>\n",
       "      <th>기온</th>\n",
       "      <th>풍속</th>\n",
       "      <th>습도</th>\n",
       "      <th>강수량</th>\n",
       "    </tr>\n",
       "  </thead>\n",
       "  <tbody>\n",
       "    <tr>\n",
       "      <td>0</td>\n",
       "      <td>-2.085903</td>\n",
       "      <td>0.289680</td>\n",
       "      <td>0.039195</td>\n",
       "      <td>-0.233447</td>\n",
       "    </tr>\n",
       "    <tr>\n",
       "      <td>1</td>\n",
       "      <td>-2.227830</td>\n",
       "      <td>-0.483098</td>\n",
       "      <td>0.300129</td>\n",
       "      <td>-0.233447</td>\n",
       "    </tr>\n",
       "    <tr>\n",
       "      <td>2</td>\n",
       "      <td>-2.162325</td>\n",
       "      <td>0.461409</td>\n",
       "      <td>-0.526162</td>\n",
       "      <td>-0.233447</td>\n",
       "    </tr>\n",
       "    <tr>\n",
       "      <td>3</td>\n",
       "      <td>-2.184160</td>\n",
       "      <td>0.461409</td>\n",
       "      <td>-0.613140</td>\n",
       "      <td>-0.233447</td>\n",
       "    </tr>\n",
       "    <tr>\n",
       "      <td>4</td>\n",
       "      <td>-2.238748</td>\n",
       "      <td>0.461409</td>\n",
       "      <td>-0.439184</td>\n",
       "      <td>-0.233447</td>\n",
       "    </tr>\n",
       "  </tbody>\n",
       "</table>\n",
       "</div>"
      ],
      "text/plain": [
       "         기온        풍속        습도       강수량\n",
       "0 -2.085903  0.289680  0.039195 -0.233447\n",
       "1 -2.227830 -0.483098  0.300129 -0.233447\n",
       "2 -2.162325  0.461409 -0.526162 -0.233447\n",
       "3 -2.184160  0.461409 -0.613140 -0.233447\n",
       "4 -2.238748  0.461409 -0.439184 -0.233447"
      ]
     },
     "execution_count": 60,
     "metadata": {},
     "output_type": "execute_result"
    }
   ],
   "source": [
    "from sklearn.preprocessing import StandardScaler\n",
    "std_scaler = StandardScaler()\n",
    "df_weather1[X_prob5] = std_scaler.fit_transform(df_weather1[X_prob5])\n",
    "df_weather1.head()"
   ]
  },
  {
   "cell_type": "markdown",
   "id": "acd80c60",
   "metadata": {},
   "source": [
    "## 단계 5-3\n",
    "\n",
    "DBSCAN 군집화를 입실론(epsilon) 반경을 0.5, 주변 영역에 포함하는 최소 샘플수를 7로하여 군집화를 수행 한다. \n",
    "\n",
    "weather1에 DBSCAN 결과에서 소속 군집이 없는 샘플들을 이상점으로 간주한다. \n",
    "\n",
    "이상점 여부를 파생변수 outlier_dbscan로 하여 weather1에 추가한다. (소속 군집이 있으면: False, 없으면 True)\n",
    "\n",
    "  입력변수: 기온, 풍속, 습도, 강수량\n",
    "\n",
    "  Hint] sklearn.cluster.DBSCAN, algorithm=’brute’\n"
   ]
  },
  {
   "cell_type": "code",
   "execution_count": 61,
   "id": "d599ba93",
   "metadata": {},
   "outputs": [
    {
     "data": {
      "text/plain": [
       "DBSCAN(algorithm='brute', eps=0.5, leaf_size=30, metric='euclidean',\n",
       "       metric_params=None, min_samples=7, n_jobs=None, p=None)"
      ]
     },
     "execution_count": 61,
     "metadata": {},
     "output_type": "execute_result"
    }
   ],
   "source": [
    "from sklearn.cluster import DBSCAN\n",
    "dbscan = DBSCAN(\n",
    "    eps=0.5, # 입실론 반경\n",
    "    min_samples=7, # 최소 샘플수\n",
    "    algorithm='brute'\n",
    ")\n",
    "dbscan.fit(df_weather1[X_prob5])"
   ]
  },
  {
   "cell_type": "code",
   "execution_count": 62,
   "id": "b15d8ee6",
   "metadata": {},
   "outputs": [
    {
     "data": {
      "text/plain": [
       "210"
      ]
     },
     "execution_count": 62,
     "metadata": {},
     "output_type": "execute_result"
    }
   ],
   "source": [
    "df_weather1['outlier_dbscan'] = dbscan.labels_ == -1 # -1이면 소속 군집이 없는 것입니다.\n",
    "df_weather1['outlier_dbscan'].sum()"
   ]
  },
  {
   "cell_type": "markdown",
   "id": "47f524cc",
   "metadata": {},
   "source": [
    "## 단계 5-4\n",
    "\n",
    "IsolationForest를 사용하여 weather1의 이상점을 탐색한다. \n",
    "\n",
    "학습시 bootstrapping은 하지 않고, 트리의 수는 30개를 사용한다. \n",
    "\n",
    "IsolationForest으로 탐지한 이상점 여부는 파생변수 outlier_isof로 하여 weather1에 추가한다. (이상치라면 True, 아니면 False)\n",
    "\n",
    "입력변수: 기온, 풍속, 습도, 강수량\n",
    "\n",
    "Hint] sklearn.ensemble.IsolationForest, \n",
    "\n",
    "random_state=123, contamination=’auto’, behaviour=’auto’\n"
   ]
  },
  {
   "cell_type": "code",
   "execution_count": 63,
   "id": "061bde3a",
   "metadata": {},
   "outputs": [
    {
     "data": {
      "text/plain": [
       "1108"
      ]
     },
     "execution_count": 63,
     "metadata": {},
     "output_type": "execute_result"
    }
   ],
   "source": [
    "from sklearn.ensemble import IsolationForest\n",
    "\n",
    "isof = IsolationForest(\n",
    "    n_estimators=30,\n",
    "    bootstrap=False,\n",
    "    random_state=123, contamination='auto', behaviour='auto'\n",
    ")\n",
    "df_weather1['outlier_isof'] = isof.fit_predict(df_weather1[X_prob5]) == -1\n",
    "df_weather1['outlier_isof'].sum()"
   ]
  },
  {
   "cell_type": "markdown",
   "id": "96822119",
   "metadata": {},
   "source": [
    "## 단계 5-5\n",
    "\n",
    "LocalOutlierFactor를 사용하여 weather1의 이상점을 탐색한다. \n",
    "\n",
    "관찰할 주변의 샘플은 10개이다. 그리고, 샘플간의 거리는 유클리디언 거리를 사용한다. \n",
    "\n",
    "LocalOutlierFactor로 탐지한 이상 여부를 outlier_lof로 하여 weather1에 추가한다.\n",
    "\n",
    "입력변수: 기온, 풍속, 습도, 강수량\n",
    "\n",
    "Hint] sklearn.neighbors.LocalOutlierFactor,\n",
    " contamination=’auto’\n"
   ]
  },
  {
   "cell_type": "code",
   "execution_count": 64,
   "id": "cb07157a",
   "metadata": {},
   "outputs": [],
   "source": [
    "from sklearn.neighbors import LocalOutlierFactor\n",
    "\n",
    "lof = LocalOutlierFactor(\n",
    "    n_neighbors=10,\n",
    "    metric='euclidean',\n",
    "    contamination='auto'\n",
    ")\n",
    "df_weather1['outlier_lof'] = lof.fit_predict(df_weather1[X_prob5]) == -1"
   ]
  },
  {
   "cell_type": "markdown",
   "id": "4efe6d30",
   "metadata": {},
   "source": [
    "## 단계 5-6 \n",
    "\n",
    "outlier_dbscan가 True인 행의 개수를 A, outlier_isof가 True인 행의 개수 B\n",
    ",  outlier_lof가 True인 행의 개수 C 이다.\n"
   ]
  },
  {
   "cell_type": "code",
   "execution_count": 65,
   "id": "179cf319",
   "metadata": {},
   "outputs": [
    {
     "data": {
      "text/plain": [
       "(210, 1108, 83)"
      ]
     },
     "execution_count": 65,
     "metadata": {},
     "output_type": "execute_result"
    }
   ],
   "source": [
    "A, B, C = df_weather1[['outlier_dbscan', 'outlier_isof', 'outlier_lof']].sum()\n",
    "A, B, C"
   ]
  },
  {
   "cell_type": "markdown",
   "id": "b193cd24",
   "metadata": {},
   "source": [
    "## 단계 5-7\n",
    "\n",
    "outlier_dbscan, outlier_isof 그리고 outlier_lof 모두가 True인 행의 개수는 D이다."
   ]
  },
  {
   "cell_type": "code",
   "execution_count": 66,
   "id": "9ebba9ac",
   "metadata": {},
   "outputs": [
    {
     "data": {
      "text/plain": [
       "16"
      ]
     },
     "execution_count": 66,
     "metadata": {},
     "output_type": "execute_result"
    }
   ],
   "source": [
    "D = df_weather1[['outlier_dbscan', 'outlier_isof', 'outlier_lof']].all(axis=1).sum()\n",
    "D"
   ]
  },
  {
   "cell_type": "code",
   "execution_count": 67,
   "id": "3eab5b9d",
   "metadata": {},
   "outputs": [
    {
     "data": {
      "text/plain": [
       "(210, 1108, 83, 16, 1417)"
      ]
     },
     "execution_count": 67,
     "metadata": {},
     "output_type": "execute_result"
    }
   ],
   "source": [
    "A, B, C, D, A + B + C + D"
   ]
  },
  {
   "cell_type": "markdown",
   "id": "4e99c4b5",
   "metadata": {},
   "source": [
    "A + B + C + D를 적는다.\n",
    "\n",
    "**1417**"
   ]
  },
  {
   "cell_type": "markdown",
   "id": "bd95fe1f",
   "metadata": {},
   "source": [
    "# 문제 6\n",
    "\n",
    "(kaggle 형 문제) prob4 를 바탕으로 아래 데이터셋을 만든다.\n",
    "\n",
    ". prob6_train: DateHour 변수 기준으로 2021년 8월 14일 전(8월 14일 미포함) 데이터 (행의 수: 5256개)\n",
    "\n",
    ". prob6_test: DateHour 변수 기준으로 2021년 8월 14일 이후(8월 14일 포함) 데이터 (행의 수: 744 개)\n",
    "\n",
    "일 때, prob6_train으로 target을 예측하는 모델을 만들어, \n",
    "\n",
    "prob6_test의 target에 대한 MAE를 최소화하는 모델을 만든다. \n",
    "\n",
    "prob6_test의 예측 결과를 아래와 같은 형식으로 출력한다. 파일명은 answer6.csv 이다.\n",
    "\n",
    "|DateHour|TotalHour|\n",
    "|--------|---------|\n",
    "|2021-08-14 00:00:00|102.607580|\n",
    "|2021-08-14 01:00:00|94.078890|\n",
    "...."
   ]
  },
  {
   "cell_type": "code",
   "execution_count": 68,
   "id": "356d9818",
   "metadata": {},
   "outputs": [],
   "source": [
    "from sklearn.preprocessing import StandardScaler\n",
    "from sklearn.compose import ColumnTransformer\n",
    "from sklearn.pipeline import make_pipeline\n",
    "from sklearn.metrics import mean_absolute_error"
   ]
  },
  {
   "cell_type": "code",
   "execution_count": 69,
   "id": "cff30f43",
   "metadata": {},
   "outputs": [],
   "source": [
    "df_prob6_train = df_prob4.loc[df_prob4.index.date < pd.to_datetime('2021-08-14 00:00:00').date()].copy()\n",
    "df_prob6_test = df_prob4.loc[df_prob4.index.date >= pd.to_datetime('2021-08-14 00:00:00').date()].copy()"
   ]
  },
  {
   "cell_type": "code",
   "execution_count": 70,
   "id": "7f54de4d",
   "metadata": {},
   "outputs": [
    {
     "data": {
      "text/plain": [
       "Pipeline(memory=None,\n",
       "         steps=[('columntransformer',\n",
       "                 ColumnTransformer(n_jobs=None, remainder='drop',\n",
       "                                   sparse_threshold=0.3,\n",
       "                                   transformer_weights=None,\n",
       "                                   transformers=[('std',\n",
       "                                                  StandardScaler(copy=True,\n",
       "                                                                 with_mean=True,\n",
       "                                                                 with_std=True),\n",
       "                                                  ['TotalHour', 'lag_1',\n",
       "                                                   'lag_2', 'lag_3', 'lag_4',\n",
       "                                                   'lag_5', 'lag_6'])],\n",
       "                                   verbose=False)),\n",
       "                ('svr',\n",
       "                 SVR(C=10, cache_size=200, coef0=0.0, degree=3, epsilon=0.1,\n",
       "                     gamma=0.1, kernel='rbf', max_iter=-1, shrinking=True,\n",
       "                     tol=0.001, verbose=False))],\n",
       "         verbose=False)"
      ]
     },
     "execution_count": 70,
     "metadata": {},
     "output_type": "execute_result"
    }
   ],
   "source": [
    "# 문제 4번 결과에서 뽑은 모델입니다.\n",
    "from sklearn.svm import SVR\n",
    "lag_cols = ['lag_{}'.format(i) for i in range(1, 7)]\n",
    "\n",
    "X_cols_svr = ['TotalHour'] + lag_cols\n",
    "ct_svm = ColumnTransformer(\n",
    "    [('std', StandardScaler(), X_cols_svr)]\n",
    ")\n",
    "reg_svr = make_pipeline(ct_svm, SVR(kernel='rbf', gamma=0.1, C=10))\n",
    "reg_svr.fit(df_prob6_train[X_cols_svr], df_prob6_train['target'])"
   ]
  },
  {
   "cell_type": "code",
   "execution_count": 71,
   "id": "a3f21223",
   "metadata": {},
   "outputs": [],
   "source": [
    "# 제출 파일을 만듭니다.\n",
    "pd.DataFrame({\n",
    "    'TotalHour': reg_svr.predict(df_prob6_test[X_cols_svr])\n",
    "}, index=df_prob6_test.index).to_csv('answer6.csv')"
   ]
  },
  {
   "cell_type": "code",
   "execution_count": 72,
   "id": "9a746a3d",
   "metadata": {},
   "outputs": [
    {
     "data": {
      "text/plain": [
       "30.017658858928023"
      ]
     },
     "execution_count": 72,
     "metadata": {},
     "output_type": "execute_result"
    }
   ],
   "source": [
    "mean_absolute_error(df_prob6_test['target'], reg_svr.predict(df_prob6_test[X_cols_svr]))"
   ]
  },
  {
   "cell_type": "code",
   "execution_count": 73,
   "id": "fa45b4e8",
   "metadata": {},
   "outputs": [
    {
     "data": {
      "text/plain": [
       "RandomForestRegressor(bootstrap=True, criterion='mse', max_depth=10,\n",
       "                      max_features='auto', max_leaf_nodes=None,\n",
       "                      min_impurity_decrease=0.0, min_impurity_split=None,\n",
       "                      min_samples_leaf=4, min_samples_split=2,\n",
       "                      min_weight_fraction_leaf=0.0, n_estimators=100,\n",
       "                      n_jobs=None, oob_score=False, random_state=123, verbose=0,\n",
       "                      warm_start=False)"
      ]
     },
     "execution_count": 73,
     "metadata": {},
     "output_type": "execute_result"
    }
   ],
   "source": [
    "# 문제 3번 결과에서 뽑은 모델입니다.\n",
    "from sklearn.ensemble import RandomForestRegressor\n",
    "\n",
    "X_cols_rf = \"15분, 30분, 45분, 60분, DayName, Hour, AM, Weekend_yn, Holiday_yn, Avg, TotalHour, 생산량, 기온, 풍속, 습도, 강수량, 전기요금(계절), 공장인원, 인건비\"\n",
    "X_cols_rf = [i.strip() for i in X_cols_rf.split(',')]\n",
    "\n",
    "reg_rf = RandomForestRegressor(n_estimators=100, min_samples_leaf=4, max_depth=10, random_state=123)\n",
    "reg_rf.fit(df_prob6_train[X_cols_rf], df_prob6_train['target'])"
   ]
  },
  {
   "cell_type": "code",
   "execution_count": 74,
   "id": "dce6eb91",
   "metadata": {},
   "outputs": [
    {
     "data": {
      "text/plain": [
       "32.750839878033005"
      ]
     },
     "execution_count": 74,
     "metadata": {},
     "output_type": "execute_result"
    }
   ],
   "source": [
    "mean_absolute_error(df_prob6_test['target'], reg_rf.predict(df_prob6_test[X_cols_rf]))"
   ]
  },
  {
   "cell_type": "code",
   "execution_count": 75,
   "id": "9089ac26",
   "metadata": {},
   "outputs": [
    {
     "data": {
      "text/plain": [
       "27.67284073287938"
      ]
     },
     "execution_count": 75,
     "metadata": {},
     "output_type": "execute_result"
    }
   ],
   "source": [
    "mean_absolute_error(df_prob6_test['target'], \n",
    "                    reg_svr.predict(df_prob6_test[X_cols_svr]) * 0.5 + reg_rf.predict(df_prob6_test[X_cols_rf]) * 0.5)"
   ]
  },
  {
   "cell_type": "code",
   "execution_count": 76,
   "id": "b3a5964f",
   "metadata": {},
   "outputs": [],
   "source": [
    "# 실제 상황을 가정하고, df_prob6_train에서 검증셋을 만들어 봅니다.\n",
    "df_prob6_train_ = df_prob6_train.loc[df_prob6_train.index.date < pd.to_datetime('2021-07-14 00:00:00').date()].copy()\n",
    "df_prob6_test_ = df_prob6_train.loc[df_prob6_train.index.date > pd.to_datetime('2021-07-14 00:00:00').date()].copy()"
   ]
  },
  {
   "cell_type": "code",
   "execution_count": 77,
   "id": "afbeae18",
   "metadata": {},
   "outputs": [
    {
     "data": {
      "text/plain": [
       "Pipeline(memory=None,\n",
       "         steps=[('columntransformer',\n",
       "                 ColumnTransformer(n_jobs=None, remainder='drop',\n",
       "                                   sparse_threshold=0.3,\n",
       "                                   transformer_weights=None,\n",
       "                                   transformers=[('std',\n",
       "                                                  StandardScaler(copy=True,\n",
       "                                                                 with_mean=True,\n",
       "                                                                 with_std=True),\n",
       "                                                  ['TotalHour', 'lag_1',\n",
       "                                                   'lag_2', 'lag_3', 'lag_4',\n",
       "                                                   'lag_5', 'lag_6'])],\n",
       "                                   verbose=False)),\n",
       "                ('svr',\n",
       "                 SVR(C=10, cache_size=200, coef0=0.0, degree=3, epsilon=0.1,\n",
       "                     gamma=0.1, kernel='rbf', max_iter=-1, shrinking=True,\n",
       "                     tol=0.001, verbose=False))],\n",
       "         verbose=False)"
      ]
     },
     "execution_count": 77,
     "metadata": {},
     "output_type": "execute_result"
    }
   ],
   "source": [
    "from sklearn.svm import SVR\n",
    "lag_cols = ['lag_{}'.format(i) for i in range(1, 7)]\n",
    "\n",
    "X_cols_svr = ['TotalHour'] + lag_cols\n",
    "ct_svm = ColumnTransformer(\n",
    "    [('std', StandardScaler(), X_cols_svr)]\n",
    ")\n",
    "reg_svr = make_pipeline(ct_svm, SVR(kernel='rbf', gamma=0.1, C=10))\n",
    "reg_svr.fit(df_prob6_train_[X_cols_svr], df_prob6_train_['target'])"
   ]
  },
  {
   "cell_type": "code",
   "execution_count": 78,
   "id": "d9a00dfc",
   "metadata": {},
   "outputs": [
    {
     "data": {
      "text/plain": [
       "150.5166394519552"
      ]
     },
     "execution_count": 78,
     "metadata": {},
     "output_type": "execute_result"
    }
   ],
   "source": [
    "mean_absolute_error(df_prob6_test_['target'], reg_svr.predict(df_prob6_test_[X_cols_svr]))"
   ]
  },
  {
   "cell_type": "code",
   "execution_count": 79,
   "id": "6487574c",
   "metadata": {},
   "outputs": [
    {
     "data": {
      "text/plain": [
       "RandomForestRegressor(bootstrap=True, criterion='mse', max_depth=10,\n",
       "                      max_features='auto', max_leaf_nodes=None,\n",
       "                      min_impurity_decrease=0.0, min_impurity_split=None,\n",
       "                      min_samples_leaf=4, min_samples_split=2,\n",
       "                      min_weight_fraction_leaf=0.0, n_estimators=100,\n",
       "                      n_jobs=None, oob_score=False, random_state=123, verbose=0,\n",
       "                      warm_start=False)"
      ]
     },
     "execution_count": 79,
     "metadata": {},
     "output_type": "execute_result"
    }
   ],
   "source": [
    "from sklearn.ensemble import RandomForestRegressor\n",
    "\n",
    "X_cols_rf = \"15분, 30분, 45분, 60분, DayName, Hour, AM, Weekend_yn, Holiday_yn, Avg, TotalHour, 생산량, 기온, 풍속, 습도, 강수량, 전기요금(계절), 공장인원, 인건비\"\n",
    "X_cols_rf = [i.strip() for i in X_cols_rf.split(',')]\n",
    "\n",
    "reg_rf = RandomForestRegressor(n_estimators=100, min_samples_leaf=4, max_depth=10, random_state=123)\n",
    "reg_rf.fit(df_prob6_train_[X_cols_rf], df_prob6_train_['target'])"
   ]
  },
  {
   "cell_type": "code",
   "execution_count": 80,
   "id": "a90f3889",
   "metadata": {},
   "outputs": [
    {
     "data": {
      "text/plain": [
       "108.22148851937115"
      ]
     },
     "execution_count": 80,
     "metadata": {},
     "output_type": "execute_result"
    }
   ],
   "source": [
    "mean_absolute_error(df_prob6_test_['target'], reg_rf.predict(df_prob6_test_[X_cols_rf]))"
   ]
  },
  {
   "cell_type": "code",
   "execution_count": 81,
   "id": "4a3a5465",
   "metadata": {},
   "outputs": [
    {
     "data": {
      "text/plain": [
       "125.68329838733152"
      ]
     },
     "execution_count": 81,
     "metadata": {},
     "output_type": "execute_result"
    }
   ],
   "source": [
    "mean_absolute_error(df_prob6_test_['target'], reg_svr.predict(df_prob6_test_[X_cols_svr]) * 0.5 + \n",
    "                   reg_rf.predict(df_prob6_test_[X_cols_rf]) * 0.5)"
   ]
  },
  {
   "cell_type": "markdown",
   "id": "c366192e",
   "metadata": {},
   "source": [
    "학습셋으로만 블렌딩 방법을 검증했을 때는 성능이 좋아지지는 않음이 확인됩니다.\n",
    "\n",
    "합당한 검증을 하지 않는 다면 결과를 보장하기 힘들텐데요.\n",
    "\n",
    "이 문제는 합당한 검증을 설계하기에는 까다로운 측면이 보입니다. \n",
    "\n",
    "이를 설계해서 시간을 투자하기 보다는 Baseline을 충실히 하는 것이 보다 합리적이라 생각이 됩니다."
   ]
  },
  {
   "cell_type": "code",
   "execution_count": null,
   "id": "84c2e866",
   "metadata": {},
   "outputs": [],
   "source": []
  }
 ],
 "metadata": {
  "kernelspec": {
   "display_name": "Python 3 (ipykernel)",
   "language": "python",
   "name": "python3"
  },
  "language_info": {
   "codemirror_mode": {
    "name": "ipython",
    "version": 3
   },
   "file_extension": ".py",
   "mimetype": "text/x-python",
   "name": "python",
   "nbconvert_exporter": "python",
   "pygments_lexer": "ipython3",
   "version": "3.7.4"
  }
 },
 "nbformat": 4,
 "nbformat_minor": 5
}
